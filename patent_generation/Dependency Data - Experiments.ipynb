{
 "cells": [
  {
   "cell_type": "markdown",
   "metadata": {},
   "source": [
    "# Dependency Data\n",
    "\n",
    "This notebook will investigate using spaCy dependency data to analyse and generate patent text."
   ]
  },
  {
   "cell_type": "markdown",
   "metadata": {},
   "source": [
    "## Getting the Data\n",
    "\n",
    "Let's look at some patent descriptions.\n",
    "\n",
    "We have a patent corpus with 100 example specifications. We can start with that."
   ]
  },
  {
   "cell_type": "code",
   "execution_count": 1,
   "metadata": {
    "collapsed": true
   },
   "outputs": [],
   "source": [
    "# imports\n",
    "from patentdata.models.patentcorpus import PatentCorpus\n",
    "import os, pickle"
   ]
  },
  {
   "cell_type": "code",
   "execution_count": 2,
   "metadata": {
    "collapsed": true
   },
   "outputs": [],
   "source": [
    "#Let's import spaCy\n",
    "import spacy\n",
    "\n",
    "nlp = spacy.load('en') "
   ]
  },
  {
   "cell_type": "code",
   "execution_count": 3,
   "metadata": {
    "collapsed": true
   },
   "outputs": [],
   "source": [
    "filename = \"g06_100_grants.patcorp.zip\"\n",
    "pc = PatentCorpus.load(filename)"
   ]
  },
  {
   "cell_type": "code",
   "execution_count": 4,
   "metadata": {
    "collapsed": true
   },
   "outputs": [],
   "source": [
    "doc1 = pc.documents[0]"
   ]
  },
  {
   "cell_type": "markdown",
   "metadata": {},
   "source": [
    "Maybe as a hack we can replace \"FIG.\" with \"Figure\" and \"FIGS.\" with \"Figures\".  \n",
    "\n",
    "Also we need to get rid of the reference numerals. This is where our entity recognition would come in handy - as we could replace the entity with a labelled or unlabelled string."
   ]
  },
  {
   "cell_type": "code",
   "execution_count": 5,
   "metadata": {},
   "outputs": [
    {
     "data": {
      "text/plain": [
       "'Figure 11 shows an disassembly of the stylus configuration of Figure 8'"
      ]
     },
     "execution_count": 5,
     "metadata": {},
     "output_type": "execute_result"
    }
   ],
   "source": [
    "\"FIG. 11 shows an disassembly of the stylus configuration of FIG. 8\".replace(\"FIG.\", \"Figure\")"
   ]
  },
  {
   "cell_type": "code",
   "execution_count": 6,
   "metadata": {
    "collapsed": true
   },
   "outputs": [],
   "source": [
    "spacy_doc = nlp(doc1.description.text.replace(\"FIG.\", \"Figure\").replace(\"FIGS.\", \"Figures\"))"
   ]
  },
  {
   "cell_type": "code",
   "execution_count": 7,
   "metadata": {},
   "outputs": [
    {
     "name": "stdout",
     "output_type": "stream",
     "text": [
      "[handle, comprises, has, has, has, is, relates, known, connected, is, is, allow, is, is, attached, result, be, provide, is, attached, handle, provided, comprises, has, has, has, is, is, shows, is, recognised, include, have, recognised, recognised, recognised, has, has, shaped, have, referred, rotated, is, material, recognised, recognised, recognised, recognised, attached, has, have, have, have, has, facilitated, Connection, shaped, coupled, Control, configured, configured, recognised, take, recognised, positioned, recognised, is, is, recognised, recognised, Coupling, configured, recognised, Further, configured, configured, inserted, located, causes, recognised, extend, has, coupled, configured, is, restricts, recognised, varied, facilitate, be, facilitates, shows, occurs, recognised, be, located, located, Accordingly, handle, comprises, has, has, recognised, have, comprising, have, recognised, recognised, Stylus, is, have, be, used, configured, configured, ease, has, configured, has, be, shown, recognised, extend, be, referred, have, connected, used, Positioning, are, recognised, connected, located, is, formed, travels, causes, shows, shows, Subsequent, have, recognised, recognised, recognised, recognised, recognised, given, include, include, include, configured, has, has, covered, used, recognised, is, mounted, have, have, be, be, is, has, configured, connected, causes, generates, signals, mounted, located, recognised, recognised, recognised, has, put, moves, shaped, start, are, start, positioned, connected, recognised, contact, recognised, is, is, surfaces, be, provides, recognised, is, cover, replaced, used, configured, has, positioned, includes]\n"
     ]
    }
   ],
   "source": [
    "roots = [sent.root for sent in spacy_doc.sents]\n",
    "print(roots)"
   ]
  },
  {
   "cell_type": "code",
   "execution_count": 8,
   "metadata": {
    "scrolled": true
   },
   "outputs": [
    {
     "data": {
      "text/plain": [
       "A handle for a portable terminal having a user interface configured for interaction with a stylus. The handle comprises a handle body having the grip portion shaped for grasping by a hand of the user of the portable terminal, a proximal end of the grip portion for coupling to a housing of the portable computer, and a distal end of the grip portion. The handle has a receptacle connected to the handle body and located in the interior of the handle body, such that the receptacle is adapted for releasably retaining the stylus in the interior of the handle body. The handle body 21 has an aperture for facilitating access of the stylus into the receptacle. The receptacle has at least one arm having a first shaped feature (e.g. protrusion and/or notch/groove) adapted for engaging a second shaped feature (e.g. corresponding notch/groove and/or protrusion) of the stylus for providing the releasable retaining of the stylus when resident in the receptacle. The arm is biased towards a first position for facilitating the engagement of the first shaped feature (e.g. protrusion and/or notch/groove) with the second shaped feature (e.g. corresponding notch/groove and/or protrusion).\n",
       "This invention relates to a stylus storage mechanism for a handle of a portable terminal.\n",
       "It is generally known to provide a handle for scanning device such as a portable scanner for logistics environments. However, such known handles are typically either molded as an integral portion of the housing of the scanning device, or are connected to the housing fasteners and corresponding tools. In either case of a fastened handle, detachment of the handle from the scanning device is at best problematic, depending upon the tools available in the field to a user of the scanning device. In the case of an integral or otherwise permanently bonded handle to the housing of the scanning device, desired removal of the handle is not possible without potentially damaging the housing. Accordingly, current scanner handles may not allow for easy removal (e.g., for replacement, repair, cleaning, alternative configuration of the scanning device, etc.). Further, attaching the handle to the housing in a releasable fashion, while providing for a control connection between a trigger of the handle and electronic components of the scanning device, is problematic.\n",
       "A further disadvantage of current portable scanning devices is hidden storage of a stylus for interacting with a user interface of the scanning device. Typically the stylus of the device is attached (e.g. via a cord) and fastened to an external surface of the device housing or handle, when not in use by the user of the device. Unfortunately, these external storage techniques of stylus can result in damage to the housing of the device, misplacement (e.g. loosing) of the stylus by the user, and/or positioning of the stylus in an awkward location on the device/handle that may interfere with the user when operating the scanning device without the current need for the stylus.\n",
       "Further, triggers of current handles may not be ergonomically comfortable for operation by many different users having different sized hands. As such, the known handles and triggers can provide a non-contoured/ergonomic grip configuration, which tends to make such known triggers uncomfortable to use (e.g. premature fatigue felt by the hand of the user).\n",
       "It is an object of the present invention to provide a handle for a portable terminal to obviate or mitigate at least some of the above-presented disadvantages.\n",
       "Typically the stylus of the device is attached (e.g. via a cord) and fastened to an external surface of the device housing or handle, when not in use by the user of the device. Unfortunately, these external storage techniques of stylus can result in damage to the housing of the device, misplacement (e.g. loosing) of the stylus by the user, and/or positioning of the stylus in an awkward location on the device/handle that may interfere with the user when operating the scanning device without the current need for the stylus. Contrary to current handles there is provided a handle for a portable terminal having a user interface configured for interaction with a stylus. The handle comprises a handle body having the grip portion shaped for grasping by a hand of the user of the portable terminal, a proximal end of the grip portion for coupling to a housing of the portable computer, and a distal end of the grip portion. The handle has a receptacle connected to the handle body and located in the interior of the handle body, such that the receptacle is adapted for releasably retaining the stylus in the interior of the handle body. The handle body 21 has an aperture for facilitating access of the stylus into the receptacle. The receptacle has at least one arm having a first shaped feature (e.g. protrusion and/or notch/groove) adapted for engaging a second shaped feature (e.g. corresponding notch/groove and/or protrusion) of the stylus for providing the releasable retaining of the stylus when resident in the receptacle. The arm is biased towards a first position for facilitating the engagement of the first shaped feature (e.g. protrusion and/or notch/groove) with the second shaped feature (e.g. corresponding notch/groove and/or protrusion).\n",
       "A first aspect is a handle for a portable computer having a user interface configured for interaction with a stylus, the handle comprising: a handle body having a grip portion shaped for grasping by a hand of a user of the portable computer, a proximal end of the grip portion for coupling to a housing of the portable computer, and a distal end of the grip portion; a receptacle connected to the handle body and located in an interior of the handle body, the receptacle adapted for releasably retaining the stylus in the interior of the handle body, the handle body having an aperture for facilitating access of the stylus into the receptacle; and at least one member of the receptacle having a first shaped feature adapted for engaging a second shaped feature of the stylus for providing the releasable retaining of the stylus when resident in the receptacle, the member biased towards a first position for facilitating the engagement of the first shaped feature with the second shaped feature.\n",
       "Exemplary embodiments of the invention will now be described in conjunction with the following drawings, by way of example only, in which:\n",
       "Figure 1 is a side view of components of a portable terminal for interaction with a logistics environment;\n",
       "Figure 2 is a bottom view of the portable terminal of Figure 1;\n",
       "Figure 3 is a proximal end view of a handle of the terminal of Figure 1;\n",
       "Figure 4 shows an example coupling operation of an embodiment of the handle of Figure 1;\n",
       "Figure 5a a rear side view of the handle of Figure 3;\n",
       "Figure 5b a side view of the handle of Figure 5a; \n",
       "Figure 6a shows an example latch configuration section A-A view of Figure 5a as a releasable coupling between the handle and the terminal of Figure 1;\n",
       "Figure 6b shows a further view of the latch configuration of Figure 6a; \n",
       "Figure 7 is an alternative embodiment of the latch configuration of Figures 6a and 6b; \n",
       "Figure 8 shows an example assembled stylus configuration of the handle of Figure 1;\n",
       "Figure 9a shows an example stylus of the stylus configuration of Figure 8;\n",
       "Figure 9b is an example receptacle for the stylus of Figure 9a; \n",
       "Figure 9c shows a top section view B-B of the receptacle of Figure 8;\n",
       "Figure 9d is an alternative embodiment of the receptacle of Figure 9c; \n",
       "Figure 10a is an alternative embodiment of the stylus of Figure 9a; \n",
       "Figure 10b is an alternative embodiment of the receptacle of Figure 9b; \n",
       "Figure 11 shows an disassembly of the stylus configuration of Figure 8;\n",
       "Figure 12 shows a partial assembly of the stylus configuration of Figure 8;\n",
       "Figure 13 is an alternative embodiment of the receptacle of Figure 9b; \n",
       "Figure 14 shows an example actuation assembly of the handle of Figure 1;\n",
       "Figure 15 shows a front view of the actuation assembly of Figure 14;\n",
       "Figure 16 shows an alternative embodiment of the actuator mechanism of Figure 14;\n",
       "Figure 17 is a top rear perspective view of the portable terminal of Figure 1; and\n",
       "Figure 18 is a bottom front perspective view of the portable terminal of Figure 1.\n",
       "Referring to Figure 1, shown is a portable terminal 10 for providing imaging and/or scanning features (and/or functions) in data capture/communications 12 and asset tracking/management, for example in wireless communication 14 with tracking (e.g. information) objects 16 (e.g. barcode labels and/or RFID tags) present in one or more logistics environments 18 (e.g. industrial, retail, supply chain). It is recognised that the tracking objects 16 can be attached to products that are being transported from one location to another in the logistics environment 18. Examples of these environments 18 can include such as but not limited to: front store retail and/or warehousing for mobile stock checking, price checking, and merchandising; and utilities for meter reading, surveying, parking enforcement, and asset tracking.\n",
       "The portable terminal 10 can have an optional handle 20, connected via a release securable connection 22, to an enclosure 23 of a handheld computer 24. It is also recognised that the handle 20 may be permanently or otherwise fixedly attached (e.g. not releasable) to the enclosure 23 by fastening means such as but not limited to: protrusions engaged in slots, latch mechanisms, fasteners (e.g. screws), adhesives or other bonding agents, etc. Further, it is recognised that the handle 20 may be formed (e.g. molded) as integral to at least a portion of the enclosure 23. It is recognised that in the description, the terms “housing” and “enclosure” can be used interchangeably.\n",
       "The computer 24 has a number of components 19 including a user interface 26, including a keyboard 28 and a display 30 (e.g. touch screen), one or more onboard processors 32 (e.g. inside of the enclosure 23), and a scanner/radio communications module 34 (e.g. laser, WLAN with VoIP and Bluetooth, imager, etc.—inside of the enclosure 23) for facilitating the wireless communication 14. The portable terminal 10 also has an onboard power source 36 for helping to satisfy power requirements of the onboard processor(s) 32, the user interface 26, and optionally the communication module 34.\n",
       "Referring to Figure 2, the handle 20 is shaped for grasping by a hand (not shown) of a user of the portable terminal 10, a body 21 of the handle 20 having a proximal end 50 for coupling to the enclosure 24 of the computer 26, a distal end 52, and a grip portion 54 between the ends 50,52 for grasping by the hand of the user. The grip portion 54 can optionally have an overmold portion 56, preferably made of a resiliently flexible material (e.g. rubber or other suitable polymers), for enhancing the grip of the user's hand on the body 21 of the handle 20. The overmold portion 56 can be referred to as an additional layer formed around the first part (e.g. body 21) that can be a previously molded part that is reinserted into a secondary mold for forming the additional layer on the previously molded part. For example, after injection and forming of the first molded part, i.e. the body 21, the component is rotated on a core from the one mold cavity to another. The second mold cavity is different from the first mold cavity in that the detail for the second molded part is included and used to add the overmold portion 56. The material (e.g. rubberized polymer) for the second molded part (i.e. the overmold 56) is then injected into the second mold cavity detail before the completed part (i.e. handle 20 and overmold portion 56) is ejected from the second mold. It is recognised that one example embodiment of the handle 20 is where the body 21 is made of a hard/rigid plastic material (e.g. thermoplastic polymer) while the overmold 56 is made of a softer, resilient material (e.g. thermoplastic elastomer (TPE) materials) that is adhered to the material/substrate (e.g. polypropene (PP), acrylonitrile-butadiene-styrene (ABS), polycarbonate (PC), Nylon etc.) of the body 21, thus facilitating a combined comfortable, non-slip, and abrasion-resistant grip portion 54 of the handle 20. It is recognised that other fabrication methods can be used to assemble the overmold 56 to the body 21 of the handle 20, as known to a person skilled in the art. It is also recognised that the overmold portion 56 can also be referred to as a resilient covering that can be bonded or otherwise adhered to the exterior surface of the handle body 21. It is recognised that an overmolding process is one example embodiment of the bonding/adhering of the resilient cover (e.g. the portion 56) to the grip portion 54 of the handle body 21.\n",
       "The proximal end 50 can be attached to the grip portion 54 of the body 21 via a plurality of fasteners 70 (e.g. screws), see Figure 3, which can be configured to releasably secure the proximal end 50 to the grip portion 54, as desired.\n",
       "The handle 20 also has an actuator assembly 43 (shown in dotted lines underneath the overmold portion 56). The actuator assembly 43 can have a raised portion 58, for facilitating user identification of the actuator assembly 43 underneath the overmold 56. Alternatively, or in addition, the overmold 56 can have an indicator section 60 for indicating to the user the location of the actuator assembly 43 on the grip portion 54 underneath the overmold 56. The indicator section 60, can have a material texture, colour, and/or shading different from other material of the overmold 56.\n",
       "Referring to Figures 2 and 3, the proximal portion 50 of the handle 20 has a first surface 62 configured for mating with a second surface 64 of the enclosure 23 of the computer 24, such that a depression portion 63 of the first surface 62 can be configured to accommodate the shape (e.g. protruding portion 64a) of the enclosure 23 surrounding the communications module 34 (see Figure 1). Maintaining the mating of the first surface 62 with the second surface 64 is facilitated by the connection 22, as further described below.\n",
       "Connection 22 Configuration\n",
       "Referring to Figure 2, the handle 20 is shaped for grasping by a hand 140 (see Figure 15) of a user of the portable terminal 10. The handle 20 is coupled to the computer 24 via the connection 22, which includes both a mechanical coupling 38 for retaining the handle 20 as physically attached to the enclosure 23 (e.g. frame) and a control coupling 40 for facilitating communication (e.g. instruction/control signals 42) between the actuator assembly 43 (e.g. trigger) of the handle 20 and one or more components 19 of the computer 24.\n",
       "Control Coupling 40\n",
       "Further, for example, the control coupling 40 can be configured to include an electrical contact 40a (e.g. printed circuit board (pcb) connectors such as electrically conductive pads) coupled to one or more components 19 of the computer 24 and a mating electrical contact 40b (e.g. pogo pins) coupled to the actuator assembly 43, as further described below. The electrical contact 40b is configured to establish a temporary operative electrical connection between the actuator assembly 43 and one or more components 19 of the computer 24 via the electrical contact 40a. It is recognised that the contact 40a can be the electrically conductive pad(s) and the contact 40b can be the pogo pins, as desired.\n",
       "For example, the pogo pin can take the form of a slender cylinder containing two spring-loaded pins, such that when pressed between two electronic circuits (e.g. of the computer 24 via the electrical contact 40a and the actuator assembly 43), points at each end of the pogo pin make secure electrical contacts with the two electronic circuits and thereby connect them together. It is recognised that the actuator assembly 43 is configured for affecting the operation of one or more of the components 19 of the computer 24 via the instruction/control signals 42 generated through physical interaction (e.g. depressing of the trigger) of user with the actuator assembly 43. Further, an optional seal 68 (e.g. made of resilient material such as but not limited to rubber and other resilient polymers) can be positioned around a periphery of the contact(s) 40a,b (e.g. see Figure 3) as part of the control coupling 40, in order to inhibit the ingress of water or other foreign matter between the contacts 40a,b when the handle 20 is coupled to the enclosure 23 via the mechanical coupling 38.\n",
       "Further, it is recognised that the mating of the electrical contact 40a with the electrical contact 40b, i.e. the control coupling 40, can include a biasing member 40c for facilitating the mating contact between the contacts 40a,b when the mechanical coupling 38 is engaged. One example of the biasing member 40c is the springs of the pogo pins. Another example of the biasing member 40c is a resilient arm included in the configuration of at least one of the contacts 40a,b, thereby biasing the contacts 40a,b against one another when they are brought into proximity with one another during engagement of the mechanical coupling 38. In any event, due to the biased nature of the contacts 40a,b with respect to one another, it is recognised that mating of the control coupling 40 is configured so as not to interfere/inhibit with the operation (e.g. attachment and release) of the mechanical coupling 38. It is also recognised that the biasing member 40c can be included in the contact 40a, in the contact 40b or in both of the contacts 40a,b, as desired.\n",
       "Mechanical Coupling 38\n",
       "For example, the mechanical coupling 38 can be configured to include one or more slots 38a and mating protrusions 38b (with lip 45) and one or more latches 38c (with lip 45) and corresponding slots 38d on opposing sides 79 of the proximal portion 50, as further described below. It is recognised that the slots 38a can be located on the enclosure 23 and the protrusions 38b located on the handle 20 as shown, the slots 38a can be located on the handle 20 and the protrusions 38b located on the enclosure 23 (not shown), or a combination thereof. Further, the latch(s) 38c can be located on the handle 20 and the corresponding slot(s) 38d on the enclosure 23 (as shown), the latch(s) 38c can be located on the enclosure 23 and the corresponding slot(s) 38d on the handle 20 (not shown), or a combination thereof.\n",
       "Referring to Figure 4, the mechanical coupling 38 is configured so as to facilitate attachment of the optional handle 20 to the enclosure 23 without the aid of additional tools and corresponding fasteners (e.g. screwdrivers and screws, etc.). Further, the mechanical coupling 38 is configured so as to be compatible with a specified drop rating of the portable terminal 10, while facilitating the retention of the handle 20 to the enclosure 23, once attached, until subsequently released by the user through operation of the latch(s) 38c. In order to attach the handle 20 to the enclosure 23, the protrusions 38a can be engaged/inserted 70 into the slots 38b (resulting in contact of the lips 45 (see Figures 5a,b and 6a,b) with an interior surface 25 (e.g. of the enclosure 23) that is adjacent to the slots 38b), and then the handle 20 can be pivoted 72 about the engaged protrusions 38a and slots 38b towards the enclosure 23 so as to engage the latch(es) 38c with the corresponding slot 38d (resulting in contact of the lip 45 with the interior surface 25 that is adjacent to the slot 38d).\n",
       "Once engaged, the first external surface 62 of the proximal portion 52 is located adjacent to the second external surface 64 of the enclosure 23 (see Figures 2 and 3). The engagement of the latch(es) 38c with the slot(s) 38d also causes the mating of the electrical contacts 40a,b in order to provide or otherwise enable the control coupling 40. It is recognised that the latch 38c and/or the protrusions 38b project/extend outwardly from the surface 62 of the handle, when positioned thereon, and the latch 38c and/or the protrusions 38b project/extend outwardly from the surface 64 of the enclosure 23, when positioned thereon.\n",
       "Referring to Figures 5a,b and 6a,b, the latch 38c has a protrusion 44 (that projects transversely (or otherwise outwardly) from the surface 62—see Figure 3) with a lip 45 configured for engaging 72 (see Figure 4) with the slot 38d (see Figure 2). The protrusion 44 is coupled to the body 21 of the handle 20 by an arm 46 that has a resilient connection 48 (e.g. at a base 150 of the arm 46) to the body 21. For example, the resilient connection 48 can be configured as integrally connected with the material of the body 21 with a slit 80 between the body 21 and the arm 46 on either side 152 of the arm 46. Another example of the resilient connection 48 is a button 47 on the arm 46 and spring 49 interposed between the button 47 and the arm 46, see Figure 7. The positioning of an abutment surface 55, further described below, restricts travel 57 of the arm 46 (in a gap 59 between the arm 46 and the body 21) during engagement 72 of the latch 38c with the corresponding slot 38d. It is recognised that other resilient connection 48 configurations can be used for the latch 38c, as apparent to one skilled in the art.\n",
       "The slits 80 in the wall 84 of the body 21 on either side 152 of the arm base 150 can be varied in length and/or separation distance with respect to one another so as to facilitate the configuration of a degree of resiliency of the resilient connection 48. For example, a distance between the ends of the slits adjacent to the base 150 can facilitate the degree of resiliency of the resilient connection. Further, the slits 80 can be arcuate in shape along their length.\n",
       "Referring again to Figures 6a,b, the resilient connection 48 is used to bias the latch 38c towards a first position 74 (see Figure 6a by example) as compared to a second position 76 (see Figure 6b by example), whereby positioning of the latch 38a towards the abutment surface 55 in the second position 76 facilitates engagement 72 of the protrusion 44 with the slot 38d while positioning of the latch 38a away from the abutment surface 55 of the first position 74 facilitates the retention of the protrusion 44 in the slot 38d via the interaction between the lip 45 and the inside surface 25 of the slot 38d, once engaged 72 and until removed 72. For example, Figure 6a shows the position of the latch 38c in the first position 74 and external/unengaged with the slot 38d, while Figure 6b shows the position of the latch 38c in the second position 76 (towards the abutment surface 55) and internal/engaged with the slot 38d. \n",
       "Subsequent release of the latch 38c by the user results in displacement 57 of the latch 38c away from the abutment surface 55 and then contact occurs with the arm 46 with a side of the slot 38d, thus providing for a releasably secure engagement 72 of the handle 20 with the enclosure 23, until the latch 38c is subsequently displaced 57 towards the second position 74 and the protrusion 44 is removed 72 from the slot 38d to provide for detachment of the handle 20 from the enclosure 23 (e.g. such that the lip 45 of the protrusion 44 is disengaged from the inside surface of the enclosure 23, thus facilitating the removal of the proximal surface 62 away from the adjacent surface 64.\n",
       "In view of the above, it is recognised that the above example operation of the latch 38c with the slot 38d can be done before the protrusions 38b are inserted into the slots 38a (e.g. the engagement 72 is performed before the engagement 70—see Figure 4) or as shown such that the engagement 70 is performed before the engagement 72. As well, it is recognised that the latch(es) 38c could be in the location of the protrusions 38b and the protrusion(s) 38b could be in the location of the latch(es) 38c, as desired. For example, the protrusions 38b are located on either side of the depression portion 63 of the proximal portion 50, so as to engage with the corresponding slots 38a on either side of a portion of the enclosure 23 housing the communications module 34 (e.g. protruding portion 64a). Further, the location of the latches 38c and/or the protrusions 38b could be located other than as shown (e.g. on opposing sides 78—see Figure 3) of the proximal portion 50 as compared to opposing ends 79 of the proximal portion 50.\n",
       "Accordingly, provided is the handle 20 for the portable computer 10 having one or more scanning functions for interacting with information objects 16 in the logistics environment 18. The handle 20 is releasably secured with the housing 23 of the portable computer 10 such that once attached, the handle 20 facilitates directional pointing of the portable computer 10 by the user. The handle comprises the handle body 21 having the grip portion 54 shaped for grasping by the hand of the user of the portable computer 10, the proximal end 50 of the grip portion 54 for coupling to the housing 23 of the portable computer 10 such that the proximal end 50 having the proximal surface 62 for mating with the adjacent surface 63 of the housing 23, and the distal end 52 of the grip portion 54. The handle also has the actuator assembly 43 for affecting the operation of the one or more scanning functions and is located in the grip portion 54 of the handle body 21, the actuator assembly 43 for coupling via the control coupling 40 to one or more components 19 of the portable computer 10 providing the one or more scanning functions. The handle also has the releasable connection mechanism 38 positioned on the proximal surface 62 including the operable latch 38c extending outwardly from the proximal surface 62 and adapted for engaging with the corresponding first slot 38d in the adjacent surface 63 of the housing 23, and at least one protrusion 38b extending outwardly from the proximal surface 62 on a side 78,79 of the proximal surface 62 opposite (e.g. opposed to) to the operable latch 38c and adapted for engaging with the corresponding second slot 38a in the adjacent surface 63 of the housing, wherein the control coupling 40 is established once the proximal surface 62 is mated with the adjacent surface 63 through engagement of the releasable connection mechanism 38.\n",
       "It is recognised that in view of the above, the depression portion 63 is shaped to accommodate the corresponding protruding portion 64a on the adjacent surface 64 of the housing 23. For example, the handle 20 can have a pair of the protrusions 38b, such that one of the pair of the protrusions 38b is located on either side of the depression portion 63 and the adjacent surface 64 has a corresponding pair of the second slots 38a located on either side of the protruding portion 64a of the housing 23. Alternatively, the handle 20 can comprising a pair of the slots 38a, such that one of the pair of the slots 38a is located on either side of the depression portion 63 and the adjacent surface 64 has a corresponding pair of the protrusions 38b located on either side of the protruding portion 64a of the housing 23. Alternatively, the handle 20 can have one slot 38a and one protrusion 38b on either side of the depression portion 63 and the enclosure can have a corresponding configuration of one protrusion 38b and one slot 38a, as desired. Further, it is recognised that the surface of the depression portion 63 can have a protrusion 38b for engaging with a corresponding slot 38a located on the protruding portion 64a of the enclosure 23. Further, it is recognised that the surface of the depression portion 63 can have a slot 38a for engaging with a corresponding protrusion 38b located on the protruding portion 64a of the enclosure 23.\n",
       "Stylus 90\n",
       "Referring to Figures 5a and 8, shown is a stylus 90 housed/stored in an interior 88 of the walls 84 of the handle 20 (shown by cut away portion 87), for use as part of the user interface 26 (see Figure 1) of the computer 24. The stylus can have an arcuate tip 94 (e.g. rounded) at one end, a narrow elongated portion 92 (e.g. body), similar to a ballpoint pen or other traditional writing instrument, and a textured portion 96 at the other end that is configured for grasping by the user of the portable terminal 10 (see Figure 1). The textured portion 96 can be arcuate in shape or otherwise have a surface 144 that is oriented at an acute angle with respect to a longitudinal axis 93 of the receptacle 106, thereby facilitating removal of the stylus 90 from the receptacle 106 through pressure exerted by the user's finger(s) and/or thumb.\n",
       "The stylus 90 is used as an input method of the user interface 26, such that the stylus 90 may not secrete ink, rather is configured to touch a touch screen (e.g. the display 30) instead of the user's finger to help inhibit getting the natural oil from the user's hands onto the display 30. The stylus 90 can also be configured so that the tip 94 is shaped so as to help improve precision of touch with the display 30, thus providing for the presence of smaller interface elements on the display 30. The stylus 90 can be configured for handwriting or drawing on the display 30 by the user. Positioning of the stylus 90 in the interior 88 of the handle 20 facilitates ease of storage until subsequently released from the interior 88 of the handle 20 of the terminal 10 for subsequent use by the user with the user interface 26 (see Figure 1).\n",
       "Referring to Figures 9a,b, the elongated portion 92 has one or more notches and/or grooves 100 configured for receiving one or more protrusions 102 located on one or more resilient arms 104 of the body 21. The arms 104 can be configured so as to be independently operable, so as to become displaced to either side of the stylus 90, once inserted 108 into (see Figure 11—or otherwise removed 108 from) the receptacle 106 coupled to a wall 84 of the body 21. The receptacle 106 has a proximal opening/aperture 116 for receiving the tip 94 of the stylus, a body 115 for contacting a side surface 146 (e.g. the notches and/or grooves 100) of the elongated portion 92 of the stylus 90 for facilitating retention of the stylus 90 in the receptacle 106, and a distal end 114 of the arms 104. The distal end 114 may be open or closed, as long as the arms 104 are independently operable with respect to one another. The receptacle 106 is shown located at the distal end 52 of the handle 20, by example only, and provides for access and storage of the stylus 90 in the interior 88 of the handle 20. It is recognised that the receptacle 106 can also be located in the grip portion 54 of the body 21, as desired.\n",
       "The notch 100 can extend around at least a portion of a cross-sectional periphery of the exterior surface of the stylus 90 and the corresponding protrusion 102 can extend around at least a portion of the interior surface of the member 104 of the receptacle 106. For example, the notch 100 can be a groove extending around the circumference of the stylus 90. Further, the arms 104 can be referred to as members 104. The member 104 as an arm 104 can have a proximal end 142 connected to a distal end 140 by a central portion 144 (see Figure 10b for example) and the biasing of the arm 104 is due to a resiliency of the material composition of the arm 104 as connected at the proximal end 142 to the body 21. For example, the arm 104 is rigidly connected at the proximal end 142 to the handle body 21 and the distal end 140 is adapted to be displaced away 112 from an exterior surface of the stylus 90 when received in the receptacle 106.\n",
       "Referring to Figures 8 and 11, the resilient arms 104 are used to bias the body 115 towards a first position 121, as compared to a second position 122 (see Figure 12 by example), whereby inserting the stylus 90 from the proximal end 116 towards the distal end 114 facilitates engagement 72 of the protrusions 102 with the notches and/or grooves 100, thereby displacing 112 the arms 104 from the first position 121 to the second position 122 and then back to the first position 121. Positioning of the arms 104 in the first position 121, when the stylus 90 is present in the receptacle 106, facilitates the retention of the stylus 90 in the receptacle 106 via the engagement of the protrusions 102 in the notches/grooves 100, until removed therefrom via subsequent displacement 112 of the arms 104.\n",
       "Referring to Figures 9c,9d, shown are example embodiments of an end view B-B of the arms 104, at any desired location(s) 110 along the elongated portion 92 of the stylus 90, such that an interior surface 105 of the arms 104 is shaped (e.g. arcuate) so as to contact an exterior surface 146 of the stylus 90 at two or more locations 110 along exterior surface 146, thus facilitating contact between the arms 104 and the stylus 90. It is also recognised that the contact at the multiple locations 110 can also be provided by multiple sets of protrusions 102 received in corresponding notches and/or grooves 100, in addition to, in combination with, and/or in substitution of the correspondingly shaped surfaces 146, 105.\n",
       "The arms 104 are connected to or are otherwise extensions of the wall 84. Referring to Figures 10a,b, it is recognised that the arms 104 could be alternatively connected to the walls 84 using secondary connections 148, as desired, and the notches 100 can be located on one or more of the arms 104, can be located in the same or different (shown in Figure 10b) locations on each of the arms 104, and/or be configured as connected directly to the wall 84, as desired.\n",
       "Referring again to Figure 11, shown is the stylus 90 located externally to the interior 88, prior to insertion 108. The arms 104 are formed from a tube shaped receptacle 106, by example only, with one or more slots 109 cut into the tube wall at the distal end 114 of the tube, so as to provide for the two or more arms 104 operable 112 with respect to once another, i.e. the arms 104 are resilient so as to accommodate the cross sectional extent of protrusions 102 prior to being received in the notches and/or grooves 100. As the stylus 90 is travels along the body 115 of the receptacle 106, contact between the elongated portion 92 of the stylus 90 and the protrusions 102 causes the resilient arms 104 to increase in separation distance (see Figure 12) with respect to one another in order to accommodate the elongated portion 92 being positioned between the opposing protrusions 102 of the adjacent arms 104. Further insertion 108 of the stylus 90 into the receptacle causes the protrusions 102 to become received in the notches/grooves 100, thus returning the arms 104 from the second position 122 to the first position 121.\n",
       "Further, for example, for removal once the stylus 90 is engaged (i.e. retained) within the receptacle 106, Figure 8 shows the position of the arms 104 in the first position 121 and the stylus retained within the receptacle 106, via engagement of the protrusions 102 with the notches/grooves 100. Figure 12 shows the increase in separation distance between the arms 104, i.e. in the second position 122 as displaced 112 away from the surface 146 of the elongated portion 92 of the stylus 90, as the protrusions 102 become disengaged with the notches/grooves 100. Subsequent removal 108 of the stylus 90 from the receptacle 106 causes the arms 104 to return to the first position 121 as shown in Figure 11, thus releasing the stylus 90 from the handle 20 of the terminal 10 for subsequent use by the user with the user interface 26 (see Figure 1). Further, referring to Figures 9b and 12, a proximal end 150 of the stylus 90 can have an abutment surface 91 for contacting a corresponding abutment surface 91 of the body 21 of the handle 20, as desired, the abutment surfaces 91 for restricting a magnitude of displacement of the stylus 90 into the receptacle 106.\n",
       "Referring to Figure 13, it is also recognised that one of the arms 104 can be fixed (i.e. rigid) in position relative to one or more resilient second arms 104, such that displacement 112 of the resilient arm(s) 104 provides for an increase in the separation distance between the arms 104, thus facilitating the engagement of the protrusions 102 with the notches/grooves 100. It is also recognised that the body 115 of the receptacle 106 can be configured to include only one resilient arm 104 that is biased with respect to the wall 84 of the body 21, thus facilitating the retention of the stylus 90 between the one arm 104 and the wall 84 (and/or other rigid secondary structures 106 of the body 21). It is also recognised that the notches/grooves 100 can be positioned in the arm(s) 104 and the protrusions 102 can be positioned on the elongated portion of the stylus 90, so long as the protrusions 102 can be inserted through the proximal end 116 of the receptacle 106. It is also recognised that the notches 100 also refer to holes in a wall of the stylus 90 having a hollow core (not shown) of the elongated portion 92, for example, and/or in as a hole in the arm(s) 104, as desired.\n",
       "In view of the above description of the protrusions 102 and corresponding notches/grooves 100, it is recognised that the arms 104 and the corresponding stylus 90 can be configured using any of the configurations of same, shown by example in Figures 9-15.\n",
       "Accordingly, as described above, a handle 20 is given for a portable terminal 10 having a user interface 26 configured for interaction with the stylus 90, the handle 20 comprising: the handle body 21 having the grip portion 54 shaped for grasping by the hand 140 of the user of the portable terminal 10, the proximal end 50 of the grip portion 54 for coupling to the housing 23 of the portable computer 10, and the distal end 52 of the grip portion 54; the receptacle 106 connected to the handle body 21 and located in the interior 88 of the handle body 21, the receptacle 106 adapted for releasably retaining the stylus 90 in the interior 88 of the handle body 21, the handle body 21 having an aperture for facilitating access of the stylus into the receptacle; and at least one member 104 (e.g. arm) of the receptacle 106 having a first shaped feature (e.g. protrusion 102 and/or notch/groove 100) adapted for engaging a second shaped feature (e.g. corresponding notch/groove 100 and/or protrusion 102) of the stylus 90 for providing the releasable retaining of the stylus 90 when resident in the receptacle 106, the member 104 biased towards a first position 121 for facilitating the engagement of the first shaped feature (e.g. protrusion 102 and/or notch/groove 100) with the second shaped feature (e.g. corresponding notch/groove 100 and/or protrusion 102).\n",
       "Alternatively the handle 20 can include the handle body 21 have the releasable connection mechanism 38 positioned on the proximal surface 62 including the operable latch 38c extending outwardly from the proximal surface 62 and adapted for engaging with the corresponding first slot 38d in the adjacent surface 64 of the housing 23, and at least one slot 38a on the side 78,79 of the proximal surface 62 opposite to the operable latch 38c and adapted for engaging with the corresponding protrusion 38b extending outwardly from the adjacent surface 64 of the housing 23; wherein the control coupling 40 is established once the proximal surface 62 is mated with the adjacent surface 64 through engagement of the releasable connection mechanism 38.\n",
       "Alternatively, the handle 20 can include the handle body 21 the releasable connection mechanism 38 positioned on the proximal surface 62 including the first slot 38d for engaging with the corresponding operable latch 38c extending outwardly from the adjacent surface 64, and at least one protrusion 38b extending outwardly from the proximal surface 62 on the side 78,79 of the proximal surface opposite/opposing to the first slot 38d and adapted for engaging with the corresponding second slot 38a on the adjacent surface 64 of the housing 23; wherein the control coupling 40 is established once the proximal surface 62 is mated with the adjacent surface 64 through engagement of the releasable connection mechanism 38.\n",
       "Alternatively, the handle 20 can include the handle body 21 the releasable connection mechanism 38 positioned on the proximal surface 62 including the first slot 38d for engaging with the corresponding operable latch 38c extending outwardly from the adjacent surface 64, and at least second slot 38a of the proximal surface 62 on the side 78,79 of the proximal surface opposite/opposing to the first slot 38d and adapted for engaging with the corresponding protrusion 38b extending outwardly from the adjacent surface 64 of the housing 23; wherein the control coupling 40 is established once the proximal surface 62 is mated with the adjacent surface 64 through engagement of the releasable connection mechanism 38.\n",
       "Actuator Assembly 43\n",
       "Referring again to Figure 2, the actuator assembly 43 is configured for affecting the operation of one or more of the components 19 of the computer 24 via the instruction/control signals 42 generated through physical interaction (e.g. depressing of the trigger from a first position to a second position) of the user with the actuator assembly 43. As is shown by example, the grip portion 54 has the resilient covering, for example, portion 56, preferably made of a resiliently flexible material, for enhancing the grip of the user's hand on the body 21 of the handle 20. The actuator assembly 43 (shown in dotted lines underneath the resilient covering 56) has a raised portion 58 on a face portion 58, for facilitating user identification of the actuator assembly 43 underneath the overmold 56. The raised portion 58 projects in a direction transverse or otherwise extending outwards from the surface of the grip region 54, and can be optionally covered by the resilient covering 56.\n",
       "The resilient covering 56 can be used to cover a gap 131 (see Figure 14) between an actuator body 120 and an opening or aperture 133 of the adjacent wall 84, in which the actuator body 120 is positioned, so as to inhibit foreign matter (e.g. water) penetration into the interior 88 of the body 21. It is also recognised that the resilient covering 56 can only be adhered to the body 21 of the handle and not to the actuator body 120, thus providing for unhindered actuation/displacement of the actuator body 120 with respect to the handle body 21. Otherwise, in the case where the resilient covering 56 is also adhered to exterior surfaces 138 of the actuator body 120 and the handle body 21, the resilient covering 56 material is sufficiently resilient/elastic in nature to provide for corresponding actuation/displacement of the actuator body 120 with respect to the handle body 21, in order to result in sufficient switching of the switch 134 by a control arm 132 (see Figure 14), when the actuator assembly 43 is displaced into the interior 88 of the handle body 21 from the first position to the second position. Accordingly, the switch 134 is mounted in the interior 88 of the handle body 21, such that the switch 134 facilitates generation of the control signal 42 for affecting the operation of the one or more scanning functions of the portable terminal 10, the switch 134 operated as a result of the actuator body 120 being displaced from one of the first and second positions to the other of the first and second positions.\n",
       "Alternatively, or in addition, the resilient covering 56 can have an indicator section 60 for indicating to the user the location of the actuator assembly 43 on the grip portion 54 underneath the resilient covering 56. The indicator section 60, can have a material texture, colour, and/or shading different from other material of the resilient covering 56 and/or can have a label identifying the location of the actuator body 120 underneath the resilient covering 56. Accordingly, the indicator section 60 can be use by the user to help identify the actuator assembly 43 region of the handle 20 from the remainder of the grip region 54, which can be beneficial in inhibiting accidental actuations of the actuator assembly 43. Inhibiting of accidental actuations can be desirable in view of conserving battery 36 life as well as reducing exposure of the environment 18 (see Figure 1) to the wireless communications 14 (e.g. laser).\n",
       "Referring to Figure 14, shown is the example actuator assembly 43 with the resilient covering 56 and exterior shell of the body 21 removed to show the interior 88 of the handle 20. The actuator assembly 43 has the actuator body 120 connected to the body 21 at a proximal end 124 by a pivot point 122 (e.g. hinge with an optional biasing member such as a coiled spring, etc.) and at a distal end 126 to a member 128 (e.g. a biasing member such as a spring). The biasing member(s) are configured for biasing the actuator body 120 towards an unactivated/unactuated position 129 (e.g. the first position at which the control signals 42 are not generated). The member 128 is also connected to the body 21 (e.g. the arm 104). Depression of the actuator body 120 in a direction 130 in to the interior 88 of the body 21, about the pivot point 122, from the biased position 129 causes the control arm 132 (connected to the actuator body 120) to activate/depress the switch 134 when the actuator assembly 43 is displaced into the second position. Activation of the switch 134 generates the control signals 42, or otherwise causes a circuit 136 (optional) to generate the control signals 42. The control signals 42 are communicated via the electrical contact 40b to the computer 24, when coupled to the handle 20 (see Figure 1). The switch 134 and the optional circuit 136 are also mounted on the body 21 of the handle 20.\n",
       "Alternatively, referring to Figure 16, the pivot point 122 can be located at the distal portion 126 of the actuator body 120 and the member 128 can be located at the proximal portion 124. Further, it is recognised that the pivot point 122 and/or the member 128 can be located at the respective end of the portions 124, 126 and/or can be located adjacent to the respective end of the portions 124, 126, as desired.\n",
       "It is recognised that the first position can be the unactuated position and the second position can be the actuated position (i.e. of the switch) or the first position can be the actuated position and the second position can be the unactuated position (i.e. of the switch), as desired. Further, it is recognised that the biasing member(s) can bias the actuator body to either the first position or the second position, as desired.\n",
       "Referring to Figures 14 and 15, the actuator body 120 has a plurality of trigger/actuation regions 136a,b,c for contact by the user's hand 140, in order to actuate the actuator mechanism 43. For example, the user can: put pressure on the actuator region 136c to cause the switch 134 to be depressed; put pressure on the actuator region 136b to cause the switch 134 to be depressed; and/or put pressure on the actuator region 136a to cause the switch 134 to be depressed, as described above. Once the actuator body 120 is released by the user's hand 140, the biasing member(s) (e.g. member 128 and/or 122) moves the actuator body 120 back towards the unactivated/unactuated position 129.\n",
       "The actuator body 120 is shaped so as to provide for these different trigger regions 136a,b,c, either alone or in combination. For example, the trigger region 136a of the body 120 can start adjacent at one end (e.g. substantially flush with—e.g. the surfaces 138 at the ends of the actuator body 120, that are adjacent to the exterior surface of the handle body 21, are substantially parallel to one another) to the wall 84 of the body 21 and then incline/rise to towards the raised portion/point 58 at the other end. The trigger region 136c of the body 120 can start adjacent at one end (e.g. substantially flush with) to the wall 84 of the body 21 and then incline/rise to towards the raised portion/point 58 at the other end. The trigger region 136b can be positioned at the raised portion/point 58. In this manner, the trigger portions 136a,c are connected to one another at the raised portion/point 58 and their outside surfaces 138 can be oriented at an obtuse angle (any angle more than 90° but less than 180°) as measured between the outside surfaces 138 of the face portion 59. It is also recognised that the pivot point 122 can be positioned at the end 126 and the biasing member 128 at the other end 124, such that the switch 134 is configured to be activated when any of the trigger regions 136a,b,c are depressed.\n",
       "Further, it is recognised that one or more of the actuator regions 136a,b,c can be actuated at any one time by the user's hand 140 (e.g. one finger can contact the actuator region 136c, one finger can contact the actuator region 136b, one finger can contact the actuator region 136a, one finger can contact the actuator region 136c together with another finger contacting the actuator region 136b, one finger can contact the actuator region 136a together with another finger contacting the actuator region 136b, one finger can contact the actuator region 136a together with another finger contacting the actuator region 136c, or one finger can contact the actuator region 136c together with another finger contacting the actuator region 136b together with another finger contacting the actuator region 136a).\n",
       "It is recognised that the configuration of the raised portion 58 and the surfaces 138 of the face portion 59 of the actuator body 120 can be as described above as well as in other configurations. The one embodiment described is where the first inclined surface 138 and the second inclined surface 138 of the face portion 59 are configured such that the first inclined surface 138 rises from one end of the face portion 59 to the raised portion 58 and the second inclined surface 138 rises from the other end of the face portion 59 to the raised portion 58, such that the raised portion 58 is positioned between the ends of the face portion 130. Another configuration is where the inclined surface rises from one end of the face portion 59 to the raised portion 58 located at the other end of the face portion 59, such that there is only on inclined surface 138 of the actuator body 120.\n",
       "Further, the inclined surfaces 138 can be planar and/or arcuate in shape. In the case of arcuate inclined surfaces 138, they can be concave for providing a contoured surface for interaction with the one or more fingers of the user's hand 140.\n",
       "In view of the above, it is recognised that manipulation of any of the trigger regions 136a,b,c, either alone or on combination, provides the same movement 130 of the actuator body 120 about the pivot point 122 and thus provides a same/similar tactile feel to the user each time the switch 134 is activated. Further, it is recognised that the ends of the trigger regions 136a,c can be as shown (e.g. flush with the adjacent wall 84 of the body 21), or can be raised (e.g. at a different height) with respect to the adjacent wall 84 of the body 21 to further denote the presence of the actuator body 120 under the overmold 56, as desired.\n",
       "Other Features\n",
       "Referring to Figure 2, also shown is an expansion cover 140 for use in positioning 143 in a correspondingly shaped depression 142 surrounding the electrical contacts 40a, when the handle 20 is not connected to the enclosure 23. The expansion cover 140 can be used to When the handle 20 is to be connected to the enclosure 23, the expansion cover 140 is removed from the depression 142, thus exposing the electrical contact 40a (and the slot 138d), and then stored in a similarly shaped depression 144 in the proximal end 50 of the handle 20 (see Figure 3). Connection of the handle 20 to the enclosure 23 provides for the expansion cover 140 to be retained between the handle 20 and the enclosure 23 until the handle 20 is once again detached from the enclosure 23 and the expansion cover 140 is replaced in the depression 142. The expansion cover 140 is used to inhibit foreign matter (e.g. water) penetration into the interior of the body enclosure, via the slot 38d, and/or fouling of the electrical contact 40a, when the handle 20 is not connected/coupled to the enclosure 23.\n",
       "Therefore, as further described below, the handle 20 is configured for connection to the enclosure 23 of the portable terminal 10, such that the portable terminal 10 has one or more scanning functions for interacting with information objects 16 in the logistics environment 18. The handle 20 has the handle body 21 having the grip portion 54 shaped for grasping by the hand 140 of the user of the portable terminal 10, the proximal end 50 of the grip portion 54 for coupling to the housing 23 of the portable terminal 10, and the distal end 52 of the grip portion 54. The actuator assembly 43 is configured for affecting the operation of one or more scanning functions and is positioned in the aperture 133 of the handle body 21 for access by one or more fingers of the user's hand 140. The actuator assembly 43 includes the actuator body 120 connected at a proximal portion to the handle body 21 by the pivot connection 122, the biasing member(s) for biasing the actuator body 120 towards the first position, and the face portion 59 of the actuator body 120 configured for contacting with the one or more fingers such that the face portion 59 has the raised portion 58 for defining the plurality of actuator regions 136a,b,c for interaction with the one or more fingers for facilitating the rotation 130 of the actuator body 120 about the pivot connection 122 for displacement from the first position to the second position into the interior 88 of the handle body, wherein the displacement of the actuator body 120 affects the operation of the one or more scanning functions (e.g. via activation of the switch 134 by the control arm 132."
      ]
     },
     "execution_count": 8,
     "metadata": {},
     "output_type": "execute_result"
    }
   ],
   "source": [
    "spacy_doc"
   ]
  },
  {
   "cell_type": "code",
   "execution_count": 9,
   "metadata": {
    "collapsed": true
   },
   "outputs": [],
   "source": [
    "compressed = []\n",
    "for root_token in roots:\n",
    "    subj = obj = \"\"\n",
    "    for child in root_token.children:\n",
    "        if 'subj' in child.dep_:\n",
    "            subj = child.text\n",
    "        if 'obj' in child.dep_:\n",
    "            obj = child.text\n",
    "    compressed.append(\" \".join([subj, root_token.text, obj]))"
   ]
  },
  {
   "cell_type": "code",
   "execution_count": 10,
   "metadata": {},
   "outputs": [
    {
     "data": {
      "text/plain": [
       "[' handle ',\n",
       " 'handle comprises body',\n",
       " 'handle has receptacle',\n",
       " 'body has aperture',\n",
       " 'receptacle has arm',\n",
       " 'arm is ',\n",
       " 'invention relates ',\n",
       " 'It known ',\n",
       " 'molded connected ',\n",
       " ' is ',\n",
       " 'removal is ',\n",
       " 'handles allow ',\n",
       " 'attaching is ',\n",
       " 'disadvantage is ',\n",
       " 'stylus attached ',\n",
       " 'techniques result ',\n",
       " 'triggers be ',\n",
       " 'handles provide configuration',\n",
       " 'It is ',\n",
       " 'stylus attached ',\n",
       " 'result handle ',\n",
       " 'Contrary provided handle',\n",
       " 'handle comprises body',\n",
       " 'handle has receptacle',\n",
       " 'body has aperture',\n",
       " 'receptacle has arm',\n",
       " 'arm is ',\n",
       " 'aspect is ',\n",
       " 'Figure shows assembly',\n",
       " 'shown is ',\n",
       " 'It recognised ',\n",
       " '18 include ',\n",
       " 'terminal have handle',\n",
       " 'It recognised ',\n",
       " ' recognised ',\n",
       " ' recognised ',\n",
       " 'computer has number',\n",
       " 'terminal has source',\n",
       " 'handle shaped ',\n",
       " 'portion have ',\n",
       " 'portion referred ',\n",
       " 'component rotated ',\n",
       " 'cavity is ',\n",
       " ' material ',\n",
       " ' recognised ',\n",
       " 'It recognised ',\n",
       " 'It recognised ',\n",
       " 'It recognised ',\n",
       " 'end attached ',\n",
       " 'handle has assembly',\n",
       " 'assembly have portion',\n",
       " 'overmold have section',\n",
       " 'section have texture',\n",
       " 'portion has surface',\n",
       " 'Maintaining facilitated ',\n",
       " ' Connection Configuration',\n",
       " 'handle shaped ',\n",
       " 'handle coupled ',\n",
       " ' Control ',\n",
       " 'control configured ',\n",
       " 'contact configured ',\n",
       " 'It recognised ',\n",
       " 'pin take form',\n",
       " ' recognised ',\n",
       " ' positioned ',\n",
       " ' recognised ',\n",
       " 'example is ',\n",
       " 'example is ',\n",
       " ' recognised ',\n",
       " 'It recognised ',\n",
       " ' Coupling ',\n",
       " 'coupling configured ',\n",
       " 'It recognised ',\n",
       " ' Further ',\n",
       " 'Referring configured ',\n",
       " 'coupling configured ',\n",
       " ' inserted 70',\n",
       " 'surface located ',\n",
       " '38d causes mating',\n",
       " 'It recognised ',\n",
       " ' extend outwardly',\n",
       " '38c has protrusion',\n",
       " 'protrusion coupled ',\n",
       " 'connection configured ',\n",
       " 'connection is ',\n",
       " 'positioning restricts travel',\n",
       " 'It recognised ',\n",
       " '80 varied ',\n",
       " 'distance facilitate degree',\n",
       " 'slits be ',\n",
       " 'positioning facilitates engagement',\n",
       " '6a shows position',\n",
       " 'contact occurs ',\n",
       " ' recognised ',\n",
       " '38b be ',\n",
       " 'protrusions located ',\n",
       " 'location located other',\n",
       " ' Accordingly ',\n",
       " ' handle ',\n",
       " 'handle comprises body',\n",
       " 'handle has assembly',\n",
       " 'handle has mechanism',\n",
       " 'It recognised ',\n",
       " 'handle have pair',\n",
       " 'handle comprising pair',\n",
       " 'handle have slot',\n",
       " ' recognised ',\n",
       " ' recognised ',\n",
       " ' Stylus ',\n",
       " 'Referring is ',\n",
       " 'stylus have tip',\n",
       " 'portion be ',\n",
       " 'stylus used ',\n",
       " 'stylus configured ',\n",
       " 'stylus configured ',\n",
       " 'stylus ease ',\n",
       " 'portion has notches',\n",
       " 'arms configured ',\n",
       " 'receptacle has aperture',\n",
       " 'end be ',\n",
       " 'receptacle shown ',\n",
       " 'It recognised ',\n",
       " 'notch extend ',\n",
       " 'notch be ',\n",
       " 'arms referred ',\n",
       " 'member have end',\n",
       " 'arm connected ',\n",
       " ' used ',\n",
       " ' Positioning ',\n",
       " 'Referring are ',\n",
       " 'It recognised ',\n",
       " 'arms connected ',\n",
       " 'recognised located ',\n",
       " 'shown is ',\n",
       " 'arms formed receptacle',\n",
       " ' travels contact',\n",
       " 'insertion causes protrusions',\n",
       " 'Figure shows position',\n",
       " 'Figure shows increase',\n",
       " ' Subsequent ',\n",
       " 'end have surface',\n",
       " 'it recognised ',\n",
       " 'It recognised ',\n",
       " 'It recognised ',\n",
       " 'It recognised ',\n",
       " ' recognised that',\n",
       " ' given ',\n",
       " 'handle include body',\n",
       " 'handle include ',\n",
       " 'handle include ',\n",
       " 'assembly configured ',\n",
       " 'portion has covering',\n",
       " 'assembly has portion',\n",
       " 'portion covered ',\n",
       " 'resilient used ',\n",
       " 'It recognised ',\n",
       " 'resilient is ',\n",
       " 'switch mounted ',\n",
       " 'covering have section',\n",
       " 'section have texture',\n",
       " 'section be ',\n",
       " 'Inhibiting be ',\n",
       " 'example is ',\n",
       " 'assembly has body',\n",
       " 'member(s configured ',\n",
       " 'member connected ',\n",
       " 'Depression causes arm',\n",
       " 'Activation generates ',\n",
       " 'control signals ',\n",
       " 'switch mounted ',\n",
       " 'point located ',\n",
       " ' recognised ',\n",
       " 'It recognised ',\n",
       " ' recognised ',\n",
       " 'body has plurality',\n",
       " ' put pressure',\n",
       " ' moves body',\n",
       " 'body shaped ',\n",
       " 'region start ',\n",
       " '138 are ',\n",
       " '136c start ',\n",
       " '136b positioned ',\n",
       " 'c connected ',\n",
       " 'It recognised ',\n",
       " 'finger contact 136a',\n",
       " 'It recognised ',\n",
       " 'embodiment is ',\n",
       " 'configuration is ',\n",
       " ' surfaces ',\n",
       " 'they be ',\n",
       " ' provides movement',\n",
       " ' recognised ',\n",
       " 'Referring is ',\n",
       " 'expansion cover ',\n",
       " 'provides replaced ',\n",
       " 'cover used ',\n",
       " 'handle configured ',\n",
       " 'handle has body',\n",
       " 'configured positioned ',\n",
       " 'assembly includes body']"
      ]
     },
     "execution_count": 10,
     "metadata": {},
     "output_type": "execute_result"
    }
   ],
   "source": [
    "compressed"
   ]
  },
  {
   "cell_type": "code",
   "execution_count": 11,
   "metadata": {},
   "outputs": [
    {
     "data": {
      "text/plain": [
       "['DT NN IN DT JJ NN VBG DT NN NN VBN IN NN IN DT NN .',\n",
       " 'DT NN VBZ DT NN NN VBG DT NN NN VBN IN VBG IN DT NN IN DT NN IN DT JJ NN , DT JJ NN IN DT NN NN IN NN IN DT NN IN DT JJ NN , CC DT JJ NN IN DT NN NN .',\n",
       " 'DT NN VBZ DT NN VBN IN DT NN NN CC VBN IN DT NN IN DT NN NN , JJ IN DT NN VBZ VBN IN RB VBG DT NN IN DT NN IN DT NN NN .',\n",
       " 'DT NN NN CD VBZ DT NN IN VBG NN IN DT NN IN DT NN .',\n",
       " 'DT NN VBZ RB JJS CD NN VBG DT JJ VBN NN -LRB- NN NN CC NN SYM NN -RRB- VBD IN VBG DT RB VBN NN -LRB- JJ VBG NN SYM NN CC NN -RRB- IN DT NN IN VBG DT JJ NN IN DT NN WRB NN IN DT NN .',\n",
       " 'DT NN VBZ JJ IN DT JJ NN IN VBG DT NN IN DT JJ VBN NN -LRB- NN NN CC NN SYM NN -RRB- IN DT NN VBN NN -LRB- JJ VBG NN SYM NN CC NN -RRB- . SP',\n",
       " 'DT NN VBZ IN DT NN NN NN IN DT NN IN DT JJ NN . SP',\n",
       " 'PRP VBZ RB VBN TO VB DT NN IN VBG NN JJ IN DT JJ NN IN NNS NNS .',\n",
       " 'RB , JJ VBN NNS VBP RB CC VBN IN DT JJ NN IN DT NN IN DT NN NN , CC VBP VBN IN DT NN NNS CC VBG NNS .',\n",
       " 'IN DT NN IN DT JJ NN , NN IN DT NN IN DT NN NN VBZ IN RBS JJ , VBG IN DT NNS JJ IN DT NN IN DT NN IN DT NN NN .',\n",
       " 'IN DT NN IN DT JJ CC RB RB VBN NN IN DT NN IN DT NN NN , VBN NN IN DT NN VBZ RB JJ IN RB VBG DT NN .',\n",
       " 'RB , JJ NN NNS MD RB VB IN JJ NN -LRB- RB , IN NN , NN , VBG , JJ NN IN DT NN NN , FW . -RRB- .',\n",
       " 'RB , VBG DT NN IN DT NN IN DT JJ NN , IN VBG IN DT NN NN IN DT NN IN DT NN CC JJ NNS IN DT NN NN , VBZ JJ . SP',\n",
       " 'DT JJ NN IN JJ JJ NN NNS VBZ JJ NN IN DT NN IN VBG IN DT NN NN IN DT NN NN .',\n",
       " 'RB DT NN IN DT NN VBZ VBN -LRB- RB IN DT NN -RRB- CC VBD IN DT JJ NN IN DT NN NN CC VB , WRB RB IN NN IN DT NN IN DT NN .',\n",
       " 'RB , DT JJ NN NNS IN NN MD VB IN NN IN DT NN IN DT NN , NN -LRB- RB VBG -RRB- IN DT NN IN DT NN , CC NN IN DT NN IN DT JJ NN IN DT NN , VBP DT MD VB IN DT NN WRB VBG DT NN NN IN DT JJ NN IN DT NN . SP',\n",
       " 'RB , NNS IN JJ NNS MD RB VB RB JJ IN NN IN JJ JJ NNS VBG JJ JJ NNS .',\n",
       " 'IN JJ , DT VBN NNS CC NNS MD VB DT JJ HYPH JJ NFP JJ NN NN , WDT VBZ TO VB JJ VBN NNS JJ TO VB -LRB- VB JJ NN VBN IN DT NN IN DT NN -RRB- . SP',\n",
       " 'PRP VBZ DT NN IN DT JJ NN TO VB DT NN IN DT JJ NN TO VB CC VB IN JJS DT IN DT JJ HYPH VBN NNS . SP',\n",
       " 'RB DT NN IN DT NN VBZ VBN -LRB- RB IN DT NN -RRB- CC VBD IN DT JJ NN IN DT NN NN CC VB , WRB RB IN NN IN DT NN IN DT NN .',\n",
       " 'RB , DT JJ NN NNS IN NN MD VB IN NN IN DT NN IN DT NN , NN -LRB- RB VBG -RRB- IN DT NN IN DT NN , CC NN IN DT NN IN DT JJ NN IN DT NN , VBP DT MD VB IN DT NN WRB VBG DT NN NN IN DT JJ NN IN DT NN .',\n",
       " 'JJ IN JJ NNS EX VBZ VBN DT NN IN DT JJ NN VBG DT NN NN VBN IN NN IN DT NN .',\n",
       " 'DT NN VBZ DT NN NN VBG DT NN NN VBN IN VBG IN DT NN IN DT NN IN DT JJ NN , DT JJ NN IN DT NN NN IN NN IN DT NN IN DT JJ NN , CC DT JJ NN IN DT NN NN .',\n",
       " 'DT NN VBZ DT NN VBN IN DT NN NN CC VBN IN DT NN IN DT NN NN , JJ IN DT NN VBZ VBN IN RB VBG DT NN IN DT NN IN DT NN NN .',\n",
       " 'DT NN NN CD VBZ DT NN IN VBG NN IN DT NN IN DT NN .',\n",
       " 'DT NN VBZ RB JJS CD NN VBG DT JJ VBN NN -LRB- NN NN CC NN SYM NN -RRB- VBD IN VBG DT RB VBN NN -LRB- JJ VBG NN SYM NN CC NN -RRB- IN DT NN IN VBG DT JJ NN IN DT NN WRB NN IN DT NN .',\n",
       " 'DT NN VBZ JJ IN DT JJ NN IN VBG DT NN IN DT JJ VBN NN -LRB- NN NN CC NN SYM NN -RRB- IN DT NN VBN NN -LRB- JJ VBG NN SYM NN CC NN -RRB- . SP',\n",
       " 'DT JJ NN VBZ DT NN IN DT JJ NN VBG DT NN NN VBN IN NN IN DT NN , DT NN VBG : DT NN NN VBG DT NN NN VBN IN VBG IN DT NN IN DT NN IN DT JJ NN , DT JJ NN IN DT NN NN IN NN IN DT NN IN DT JJ NN , CC DT JJ NN IN DT NN NN : DT NN VBN IN DT NN NN CC VBN IN DT NN IN DT NN NN , DT NN VBD IN RB VBG DT NN IN DT NN IN DT NN NN , DT NN NN VBG DT NN IN VBG NN IN DT NN IN DT NN : CC IN RBS CD NN IN DT NN VBG DT JJ VBN NN VBN IN VBG DT RB VBN NN IN DT NN IN VBG DT JJ NN IN DT NN WRB NN IN DT NN , DT NN VBD IN DT JJ NN IN VBG DT NN IN DT JJ VBN NN IN DT NN VBN NN . SP',\n",
       " 'JJ NNS IN DT NN MD RB VB VBN IN NN IN DT VBG NNS , IN NN IN NN RB , IN WDT : SP NN CD VBZ DT NN NN IN NNS IN DT JJ NN IN NN IN DT NN NN : SP NN CD VBZ DT JJ NN IN DT JJ NN IN NNP CD : SP NN CD VBZ DT JJ NN NN IN DT NN IN DT NN IN NNP CD : SP NN CD VBZ DT NN VBG NN IN DT NN IN DT NN IN NN CD : SP NN VBZ DT JJ NN NN IN DT NN IN NN CD : SP NN VBZ DT NN NN IN DT NN IN NN CD : SP NN NN VBZ DT NN NN NN NN NN HYPH DT NN IN NN CD IN DT JJ NN IN DT NN CC DT NN IN NNP CD : SP NN NN VBZ DT JJ NN IN DT NN NN IN NNP CD : SP NN CD VBZ DT JJ NN IN DT NN NN IN NNP NNP CC CD : SP NN CD VBZ DT NN VBN NN NN IN DT NN IN NN CD : SP NN NN VBZ DT NN NN IN DT NN NN IN NN CD : SP NN NN VBZ DT NN NN IN DT NN IN NN CD : SP NN NN VBZ DT JJ NN NN NN HYPH NN IN DT NN IN NN CD : SP NN NN VBZ DT JJ NN IN DT NN IN NNP CD : SP NN NN VBZ DT JJ NN IN DT NN IN NN CD : SP NN NN VBZ DT JJ NN IN DT NN IN NNP CD : SP NN CD VBZ DT NN IN DT NN NN IN NN CD : SP NN CD VBZ DT JJ NN IN DT NN NN IN NN CD : SP NN CD VBZ DT JJ NN IN DT NN IN NNP CD : SP NN CD VBZ DT NN NN NN IN DT NN IN NN CD : SP NN CD VBZ DT JJ NN IN DT NN NN IN NNP CD : SP NN CD VBZ DT JJ NN IN DT NN NN IN NNP CD : SP NN CD VBZ DT JJ JJ NN NN IN DT JJ NN IN NNP CD : CC SP NN CD VBZ DT JJ JJ JJ NN IN DT JJ NN IN NN CD . SP',\n",
       " 'VBG TO NNP CD , VBN VBZ DT JJ NN CD IN VBG NN CC NN NNS -LRB- CC NNS -RRB- IN NNS NN SYM NNS CD CC NN NN SYM NN , IN NN IN JJ NN CD IN NN -LRB- FW NN -RRB- VBZ CD -LRB- NN NN NNS CC NNP NNS -RRB- JJ IN CD CC JJR NNS NNS CD -LRB- RB JJ , JJ , NN NN -RRB- .',\n",
       " 'PRP VBZ VBN IN DT NN VBZ CD MD VB VBN IN NNS WDT VBP VBG VBN IN CD NN IN DT IN DT NN NN CD .',\n",
       " 'NNS IN DT NNS CD MD VB JJ IN CC RB JJ IN : JJ NN NN CC NN IN JJ NN NN , NN NN , CC NN : CC NNS IN NN NN , NN , NN NN , CC NN NN . SP',\n",
       " 'DT JJ NN CD MD VB DT JJ NN CD , VBN IN DT NN JJ NN CD , IN DT NN CD IN DT NN NN CD .',\n",
       " 'PRP VBZ RB VBN IN DT NN CD MD VB RB CC RB RB VBN -LRB- RB RB JJ -RRB- IN DT NN CD IN VBG NNS JJ IN CC RB JJ IN : NNS VBN IN NNS , VBP NNS , NNS -LRB- VB NNS -RRB- , NNS CC JJ VBG NNS , FW .',\n",
       " 'RB , PRP VBZ VBN IN DT NN CD MD VB VBN -LRB- RB VBN -RRB- IN JJ IN IN JJS DT NN IN DT NN CD .',\n",
       " 'PRP VBZ VBN IN IN DT NN , DT NNS , NN NFP CC NFP NN NFP MD VB VBN RB . SP',\n",
       " 'DT NN CD VBZ DT NN IN NNS CD VBG DT NN NN CD , VBG DT NN CD CC DT NN CD -LRB- JJ NN NN -RRB- , CD CC JJR JJ NNS CD -LRB- RB IN IN DT NN CD -RRB- , CC DT NN SYM NN NNS NN CD -LRB- RB NN , NNP IN NNP CC NNP , NN , NN IN DT NN CD -RRB- IN VBG DT JJ NN CD .',\n",
       " 'DT JJ NN CD RB VBZ DT JJ NN NN CD IN VBG TO VB NN NNS IN DT JJ NN -RRB- CD , DT NN NN CD , CC RB DT NN NN CD . SP',\n",
       " 'VBG IN NN CD , DT NN CD VBZ VBN IN VBG IN DT NN -LRB- RB VBN -RRB- IN DT NN IN DT JJ NN CD , DT NN CD IN DT NN CD VBG DT JJ NN CD IN VBG IN DT NN CD IN DT NN CD , DT JJ NN CD , CC DT NN NN CD IN DT NNS CD IN VBG IN DT NN IN DT NN .',\n",
       " 'DT NN NN CD MD RB VB DT NN NN CD , RB VBN IN DT RB JJ NN -LRB- NN NN CC JJ JJ NNS -RRB- , IN VBG DT NN IN DT NN POS NN IN DT NN CD IN DT NN CD .',\n",
       " 'DT JJ NN CD MD VB VBN IN IN DT JJ NN VBN IN DT JJ NN -LRB- FW NN CD -RRB- WDT MD VB DT RB VBN NN WDT VBZ VBN IN DT JJ NN IN VBG DT JJ NN IN DT RB VBN NN .',\n",
       " 'IN NN , IN NN CC NN IN DT JJ JJ NN , FW DT NN CD , DT NN VBZ VBN IN DT NN IN DT CD NN NN IN DT .',\n",
       " 'DT JJ NN NN VBZ JJ IN DT JJ NN NN IN IN DT NN IN DT JJ JJ NN VBZ VBN CC VBN TO VB DT VBN NN CD .',\n",
       " 'DT NN -LRB- RB JJ NN -RRB- IN DT JJ JJ NN -LRB- FW DT JJ CD -RRB- VBZ RB VBN IN DT JJ NN NN NN IN DT VBN NN -LRB- FW VB CD CC JJ NN CD -RRB- VBZ VBN IN DT JJ NN .',\n",
       " 'PRP VBZ VBN IN CD NN NN IN DT NN CD VBZ WRB DT NN CD VBZ VBN IN DT JJ SYM JJ NN NN -LRB- FW JJ NN -RRB- IN DT NN CD VBZ VBN IN DT JJR , JJ NN -LRB- FW JJ NN -LRB- NNP -RRB- NNS -RRB- WDT VBZ VBN IN DT NN , NN -LRB- FW FW -LRB- NNP -RRB- , NN HYPH NN HYPH NN -LRB- NNP -RRB- , NN -LRB- NN -RRB- , NNP FW . -RRB- IN DT NN CD , RB VBG DT VBN JJ , JJ , NN , CC NN HYPH JJ NN NN CD IN DT NN CD .',\n",
       " 'PRP VBZ VBN IN JJ NN NNS MD VB VBN TO VB DT NN CD IN DT NN CD IN DT NN CD , IN VBN IN DT NN JJ IN DT NN .',\n",
       " 'PRP VBZ RB VBN IN DT NN NN CD MD RB VB VBN IN IN DT JJ NN WDT MD VB VBN CC RB VBD IN DT NN NN IN DT NN NN CD .',\n",
       " 'PRP VBZ VBN IN DT NN NN VBZ CD NN NN IN DT NN , VBG IN DT JJ NN -LRB- FW DT NN CD -RRB- IN DT NN NN CD IN DT NN NN CD . SP',\n",
       " 'DT JJ NN CD MD VB VBN IN DT NN NN CD IN DT NN CD IN DT NN IN NNS CD -LRB- RB NNS -RRB- , VBP NN CD , WDT MD VB VBN TO VB VB DT JJ NN CD IN DT NN NN CD , IN VBN . SP',\n",
       " 'DT NN CD RB VBZ DT NN NN CD -LRB- VBN IN JJ NNS IN DT NN NN CD -RRB- .',\n",
       " 'DT NN NN CD MD VB DT VBN NN CD , IN VBG NN NN IN DT NN NN CD IN DT NN CD .',\n",
       " 'RB , CC IN NN , DT NN CD MD VB DT NN NN CD IN VBG IN DT NN DT NN IN DT NN NN CD IN DT NN NN CD IN DT NN CD .',\n",
       " 'DT NN NN CD , MD VB DT NN NN , NN , CC VBG JJ IN JJ NN IN DT NN CD . SP',\n",
       " 'VBG IN NNS CD CC CD , DT JJ NN CD IN DT NN CD VBZ DT JJ NN CD VBN IN NN IN DT JJ NN CD IN DT NN CD IN DT NN CD , JJ IN DT NN NN CD IN DT JJ NN CD MD VB VBN TO VB DT NN -LRB- RB VBG NN CD -RRB- IN DT NN CD VBG DT NNS NN CD -LRB- VBP NNP CD -RRB- .',\n",
       " 'VBG DT NN IN DT JJ NN CD IN DT JJ NN CD VBZ VBN IN DT NN CD , IN RB VBN IN . SP',\n",
       " 'NN CD NN SP',\n",
       " 'VBG IN NN CD , DT NN CD VBZ VBN IN VBG IN DT NN CD -LRB- VB NNP CD -RRB- IN DT NN IN DT JJ NN CD .',\n",
       " 'DT NN CD VBZ VBN IN DT NN CD IN DT NN CD , WDT VBZ CC DT JJ NN CD IN VBG DT NN CD RB RB VBN IN DT NN CD -LRB- RB NN -RRB- CC DT NN VBG CD IN VBG NN -LRB- FW NN SYM NN NNS CD -RRB- IN DT NN NN CD -LRB- RB NN -RRB- IN DT NN CD CC CD CC JJR NNS CD IN DT NN CD . SP',\n",
       " 'NN VBG CD SP',\n",
       " 'RB , IN NN , DT NN VBG CD MD VB VBN TO VB DT JJ NN CD -LRB- RB VBN NN NN -LRB- NN -RRB- NNS JJ IN RB JJ NNS -RRB- VBN IN CD CC JJR NNS CD IN DT NN CD CC DT VBG JJ NN CD -LRB- NN NN NNS -RRB- VBN IN DT NN NN CD , IN RB VBN IN .',\n",
       " 'DT JJ NN CD VBZ VBN TO VB DT JJ JJ JJ NN IN DT NN NN CD CC CD CC JJR NNS CD IN DT NN CD IN DT JJ NN CD .',\n",
       " 'PRP VBZ VBN IN DT NN NNPS MD VB DT RB JJ NN -RRB- CC DT NN NNPS MD VB DT NN NNS , IN VBN . SP',\n",
       " 'IN NN , DT NN NN MD VB DT NN IN DT NN NN VBG CD NN HYPH VBN NNS , JJ IN WRB VBN IN CD JJ NNS -LRB- NN IN DT NN CD IN DT JJ NN CD CC DT NN NN CD -RRB- , VBZ IN DT NN IN DT NN NN VBP JJ JJ NNS IN DT CD JJ NNS CC RB VB PRP RB .',\n",
       " 'PRP VBZ VBN IN DT NN NN CD VBZ VBN IN VBG DT NN IN CD CC JJR IN DT NNS CD IN DT NN CD IN DT NN SYM NN NNS CD VBD IN JJ NN -LRB- RB VBG IN DT NN -RRB- IN NN IN DT NN NN CD .',\n",
       " 'RB , DT JJ NN CD -LRB- RB VBN IN JJ NN JJ IN CC RB VBN IN NN CC JJ JJ NNS -RRB- MD VB VBN IN DT NN IN DT NN -RRB- CD , NN -LRB- NN VB NN CD -RRB- IN NN IN DT NN VBG CD , IN NN TO VB DT NN IN NN CC JJ JJ NN IN DT NNS CD , CC WRB DT NN CD VBZ VBN IN DT NN CD IN DT JJ NN CD . SP',\n",
       " 'RB , PRP VBZ VBN IN DT NN IN DT JJ NN NNS IN DT JJ NN CD , FW DT NN VBG CD , MD VB DT VBG NN CD IN VBG DT NN NN IN DT NNS CD , CC WRB DT JJ NN CD VBZ VBN .',\n",
       " 'CD NN IN DT VBG NN CD VBZ DT NNS IN DT NN NNS .',\n",
       " 'DT NN IN DT VBG NN CD VBZ DT JJ NN VBD IN DT NN IN RB RBS CD IN DT NNS CD , LS , RB VBG DT NNS CD , CC IN NN DT WRB PRP VBP VBN IN NN IN NN DT IN NN IN DT JJ NN CD .',\n",
       " 'IN DT NN , IN IN DT JJ NN IN DT NNS CD , NN IN NN IN CD DT , PRP VBZ VBN IN NN IN DT NN VBG CD VBZ VBN IN IN RB TO VB , VB IN DT NN -LRB- NNP NN CC VB -RRB- IN DT JJ NN CD .',\n",
       " 'PRP VBZ RB VBN IN DT VBG NN NNS MD VB VBN IN DT NN CD , IN DT NN CD CC IN DT IN DT NNS CD , LS , IN VBN . SP',\n",
       " 'NNP NNP CD SP',\n",
       " 'IN NN , DT JJ NN CD MD VB VBN TO VB CD CC JJR NNS NNS CC VBG NNS CD -LRB- IN NN CD -RRB- CC CD CC JJR NNS NNS -LRB- IN NN CD -RRB- CC VBG NNS NNS IN VBG NNS CD IN DT JJ NN CD , IN RB VBN IN .',\n",
       " 'PRP VBZ VBN IN DT NNS NNPS MD VB VBN IN DT NN CD CC DT NNS CD VBN IN DT NN CD IN VBN , DT NNS NNPS MD VB VBN IN DT NN CD CC DT NNS CD VBN IN DT NN CD -LRB- RB VBN -RRB- , CC DT NN RB .',\n",
       " 'RB , DT NN -RRB- WP MD VB VBN IN DT NN CD CC DT JJ NN -RRB- CD IN DT NN CD -LRB- IN VBN -RRB- , DT NN -RRB- WP MD VB VBN IN DT NN CD CC DT JJ NN -RRB- CD IN DT NN CD -LRB- RB VBN -RRB- , CC DT NN RB . SP',\n",
       " 'VBG TO NN CD , DT JJ NN CD VBZ VBN IN IN TO VB NN IN DT JJ NN CD IN DT NN CD IN DT NN IN JJ NNS CC VBG NNS -LRB- NN NNS CC NNS , FW . -RRB- .',\n",
       " 'RB , DT JJ NN CD VBZ VBN IN IN TO VB JJ IN DT JJ NN NN IN DT JJ NN CD , IN VBG DT NN IN DT NN CD IN DT NN CD , RB VBN , IN RB VBN IN DT NN IN NN IN DT NN -RRB- CD .',\n",
       " 'IN NN TO VB DT NN CD IN DT NN CD , DT NNS NNPS MD VB VBN SYM VBD CD IN DT NNS CD -LRB- VBG IN NN IN DT NNS CD -LRB- VB NNS CD , XX CC NN , LS -RRB- IN DT JJ NN CD -LRB- NN IN DT NN CD -RRB- WDT VBZ JJ IN DT NNS CD -RRB- , CC RB DT NN CD MD VB VBN CD IN DT JJ NNS CD CC NNS CD IN DT NN CD RB IN TO VB DT NN -RRB- NFP IN DT VBG NN NNS -LRB- VBG IN NN IN DT NN CD IN DT JJ NN CD WDT VBZ JJ IN DT NN CD -RRB- . SP',\n",
       " 'RB VBN , DT JJ JJ NN CD IN DT JJ NN CD VBZ VBN JJ IN DT JJ JJ NN CD IN DT NN CD -LRB- VB NNS CD CC CD -RRB- .',\n",
       " 'DT NN IN DT NN -RRB- NFP IN DT NN -RRB- CD RB VBZ DT NN IN DT JJ NNS CD , NN IN NN TO VB CC RB VB DT NN VBG CD .',\n",
       " 'PRP VBZ VBN IN DT NN CD CC DT NNS CD NN SYM VB RB IN DT NN CD IN DT NN , WRB VBN NN , CC DT NN CD CC DT NNS CD',\n",
       " 'NN SYM VB RB IN DT NN CD IN DT NN CD , WRB VBN NN . SP',\n",
       " 'VBG IN NNS CD , XX CC NN , LS , DT NN NNP VBZ DT NN CD -LRB- DT NNS RB -LRB- CC RB RB -RRB- IN DT NN CD NN CD -RRB- IN DT NN CD VBN IN VBG CD -LRB- VBP NN CD -RRB- IN DT NN CD -LRB- VBP NNP CD -RRB- .',\n",
       " 'DT NN CD VBZ VBN IN DT NN CD IN DT NN CD IN DT NN CD WDT VBZ DT JJ NN CD -LRB- RB IN DT NN CD IN DT NN CD -RRB- IN DT NN CD .',\n",
       " 'IN NN , DT JJ NN CD MD VB VBN IN RB VBN IN DT NN IN DT NN CD IN DT VBN CD IN DT NN CD CC DT NN CD IN DT NN CD IN DT NN CD .',\n",
       " 'DT NN IN DT JJ NN CD VBZ DT NN CD IN DT NN CD CC NN CD VBN IN DT NN CD CC DT NN CD , VBP NNP CD .',\n",
       " 'DT NN IN DT NN NN CD , RB VBD IN , VBZ NN CD IN DT NN CD -LRB- IN DT NN CD IN DT NN CD CC DT NN CD -RRB- IN NN CD IN DT NN NN IN DT VBG NN NNS .',\n",
       " 'PRP VBZ VBN IN JJ JJ NN CD NNS MD VB VBN IN DT NN NN , IN JJ IN CD JJ IN DT NN . SP',\n",
       " 'DT NNS CD IN DT NN CD IN DT NN CD IN DT NN CD IN DT NN NN CD MD VB VBN IN NN CC NN NN IN NN IN CD DT RB IN TO VB DT NN IN DT NN IN NN IN DT JJ NN CD .',\n",
       " 'IN NN , DT NN IN DT NNS IN DT NNS JJ IN DT NN CD MD VB DT NN IN NN IN DT JJ NN .',\n",
       " 'RB , DT NNS CD MD VB NN IN NN IN PRP$ NN . SP',\n",
       " 'VBG RB IN NNP NN , LS , DT JJ NN CD VBZ VBN IN VB DT NN CD IN DT JJ NN CD -LRB- VB NNP CD IN NN -RRB- IN VBN IN DT JJ NN CD -LRB- VB NNP CD IN NN -RRB- , WRB NN IN DT NN CD IN DT NN NN CD IN DT JJ NN CD VBZ NN CD IN DT NN CD IN DT NN NNS IN NN IN DT NN NNP RB IN DT NN NN CD IN DT JJ NN CD VBZ DT NN IN DT NN CD IN DT NN CD IN DT NN IN DT NN CD CC DT NN NN CD IN DT NN NNS , RB VBD CD CC IN VBN CD .',\n",
       " 'IN NN , NNP NN VBZ DT NN IN DT NN CD IN DT JJ NN CD CC JJ SYM JJ IN DT NN CD , IN NN NN VBZ DT NN IN DT NN CD IN DT JJ NN CD -LRB- IN DT NN NN CD -RRB- CC JJ SYM VBD IN DT NN CD . SP',\n",
       " 'JJ NN IN DT NN CD IN DT NN NNS IN NN CD IN DT NN NNP RB IN DT NN NN CD CC RB NN VBZ IN DT NN CD IN DT NN IN DT NN NNS , RB VBG IN DT NN JJ NN CD IN DT NN CD IN DT NN CD , IN DT NN NN VBZ RB VBN CD IN DT JJ NN CD CC DT NN CD VBZ VBN CD IN DT NN NN TO VB IN NN IN DT NN CD IN DT NN CD -LRB- NN JJ IN DT NN CD IN DT NN CD VBZ VBN IN DT JJ NN IN DT NN CD , RB VBG DT NN IN DT JJ NN CD RB IN DT JJ NN CD . SP',\n",
       " 'IN NN IN DT JJ , PRP VBZ VBN IN DT JJ NN NN IN DT NN NN IN DT NN NNS MD VB VBN IN DT NNS NNS VBP VBN IN DT NNS CD -LRB- NN DT NN CD VBZ VBN IN DT NN CD NN CD -RRB- CC IN VBN PDT IN DT NN CD VBZ VBN IN DT NN CD .',\n",
       " 'RB RB , PRP VBZ VBN IN DT NN -RRB- PRP MD VB IN DT NN IN DT NNS CD CC DT NN -RRB- PRP MD VB IN DT NN IN DT NN -RRB- CD , IN VBN .',\n",
       " 'IN NN , DT NNS NNS VBP VBN IN DT NN IN DT NN NN CD IN DT JJ NN CD , RB IN TO VB IN DT JJ NNS NNS IN DT NN IN DT NN IN DT NN CD NN DT NNS NN CD -LRB- RB VBG NN CD -RRB- .',\n",
       " 'RB , DT NN IN DT NNS CD CC DT NNS PRP MD VB VBN JJ IN IN VBN -LRB- RB IN VBG NNS CD NN CD -RRB- IN DT JJ NN CD IN VBN IN VBG VBZ CD IN DT JJ NN CD . SP',\n",
       " 'RB , VBN VBZ DT NN CD IN DT JJ NN CD VBG CD CC JJR NN NNS IN VBG IN NN VBZ CD IN DT NN NN CD .',\n",
       " 'DT NN CD VBZ RB VBN IN DT NN CD IN DT JJ NN CD JJ IN RB VBN , DT NN CD VBZ JJ NN IN DT JJ NN CD IN DT NN .',\n",
       " 'DT NN VBZ DT NN NN CD VBG DT NN NN CD VBN IN VBG IN DT NN IN DT NN IN DT JJ NN CD , DT JJ NN CD IN DT NN NN CD IN VBG IN DT NN CD IN DT JJ NN CD JJ IN DT JJ NN CD VBG DT JJ NN CD IN VBG IN DT JJ NN CD IN DT NN CD , CC DT JJ NN CD IN DT NN NN CD .',\n",
       " 'DT NN RB VBZ DT NN NN CD IN VBG DT NN IN DT CD CC JJR NN NNS CC VBZ VBN IN DT NN NN CD IN DT NN NN CD , DT NN NN CD IN VBG IN DT NN VBG CD TO CD CC JJR NNS CD IN DT JJ NN CD VBG DT CD CC JJR NN NNS .',\n",
       " 'DT NN RB VBZ DT JJ NN NN CD VBN IN DT JJ NN CD VBG DT JJ NN NNS VBG RB IN DT JJ NN CD CC VBD IN VBG IN DT VBG JJ NN CD IN DT JJ NN CD IN DT NN CD , CC IN JJS CD NN NNS VBG RB IN DT JJ NN CD IN DT NN CD IN DT JJ NN CD NN -LRB- NN VBN TO -RRB- IN DT JJ NN CD CC VBD IN VBG IN DT VBG JJ NN NNS IN DT JJ NN CD IN DT NN , WRB DT NN VBG CD VBZ VBN IN DT JJ NN CD VBZ VBN IN DT JJ NN CD IN NN IN DT JJ NN NN CD . SP',\n",
       " 'PRP VBZ VBN IN IN NN IN DT JJ , DT NN NN CD VBZ VBN TO VB DT VBG JJ NN CD IN DT JJ NN CD IN DT NN CD .',\n",
       " 'IN NN , DT NN CD MD VB DT NN IN DT NNS CD , JJ IN CD IN DT NN IN DT NNS CD VBZ VBN IN DT NN IN DT NN NN CD CC DT JJ NN CD VBZ DT JJ NN IN DT JJ NNS CD VBN IN DT NN IN DT JJ NN CD IN DT NN CD .',\n",
       " 'RB , DT NN CD MD VBG DT NN IN DT NNS CD , JJ IN CD IN DT NN IN DT NNS CD VBZ VBN IN DT NN IN DT NN NN CD CC DT JJ NN CD VBZ DT JJ NN IN DT NNS CD VBN IN DT NN IN DT JJ NN CD IN DT NN CD .',\n",
       " 'RB , DT NN CD MD VB CD NN CD CC CD NN NNS IN DT NN IN DT NN NN CD CC DT NN MD VB DT JJ NN IN CD NN CD CC CD NN NNS , IN VBN .',\n",
       " 'RB , PRP VBZ VBN IN DT NN IN DT NN NN CD MD VB DT NN CD IN VBG IN DT VBG NN NNS VBN IN DT VBG NN CD IN DT NN CD .',\n",
       " 'RB , PRP VBZ VBN IN DT NN IN DT NN NN CD MD VB DT NN CD IN VBG IN DT VBG NN CD VBN IN DT VBG NN CD IN DT NN CD . SP',\n",
       " 'NNP CD SP',\n",
       " 'VBG IN NNS CD CC CD , VBN VBZ DT NN CD VBN SYM VBN IN DT JJ CD IN DT NNS CD IN DT NN CD -LRB- VBN IN NN RB NN CD -RRB- , IN NN IN NN IN DT NN NN CD -LRB- VBP NNP CD -RRB- IN DT NN CD .',\n",
       " 'DT NN MD VB DT JJ NN CD -LRB- RB JJ -RRB- IN CD NN , DT JJ JJ NN CD -LRB- RB NN -RRB- , JJ IN DT NN NN CC JJ JJ NN NN , CC DT JJ NN CD IN DT JJ NN WDT VBZ VBN IN VBG IN DT NN IN DT JJ NN CD -LRB- VBP NNP CD -RRB- .',\n",
       " 'DT JJ NN CD MD VB NN IN NN CC RB VBP DT NN CD WDT VBZ VBN IN DT JJ NN IN NN IN DT JJ NN CD IN DT NN CD , RB VBG NN IN DT NN CD IN DT NN CD IN NN VBN IN DT NN POS NN -RRB- CC NN . SP',\n",
       " 'DT NN CD VBZ VBN IN DT NN NN IN DT NN NN CD , JJ IN DT NN CD MD RB VB NN , RB VBZ VBN TO VB DT NN NN -LRB- VB DT NN CD -RRB- RB IN DT NN POS NN TO VB VB VBG DT JJ NN IN DT NN POS NNS IN DT NN CD .',\n",
       " 'DT NN CD MD RB VB VBN IN IN DT NN CD VBZ VBN IN IN TO VB VB NN IN NN IN DT NN CD , RB VBG IN DT NN IN JJR NN NNS IN DT NN CD .',\n",
       " 'DT NN CD MD VB VBN IN NN CC VBG IN DT NN CD IN DT NN .',\n",
       " 'NN IN DT NN CD IN DT JJ CD IN DT NN CD NNS NN IN NN IN RB VBN IN DT JJ CD IN DT NN CD IN DT NN CD IN JJ NN IN DT NN IN DT NN NN CD -LRB- VBP NNP CD -RRB- . SP',\n",
       " 'VBG IN NNS CD , LS , DT JJ NN CD VBZ CD CC JJR NNS CC NNS CD VBN IN VBG CD CC JJR NNS CD VBN IN CD CC RBR JJ NNS CD IN DT NN CD .',\n",
       " 'DT NNS CD MD VB VBN RB IN TO VB RB JJ , RB IN TO VB VBN IN DT NN IN DT NN CD , RB VBD CD IN -LRB- VB NNP CD RB VBD CD IN -RRB- DT NN CD VBD IN DT NN CD IN DT NN CD .',\n",
       " 'DT NN CD VBZ DT JJ NN SYM RB CD IN VBG DT NN CD IN DT NN , DT NN CD IN VBG DT NN NN CD -LRB- RB DT NNS CC NNS CD -RRB- IN DT JJ NN CD IN DT NN CD IN VBG NN IN DT NN CD IN DT NN CD , CC DT JJ NN CD IN DT NNS CD .',\n",
       " 'DT JJ NN CD MD VB JJ CC JJ , RB RB IN DT NNS CD VBP RB JJ IN NN IN CD DT .',\n",
       " 'DT NN CD VBZ VBN VBN IN DT JJ NN CD IN DT NN CD , IN NN RB , CC VBZ IN NN CC NN IN DT NN CD IN DT JJ CD IN DT NN CD .',\n",
       " 'PRP VBZ VBN IN DT NN CD MD RB VB VBN IN DT NN NN CD IN DT NN CD , IN VBN . SP',\n",
       " 'DT NN CD MD VB RP RB JJS DT NN IN DT NN HYPH JJ NN IN DT NN NN IN DT NN CD CC DT VBG NN CD MD VB RP RB JJS DT NN IN DT JJ NN IN DT NN CD IN DT NN CD .',\n",
       " 'IN NN , DT NN CD MD VB DT NN VBG IN DT NN IN DT NN CD .',\n",
       " 'RB , DT NNS CD MD VB VBN IN IN NNS CD .',\n",
       " 'DT NN CD IN DT NN CD MD VB DT JJ NN CD VBN IN DT JJ NN CD IN DT JJ NN CD -LRB- VB NNP CD IN NN -RRB- CC DT NN IN DT NN CD VBZ JJ IN DT NN IN DT JJ NN IN DT NN CD RB VBN IN DT JJ NN CD IN DT NN CD .',\n",
       " 'IN NN , DT NN CD VBZ RB VBN IN DT JJ NN CD IN DT NN NN CD CC DT JJ NN CD VBZ VBN TO VB VBN RB CD IN DT NN NN IN DT NN CD WRB VBN IN DT NN CD . SP',\n",
       " 'VBG IN NNS CD CC CD , DT JJ NNS CD VBP VBN IN VB DT NN CD IN DT JJ NN CD , IN VBN IN DT JJ NN CD -LRB- VB NN CD IN NN -RRB- , WRB VBG DT NN CD IN DT JJ NN CD IN DT JJ NN CD VBZ NN CD IN DT NNS CD IN DT NNS CC NNS CD , RB VBG CD DT NNS CD IN DT JJ NN CD IN DT JJ NN CD CC RB RB IN DT JJ NN CD .',\n",
       " 'NN IN DT NNS CD IN DT JJ NN CD , WRB DT NN CD VBZ JJ IN DT NN CD , VBZ DT NN IN DT NN CD IN DT NN CD IN DT NN IN DT NNS CD IN DT NNS SYM NNS CD , IN VBN NN IN JJ NN CD IN DT NNS CD . SP',\n",
       " 'VBG IN NNS NNP , VBN VBP NN NNS IN DT NN NN NN HYPH NN IN DT NNS CD , IN DT VBN NN -RRB- CD IN DT JJ NN CD IN DT NN CD , PDT IN DT NN NN CD IN DT NNS CD VBZ VBN -LRB- FW NN -RRB- RB IN TO VB DT NN NN CD IN DT NN CD IN CD CC JJR NNS CD IN NN NN CD , RB VBG NN IN DT NNS CD CC DT NN CD .',\n",
       " 'PRP VBZ RB VBN IN DT NN IN DT JJ NNS CD MD RB VB VBN IN JJ NNS IN NNS CD VBD IN JJ NNS CC NNS CD , IN NN IN , IN NN IN , CC IN NN IN DT RB VBN NNS CD , CD . SP',\n",
       " 'DT NNS CD VBP VBN IN CC VBP RB NNS IN DT NN CD .',\n",
       " 'VBG IN NNS CD , LS , PRP VBZ VBN IN DT NNS CD MD VB RB VBN IN DT NNS CD VBG JJ NNS CD , IN VBN , CC DT NNS CD MD VB VBN IN CD CC JJR IN DT NNS CD , MD VB VBN IN DT JJ CC JJ -LRB- VBN IN NNP CD -RRB- NNS IN DT IN DT NNS CD , CC VB VBN IN VBN RB IN DT NN CD , IN VBN . SP',\n",
       " 'VBG RB TO VB CD , VBN VBZ DT NN CD VBN RB IN DT JJ CD , RB IN NN CD .',\n",
       " 'DT NNS CD VBP VBN IN DT NN VBN NN CD , IN NN RB , IN CD CC JJR NNS CD VBD IN DT NN NN IN DT JJ NN CD IN DT NN , RB RB TO VB IN DT CD CC JJR NNS CD JJ CD IN NN IN RB DT , FW DT NNS CD VBP JJ RB IN TO VB DT NN JJ NN IN NNS CD RB IN VBG VBN IN DT NNS CC NNS CD .',\n",
       " 'IN DT NN CD VBZ NNS IN DT NN CD IN DT NN CD , NN IN DT JJ NN CD IN DT NN CD CC DT NNS CD VBZ DT JJ NNS CD TO VB IN NN NN -LRB- VB NNP CD -RRB- IN NN IN CD DT IN NN TO VB DT JJ NN CD VBG VBN IN DT VBG NNS CD IN DT JJ NNS CD .',\n",
       " 'JJ NN CD IN DT NN CD IN DT NN VBZ DT NNS CD TO VB VBN IN DT NNS SYM NNS CD , RB VBG DT NNS CD IN DT JJ NN CD IN DT JJ NN CD . SP',\n",
       " 'RB , IN NN , IN NN IN DT NN CD VBZ JJ -LRB- FW VBN -RRB- IN DT NN CD , NN CD VBZ DT NN IN DT NNS CD IN DT JJ NN CD CC DT NN VBN IN DT NN CD , IN NN IN DT NNS CD IN DT NNS SYM NNS CD .',\n",
       " 'NN CD VBZ DT NN IN NN NN IN DT NNS CD , FW IN DT JJ NN CD IN VBN CD RB IN DT NN CD IN DT JJ NN CD IN DT NN CD , IN DT NNS CD VBP VBN IN DT NNS SYM NNS CD .',\n",
       " 'JJ NN CD IN DT NN CD IN DT NN CD VBZ DT NNS CD TO VB IN DT JJ NN CD IN VBN IN NN CD , RB VBG DT NN CD IN DT NN CD IN DT NN CD IN JJ NN IN DT NN IN DT NN NN CD -LRB- VBP NNP CD -RRB- .',\n",
       " 'RB , VBG IN NNP NNP CC CD , DT JJ NN CD IN DT NN CD MD VB DT NN NN CD IN VBG DT JJ NN NN CD IN DT NN CD IN DT NN CD , IN VBN , DT NN NNS CD IN VBG DT NN IN NN IN DT NN CD IN DT NN CD . SP',\n",
       " 'VBG TO VB CD , PRP VBZ RB VBN IN CD IN DT NNS CD MD VB VBN -LRB- FW JJ -RRB- IN NN JJ IN CD CC RBR JJ JJ NNS CD , JJ IN NN CD IN DT JJ NNS -RRB- CD VBZ IN DT NN IN DT NN NN IN DT NNS CD , RB VBG DT NN IN DT NNS CD IN DT NNS SYM NNS CD .',\n",
       " 'PRP VBZ RB VBN IN DT NN CD IN DT NN CD MD VB VBN TO VB RB CD JJ NN CD WDT VBZ VBN IN NN IN DT NN CD IN DT NN CD , RB VBG DT NN IN DT NN CD IN DT CD NN CD CC DT NN CD -LRB- CC JJ JJ JJ NNS CD IN DT NN CD -RRB- .',\n",
       " 'PRP VBZ RB VBN IN DT NNS SYM NNS CD MD VB VBN IN DT NNP -RRB- CD CC DT NNS CD MD VB VBN IN DT JJ NN IN DT NN CD , RB RB IN DT NNS CD MD VB VBN IN DT JJ NN CD IN DT NN CD .',\n",
       " 'PRP VBZ RB VBN IN DT NNS CD RB VBP IN NNS IN DT NN IN DT NN CD VBG DT JJ NN -LRB- RB VBN -RRB- IN DT JJ NN CD , IN NN , CC IN IN DT NN IN DT NNP -RRB- CD , IN VBN . SP',\n",
       " 'IN NN IN DT JJ NN IN DT NNS CD CC JJ NNS SYM NNS CD , PRP VBZ VBN IN DT NNS CD CC DT JJ NN CD MD VB VBN VBG DT IN DT NNS IN JJ , VBN IN NN IN NNS CD SYM CD . SP',\n",
       " 'RB , IN VBN IN , DT NN CD VBZ VBN IN DT JJ NN CD VBG DT NN NN CD VBN IN NN IN DT NN CD , DT NN CD NN : DT NN NN CD VBG DT NN NN CD VBN IN VBG IN DT NN CD IN DT NN IN DT JJ NN CD , DT JJ NN CD IN DT NN NN CD IN VBG IN DT NN CD IN DT JJ NN CD , CC DT JJ NN CD IN DT NN NN CD : DT NN CD VBD IN DT NN NN CD CC VBN IN DT JJ CD IN DT NN NN CD , DT NN CD VBD IN RB VBG DT NN CD IN DT JJ CD IN DT NN NN CD , DT NN NN CD VBG DT NN IN VBG NN IN DT NN IN DT NN : CC IN RBS CD NN CD -LRB- NN NN -RRB- IN DT NN CD VBG DT JJ VBN NN -LRB- NNP NN CD CC NN SYM NN CD -RRB- VBD IN VBG DT RB VBN NN -LRB- JJ VBG NN SYM NN CD CC NN CD -RRB- IN DT NN CD IN VBG DT JJ NN IN DT NN CD WRB NN IN DT NN CD , DT NN CD JJ IN DT JJ NN CD IN VBG DT NN IN DT JJ VBN NN -LRB- NNP NN CD CC NN SYM NN CD -RRB- IN DT NN VBN NN -LRB- JJ VBG NN SYM NN CD CC NN CD -RRB- . SP',\n",
       " 'RB DT NN CD MD VB DT JJ NN CD VBP DT JJ NN NN CD VBN IN DT JJ NN CD VBG DT JJ NN NNS VBG RB IN DT JJ NN CD CC VBD IN VBG IN DT VBG JJ NN CD IN DT JJ NN CD IN DT NN CD , CC IN JJS CD NN NNS IN DT NN CD IN DT JJ NN CD NN IN DT JJ NN CD CC VBD IN VBG IN DT VBG NN NNS VBG RB IN DT JJ NN CD IN DT NN CD : IN DT NN VBG CD VBZ VBN IN DT JJ NN CD VBZ VBN IN DT JJ NN CD IN NN IN DT JJ NN NN CD . SP',\n",
       " 'RB , DT NN CD MD VB DT JJ NN CD DT JJ NN NN CD VBN IN DT JJ NN CD VBG DT JJ NN NNS IN VBG IN DT VBG JJ NN NNS VBG RB IN DT JJ NN CD , CC IN JJS CD NN NNS VBG RB IN DT JJ NN CD IN DT NN CD IN DT JJ NN RB , VBG IN DT JJ NN NNS CC VBD IN VBG IN DT VBG JJ NN NNS IN DT JJ NN CD IN DT NN CD : IN DT NN VBG CD VBZ VBN IN DT JJ NN CD VBZ VBN IN DT JJ NN CD IN NN IN DT JJ NN NN CD . SP',\n",
       " 'RB , DT NN CD MD VB DT JJ NN CD DT JJ NN NN CD VBN IN DT JJ NN CD VBG DT JJ NN NNS IN VBG IN DT VBG JJ NN NNS VBG RB IN DT JJ NN CD , CC IN JJS JJ NN NNS IN DT JJ NN CD IN DT NN CD IN DT JJ NN RB , VBG IN DT JJ NN NNS CC VBD IN VBG IN DT VBG NN NNS VBG RB IN DT JJ NN CD IN DT NN CD : IN DT NN VBG CD VBZ VBN IN DT JJ NN CD VBZ VBN IN DT JJ NN CD IN NN IN DT JJ NN NN CD . SP',\n",
       " 'NNP NNP CD SP VBG RB TO NNP CD , DT NN NN CD VBZ VBN IN VBG DT NN IN CD CC JJR IN DT NNS CD IN DT NN CD IN DT NN SYM NN NNS CD VBD IN JJ NN -LRB- RB VBG IN DT NN IN DT JJ NN IN DT JJ NN -RRB- IN DT NN IN DT NN NN CD .',\n",
       " 'IN VBZ VBN IN NN , DT NN NN CD VBZ DT JJ NN , IN NN , NN CD , RB VBN IN DT RB JJ NN , IN VBG DT NN IN DT NN POS NN IN DT NN CD IN DT NN CD .',\n",
       " 'DT NN NN CD -LRB- VBN IN JJ NNS IN DT JJ NN CD -RRB- VBZ DT VBN NN CD IN DT NN NN CD , IN VBG NN NN IN DT NN NN CD IN DT NN CD .',\n",
       " 'DT VBN NN CD NNS IN DT NN JJ CC RB VBG NNS IN DT NN IN DT NN NN CD , CC MD VB RB VBN IN DT JJ NN CD . SP',\n",
       " 'DT JJ NN CD MD VB VBN TO VB DT NN CD -LRB- VBP NNP CD -RRB- IN DT NN NN CD CC DT NN CC NN CD IN DT JJ NN CD , IN WDT DT NN NN CD VBZ VBN , RB IN TO VB JJ NN -LRB- RB NN -RRB- NN IN DT JJ CD IN DT NN CD .',\n",
       " 'PRP VBZ RB VBN IN DT JJ NN CD MD RB VB VBN IN DT NN CD IN DT NN CC RB IN DT NN NN CD , RB VBG IN JJ NN , NN IN DT NN NN CD IN NN IN DT NN NN CD .',\n",
       " 'RB , IN DT NN WRB DT JJ NN CD VBZ RB VBN IN NN NNS CD IN DT NN NN CD CC DT NN NN CD , DT JJ NN CD NN VBZ RB JJ SYM JJ IN NN TO VB IN VBG NN , NN IN DT NN NN CD IN NN IN DT NN NN CD , IN NN TO VB IN JJ NN IN DT NN CD IN DT NN NN CD -LRB- VBP NNP CD -RRB- , WRB DT NN NN CD VBZ VBN IN DT JJ CD IN DT NN NN CD IN DT JJ NN IN DT JJ NN .',\n",
       " 'RB , DT NN CD VBZ VBN IN DT JJ CD IN DT NN NN CD , JJ IN DT NN CD VBZ NN IN DT NN VBP CD IN VBG DT NN IN DT CD CC JJR NN NNS IN DT JJ NN CD , DT NN CD VBD IN DT NN IN DT NN NN CD VBG VBN IN CD IN DT JJ CC JJ NNS IN DT JJ IN DT JJ CC JJ NNS . SP',\n",
       " 'RB , CC IN NN , DT JJ NN CD MD VB DT NN NN CD IN VBG IN DT NN DT NN IN DT NN NN CD IN DT NN NN CD IN DT JJ NN CD .',\n",
       " 'DT NN NN CD , MD VB DT NN NN , NN , CC VBG JJ IN JJ NN IN DT JJ NN CD CC MD VB DT NN VBG DT NN IN DT NN NN CD IN DT JJ NN CD .',\n",
       " 'RB , DT NN NN CD MD VB NN IN DT NN TO VB VB DT NN NN CD NN IN DT NN CD IN DT NN IN DT NN NN CD , WDT MD VB JJ IN VBG JJ NNS IN DT NN NN CD .',\n",
       " 'NN IN JJ NNS MD VB JJ IN NN IN VBG NN CD NN RB RB IN VBG NN IN DT NN CD -LRB- VB NNP CD -RRB- IN DT JJ NNS CD -LRB- RB NN -RRB- . SP',\n",
       " 'VBG IN NNP CD , VBN VBZ DT NN NN NN CD IN DT JJ NN CD CC JJ NN IN DT NN CD VBD TO VB DT JJ CD IN DT NN CD .',\n",
       " 'DT NN NN CD VBZ DT NN NN CD JJ IN DT NN CD IN DT JJ NN CD IN DT NN NN CD -LRB- NN VB IN DT JJ VBG NN JJ IN DT NN NN , FW . -RRB- CC IN DT JJ NN CD IN DT NN CD -LRB- RB DT VBG NN JJ IN DT NN -RRB- .',\n",
       " 'DT NN NN -RRB- VBP VBN IN VBG DT NN NN CD IN DT JJ SYM JJ NN CD -LRB- RB DT JJ NN IN WDT DT NN NNS CD VBP RB VBN -RRB- .',\n",
       " 'DT NN CD VBZ RB VBN IN DT NN CD -LRB- RB DT NN CD -RRB- .',\n",
       " 'NN IN DT NN NN CD IN DT NN CD IN IN DT JJ CD IN DT NN CD , IN DT NN NN CD , IN DT JJ NN CD VBZ DT NN NN CD -LRB- VBN IN DT NN NN CD -RRB- TO VB NFP VB DT NN CD WRB DT NN NN CD VBZ VBN IN DT JJ NN .',\n",
       " 'NN IN DT NN CD VBZ DT NN VBZ CD , CC RB VBZ DT NN CD -LRB- JJ -RRB- TO VB DT NN VBZ CD .',\n",
       " 'DT NN NNS CD VBP VBN IN DT JJ NN CD IN DT NN CD , WRB VBN IN DT NN CD -LRB- VBP NNP CD -RRB- .',\n",
       " 'DT NN CD CC DT JJ NN CD VBP RB VBN IN DT NN CD IN DT NN CD . SP',\n",
       " 'RB , VBG IN NNP CD , DT NN NN CD MD VB VBN IN DT JJ NN CD IN DT NN NN CD CC DT NN CD MD VB VBN IN DT JJ NN CD .',\n",
       " 'RB , PRP VBZ VBN IN DT NN NN CD CC DT NN CD MD VB VBN IN DT JJ NN IN DT NNS CD , CD CC MD VB VBN JJ IN DT JJ NN IN DT NNS CD , CD , IN VBN . SP',\n",
       " 'PRP VBZ VBN IN DT JJ NN MD VB DT JJ NN CC DT JJ NN MD VB DT JJ NN -LRB- FW IN DT NN -RRB- CC DT JJ NN MD VB DT JJ NN CC DT JJ NN MD VB DT JJ NN -LRB- FW IN DT NN -RRB- , IN VBN .',\n",
       " 'RB , PRP VBZ VBN IN DT NN NN -RRB- MD VB DT NN NN IN CC DT JJ NN CC DT JJ NN , IN VBN . SP',\n",
       " 'VBG IN NNS CD CC CD , DT NN NN CD VBZ DT NN IN NN SYM NN NNS CD , NN , NN IN NN IN DT NN POS NN CD , IN NN TO VB DT NN NN CD .',\n",
       " 'IN NN , DT NN MD : VB NN IN DT NN NN CD TO VB DT NN CD TO VB VBN : VB NN IN DT NN NN CD TO VB DT NN CD TO VB JJ : CC VB NN IN DT NN NN CD TO VB DT NN CD TO VB JJ , IN VBN IN .',\n",
       " 'IN DT NN NN CD VBZ VBN IN DT NN POS NN CD , DT NN NN -RRB- -LRB- NN NN CD CC CD -RRB- VBZ DT NN NN CD RB IN DT JJ SYM JJ NN CD . SP',\n",
       " 'DT NN NN CD VBZ VBN IN IN TO VB IN DT JJ NN NNS CD , NN , NN , RB RB CC IN NN .',\n",
       " 'IN NN , DT NN NN CD IN DT NN CD MD VB JJ IN CD NN -LRB- NNP RB JJ IN . ADD .',\n",
       " 'DT NNS CD IN DT NNS IN DT NN NN CD , WDT VBP JJ IN DT NN NN IN DT NN NN CD , VBP RB JJ IN CD DT -RRB- IN DT NN CD IN DT NN CD CC RB VB , VBP IN IN DT VBN NN SYM NN CD IN DT JJ NN .',\n",
       " 'DT NN NN CD IN DT NN CD MD VB JJ IN CD NN -LRB- NNP RB JJ IN -RRB- IN DT NN CD IN DT NN CD CC RB VB , VBP IN IN DT VBN NN SYM NN CD IN DT JJ NN .',\n",
       " 'DT NN NN NN MD VB VBN IN DT VBN NN SYM NN CD .',\n",
       " 'IN DT NN , DT NN NNS CD , NN VBP VBN IN CD DT IN DT VBN NN SYM NN CD CC PRP$ JJ NNS CD MD VB VBN IN DT JJ NN -LRB- DT NN RBR IN CD CC JJR IN CD -RRB- IN VBN IN DT JJ NNS CD IN DT NN NN CD .',\n",
       " 'PRP VBZ RB VBN IN DT NN NN CD MD VB VBN IN DT NN CD CC DT VBG NN CD IN DT JJ NN CD , JJ IN DT NN CD VBZ VBN TO VB VBN WRB DT IN DT NN NNS CD , NN , NN VBP JJ . SP',\n",
       " 'RB , PRP VBZ VBN IN CD CC JJR IN DT NN NNS CD , NN , NN MD VB VBN IN DT CD NN IN DT NN POS NN CD -LRB- RB CD NN MD VB DT NN NN CD , CD NN MD VB DT NN NN CD , CD NN MD VB DT NN NN CD , CD NN MD VB DT NN NN CD RB IN DT NN VBG DT NN NN CD , CD NN MD VB DT NN NN CD RB IN DT NN VBG DT NN NN CD , CD NN MD VB DT NN NN CD RB IN DT NN VBG DT NN NN CD , CC CD NN MD VB DT NN NN CD RB IN DT NN VBG DT NN NN CD RB IN DT NN VBG DT NN NN CD -RRB- . SP',\n",
       " 'PRP VBZ VBN IN DT NN IN DT VBN NN CD CC DT NNS CD IN DT NN NN CD IN DT NN NN CD MD VB IN VBN IN RB RB IN IN JJ NNS .',\n",
       " 'DT CD NN VBN VBZ WRB DT JJ JJ NN CD CC DT JJ JJ NN CD IN DT NN NN CD VBP VBN JJ IN DT JJ JJ NN CD NNS IN CD NN IN DT NN NN CD IN DT VBN NN CD CC DT JJ JJ NN CD NNS IN DT JJ NN IN DT NN NN CD IN DT VBN NN CD , JJ IN DT VBN NN CD VBZ VBN IN DT NNS IN DT NN NN CD .',\n",
       " 'DT NN VBZ WRB DT JJ NN VBZ IN CD NN IN DT NN NN CD IN DT VBN NN CD VBN IN DT JJ NN IN DT NN NN CD , JJ IN EX VBZ RB IN JJ NN CD IN DT NN NN CD . SP',\n",
       " 'RB , DT JJ NNS CD MD VB JJ CC NN IN NN .',\n",
       " 'IN DT NN IN NN JJ NNS CD , PRP MD VB NN IN VBG DT JJ NN IN NN IN DT CD CC JJR NNS IN DT NN POS NN CD . SP',\n",
       " 'IN NN IN DT JJ , PRP VBZ VBN IN NN IN DT IN DT NN NNS CD , NN , NN , RB RB CC IN NN , VBZ DT JJ NN CD IN DT NN NN CD IN DT NN NN CD CC RB VBZ DT JJ SYM JJ NN VB IN DT NN DT NN DT NN CD VBZ VBN .',\n",
       " 'RB , PRP VBZ VBN IN DT NNS IN DT NN NNS CD , NN MD VB IN VBN -LRB- RB JJ IN DT JJ NN CD IN DT NN CD -RRB- , CC MD VB VBN -LRB- NN IN DT JJ NN -RRB- IN NN IN DT JJ NN CD IN DT NN CD TO RB VB DT NN IN DT NN NN CD IN DT JJ CD , IN VBN . SP JJ NNP SP',\n",
       " 'VBG IN NN CD , RB VBN VBZ DT NN NN CD IN NN IN VBG CD IN DT RB VBN NN CD VBG DT JJ NNS CD , WRB DT NN CD VBZ RB VBN IN DT NN CD .',\n",
       " 'DT NN NN CD MD VB VBN TO WRB DT NN CD VBZ TO VB VBN IN DT NN CD , DT NN NN CD VBZ VBN IN DT NN CD , RB VBG DT JJ NN CD -LRB- CC DT NN CD -RRB- , CC RB VBN IN DT RB VBN NN CD IN DT JJ NN CD IN DT NN CD -LRB- VBP NN CD -RRB- .',\n",
       " 'NN IN DT NN CD IN DT NN CD NNS IN DT NN NN CD TO VB VBN IN DT NN CD CC DT NN CD IN DT NN CD VBZ RB RB VBN IN DT NN CD CC DT NN NN CD VBZ VBN IN DT NN CD .',\n",
       " 'DT NN NN CD VBZ VBN TO VB JJ NN -LRB- RB NN -RRB- NN IN DT NN IN DT NN NN , IN DT NN CD , CC NN IN DT JJ NN CD , WRB DT NN CD VBZ RB VBN SYM VBN IN DT NN CD . SP',\n",
       " 'RB , IN RB VBN IN , DT NN CD VBZ VBN IN NN IN DT NN CD IN DT JJ NN CD , JJ IN DT JJ NN CD VBZ CD CC JJR NN NNS IN VBG IN NN VBZ CD IN DT NN NN CD .',\n",
       " 'DT NN CD VBZ DT NN NN CD VBG DT NN NN CD VBN IN VBG IN DT NN CD IN DT NN IN DT JJ NN CD , DT JJ NN CD IN DT NN NN CD IN VBG IN DT NN CD IN DT JJ NN CD , CC DT JJ NN CD IN DT NN NN CD .',\n",
       " 'DT NN NN CD VBZ VBN IN VBG DT NN IN CD CC JJR NN NNS CC VBZ VBN IN DT NN CD IN DT NN NN CD IN NN IN CD CC JJR NNS IN DT NN POS NN CD .',\n",
       " 'DT NN NN CD VBZ DT NN NN CD VBN IN DT JJ NN IN DT NN NN CD IN DT NN NN CD , DT NN NN -RRB- IN VBG DT NN NN CD IN DT JJ NN , CC DT NN NN CD IN DT NN NN CD VBN IN VBG IN DT CD CC JJR NNS JJ IN DT NN NN CD VBZ DT VBN NN CD IN VBG DT NN IN NN NNS CD , NN , NN IN NN IN DT CD CC JJR NNS IN VBG DT NN CD IN DT NN NN CD IN DT NN NN CD IN NN IN DT JJ NN IN DT JJ NN IN DT JJ CD IN DT NN NN , WRB DT NN IN DT NN NN CD VBZ DT NN IN DT CD CC JJR NN NNS -LRB- RB IN NN IN DT NN CD IN DT NN NN CD .']"
      ]
     },
     "execution_count": 11,
     "metadata": {},
     "output_type": "execute_result"
    }
   ],
   "source": [
    "[\" \".join([w.tag_ for w in sent]) for sent in spacy_doc.sents]"
   ]
  },
  {
   "cell_type": "code",
   "execution_count": 12,
   "metadata": {},
   "outputs": [
    {
     "data": {
      "text/plain": [
       "['DET NOUN ADP DET ADJ NOUN VERB DET NOUN NOUN VERB ADP NOUN ADP DET NOUN PUNCT',\n",
       " 'DET NOUN VERB DET NOUN NOUN VERB DET NOUN NOUN VERB ADP VERB ADP DET NOUN ADP DET NOUN ADP DET ADJ NOUN PUNCT DET ADJ NOUN ADP DET NOUN NOUN ADP NOUN ADP DET NOUN ADP DET ADJ NOUN PUNCT CCONJ DET ADJ NOUN ADP DET NOUN NOUN PUNCT',\n",
       " 'DET NOUN VERB DET NOUN VERB ADP DET NOUN NOUN CCONJ VERB ADP DET NOUN ADP DET NOUN NOUN PUNCT ADJ ADP DET NOUN VERB VERB ADP ADV VERB DET NOUN ADP DET NOUN ADP DET NOUN NOUN PUNCT',\n",
       " 'DET NOUN NOUN NUM VERB DET NOUN ADP VERB NOUN ADP DET NOUN ADP DET NOUN PUNCT',\n",
       " 'DET NOUN VERB ADV ADJ NUM NOUN VERB DET ADJ VERB NOUN PUNCT NOUN NOUN CCONJ NOUN SYM NOUN PUNCT VERB ADP VERB DET ADV VERB NOUN PUNCT ADJ VERB NOUN SYM NOUN CCONJ NOUN PUNCT ADP DET NOUN ADP VERB DET ADJ NOUN ADP DET NOUN ADV NOUN ADP DET NOUN PUNCT',\n",
       " 'DET NOUN VERB ADJ ADP DET ADJ NOUN ADP VERB DET NOUN ADP DET ADJ VERB NOUN PUNCT NOUN NOUN CCONJ NOUN SYM NOUN PUNCT ADP DET NOUN VERB NOUN PUNCT ADJ VERB NOUN SYM NOUN CCONJ NOUN PUNCT PUNCT SPACE',\n",
       " 'DET NOUN VERB ADP DET NOUN NOUN NOUN ADP DET NOUN ADP DET ADJ NOUN PUNCT SPACE',\n",
       " 'PRON VERB ADV VERB PART VERB DET NOUN ADP VERB NOUN ADJ ADP DET ADJ NOUN ADP NOUN NOUN PUNCT',\n",
       " 'ADV PUNCT ADJ VERB NOUN VERB ADV CCONJ VERB ADP DET ADJ NOUN ADP DET NOUN ADP DET NOUN NOUN PUNCT CCONJ VERB VERB ADP DET NOUN NOUN CCONJ VERB NOUN PUNCT',\n",
       " 'ADP DET NOUN ADP DET ADJ NOUN PUNCT NOUN ADP DET NOUN ADP DET NOUN NOUN VERB ADP ADV ADJ PUNCT VERB ADP DET NOUN ADJ ADP DET NOUN ADP DET NOUN ADP DET NOUN NOUN PUNCT',\n",
       " 'ADP DET NOUN ADP DET ADJ CCONJ ADV ADV VERB NOUN ADP DET NOUN ADP DET NOUN NOUN PUNCT VERB NOUN ADP DET NOUN VERB ADV ADJ ADP ADV VERB DET NOUN PUNCT',\n",
       " 'ADV PUNCT ADJ NOUN NOUN VERB ADV VERB ADP ADJ NOUN PUNCT ADV PUNCT ADP NOUN PUNCT NOUN PUNCT VERB PUNCT ADJ NOUN ADP DET NOUN NOUN PUNCT X PUNCT PUNCT PUNCT',\n",
       " 'ADV PUNCT VERB DET NOUN ADP DET NOUN ADP DET ADJ NOUN PUNCT ADP VERB ADP DET NOUN NOUN ADP DET NOUN ADP DET NOUN CCONJ ADJ NOUN ADP DET NOUN NOUN PUNCT VERB ADJ PUNCT SPACE',\n",
       " 'DET ADJ NOUN ADP ADJ ADJ NOUN NOUN VERB ADJ NOUN ADP DET NOUN ADP VERB ADP DET NOUN NOUN ADP DET NOUN NOUN PUNCT',\n",
       " 'ADV DET NOUN ADP DET NOUN VERB VERB PUNCT ADV ADP DET NOUN PUNCT CCONJ VERB ADP DET ADJ NOUN ADP DET NOUN NOUN CCONJ VERB PUNCT ADV ADV ADP NOUN ADP DET NOUN ADP DET NOUN PUNCT',\n",
       " 'ADV PUNCT DET ADJ NOUN NOUN ADP NOUN VERB VERB ADP NOUN ADP DET NOUN ADP DET NOUN PUNCT NOUN PUNCT ADV VERB PUNCT ADP DET NOUN ADP DET NOUN PUNCT CCONJ NOUN ADP DET NOUN ADP DET ADJ NOUN ADP DET NOUN PUNCT VERB DET VERB VERB ADP DET NOUN ADV VERB DET NOUN NOUN ADP DET ADJ NOUN ADP DET NOUN PUNCT SPACE',\n",
       " 'ADV PUNCT NOUN ADP ADJ NOUN VERB ADV VERB ADV ADJ ADP NOUN ADP ADJ ADJ NOUN VERB ADJ ADJ NOUN PUNCT',\n",
       " 'ADP ADJ PUNCT DET VERB NOUN CCONJ NOUN VERB VERB DET ADJ PUNCT ADJ PUNCT ADJ NOUN NOUN PUNCT ADJ VERB PART VERB ADJ VERB NOUN ADJ PART VERB PUNCT VERB ADJ NOUN VERB ADP DET NOUN ADP DET NOUN PUNCT PUNCT SPACE',\n",
       " 'PRON VERB DET NOUN ADP DET ADJ NOUN PART VERB DET NOUN ADP DET ADJ NOUN PART VERB CCONJ VERB ADP ADJ DET ADP DET ADJ PUNCT VERB NOUN PUNCT SPACE',\n",
       " 'ADV DET NOUN ADP DET NOUN VERB VERB PUNCT ADV ADP DET NOUN PUNCT CCONJ VERB ADP DET ADJ NOUN ADP DET NOUN NOUN CCONJ VERB PUNCT ADV ADV ADP NOUN ADP DET NOUN ADP DET NOUN PUNCT',\n",
       " 'ADV PUNCT DET ADJ NOUN NOUN ADP NOUN VERB VERB ADP NOUN ADP DET NOUN ADP DET NOUN PUNCT NOUN PUNCT ADV VERB PUNCT ADP DET NOUN ADP DET NOUN PUNCT CCONJ NOUN ADP DET NOUN ADP DET ADJ NOUN ADP DET NOUN PUNCT VERB DET VERB VERB ADP DET NOUN ADV VERB DET NOUN NOUN ADP DET ADJ NOUN ADP DET NOUN PUNCT',\n",
       " 'ADJ ADP ADJ NOUN ADV VERB VERB DET NOUN ADP DET ADJ NOUN VERB DET NOUN NOUN VERB ADP NOUN ADP DET NOUN PUNCT',\n",
       " 'DET NOUN VERB DET NOUN NOUN VERB DET NOUN NOUN VERB ADP VERB ADP DET NOUN ADP DET NOUN ADP DET ADJ NOUN PUNCT DET ADJ NOUN ADP DET NOUN NOUN ADP NOUN ADP DET NOUN ADP DET ADJ NOUN PUNCT CCONJ DET ADJ NOUN ADP DET NOUN NOUN PUNCT',\n",
       " 'DET NOUN VERB DET NOUN VERB ADP DET NOUN NOUN CCONJ VERB ADP DET NOUN ADP DET NOUN NOUN PUNCT ADJ ADP DET NOUN VERB VERB ADP ADV VERB DET NOUN ADP DET NOUN ADP DET NOUN NOUN PUNCT',\n",
       " 'DET NOUN NOUN NUM VERB DET NOUN ADP VERB NOUN ADP DET NOUN ADP DET NOUN PUNCT',\n",
       " 'DET NOUN VERB ADV ADJ NUM NOUN VERB DET ADJ VERB NOUN PUNCT NOUN NOUN CCONJ NOUN SYM NOUN PUNCT VERB ADP VERB DET ADV VERB NOUN PUNCT ADJ VERB NOUN SYM NOUN CCONJ NOUN PUNCT ADP DET NOUN ADP VERB DET ADJ NOUN ADP DET NOUN ADV NOUN ADP DET NOUN PUNCT',\n",
       " 'DET NOUN VERB ADJ ADP DET ADJ NOUN ADP VERB DET NOUN ADP DET ADJ VERB NOUN PUNCT NOUN NOUN CCONJ NOUN SYM NOUN PUNCT ADP DET NOUN VERB NOUN PUNCT ADJ VERB NOUN SYM NOUN CCONJ NOUN PUNCT PUNCT SPACE',\n",
       " 'DET ADJ NOUN VERB DET NOUN ADP DET ADJ NOUN VERB DET NOUN NOUN VERB ADP NOUN ADP DET NOUN PUNCT DET NOUN VERB PUNCT DET NOUN NOUN VERB DET NOUN NOUN VERB ADP VERB ADP DET NOUN ADP DET NOUN ADP DET ADJ NOUN PUNCT DET ADJ NOUN ADP DET NOUN NOUN ADP NOUN ADP DET NOUN ADP DET ADJ NOUN PUNCT CCONJ DET ADJ NOUN ADP DET NOUN NOUN PUNCT DET NOUN VERB ADP DET NOUN NOUN CCONJ VERB ADP DET NOUN ADP DET NOUN NOUN PUNCT DET NOUN VERB ADP ADV VERB DET NOUN ADP DET NOUN ADP DET NOUN NOUN PUNCT DET NOUN NOUN VERB DET NOUN ADP VERB NOUN ADP DET NOUN ADP DET NOUN PUNCT CCONJ ADP ADV NUM NOUN ADP DET NOUN VERB DET ADJ VERB NOUN VERB ADP VERB DET ADV VERB NOUN ADP DET NOUN ADP VERB DET ADJ NOUN ADP DET NOUN ADV NOUN ADP DET NOUN PUNCT DET NOUN VERB ADP DET ADJ NOUN ADP VERB DET NOUN ADP DET ADJ VERB NOUN ADP DET NOUN VERB NOUN PUNCT SPACE',\n",
       " 'ADJ NOUN ADP DET NOUN VERB ADV VERB VERB ADP NOUN ADP DET VERB NOUN PUNCT ADP NOUN ADP NOUN ADV PUNCT ADP ADJ PUNCT SPACE NOUN NUM VERB DET NOUN NOUN ADP NOUN ADP DET ADJ NOUN ADP NOUN ADP DET NOUN NOUN PUNCT SPACE NOUN NUM VERB DET ADJ NOUN ADP DET ADJ NOUN ADP PROPN NUM PUNCT SPACE NOUN NUM VERB DET ADJ NOUN NOUN ADP DET NOUN ADP DET NOUN ADP PROPN NUM PUNCT SPACE NOUN NUM VERB DET NOUN VERB NOUN ADP DET NOUN ADP DET NOUN ADP NOUN NUM PUNCT SPACE NOUN VERB DET ADJ NOUN NOUN ADP DET NOUN ADP NOUN NUM PUNCT SPACE NOUN VERB DET NOUN NOUN ADP DET NOUN ADP NOUN NUM PUNCT SPACE NOUN NOUN VERB DET NOUN NOUN NOUN NOUN NOUN PUNCT DET NOUN ADP NOUN NUM ADP DET ADJ NOUN ADP DET NOUN CCONJ DET NOUN ADP PROPN NUM PUNCT SPACE NOUN NOUN VERB DET ADJ NOUN ADP DET NOUN NOUN ADP PROPN NUM PUNCT SPACE NOUN NUM VERB DET ADJ NOUN ADP DET NOUN NOUN ADP PROPN PROPN CCONJ NUM PUNCT SPACE NOUN NUM VERB DET NOUN VERB NOUN NOUN ADP DET NOUN ADP NOUN NUM PUNCT SPACE NOUN NOUN VERB DET NOUN NOUN ADP DET NOUN NOUN ADP NOUN NUM PUNCT SPACE NOUN NOUN VERB DET NOUN NOUN ADP DET NOUN ADP NOUN NUM PUNCT SPACE NOUN NOUN VERB DET ADJ NOUN NOUN NOUN PUNCT NOUN ADP DET NOUN ADP NOUN NUM PUNCT SPACE NOUN NOUN VERB DET ADJ NOUN ADP DET NOUN ADP PROPN NUM PUNCT SPACE NOUN NOUN VERB DET ADJ NOUN ADP DET NOUN ADP NOUN NUM PUNCT SPACE NOUN NOUN VERB DET ADJ NOUN ADP DET NOUN ADP PROPN NUM PUNCT SPACE NOUN NUM VERB DET NOUN ADP DET NOUN NOUN ADP NOUN NUM PUNCT SPACE NOUN NUM VERB DET ADJ NOUN ADP DET NOUN NOUN ADP NOUN NUM PUNCT SPACE NOUN NUM VERB DET ADJ NOUN ADP DET NOUN ADP PROPN NUM PUNCT SPACE NOUN NUM VERB DET NOUN NOUN NOUN ADP DET NOUN ADP NOUN NUM PUNCT SPACE NOUN NUM VERB DET ADJ NOUN ADP DET NOUN NOUN ADP PROPN NUM PUNCT SPACE NOUN NUM VERB DET ADJ NOUN ADP DET NOUN NOUN ADP PROPN NUM PUNCT SPACE NOUN NUM VERB DET ADJ ADJ NOUN NOUN ADP DET ADJ NOUN ADP PROPN NUM PUNCT CCONJ SPACE NOUN NUM VERB DET ADJ ADJ ADJ NOUN ADP DET ADJ NOUN ADP NOUN NUM PUNCT SPACE',\n",
       " 'VERB PART PROPN NUM PUNCT VERB VERB DET ADJ NOUN NUM ADP VERB NOUN CCONJ NOUN NOUN PUNCT CCONJ NOUN PUNCT ADP NOUN NOUN SYM NOUN NUM CCONJ NOUN NOUN SYM NOUN PUNCT ADP NOUN ADP ADJ NOUN NUM ADP NOUN PUNCT X NOUN PUNCT VERB NUM PUNCT NOUN NOUN NOUN CCONJ PROPN NOUN PUNCT ADJ ADP NUM CCONJ ADJ NOUN NOUN NUM PUNCT ADV ADJ PUNCT ADJ PUNCT NOUN NOUN PUNCT PUNCT',\n",
       " 'PRON VERB VERB ADP DET NOUN VERB NUM VERB VERB VERB ADP NOUN ADJ VERB VERB VERB ADP NUM NOUN ADP DET ADP DET NOUN NOUN NUM PUNCT',\n",
       " 'NOUN ADP DET NOUN NUM VERB VERB ADJ ADP CCONJ ADV ADJ ADP PUNCT ADJ NOUN NOUN CCONJ NOUN ADP ADJ NOUN NOUN PUNCT NOUN NOUN PUNCT CCONJ NOUN PUNCT CCONJ NOUN ADP NOUN NOUN PUNCT NOUN PUNCT NOUN NOUN PUNCT CCONJ NOUN NOUN PUNCT SPACE',\n",
       " 'DET ADJ NOUN NUM VERB VERB DET ADJ NOUN NUM PUNCT VERB ADP DET NOUN ADJ NOUN NUM PUNCT ADP DET NOUN NUM ADP DET NOUN NOUN NUM PUNCT',\n",
       " 'PRON VERB ADV VERB ADP DET NOUN NUM VERB VERB ADV CCONJ ADV ADV VERB PUNCT ADV ADV ADJ PUNCT ADP DET NOUN NUM ADP VERB NOUN ADJ ADP CCONJ ADV ADJ ADP PUNCT NOUN VERB ADP NOUN PUNCT VERB NOUN PUNCT NOUN PUNCT VERB NOUN PUNCT PUNCT NOUN CCONJ ADJ VERB NOUN PUNCT X PUNCT',\n",
       " 'ADV PUNCT PRON VERB VERB ADP DET NOUN NUM VERB VERB VERB PUNCT ADV VERB PUNCT ADP ADJ ADP ADP ADJ DET NOUN ADP DET NOUN NUM PUNCT',\n",
       " 'PRON VERB VERB ADP ADP DET NOUN PUNCT DET NOUN PUNCT NOUN PUNCT CCONJ PUNCT NOUN PUNCT VERB VERB VERB ADV PUNCT SPACE',\n",
       " 'DET NOUN NUM VERB DET NOUN ADP NOUN NUM VERB DET NOUN NOUN NUM PUNCT VERB DET NOUN NUM CCONJ DET NOUN NUM PUNCT ADJ NOUN NOUN PUNCT PUNCT NUM CCONJ ADJ ADJ NOUN NUM PUNCT ADV ADP ADP DET NOUN NUM PUNCT PUNCT CCONJ DET NOUN SYM NOUN NOUN NOUN NUM PUNCT ADV NOUN PUNCT PROPN ADP PROPN CCONJ PROPN PUNCT NOUN PUNCT NOUN ADP DET NOUN NUM PUNCT ADP VERB DET ADJ NOUN NUM PUNCT',\n",
       " 'DET ADJ NOUN NUM ADV VERB DET ADJ NOUN NOUN NUM ADP VERB PART VERB NOUN NOUN ADP DET ADJ NOUN PUNCT NUM PUNCT DET NOUN NOUN NUM PUNCT CCONJ ADV DET NOUN NOUN NUM PUNCT SPACE',\n",
       " 'VERB ADP NOUN NUM PUNCT DET NOUN NUM VERB VERB ADP VERB ADP DET NOUN PUNCT ADV VERB PUNCT ADP DET NOUN ADP DET ADJ NOUN NUM PUNCT DET NOUN NUM ADP DET NOUN NUM VERB DET ADJ NOUN NUM ADP VERB ADP DET NOUN NUM ADP DET NOUN NUM PUNCT DET ADJ NOUN NUM PUNCT CCONJ DET NOUN NOUN NUM ADP DET NOUN NUM ADP VERB ADP DET NOUN ADP DET NOUN PUNCT',\n",
       " 'DET NOUN NOUN NUM VERB ADV VERB DET NOUN NOUN NUM PUNCT ADV VERB ADP DET ADV ADJ NOUN PUNCT NOUN NOUN CCONJ ADJ ADJ NOUN PUNCT PUNCT ADP VERB DET NOUN ADP DET NOUN PART NOUN ADP DET NOUN NUM ADP DET NOUN NUM PUNCT',\n",
       " 'DET ADJ NOUN NUM VERB VERB VERB ADP ADP DET ADJ NOUN VERB ADP DET ADJ NOUN PUNCT X NOUN NUM PUNCT ADJ VERB VERB DET ADV VERB NOUN ADJ VERB VERB ADP DET ADJ NOUN ADP VERB DET ADJ NOUN ADP DET ADV VERB NOUN PUNCT',\n",
       " 'ADP NOUN PUNCT ADP NOUN CCONJ NOUN ADP DET ADJ ADJ NOUN PUNCT X DET NOUN NUM PUNCT DET NOUN VERB VERB ADP DET NOUN ADP DET NUM NOUN NOUN ADP DET PUNCT',\n",
       " 'DET ADJ NOUN NOUN VERB ADJ ADP DET ADJ NOUN NOUN ADP ADP DET NOUN ADP DET ADJ ADJ NOUN VERB VERB CCONJ VERB PART VERB DET VERB NOUN NUM PUNCT',\n",
       " 'DET NOUN PUNCT ADV ADJ NOUN PUNCT ADP DET ADJ ADJ NOUN PUNCT X DET ADJ NUM PUNCT VERB ADV VERB ADP DET ADJ NOUN NOUN NOUN ADP DET VERB NOUN PUNCT X VERB NUM CCONJ ADJ NOUN NUM PUNCT VERB VERB ADP DET ADJ NOUN PUNCT',\n",
       " 'PRON VERB VERB ADP NUM NOUN NOUN ADP DET NOUN NUM VERB ADV DET NOUN NUM VERB VERB ADP DET ADJ SYM ADJ NOUN NOUN PUNCT X ADJ NOUN PUNCT ADP DET NOUN NUM VERB VERB ADP DET ADJ PUNCT ADJ NOUN PUNCT X ADJ NOUN PUNCT PROPN PUNCT NOUN PUNCT ADJ VERB VERB ADP DET NOUN PUNCT NOUN PUNCT X X PUNCT PROPN PUNCT PUNCT NOUN PUNCT NOUN PUNCT NOUN PUNCT PROPN PUNCT PUNCT NOUN PUNCT NOUN PUNCT PUNCT PROPN X PUNCT PUNCT ADP DET NOUN NUM PUNCT ADV VERB DET VERB ADJ PUNCT ADJ PUNCT NOUN PUNCT CCONJ NOUN PUNCT ADJ NOUN NOUN NUM ADP DET NOUN NUM PUNCT',\n",
       " 'PRON VERB VERB ADP ADJ NOUN NOUN VERB VERB VERB PART VERB DET NOUN NUM ADP DET NOUN NUM ADP DET NOUN NUM PUNCT ADP VERB ADP DET NOUN ADJ ADP DET NOUN PUNCT',\n",
       " 'PRON VERB ADV VERB ADP DET NOUN NOUN NUM VERB ADV VERB VERB ADP ADP DET ADJ NOUN ADJ VERB VERB VERB CCONJ ADV VERB ADP DET NOUN NOUN ADP DET NOUN NOUN NUM PUNCT',\n",
       " 'PRON VERB VERB ADP DET NOUN NOUN VERB NUM NOUN NOUN ADP DET NOUN PUNCT VERB ADP DET ADJ NOUN PUNCT X DET NOUN NUM PUNCT ADP DET NOUN NOUN NUM ADP DET NOUN NOUN NUM PUNCT SPACE',\n",
       " 'DET ADJ NOUN NUM VERB VERB VERB ADP DET NOUN NOUN NUM ADP DET NOUN NUM ADP DET NOUN ADP NOUN NUM PUNCT ADV NOUN PUNCT PUNCT VERB NOUN NUM PUNCT ADJ VERB VERB VERB PART VERB VERB DET ADJ NOUN NUM ADP DET NOUN NOUN NUM PUNCT ADP VERB PUNCT SPACE',\n",
       " 'DET NOUN NUM ADV VERB DET NOUN NOUN NUM PUNCT VERB ADP ADJ NOUN ADP DET NOUN NOUN NUM PUNCT PUNCT',\n",
       " 'DET NOUN NOUN NUM VERB VERB DET VERB NOUN NUM PUNCT ADP VERB NOUN NOUN ADP DET NOUN NOUN NUM ADP DET NOUN NUM PUNCT',\n",
       " 'ADV PUNCT CCONJ ADP NOUN PUNCT DET NOUN NUM VERB VERB DET NOUN NOUN NUM ADP VERB ADP DET NOUN DET NOUN ADP DET NOUN NOUN NUM ADP DET NOUN NOUN NUM ADP DET NOUN NUM PUNCT',\n",
       " 'DET NOUN NOUN NUM PUNCT VERB VERB DET NOUN NOUN PUNCT NOUN PUNCT CCONJ VERB ADJ ADP ADJ NOUN ADP DET NOUN NUM PUNCT SPACE',\n",
       " 'VERB ADP NOUN NUM CCONJ NUM PUNCT DET ADJ NOUN NUM ADP DET NOUN NUM VERB DET ADJ NOUN NUM VERB ADP NOUN ADP DET ADJ NOUN NUM ADP DET NOUN NUM ADP DET NOUN NUM PUNCT ADJ ADP DET NOUN NOUN NUM ADP DET ADJ NOUN NUM VERB VERB VERB PART VERB DET NOUN PUNCT ADV VERB NOUN NUM PUNCT ADP DET NOUN NUM VERB DET NOUN NOUN NUM PUNCT VERB PROPN NUM PUNCT PUNCT',\n",
       " 'VERB DET NOUN ADP DET ADJ NOUN NUM ADP DET ADJ NOUN NUM VERB VERB ADP DET NOUN NUM PUNCT ADP ADV VERB ADP PUNCT SPACE',\n",
       " 'NOUN NUM NOUN SPACE',\n",
       " 'VERB ADP NOUN NUM PUNCT DET NOUN NUM VERB VERB ADP VERB ADP DET NOUN NUM PUNCT VERB PROPN NUM PUNCT ADP DET NOUN ADP DET ADJ NOUN NUM PUNCT',\n",
       " 'DET NOUN NUM VERB VERB ADP DET NOUN NUM ADP DET NOUN NUM PUNCT ADJ VERB CCONJ DET ADJ NOUN NUM ADP VERB DET NOUN NUM ADV ADV VERB ADP DET NOUN NUM PUNCT ADV NOUN PUNCT CCONJ DET NOUN VERB NUM ADP VERB NOUN PUNCT X NOUN SYM NOUN NOUN NUM PUNCT ADP DET NOUN NOUN NUM PUNCT ADV NOUN PUNCT ADP DET NOUN NUM CCONJ NUM CCONJ ADJ NOUN NUM ADP DET NOUN NUM PUNCT SPACE',\n",
       " 'NOUN VERB NUM SPACE',\n",
       " 'ADV PUNCT ADP NOUN PUNCT DET NOUN VERB NUM VERB VERB VERB PART VERB DET ADJ NOUN NUM PUNCT ADV VERB NOUN NOUN PUNCT NOUN PUNCT NOUN ADJ ADP ADV ADJ NOUN PUNCT VERB ADP NUM CCONJ ADJ NOUN NUM ADP DET NOUN NUM CCONJ DET VERB ADJ NOUN NUM PUNCT NOUN NOUN NOUN PUNCT VERB ADP DET NOUN NOUN NUM PUNCT ADP ADV VERB ADP PUNCT',\n",
       " 'DET ADJ NOUN NUM VERB VERB PART VERB DET ADJ ADJ ADJ NOUN ADP DET NOUN NOUN NUM CCONJ NUM CCONJ ADJ NOUN NUM ADP DET NOUN NUM ADP DET ADJ NOUN NUM PUNCT',\n",
       " 'PRON VERB VERB ADP DET NOUN PROPN VERB VERB DET ADV ADJ NOUN PUNCT CCONJ DET NOUN PROPN VERB VERB DET NOUN NOUN PUNCT ADP VERB PUNCT SPACE',\n",
       " 'ADP NOUN PUNCT DET NOUN NOUN VERB VERB DET NOUN ADP DET NOUN NOUN VERB NUM NOUN PUNCT VERB NOUN PUNCT ADJ ADP ADV VERB ADP NUM ADJ NOUN PUNCT NOUN ADP DET NOUN NUM ADP DET ADJ NOUN NUM CCONJ DET NOUN NOUN NUM PUNCT PUNCT VERB ADP DET NOUN ADP DET NOUN NOUN VERB ADJ ADJ NOUN ADP DET NUM ADJ NOUN CCONJ ADV VERB PRON ADV PUNCT',\n",
       " 'PRON VERB VERB ADP DET NOUN NOUN NUM VERB VERB ADP VERB DET NOUN ADP NUM CCONJ ADJ ADP DET NOUN NUM ADP DET NOUN NUM ADP DET NOUN SYM NOUN NOUN NUM VERB ADP ADJ NOUN PUNCT ADV VERB ADP DET NOUN PUNCT ADP NOUN ADP DET NOUN NOUN NUM PUNCT',\n",
       " 'ADV PUNCT DET ADJ NOUN NUM PUNCT ADV VERB ADP ADJ NOUN ADJ ADP CCONJ ADV VERB ADP NOUN CCONJ ADJ ADJ NOUN PUNCT VERB VERB VERB ADP DET NOUN ADP DET NOUN PUNCT NUM PUNCT NOUN PUNCT NOUN VERB NOUN NUM PUNCT ADP NOUN ADP DET NOUN VERB NUM PUNCT ADP NOUN PART VERB DET NOUN ADP NOUN CCONJ ADJ ADJ NOUN ADP DET NOUN NUM PUNCT CCONJ ADV DET NOUN NUM VERB VERB ADP DET NOUN NUM ADP DET ADJ NOUN NUM PUNCT SPACE',\n",
       " 'ADV PUNCT PRON VERB VERB ADP DET NOUN ADP DET ADJ NOUN NOUN ADP DET ADJ NOUN NUM PUNCT X DET NOUN VERB NUM PUNCT VERB VERB DET VERB NOUN NUM ADP VERB DET NOUN NOUN ADP DET NOUN NUM PUNCT CCONJ ADV DET ADJ NOUN NUM VERB VERB PUNCT',\n",
       " 'NUM NOUN ADP DET VERB NOUN NUM VERB DET NOUN ADP DET NOUN NOUN PUNCT',\n",
       " 'DET NOUN ADP DET VERB NOUN NUM VERB DET ADJ NOUN VERB ADP DET NOUN ADP ADV ADV NUM ADP DET NOUN NUM PUNCT PUNCT PUNCT ADV VERB DET NOUN NUM PUNCT CCONJ ADP NOUN DET ADV PRON VERB VERB ADP NOUN ADP NOUN DET ADP NOUN ADP DET ADJ NOUN NUM PUNCT',\n",
       " 'ADP DET NOUN PUNCT ADP ADP DET ADJ NOUN ADP DET NOUN NUM PUNCT NOUN ADP NOUN ADP NUM DET PUNCT PRON VERB VERB ADP NOUN ADP DET NOUN VERB NUM VERB VERB ADP ADP ADV PART VERB PUNCT VERB ADP DET NOUN PUNCT PROPN NOUN CCONJ VERB PUNCT ADP DET ADJ NOUN NUM PUNCT',\n",
       " 'PRON VERB ADV VERB ADP DET VERB NOUN NOUN VERB VERB VERB ADP DET NOUN NUM PUNCT ADP DET NOUN NUM CCONJ ADP DET ADP DET NOUN NUM PUNCT PUNCT PUNCT ADP VERB PUNCT SPACE',\n",
       " 'PROPN PROPN NUM SPACE',\n",
       " 'ADP NOUN PUNCT DET ADJ NOUN NUM VERB VERB VERB PART VERB NUM CCONJ ADJ NOUN NOUN CCONJ VERB NOUN NUM PUNCT ADP NOUN NUM PUNCT CCONJ NUM CCONJ ADJ NOUN NOUN PUNCT ADP NOUN NUM PUNCT CCONJ VERB NOUN NOUN ADP VERB NOUN NUM ADP DET ADJ NOUN NUM PUNCT ADP ADV VERB ADP PUNCT',\n",
       " 'PRON VERB VERB ADP DET NOUN PROPN VERB VERB VERB ADP DET NOUN NUM CCONJ DET NOUN NUM VERB ADP DET NOUN NUM ADP VERB PUNCT DET NOUN PROPN VERB VERB VERB ADP DET NOUN NUM CCONJ DET NOUN NUM VERB ADP DET NOUN NUM PUNCT ADV VERB PUNCT PUNCT CCONJ DET NOUN ADV PUNCT',\n",
       " 'ADV PUNCT DET NOUN PUNCT NOUN VERB VERB VERB ADP DET NOUN NUM CCONJ DET ADJ NOUN PUNCT NUM ADP DET NOUN NUM PUNCT ADP VERB PUNCT PUNCT DET NOUN PUNCT NOUN VERB VERB VERB ADP DET NOUN NUM CCONJ DET ADJ NOUN PUNCT NUM ADP DET NOUN NUM PUNCT ADV VERB PUNCT PUNCT CCONJ DET NOUN ADV PUNCT SPACE',\n",
       " 'VERB PART NOUN NUM PUNCT DET ADJ NOUN NUM VERB VERB ADP ADP PART VERB NOUN ADP DET ADJ NOUN NUM ADP DET NOUN NUM ADP DET NOUN ADP ADJ NOUN CCONJ VERB NOUN PUNCT NOUN NOUN CCONJ NOUN PUNCT X PUNCT PUNCT PUNCT',\n",
       " 'ADV PUNCT DET ADJ NOUN NUM VERB VERB ADP ADP PART VERB ADJ ADP DET ADJ NOUN NOUN ADP DET ADJ NOUN NUM PUNCT ADP VERB DET NOUN ADP DET NOUN NUM ADP DET NOUN NUM PUNCT ADV VERB PUNCT ADP ADV VERB ADP DET NOUN ADP NOUN ADP DET NOUN PUNCT NUM PUNCT',\n",
       " 'ADP NOUN PART VERB DET NOUN NUM ADP DET NOUN NUM PUNCT DET NOUN PROPN VERB VERB VERB SYM VERB NUM ADP DET NOUN NUM PUNCT VERB ADP NOUN ADP DET NOUN NUM PUNCT VERB NOUN NUM PUNCT X CCONJ NOUN PUNCT PUNCT PUNCT ADP DET ADJ NOUN NUM PUNCT NOUN ADP DET NOUN NUM PUNCT ADJ VERB ADJ ADP DET NOUN NUM PUNCT PUNCT CCONJ ADV DET NOUN NUM VERB VERB VERB NUM ADP DET ADJ NOUN NUM CCONJ NOUN NUM ADP DET NOUN NUM ADV ADP PART VERB DET NOUN PUNCT PUNCT ADP DET VERB NOUN NOUN PUNCT VERB ADP NOUN ADP DET NOUN NUM ADP DET ADJ NOUN NUM ADJ VERB ADJ ADP DET NOUN NUM PUNCT PUNCT SPACE',\n",
       " 'ADV VERB PUNCT DET ADJ ADJ NOUN NUM ADP DET ADJ NOUN NUM VERB VERB ADJ ADP DET ADJ ADJ NOUN NUM ADP DET NOUN NUM PUNCT VERB NOUN NUM CCONJ NUM PUNCT PUNCT',\n",
       " 'DET NOUN ADP DET NOUN PUNCT PUNCT ADP DET NOUN PUNCT NUM ADV VERB DET NOUN ADP DET ADJ NOUN NUM PUNCT NOUN ADP NOUN PART VERB CCONJ ADV VERB DET NOUN VERB NUM PUNCT',\n",
       " 'PRON VERB VERB ADP DET NOUN NUM CCONJ DET NOUN NUM NOUN SYM VERB ADV ADP DET NOUN NUM ADP DET NOUN PUNCT ADV VERB NOUN PUNCT CCONJ DET NOUN NUM CCONJ DET NOUN NUM',\n",
       " 'NOUN SYM VERB ADV ADP DET NOUN NUM ADP DET NOUN NUM PUNCT ADV VERB NOUN PUNCT SPACE',\n",
       " 'VERB ADP NOUN NUM PUNCT X CCONJ NOUN PUNCT PUNCT PUNCT DET NOUN PROPN VERB DET NOUN NUM PUNCT DET NOUN ADV PUNCT CCONJ ADV ADV PUNCT ADP DET NOUN NUM NOUN NUM PUNCT ADP DET NOUN NUM VERB ADP VERB NUM PUNCT VERB NOUN NUM PUNCT ADP DET NOUN NUM PUNCT VERB PROPN NUM PUNCT PUNCT',\n",
       " 'DET NOUN NUM VERB VERB ADP DET NOUN NUM ADP DET NOUN NUM ADP DET NOUN NUM ADJ VERB DET ADJ NOUN NUM PUNCT ADV ADP DET NOUN NUM ADP DET NOUN NUM PUNCT ADP DET NOUN NUM PUNCT',\n",
       " 'ADP NOUN PUNCT DET ADJ NOUN NUM VERB VERB VERB ADP ADV VERB ADP DET NOUN ADP DET NOUN NUM ADP DET VERB NUM ADP DET NOUN NUM CCONJ DET NOUN NUM ADP DET NOUN NUM ADP DET NOUN NUM PUNCT',\n",
       " 'DET NOUN ADP DET ADJ NOUN NUM VERB DET NOUN NUM ADP DET NOUN NUM CCONJ NOUN NUM VERB ADP DET NOUN NUM CCONJ DET NOUN NUM PUNCT VERB PROPN NUM PUNCT',\n",
       " 'DET NOUN ADP DET NOUN NOUN NUM PUNCT ADV VERB ADP PUNCT VERB NOUN NUM ADP DET NOUN NUM PUNCT ADP DET NOUN NUM ADP DET NOUN NUM CCONJ DET NOUN NUM PUNCT ADP NOUN NUM ADP DET NOUN NOUN ADP DET VERB NOUN NOUN PUNCT',\n",
       " 'PRON VERB VERB ADP ADJ ADJ NOUN NUM NOUN VERB VERB VERB ADP DET NOUN NOUN PUNCT ADP ADJ ADP NUM ADJ ADP DET NOUN PUNCT SPACE',\n",
       " 'DET NOUN NUM ADP DET NOUN NUM ADP DET NOUN NUM ADP DET NOUN NUM ADP DET NOUN NOUN NUM VERB VERB VERB ADP NOUN CCONJ NOUN NOUN ADP NOUN ADP NUM DET ADV ADP PART VERB DET NOUN ADP DET NOUN ADP NOUN ADP DET ADJ NOUN NUM PUNCT',\n",
       " 'ADP NOUN PUNCT DET NOUN ADP DET NOUN ADP DET NOUN ADJ ADP DET NOUN NUM VERB VERB DET NOUN ADP NOUN ADP DET ADJ NOUN PUNCT',\n",
       " 'ADV PUNCT DET NOUN NUM VERB VERB NOUN ADP NOUN ADP ADJ NOUN PUNCT SPACE',\n",
       " 'VERB ADV ADP PROPN NOUN PUNCT PUNCT PUNCT DET ADJ NOUN NUM VERB VERB ADP VERB DET NOUN NUM ADP DET ADJ NOUN NUM PUNCT VERB PROPN NUM ADP NOUN PUNCT ADP VERB ADP DET ADJ NOUN NUM PUNCT VERB PROPN NUM ADP NOUN PUNCT PUNCT ADV NOUN ADP DET NOUN NUM ADP DET NOUN NOUN NUM ADP DET ADJ NOUN NUM VERB NOUN NUM ADP DET NOUN NUM ADP DET NOUN NOUN ADP NOUN ADP DET NOUN PROPN ADV ADP DET NOUN NOUN NUM ADP DET ADJ NOUN NUM VERB DET NOUN ADP DET NOUN NUM ADP DET NOUN NUM ADP DET NOUN ADP DET NOUN NUM CCONJ DET NOUN NOUN NUM ADP DET NOUN NOUN PUNCT ADV VERB NUM CCONJ ADP VERB NUM PUNCT',\n",
       " 'ADP NOUN PUNCT PROPN NOUN VERB DET NOUN ADP DET NOUN NUM ADP DET ADJ NOUN NUM CCONJ ADJ SYM ADJ ADP DET NOUN NUM PUNCT ADP NOUN NOUN VERB DET NOUN ADP DET NOUN NUM ADP DET ADJ NOUN NUM PUNCT ADP DET NOUN NOUN NUM PUNCT CCONJ ADJ SYM VERB ADP DET NOUN NUM PUNCT SPACE',\n",
       " 'ADJ NOUN ADP DET NOUN NUM ADP DET NOUN NOUN ADP NOUN NUM ADP DET NOUN PROPN ADV ADP DET NOUN NOUN NUM CCONJ ADV NOUN VERB ADP DET NOUN NUM ADP DET NOUN ADP DET NOUN NOUN PUNCT ADV VERB ADP DET NOUN ADJ NOUN NUM ADP DET NOUN NUM ADP DET NOUN NUM PUNCT ADP DET NOUN NOUN VERB ADV VERB NUM ADP DET ADJ NOUN NUM CCONJ DET NOUN NUM VERB VERB NUM ADP DET NOUN NOUN PART VERB ADP NOUN ADP DET NOUN NUM ADP DET NOUN NUM PUNCT NOUN ADJ ADP DET NOUN NUM ADP DET NOUN NUM VERB VERB ADP DET ADJ NOUN ADP DET NOUN NUM PUNCT ADV VERB DET NOUN ADP DET ADJ NOUN NUM ADV ADP DET ADJ NOUN NUM PUNCT SPACE',\n",
       " 'ADP NOUN ADP DET ADJ PUNCT PRON VERB VERB ADP DET ADJ NOUN NOUN ADP DET NOUN NOUN ADP DET NOUN NOUN VERB VERB VERB ADP DET NOUN NOUN VERB VERB ADP DET NOUN NUM PUNCT NOUN DET NOUN NUM VERB VERB ADP DET NOUN NUM NOUN NUM PUNCT CCONJ ADP VERB ADJ ADP DET NOUN NUM VERB VERB ADP DET NOUN NUM PUNCT',\n",
       " 'ADV ADV PUNCT PRON VERB VERB ADP DET NOUN PUNCT PRON VERB VERB ADP DET NOUN ADP DET NOUN NUM CCONJ DET NOUN PUNCT PRON VERB VERB ADP DET NOUN ADP DET NOUN PUNCT NUM PUNCT ADP VERB PUNCT',\n",
       " 'ADP NOUN PUNCT DET NOUN NOUN VERB VERB ADP DET NOUN ADP DET NOUN NOUN NUM ADP DET ADJ NOUN NUM PUNCT ADV ADP PART VERB ADP DET ADJ NOUN NOUN ADP DET NOUN ADP DET NOUN ADP DET NOUN NUM NOUN DET NOUN NOUN NUM PUNCT ADV VERB NOUN NUM PUNCT PUNCT',\n",
       " 'ADV PUNCT DET NOUN ADP DET NOUN NUM CCONJ DET NOUN PRON VERB VERB VERB ADJ ADP ADP VERB PUNCT ADV ADP VERB NOUN NUM NOUN NUM PUNCT ADP DET ADJ NOUN NUM ADP VERB ADP VERB VERB NUM ADP DET ADJ NOUN NUM PUNCT SPACE',\n",
       " 'ADV PUNCT VERB VERB DET NOUN NUM ADP DET ADJ NOUN NUM VERB NUM CCONJ ADJ NOUN NOUN ADP VERB ADP NOUN VERB NUM ADP DET NOUN NOUN NUM PUNCT',\n",
       " 'DET NOUN NUM VERB ADV VERB ADP DET NOUN NUM ADP DET ADJ NOUN NUM ADJ ADP ADV VERB PUNCT DET NOUN NUM VERB ADJ NOUN ADP DET ADJ NOUN NUM ADP DET NOUN PUNCT',\n",
       " 'DET NOUN VERB DET NOUN NOUN NUM VERB DET NOUN NOUN NUM VERB ADP VERB ADP DET NOUN ADP DET NOUN ADP DET ADJ NOUN NUM PUNCT DET ADJ NOUN NUM ADP DET NOUN NOUN NUM ADP VERB ADP DET NOUN NUM ADP DET ADJ NOUN NUM ADJ ADP DET ADJ NOUN NUM VERB DET ADJ NOUN NUM ADP VERB ADP DET ADJ NOUN NUM ADP DET NOUN NUM PUNCT CCONJ DET ADJ NOUN NUM ADP DET NOUN NOUN NUM PUNCT',\n",
       " 'DET NOUN ADV VERB DET NOUN NOUN NUM ADP VERB DET NOUN ADP DET NUM CCONJ ADJ NOUN NOUN CCONJ VERB VERB ADP DET NOUN NOUN NUM ADP DET NOUN NOUN NUM PUNCT DET NOUN NOUN NUM ADP VERB ADP DET NOUN VERB NUM PART NUM CCONJ ADJ NOUN NUM ADP DET ADJ NOUN NUM VERB DET NUM CCONJ ADJ NOUN NOUN PUNCT',\n",
       " 'DET NOUN ADV VERB DET ADJ NOUN NOUN NUM VERB ADP DET ADJ NOUN NUM VERB DET ADJ NOUN NOUN VERB ADV ADP DET ADJ NOUN NUM CCONJ VERB ADP VERB ADP DET VERB ADJ NOUN NUM ADP DET ADJ NOUN NUM ADP DET NOUN NUM PUNCT CCONJ ADP ADJ NUM NOUN NOUN VERB ADV ADP DET ADJ NOUN NUM ADP DET NOUN NUM ADP DET ADJ NOUN NUM NOUN PUNCT NOUN VERB PART PUNCT ADP DET ADJ NOUN NUM CCONJ VERB ADP VERB ADP DET VERB ADJ NOUN NOUN ADP DET ADJ NOUN NUM ADP DET NOUN PUNCT ADV DET NOUN VERB NUM VERB VERB ADP DET ADJ NOUN NUM VERB VERB ADP DET ADJ NOUN NUM ADP NOUN ADP DET ADJ NOUN NOUN NUM PUNCT SPACE',\n",
       " 'PRON VERB VERB ADP ADP NOUN ADP DET ADJ PUNCT DET NOUN NOUN NUM VERB VERB PART VERB DET VERB ADJ NOUN NUM ADP DET ADJ NOUN NUM ADP DET NOUN NUM PUNCT',\n",
       " 'ADP NOUN PUNCT DET NOUN NUM VERB VERB DET NOUN ADP DET NOUN NUM PUNCT ADJ ADP NUM ADP DET NOUN ADP DET NOUN NUM VERB VERB ADP DET NOUN ADP DET NOUN NOUN NUM CCONJ DET ADJ NOUN NUM VERB DET ADJ NOUN ADP DET ADJ NOUN NUM VERB ADP DET NOUN ADP DET ADJ NOUN NUM ADP DET NOUN NUM PUNCT',\n",
       " 'ADV PUNCT DET NOUN NUM VERB VERB DET NOUN ADP DET NOUN NUM PUNCT ADJ ADP NUM ADP DET NOUN ADP DET NOUN NUM VERB VERB ADP DET NOUN ADP DET NOUN NOUN NUM CCONJ DET ADJ NOUN NUM VERB DET ADJ NOUN ADP DET NOUN NUM VERB ADP DET NOUN ADP DET ADJ NOUN NUM ADP DET NOUN NUM PUNCT',\n",
       " 'ADV PUNCT DET NOUN NUM VERB VERB NUM NOUN NUM CCONJ NUM NOUN NOUN ADP DET NOUN ADP DET NOUN NOUN NUM CCONJ DET NOUN VERB VERB DET ADJ NOUN ADP NUM NOUN NUM CCONJ NUM NOUN NOUN PUNCT ADP VERB PUNCT',\n",
       " 'ADV PUNCT PRON VERB VERB ADP DET NOUN ADP DET NOUN NOUN NUM VERB VERB DET NOUN NUM ADP VERB ADP DET VERB NOUN NOUN VERB ADP DET VERB NOUN NUM ADP DET NOUN NUM PUNCT',\n",
       " 'ADV PUNCT PRON VERB VERB ADP DET NOUN ADP DET NOUN NOUN NUM VERB VERB DET NOUN NUM ADP VERB ADP DET VERB NOUN NUM VERB ADP DET VERB NOUN NUM ADP DET NOUN NUM PUNCT SPACE',\n",
       " 'PROPN NUM SPACE',\n",
       " 'VERB ADP NOUN NUM CCONJ NUM PUNCT VERB VERB DET NOUN NUM VERB SYM VERB ADP DET ADJ NUM ADP DET NOUN NUM ADP DET NOUN NUM PUNCT VERB ADP NOUN ADV NOUN NUM PUNCT PUNCT ADP NOUN ADP NOUN ADP DET NOUN NOUN NUM PUNCT VERB PROPN NUM PUNCT ADP DET NOUN NUM PUNCT',\n",
       " 'DET NOUN VERB VERB DET ADJ NOUN NUM PUNCT ADV ADJ PUNCT ADP NUM NOUN PUNCT DET ADJ ADJ NOUN NUM PUNCT ADV NOUN PUNCT PUNCT ADJ ADP DET NOUN NOUN CCONJ ADJ ADJ NOUN NOUN PUNCT CCONJ DET ADJ NOUN NUM ADP DET ADJ NOUN ADJ VERB VERB ADP VERB ADP DET NOUN ADP DET ADJ NOUN NUM PUNCT VERB PROPN NUM PUNCT PUNCT',\n",
       " 'DET ADJ NOUN NUM VERB VERB NOUN ADP NOUN CCONJ ADV VERB DET NOUN NUM ADJ VERB VERB ADP DET ADJ NOUN ADP NOUN ADP DET ADJ NOUN NUM ADP DET NOUN NUM PUNCT ADV VERB NOUN ADP DET NOUN NUM ADP DET NOUN NUM ADP NOUN VERB ADP DET NOUN PART NOUN PUNCT CCONJ NOUN PUNCT SPACE',\n",
       " 'DET NOUN NUM VERB VERB ADP DET NOUN NOUN ADP DET NOUN NOUN NUM PUNCT ADJ ADP DET NOUN NUM VERB ADV VERB NOUN PUNCT ADV VERB VERB PART VERB DET NOUN NOUN PUNCT VERB DET NOUN NUM PUNCT ADV ADP DET NOUN PART NOUN PART VERB VERB VERB DET ADJ NOUN ADP DET NOUN PART NOUN ADP DET NOUN NUM PUNCT',\n",
       " 'DET NOUN NUM VERB ADV VERB VERB ADP ADP DET NOUN NUM VERB VERB ADP ADP PART VERB VERB NOUN ADP NOUN ADP DET NOUN NUM PUNCT ADV VERB ADP DET NOUN ADP ADJ NOUN NOUN ADP DET NOUN NUM PUNCT',\n",
       " 'DET NOUN NUM VERB VERB VERB ADP NOUN CCONJ VERB ADP DET NOUN NUM ADP DET NOUN PUNCT',\n",
       " 'NOUN ADP DET NOUN NUM ADP DET ADJ NUM ADP DET NOUN NUM NOUN NOUN ADP NOUN ADP ADV VERB ADP DET ADJ NUM ADP DET NOUN NUM ADP DET NOUN NUM ADP ADJ NOUN ADP DET NOUN ADP DET NOUN NOUN NUM PUNCT VERB PROPN NUM PUNCT PUNCT SPACE',\n",
       " 'VERB ADP NOUN NUM PUNCT PUNCT PUNCT DET ADJ NOUN NUM VERB NUM CCONJ ADJ NOUN CCONJ NOUN NUM VERB ADP VERB NUM CCONJ ADJ NOUN NUM VERB ADP NUM CCONJ ADV ADJ NOUN NUM ADP DET NOUN NUM PUNCT',\n",
       " 'DET NOUN NUM VERB VERB VERB ADV ADP PART VERB ADV ADJ PUNCT ADV ADP PART VERB VERB ADP DET NOUN ADP DET NOUN NUM PUNCT ADV VERB NUM ADP PUNCT VERB PROPN NUM ADV VERB NUM ADP PUNCT DET NOUN NUM VERB ADP DET NOUN NUM ADP DET NOUN NUM PUNCT',\n",
       " 'DET NOUN NUM VERB DET ADJ NOUN SYM ADV NUM ADP VERB DET NOUN NUM ADP DET NOUN PUNCT DET NOUN NUM ADP VERB DET NOUN NOUN NUM PUNCT ADV DET NOUN CCONJ NOUN NUM PUNCT ADP DET ADJ NOUN NUM ADP DET NOUN NUM ADP VERB NOUN ADP DET NOUN NUM ADP DET NOUN NUM PUNCT CCONJ DET ADJ NOUN NUM ADP DET NOUN NUM PUNCT',\n",
       " 'DET ADJ NOUN NUM VERB VERB ADJ CCONJ ADJ PUNCT ADV ADV ADP DET NOUN NUM VERB ADV ADJ ADP NOUN ADP NUM DET PUNCT',\n",
       " 'DET NOUN NUM VERB VERB VERB ADP DET ADJ NOUN NUM ADP DET NOUN NUM PUNCT ADP NOUN ADV PUNCT CCONJ VERB ADP NOUN CCONJ NOUN ADP DET NOUN NUM ADP DET ADJ NUM ADP DET NOUN NUM PUNCT',\n",
       " 'PRON VERB VERB ADP DET NOUN NUM VERB ADV VERB VERB ADP DET NOUN NOUN NUM ADP DET NOUN NUM PUNCT ADP VERB PUNCT SPACE',\n",
       " 'DET NOUN NUM VERB VERB PART ADV ADJ DET NOUN ADP DET NOUN PUNCT ADJ NOUN ADP DET NOUN NOUN ADP DET NOUN NUM CCONJ DET VERB NOUN NUM VERB VERB PART ADV ADJ DET NOUN ADP DET ADJ NOUN ADP DET NOUN NUM ADP DET NOUN NUM PUNCT',\n",
       " 'ADP NOUN PUNCT DET NOUN NUM VERB VERB DET NOUN VERB ADP DET NOUN ADP DET NOUN NUM PUNCT',\n",
       " 'ADV PUNCT DET NOUN NUM VERB VERB VERB ADP ADP NOUN NUM PUNCT',\n",
       " 'DET NOUN NUM ADP DET NOUN NUM VERB VERB DET ADJ NOUN NUM VERB ADP DET ADJ NOUN NUM ADP DET ADJ NOUN NUM PUNCT VERB PROPN NUM ADP NOUN PUNCT CCONJ DET NOUN ADP DET NOUN NUM VERB ADJ ADP DET NOUN ADP DET ADJ NOUN ADP DET NOUN NUM ADV VERB ADP DET ADJ NOUN NUM ADP DET NOUN NUM PUNCT',\n",
       " 'ADP NOUN PUNCT DET NOUN NUM VERB ADV VERB ADP DET ADJ NOUN NUM ADP DET NOUN NOUN NUM CCONJ DET ADJ NOUN NUM VERB VERB PART VERB VERB ADV NUM ADP DET NOUN NOUN ADP DET NOUN NUM ADV VERB ADP DET NOUN NUM PUNCT SPACE',\n",
       " 'VERB ADP NOUN NUM CCONJ NUM PUNCT DET ADJ NOUN NUM VERB VERB ADP VERB DET NOUN NUM ADP DET ADJ NOUN NUM PUNCT ADP VERB ADP DET ADJ NOUN NUM PUNCT VERB NOUN NUM ADP NOUN PUNCT PUNCT ADV VERB DET NOUN NUM ADP DET ADJ NOUN NUM ADP DET ADJ NOUN NUM VERB NOUN NUM ADP DET NOUN NUM ADP DET NOUN CCONJ NOUN NUM PUNCT ADV VERB NUM DET NOUN NUM ADP DET ADJ NOUN NUM ADP DET ADJ NOUN NUM CCONJ ADV ADV ADP DET ADJ NOUN NUM PUNCT',\n",
       " 'NOUN ADP DET NOUN NUM ADP DET ADJ NOUN NUM PUNCT ADV DET NOUN NUM VERB ADJ ADP DET NOUN NUM PUNCT VERB DET NOUN ADP DET NOUN NUM ADP DET NOUN NUM ADP DET NOUN ADP DET NOUN NUM ADP DET NOUN SYM NOUN NUM PUNCT ADP VERB NOUN ADP ADJ NOUN NUM ADP DET NOUN NUM PUNCT SPACE',\n",
       " 'VERB ADP NOUN PROPN PUNCT VERB VERB NOUN NOUN ADP DET NOUN NOUN NOUN PUNCT NOUN ADP DET NOUN NUM PUNCT ADP DET VERB NOUN PUNCT NUM ADP DET ADJ NOUN NUM ADP DET NOUN NUM PUNCT ADJ ADP DET NOUN NOUN NUM ADP DET NOUN NUM VERB VERB PUNCT X NOUN PUNCT ADV ADP PART VERB DET NOUN NOUN NUM ADP DET NOUN NUM ADP NUM CCONJ ADJ NOUN NUM ADP NOUN NOUN NUM PUNCT ADV VERB NOUN ADP DET NOUN NUM CCONJ DET NOUN NUM PUNCT',\n",
       " 'PRON VERB ADV VERB ADP DET NOUN ADP DET ADJ NOUN NUM VERB ADV VERB VERB ADP ADJ NOUN ADP NOUN NUM VERB ADP ADJ NOUN CCONJ NOUN NUM PUNCT ADP NOUN ADP PUNCT ADP NOUN ADP PUNCT CCONJ ADP NOUN ADP DET ADV VERB NOUN NUM PUNCT NUM PUNCT SPACE',\n",
       " 'DET NOUN NUM VERB VERB ADP CCONJ VERB ADV NOUN ADP DET NOUN NUM PUNCT',\n",
       " 'VERB ADP NOUN NUM PUNCT PUNCT PUNCT PRON VERB VERB ADP DET NOUN NUM VERB VERB ADV VERB ADP DET NOUN NUM VERB ADJ NOUN NUM PUNCT ADP VERB PUNCT CCONJ DET NOUN NUM VERB VERB VERB ADP NUM CCONJ ADJ ADP DET NOUN NUM PUNCT VERB VERB VERB ADP DET ADJ CCONJ ADJ PUNCT VERB ADP PROPN NUM PUNCT NOUN ADP DET ADP DET NOUN NUM PUNCT CCONJ VERB VERB ADP VERB ADV ADP DET NOUN NUM PUNCT ADP VERB PUNCT SPACE',\n",
       " 'VERB ADV PART VERB NUM PUNCT VERB VERB DET NOUN NUM VERB ADV ADP DET ADJ NUM PUNCT ADV ADP NOUN NUM PUNCT',\n",
       " 'DET NOUN NUM VERB VERB ADP DET NOUN VERB NOUN NUM PUNCT ADP NOUN ADV PUNCT ADP NUM CCONJ ADJ NOUN NUM VERB ADP DET NOUN NOUN ADP DET ADJ NOUN NUM ADP DET NOUN PUNCT ADV ADV PART VERB ADP DET NUM CCONJ ADJ NOUN NUM ADJ NUM ADP NOUN ADP ADV DET PUNCT X DET NOUN NUM VERB ADJ ADV ADP PART VERB DET NOUN ADJ NOUN ADP NOUN NUM ADV ADP VERB VERB ADP DET NOUN CCONJ NOUN NUM PUNCT',\n",
       " 'ADP DET NOUN NUM VERB NOUN ADP DET NOUN NUM ADP DET NOUN NUM PUNCT NOUN ADP DET ADJ NOUN NUM ADP DET NOUN NUM CCONJ DET NOUN NUM VERB DET ADJ NOUN NUM PART VERB ADP NOUN NOUN PUNCT VERB PROPN NUM PUNCT ADP NOUN ADP NUM DET ADP NOUN PART VERB DET ADJ NOUN NUM VERB VERB ADP DET VERB NOUN NUM ADP DET ADJ NOUN NUM PUNCT',\n",
       " 'ADJ NOUN NUM ADP DET NOUN NUM ADP DET NOUN VERB DET NOUN NUM PART VERB VERB ADP DET NOUN SYM NOUN NUM PUNCT ADV VERB DET NOUN NUM ADP DET ADJ NOUN NUM ADP DET ADJ NOUN NUM PUNCT SPACE',\n",
       " 'ADV PUNCT ADP NOUN PUNCT ADP NOUN ADP DET NOUN NUM VERB ADJ PUNCT X VERB PUNCT ADP DET NOUN NUM PUNCT NOUN NUM VERB DET NOUN ADP DET NOUN NUM ADP DET ADJ NOUN NUM CCONJ DET NOUN VERB ADP DET NOUN NUM PUNCT ADP NOUN ADP DET NOUN NUM ADP DET NOUN SYM NOUN NUM PUNCT',\n",
       " 'NOUN NUM VERB DET NOUN ADP NOUN NOUN ADP DET NOUN NUM PUNCT X ADP DET ADJ NOUN NUM ADP VERB NUM ADV ADP DET NOUN NUM ADP DET ADJ NOUN NUM ADP DET NOUN NUM PUNCT ADP DET NOUN NUM VERB VERB ADP DET NOUN SYM NOUN NUM PUNCT',\n",
       " 'ADJ NOUN NUM ADP DET NOUN NUM ADP DET NOUN NUM VERB DET NOUN NUM PART VERB ADP DET ADJ NOUN NUM ADP VERB ADP NOUN NUM PUNCT ADV VERB DET NOUN NUM ADP DET NOUN NUM ADP DET NOUN NUM ADP ADJ NOUN ADP DET NOUN ADP DET NOUN NOUN NUM PUNCT VERB PROPN NUM PUNCT PUNCT',\n",
       " 'ADV PUNCT VERB ADP PROPN PROPN CCONJ NUM PUNCT DET ADJ NOUN NUM ADP DET NOUN NUM VERB VERB DET NOUN NOUN NUM ADP VERB DET ADJ NOUN NOUN NUM ADP DET NOUN NUM ADP DET NOUN NUM PUNCT ADP VERB PUNCT DET NOUN NOUN NUM ADP VERB DET NOUN ADP NOUN ADP DET NOUN NUM ADP DET NOUN NUM PUNCT SPACE',\n",
       " 'VERB PART VERB NUM PUNCT PRON VERB ADV VERB ADP NUM ADP DET NOUN NUM VERB VERB VERB PUNCT X ADJ PUNCT ADP NOUN ADJ ADP NUM CCONJ ADV ADJ ADJ NOUN NUM PUNCT ADJ ADP NOUN NUM ADP DET ADJ NOUN PUNCT NUM VERB ADP DET NOUN ADP DET NOUN NOUN ADP DET NOUN NUM PUNCT ADV VERB DET NOUN ADP DET NOUN NUM ADP DET NOUN SYM NOUN NUM PUNCT',\n",
       " 'PRON VERB ADV VERB ADP DET NOUN NUM ADP DET NOUN NUM VERB VERB VERB PART VERB ADV NUM ADJ NOUN NUM ADJ VERB VERB ADP NOUN ADP DET NOUN NUM ADP DET NOUN NUM PUNCT ADV VERB DET NOUN ADP DET NOUN NUM ADP DET NUM NOUN NUM CCONJ DET NOUN NUM PUNCT CCONJ ADJ ADJ ADJ NOUN NUM ADP DET NOUN NUM PUNCT PUNCT',\n",
       " 'PRON VERB ADV VERB ADP DET NOUN SYM NOUN NUM VERB VERB VERB ADP DET PROPN PUNCT NUM CCONJ DET NOUN NUM VERB VERB VERB ADP DET ADJ NOUN ADP DET NOUN NUM PUNCT ADV ADV ADP DET NOUN NUM VERB VERB VERB ADP DET ADJ NOUN NUM ADP DET NOUN NUM PUNCT',\n",
       " 'PRON VERB ADV VERB ADP DET NOUN NUM ADV VERB ADP NOUN ADP DET NOUN ADP DET NOUN NUM VERB DET ADJ NOUN PUNCT ADV VERB PUNCT ADP DET ADJ NOUN NUM PUNCT ADP NOUN PUNCT CCONJ ADP ADP DET NOUN ADP DET PROPN PUNCT NUM PUNCT ADP VERB PUNCT SPACE',\n",
       " 'ADP NOUN ADP DET ADJ NOUN ADP DET NOUN NUM CCONJ ADJ NOUN SYM NOUN NUM PUNCT PRON VERB VERB ADP DET NOUN NUM CCONJ DET ADJ NOUN NUM VERB VERB VERB VERB DET ADP DET NOUN ADP ADJ PUNCT VERB ADP NOUN ADP NOUN NUM SYM NUM PUNCT SPACE',\n",
       " 'ADV PUNCT ADP VERB ADP PUNCT DET NOUN NUM VERB VERB ADP DET ADJ NOUN NUM VERB DET NOUN NOUN NUM VERB ADP NOUN ADP DET NOUN NUM PUNCT DET NOUN NUM NOUN PUNCT DET NOUN NOUN NUM VERB DET NOUN NOUN NUM VERB ADP VERB ADP DET NOUN NUM ADP DET NOUN ADP DET ADJ NOUN NUM PUNCT DET ADJ NOUN NUM ADP DET NOUN NOUN NUM ADP VERB ADP DET NOUN NUM ADP DET ADJ NOUN NUM PUNCT CCONJ DET ADJ NOUN NUM ADP DET NOUN NOUN NUM PUNCT DET NOUN NUM VERB ADP DET NOUN NOUN NUM CCONJ VERB ADP DET ADJ NUM ADP DET NOUN NOUN NUM PUNCT DET NOUN NUM VERB ADP ADV VERB DET NOUN NUM ADP DET ADJ NUM ADP DET NOUN NOUN NUM PUNCT DET NOUN NOUN NUM VERB DET NOUN ADP VERB NOUN ADP DET NOUN ADP DET NOUN PUNCT CCONJ ADP ADV NUM NOUN NUM PUNCT NOUN NOUN PUNCT ADP DET NOUN NUM VERB DET ADJ VERB NOUN PUNCT PROPN NOUN NUM CCONJ NOUN SYM NOUN NUM PUNCT VERB ADP VERB DET ADV VERB NOUN PUNCT ADJ VERB NOUN SYM NOUN NUM CCONJ NOUN NUM PUNCT ADP DET NOUN NUM ADP VERB DET ADJ NOUN ADP DET NOUN NUM ADV NOUN ADP DET NOUN NUM PUNCT DET NOUN NUM ADJ ADP DET ADJ NOUN NUM ADP VERB DET NOUN ADP DET ADJ VERB NOUN PUNCT PROPN NOUN NUM CCONJ NOUN SYM NOUN NUM PUNCT ADP DET NOUN VERB NOUN PUNCT ADJ VERB NOUN SYM NOUN NUM CCONJ NOUN NUM PUNCT PUNCT SPACE',\n",
       " 'ADV DET NOUN NUM VERB VERB DET ADJ NOUN NUM VERB DET ADJ NOUN NOUN NUM VERB ADP DET ADJ NOUN NUM VERB DET ADJ NOUN NOUN VERB ADV ADP DET ADJ NOUN NUM CCONJ VERB ADP VERB ADP DET VERB ADJ NOUN NUM ADP DET ADJ NOUN NUM ADP DET NOUN NUM PUNCT CCONJ ADP ADJ NUM NOUN NOUN ADP DET NOUN NUM ADP DET ADJ NOUN NUM NOUN ADP DET ADJ NOUN NUM CCONJ VERB ADP VERB ADP DET VERB NOUN NOUN VERB ADV ADP DET ADJ NOUN NUM ADP DET NOUN NUM PUNCT ADP DET NOUN VERB NUM VERB VERB ADP DET ADJ NOUN NUM VERB VERB ADP DET ADJ NOUN NUM ADP NOUN ADP DET ADJ NOUN NOUN NUM PUNCT SPACE',\n",
       " 'ADV PUNCT DET NOUN NUM VERB VERB DET ADJ NOUN NUM DET ADJ NOUN NOUN NUM VERB ADP DET ADJ NOUN NUM VERB DET ADJ NOUN NOUN ADP VERB ADP DET VERB ADJ NOUN NOUN VERB ADV ADP DET ADJ NOUN NUM PUNCT CCONJ ADP ADJ NUM NOUN NOUN VERB ADV ADP DET ADJ NOUN NUM ADP DET NOUN NUM ADP DET ADJ NOUN ADV PUNCT VERB ADP DET ADJ NOUN NOUN CCONJ VERB ADP VERB ADP DET VERB ADJ NOUN NOUN ADP DET ADJ NOUN NUM ADP DET NOUN NUM PUNCT ADP DET NOUN VERB NUM VERB VERB ADP DET ADJ NOUN NUM VERB VERB ADP DET ADJ NOUN NUM ADP NOUN ADP DET ADJ NOUN NOUN NUM PUNCT SPACE',\n",
       " 'ADV PUNCT DET NOUN NUM VERB VERB DET ADJ NOUN NUM DET ADJ NOUN NOUN NUM VERB ADP DET ADJ NOUN NUM VERB DET ADJ NOUN NOUN ADP VERB ADP DET VERB ADJ NOUN NOUN VERB ADV ADP DET ADJ NOUN NUM PUNCT CCONJ ADP ADJ ADJ NOUN NOUN ADP DET ADJ NOUN NUM ADP DET NOUN NUM ADP DET ADJ NOUN ADV PUNCT VERB ADP DET ADJ NOUN NOUN CCONJ VERB ADP VERB ADP DET VERB NOUN NOUN VERB ADV ADP DET ADJ NOUN NUM ADP DET NOUN NUM PUNCT ADP DET NOUN VERB NUM VERB VERB ADP DET ADJ NOUN NUM VERB VERB ADP DET ADJ NOUN NUM ADP NOUN ADP DET ADJ NOUN NOUN NUM PUNCT SPACE',\n",
       " 'PROPN PROPN NUM SPACE VERB ADV PART PROPN NUM PUNCT DET NOUN NOUN NUM VERB VERB ADP VERB DET NOUN ADP NUM CCONJ ADJ ADP DET NOUN NUM ADP DET NOUN NUM ADP DET NOUN SYM NOUN NOUN NUM VERB ADP ADJ NOUN PUNCT ADV VERB ADP DET NOUN ADP DET ADJ NOUN ADP DET ADJ NOUN PUNCT ADP DET NOUN ADP DET NOUN NOUN NUM PUNCT',\n",
       " 'ADP VERB VERB ADP NOUN PUNCT DET NOUN NOUN NUM VERB DET ADJ NOUN PUNCT ADP NOUN PUNCT NOUN NUM PUNCT ADV VERB ADP DET ADV ADJ NOUN PUNCT ADP VERB DET NOUN ADP DET NOUN PART NOUN ADP DET NOUN NUM ADP DET NOUN NUM PUNCT',\n",
       " 'DET NOUN NOUN NUM PUNCT VERB ADP ADJ NOUN ADP DET ADJ NOUN NUM PUNCT VERB DET VERB NOUN NUM ADP DET NOUN NOUN NUM PUNCT ADP VERB NOUN NOUN ADP DET NOUN NOUN NUM ADP DET NOUN NUM PUNCT',\n",
       " 'DET VERB NOUN NUM NOUN ADP DET NOUN ADJ CCONJ ADV VERB NOUN ADP DET NOUN ADP DET NOUN NOUN NUM PUNCT CCONJ VERB VERB ADV VERB ADP DET ADJ NOUN NUM PUNCT SPACE',\n",
       " 'DET ADJ NOUN NUM VERB VERB VERB PART VERB DET NOUN NUM PUNCT VERB PROPN NUM PUNCT ADP DET NOUN NOUN NUM CCONJ DET NOUN CCONJ NOUN NUM ADP DET ADJ NOUN NUM PUNCT ADP ADJ DET NOUN NOUN NUM VERB VERB PUNCT ADV ADP PART VERB ADJ NOUN PUNCT ADV NOUN PUNCT NOUN ADP DET ADJ NUM ADP DET NOUN NUM PUNCT',\n",
       " 'PRON VERB ADV VERB ADP DET ADJ NOUN NUM VERB ADV VERB VERB ADP DET NOUN NUM ADP DET NOUN CCONJ ADV ADP DET NOUN NOUN NUM PUNCT ADV VERB ADP ADJ NOUN PUNCT NOUN ADP DET NOUN NOUN NUM ADP NOUN ADP DET NOUN NOUN NUM PUNCT',\n",
       " 'ADV PUNCT ADP DET NOUN ADV DET ADJ NOUN NUM VERB ADV VERB ADP NOUN NOUN NUM ADP DET NOUN NOUN NUM CCONJ DET NOUN NOUN NUM PUNCT DET ADJ NOUN NUM NOUN VERB ADV ADJ SYM ADJ ADP NOUN PART VERB ADP VERB NOUN PUNCT NOUN ADP DET NOUN NOUN NUM ADP NOUN ADP DET NOUN NOUN NUM PUNCT ADP NOUN PART VERB ADP ADJ NOUN ADP DET NOUN NUM ADP DET NOUN NOUN NUM PUNCT VERB PROPN NUM PUNCT PUNCT ADV DET NOUN NOUN NUM VERB VERB ADP DET ADJ NUM ADP DET NOUN NOUN NUM ADP DET ADJ NOUN ADP DET ADJ NOUN PUNCT',\n",
       " 'ADV PUNCT DET NOUN NUM VERB VERB ADP DET ADJ NUM ADP DET NOUN NOUN NUM PUNCT ADJ ADP DET NOUN NUM VERB NOUN ADP DET NOUN VERB NUM ADP VERB DET NOUN ADP DET NUM CCONJ ADJ NOUN NOUN ADP DET ADJ NOUN NUM PUNCT DET NOUN NUM VERB ADP DET NOUN ADP DET NOUN NOUN NUM VERB VERB ADP NUM ADP DET ADJ CCONJ ADJ NOUN ADP DET ADJ ADP DET ADJ CCONJ ADJ NOUN PUNCT SPACE',\n",
       " 'ADV PUNCT CCONJ ADP NOUN PUNCT DET ADJ NOUN NUM VERB VERB DET NOUN NOUN NUM ADP VERB ADP DET NOUN DET NOUN ADP DET NOUN NOUN NUM ADP DET NOUN NOUN NUM ADP DET ADJ NOUN NUM PUNCT',\n",
       " 'DET NOUN NOUN NUM PUNCT VERB VERB DET NOUN NOUN PUNCT NOUN PUNCT CCONJ VERB ADJ ADP ADJ NOUN ADP DET ADJ NOUN NUM CCONJ VERB VERB DET NOUN VERB DET NOUN ADP DET NOUN NOUN NUM ADP DET ADJ NOUN NUM PUNCT',\n",
       " 'ADV PUNCT DET NOUN NOUN NUM VERB VERB NOUN ADP DET NOUN PART VERB VERB DET NOUN NOUN NUM NOUN ADP DET NOUN NUM ADP DET NOUN ADP DET NOUN NOUN NUM PUNCT ADJ VERB VERB ADJ ADP VERB ADJ NOUN ADP DET NOUN NOUN NUM PUNCT',\n",
       " 'NOUN ADP ADJ NOUN VERB VERB ADJ ADP NOUN ADP VERB NOUN NUM NOUN ADV ADV ADP VERB NOUN ADP DET NOUN NUM PUNCT VERB PROPN NUM PUNCT ADP DET ADJ NOUN NUM PUNCT ADV NOUN PUNCT PUNCT SPACE',\n",
       " 'VERB ADP PROPN NUM PUNCT VERB VERB DET NOUN NOUN NOUN NUM ADP DET ADJ NOUN NUM CCONJ ADJ NOUN ADP DET NOUN NUM VERB PART VERB DET ADJ NUM ADP DET NOUN NUM PUNCT',\n",
       " 'DET NOUN NOUN NUM VERB DET NOUN NOUN NUM ADJ ADP DET NOUN NUM ADP DET ADJ NOUN NUM ADP DET NOUN NOUN NUM PUNCT NOUN VERB ADP DET ADJ VERB NOUN ADJ ADP DET NOUN NOUN PUNCT X PUNCT PUNCT CCONJ ADP DET ADJ NOUN NUM ADP DET NOUN NUM PUNCT ADV DET VERB NOUN ADJ ADP DET NOUN PUNCT PUNCT',\n",
       " 'DET NOUN NOUN PUNCT VERB VERB ADP VERB DET NOUN NOUN NUM ADP DET ADJ SYM ADJ NOUN NUM PUNCT ADV DET ADJ NOUN ADP ADJ DET NOUN NOUN NUM VERB ADV VERB PUNCT PUNCT',\n",
       " 'DET NOUN NUM VERB ADV VERB ADP DET NOUN NUM PUNCT ADV DET NOUN NUM PUNCT PUNCT',\n",
       " 'NOUN ADP DET NOUN NOUN NUM ADP DET NOUN NUM ADP ADP DET ADJ NUM ADP DET NOUN NUM PUNCT ADP DET NOUN NOUN NUM PUNCT ADP DET ADJ NOUN NUM VERB DET NOUN NOUN NUM PUNCT VERB ADP DET NOUN NOUN NUM PUNCT PART VERB PUNCT VERB DET NOUN NUM ADV DET NOUN NOUN NUM VERB VERB ADP DET ADJ NOUN PUNCT',\n",
       " 'NOUN ADP DET NOUN NUM VERB DET NOUN VERB NUM PUNCT CCONJ ADV VERB DET NOUN NUM PUNCT ADJ PUNCT PART VERB DET NOUN VERB NUM PUNCT',\n",
       " 'DET NOUN NOUN NUM VERB VERB ADP DET ADJ NOUN NUM ADP DET NOUN NUM PUNCT ADV VERB ADP DET NOUN NUM PUNCT VERB PROPN NUM PUNCT PUNCT',\n",
       " 'DET NOUN NUM CCONJ DET ADJ NOUN NUM VERB ADV VERB ADP DET NOUN NUM ADP DET NOUN NUM PUNCT SPACE',\n",
       " 'ADV PUNCT VERB ADP PROPN NUM PUNCT DET NOUN NOUN NUM VERB VERB VERB ADP DET ADJ NOUN NUM ADP DET NOUN NOUN NUM CCONJ DET NOUN NUM VERB VERB VERB ADP DET ADJ NOUN NUM PUNCT',\n",
       " 'ADV PUNCT PRON VERB VERB ADP DET NOUN NOUN NUM CCONJ DET NOUN NUM VERB VERB VERB ADP DET ADJ NOUN ADP DET NOUN NUM PUNCT NUM CCONJ VERB VERB VERB ADJ ADP DET ADJ NOUN ADP DET NOUN NUM PUNCT NUM PUNCT ADP VERB PUNCT SPACE',\n",
       " 'PRON VERB VERB ADP DET ADJ NOUN VERB VERB DET ADJ NOUN CCONJ DET ADJ NOUN VERB VERB DET ADJ NOUN PUNCT X ADP DET NOUN PUNCT CCONJ DET ADJ NOUN VERB VERB DET ADJ NOUN CCONJ DET ADJ NOUN VERB VERB DET ADJ NOUN PUNCT X ADP DET NOUN PUNCT PUNCT ADP VERB PUNCT',\n",
       " 'ADV PUNCT PRON VERB VERB ADP DET NOUN NOUN PUNCT VERB VERB DET NOUN NOUN ADP CCONJ DET ADJ NOUN CCONJ DET ADJ NOUN PUNCT ADP VERB PUNCT SPACE',\n",
       " 'VERB ADP NOUN NUM CCONJ NUM PUNCT DET NOUN NOUN NUM VERB DET NOUN ADP NOUN SYM NOUN NOUN NUM PUNCT NOUN PUNCT NOUN ADP NOUN ADP DET NOUN PART NOUN NUM PUNCT ADP NOUN PART VERB DET NOUN NOUN NUM PUNCT',\n",
       " 'ADP NOUN PUNCT DET NOUN VERB PUNCT VERB NOUN ADP DET NOUN NOUN NUM PART VERB DET NOUN NUM PART VERB VERB PUNCT VERB NOUN ADP DET NOUN NOUN NUM PART VERB DET NOUN NUM PART VERB ADJ PUNCT CCONJ VERB NOUN ADP DET NOUN NOUN NUM PART VERB DET NOUN NUM PART VERB ADJ PUNCT ADP VERB ADP PUNCT',\n",
       " 'ADP DET NOUN NOUN NUM VERB VERB ADP DET NOUN PART NOUN NUM PUNCT DET NOUN NOUN PUNCT PUNCT NOUN NOUN NUM CCONJ NUM PUNCT VERB DET NOUN NOUN NUM ADV ADP DET ADJ SYM ADJ NOUN NUM PUNCT SPACE',\n",
       " 'DET NOUN NOUN NUM VERB VERB ADP ADP PART VERB ADP DET ADJ NOUN NOUN NUM PUNCT NOUN PUNCT NOUN PUNCT ADV ADV CCONJ ADP NOUN PUNCT',\n",
       " 'ADP NOUN PUNCT DET NOUN NOUN NUM ADP DET NOUN NUM VERB VERB ADJ ADP NUM NOUN PUNCT PROPN ADV ADJ ADP PUNCT X PUNCT',\n",
       " 'DET NOUN NUM ADP DET NOUN ADP DET NOUN NOUN NUM PUNCT ADJ VERB ADJ ADP DET NOUN NOUN ADP DET NOUN NOUN NUM PUNCT VERB ADV ADJ ADP NUM DET PUNCT ADP DET NOUN NUM ADP DET NOUN NUM CCONJ ADV VERB PUNCT VERB ADP ADP DET VERB NOUN SYM NOUN NUM ADP DET ADJ NOUN PUNCT',\n",
       " 'DET NOUN NOUN NUM ADP DET NOUN NUM VERB VERB ADJ ADP NUM NOUN PUNCT PROPN ADV ADJ ADP PUNCT ADP DET NOUN NUM ADP DET NOUN NUM CCONJ ADV VERB PUNCT VERB ADP ADP DET VERB NOUN SYM NOUN NUM ADP DET ADJ NOUN PUNCT',\n",
       " 'DET NOUN NOUN NOUN VERB VERB VERB ADP DET VERB NOUN SYM NOUN NUM PUNCT',\n",
       " 'ADP DET NOUN PUNCT DET NOUN NOUN NUM PUNCT NOUN VERB VERB ADP NUM DET ADP DET VERB NOUN SYM NOUN NUM CCONJ ADJ ADJ NOUN NUM VERB VERB VERB ADP DET ADJ NOUN PUNCT DET NOUN ADV ADP NUM CCONJ ADJ ADP NUM PUNCT ADP VERB ADP DET ADJ NOUN NUM ADP DET NOUN NOUN NUM PUNCT',\n",
       " 'PRON VERB ADV VERB ADP DET NOUN NOUN NUM VERB VERB VERB ADP DET NOUN NUM CCONJ DET VERB NOUN NUM ADP DET ADJ NOUN NUM PUNCT ADJ ADP DET NOUN NUM VERB VERB PART VERB VERB ADV DET ADP DET NOUN NOUN NUM PUNCT NOUN PUNCT NOUN VERB ADJ PUNCT SPACE',\n",
       " 'ADV PUNCT PRON VERB VERB ADP NUM CCONJ ADJ ADP DET NOUN NOUN NUM PUNCT NOUN PUNCT NOUN VERB VERB VERB ADP DET NUM NOUN ADP DET NOUN PART NOUN NUM PUNCT ADV NUM NOUN VERB VERB DET NOUN NOUN NUM PUNCT NUM NOUN VERB VERB DET NOUN NOUN NUM PUNCT NUM NOUN VERB VERB DET NOUN NOUN NUM PUNCT NUM NOUN VERB VERB DET NOUN NOUN NUM ADV ADP DET NOUN VERB DET NOUN NOUN NUM PUNCT NUM NOUN VERB VERB DET NOUN NOUN NUM ADV ADP DET NOUN VERB DET NOUN NOUN NUM PUNCT NUM NOUN VERB VERB DET NOUN NOUN NUM ADV ADP DET NOUN VERB DET NOUN NOUN NUM PUNCT CCONJ NUM NOUN VERB VERB DET NOUN NOUN NUM ADV ADP DET NOUN VERB DET NOUN NOUN NUM ADV ADP DET NOUN VERB DET NOUN NOUN NUM PUNCT PUNCT SPACE',\n",
       " 'PRON VERB VERB ADP DET NOUN ADP DET VERB NOUN NUM CCONJ DET NOUN NUM ADP DET NOUN NOUN NUM ADP DET NOUN NOUN NUM VERB VERB ADP VERB ADP ADV ADV ADP ADP ADJ NOUN PUNCT',\n",
       " 'DET NUM NOUN VERB VERB ADV DET ADJ ADJ NOUN NUM CCONJ DET ADJ ADJ NOUN NUM ADP DET NOUN NOUN NUM VERB VERB ADJ ADP DET ADJ ADJ NOUN NUM NOUN ADP NUM NOUN ADP DET NOUN NOUN NUM ADP DET VERB NOUN NUM CCONJ DET ADJ ADJ NOUN NUM NOUN ADP DET ADJ NOUN ADP DET NOUN NOUN NUM ADP DET VERB NOUN NUM PUNCT ADJ ADP DET VERB NOUN NUM VERB VERB ADP DET NOUN ADP DET NOUN NOUN NUM PUNCT',\n",
       " 'DET NOUN VERB ADV DET ADJ NOUN VERB ADP NUM NOUN ADP DET NOUN NOUN NUM ADP DET VERB NOUN NUM VERB ADP DET ADJ NOUN ADP DET NOUN NOUN NUM PUNCT ADJ ADP ADV VERB ADV ADP ADJ NOUN NUM ADP DET NOUN NOUN NUM PUNCT SPACE',\n",
       " 'ADV PUNCT DET ADJ NOUN NUM VERB VERB ADJ CCONJ NOUN ADP NOUN PUNCT',\n",
       " 'ADP DET NOUN ADP NOUN ADJ NOUN NUM PUNCT PRON VERB VERB NOUN ADP VERB DET ADJ NOUN ADP NOUN ADP DET NUM CCONJ ADJ NOUN ADP DET NOUN PART NOUN NUM PUNCT SPACE',\n",
       " 'ADP NOUN ADP DET ADJ PUNCT PRON VERB VERB ADP NOUN ADP DET ADP DET NOUN NOUN NUM PUNCT NOUN PUNCT NOUN PUNCT ADV ADV CCONJ ADP NOUN PUNCT VERB DET ADJ NOUN NUM ADP DET NOUN NOUN NUM ADP DET NOUN NOUN NUM CCONJ ADV VERB DET ADJ SYM ADJ NOUN VERB ADP DET NOUN DET NOUN DET NOUN NUM VERB VERB PUNCT',\n",
       " 'ADV PUNCT PRON VERB VERB ADP DET NOUN ADP DET NOUN NOUN NUM PUNCT NOUN VERB VERB ADP VERB PUNCT ADV ADJ ADP DET ADJ NOUN NUM ADP DET NOUN NUM PUNCT PUNCT CCONJ VERB VERB VERB PUNCT NOUN ADP DET ADJ NOUN PUNCT ADP NOUN ADP DET ADJ NOUN NUM ADP DET NOUN NUM PART ADV VERB DET NOUN ADP DET NOUN NOUN NUM ADP DET ADJ NUM PUNCT ADP VERB PUNCT SPACE ADJ PROPN SPACE',\n",
       " 'VERB ADP NOUN NUM PUNCT ADV VERB VERB DET NOUN NOUN NUM ADP NOUN ADP VERB NUM ADP DET ADV VERB NOUN NUM VERB DET ADJ NOUN NUM PUNCT ADV DET NOUN NUM VERB ADV VERB ADP DET NOUN NUM PUNCT',\n",
       " 'DET NOUN NOUN NUM VERB VERB VERB PART ADV DET NOUN NUM VERB PART VERB VERB ADP DET NOUN NUM PUNCT DET NOUN NOUN NUM VERB VERB ADP DET NOUN NUM PUNCT ADV VERB DET ADJ NOUN NUM PUNCT CCONJ DET NOUN NUM PUNCT PUNCT CCONJ ADV VERB ADP DET ADV VERB NOUN NUM ADP DET ADJ NOUN NUM ADP DET NOUN NUM PUNCT VERB NOUN NUM PUNCT PUNCT',\n",
       " 'NOUN ADP DET NOUN NUM ADP DET NOUN NUM NOUN ADP DET NOUN NOUN NUM PART VERB VERB ADP DET NOUN NUM CCONJ DET NOUN NUM ADP DET NOUN NUM VERB ADV ADV VERB ADP DET NOUN NUM CCONJ DET NOUN NOUN NUM VERB VERB ADP DET NOUN NUM PUNCT',\n",
       " 'DET NOUN NOUN NUM VERB VERB PART VERB ADJ NOUN PUNCT ADV NOUN PUNCT NOUN ADP DET NOUN ADP DET NOUN NOUN PUNCT ADP DET NOUN NUM PUNCT CCONJ NOUN ADP DET ADJ NOUN NUM PUNCT ADV DET NOUN NUM VERB ADV VERB SYM VERB ADP DET NOUN NUM PUNCT SPACE',\n",
       " 'ADV PUNCT ADP ADV VERB ADP PUNCT DET NOUN NUM VERB VERB ADP NOUN ADP DET NOUN NUM ADP DET ADJ NOUN NUM PUNCT ADJ ADP DET ADJ NOUN NUM VERB NUM CCONJ ADJ NOUN NOUN ADP VERB ADP NOUN VERB NUM ADP DET NOUN NOUN NUM PUNCT',\n",
       " 'DET NOUN NUM VERB DET NOUN NOUN NUM VERB DET NOUN NOUN NUM VERB ADP VERB ADP DET NOUN NUM ADP DET NOUN ADP DET ADJ NOUN NUM PUNCT DET ADJ NOUN NUM ADP DET NOUN NOUN NUM ADP VERB ADP DET NOUN NUM ADP DET ADJ NOUN NUM PUNCT CCONJ DET ADJ NOUN NUM ADP DET NOUN NOUN NUM PUNCT',\n",
       " 'DET NOUN NOUN NUM VERB VERB ADP VERB DET NOUN ADP NUM CCONJ ADJ NOUN NOUN CCONJ VERB VERB ADP DET NOUN NUM ADP DET NOUN NOUN NUM ADP NOUN ADP NUM CCONJ ADJ NOUN ADP DET NOUN PART NOUN NUM PUNCT',\n",
       " 'DET NOUN NOUN NUM VERB DET NOUN NOUN NUM VERB ADP DET ADJ NOUN ADP DET NOUN NOUN NUM ADP DET NOUN NOUN NUM PUNCT DET NOUN NOUN PUNCT ADP VERB DET NOUN NOUN NUM ADP DET ADJ NOUN PUNCT CCONJ DET NOUN NOUN NUM ADP DET NOUN NOUN NUM VERB ADP VERB ADP DET NUM CCONJ ADJ NOUN ADJ ADP DET NOUN NOUN NUM VERB DET VERB NOUN NUM ADP VERB DET NOUN ADP NOUN NOUN NUM PUNCT NOUN PUNCT NOUN ADP NOUN ADP DET NUM CCONJ ADJ NOUN ADP VERB DET NOUN NUM ADP DET NOUN NOUN NUM ADP DET NOUN NOUN NUM ADP NOUN ADP DET ADJ NOUN ADP DET ADJ NOUN ADP DET ADJ NUM ADP DET NOUN NOUN PUNCT ADV DET NOUN ADP DET NOUN NOUN NUM VERB DET NOUN ADP DET NUM CCONJ ADJ NOUN NOUN PUNCT ADV ADP NOUN ADP DET NOUN NUM ADP DET NOUN NOUN NUM PUNCT']"
      ]
     },
     "execution_count": 12,
     "metadata": {},
     "output_type": "execute_result"
    }
   ],
   "source": [
    "[\" \".join([w.pos_ for w in sent]) for sent in spacy_doc.sents]"
   ]
  },
  {
   "cell_type": "code",
   "execution_count": 13,
   "metadata": {
    "scrolled": true
   },
   "outputs": [
    {
     "name": "stdout",
     "output_type": "stream",
     "text": [
      "[('handle', 123), ('body', 107), ('portion', 103), ('surface', 80), ('stylus', 76), ('actuator', 72), ('user', 54), ('Figure', 53), ('end', 50), ('position', 48), ('receptacle', 45), ('example', 40), ('enclosure', 37), ('grip', 34), ('assembly', 28), ('terminal', 28), ('slot', 28), ('housing', 28), ('protrusion', 27), ('arm', 26), ('computer', 25), ('latch', 23), ('connection', 23), ('control', 23), ('contact', 22), ('engagement', 21), ('region', 21), ('device', 20), ('side', 19), ('member', 18), ('scanning', 18), ('e.g.', 18), ('hand', 17), ('view', 17), ('feature', 16), ('switch', 15), ('configuration', 14), ('notch', 14), ('trigger', 13), ('wall', 13), ('groove', 13), ('covering', 13), ('material', 13), ('finger', 13), ('interface', 12), ('coupling', 12), ('depression', 12), ('operation', 11), ('mechanism', 11), ('face', 11), ('respect', 10), ('embodiment', 10), ('point', 10), ('overmold', 10), ('interaction', 10), ('location', 9), ('part', 9), ('b', 9), ('interior', 8), ('c', 8), ('displacement', 8), ('pivot', 8), ('abutment', 8), ('section', 7), ('cover', 7), ('use', 7), ('exterior', 7), ('mating', 6), ('mold', 6), ('access', 6), ('order', 6), ('storage', 6), ('removal', 6), ('aperture', 6), ('lip', 6), ('pair', 6), ('display', 6), ('expansion', 6), ('combination', 5), ('pogo', 5), ('indicator', 5), ('6a', 5), ('positioning', 5), ('arcuate', 5), ('retention', 5), ('environment', 5), ('biasing', 5), ('actuation', 5), ('distance', 5), ('spring', 4), ('member(s', 4), ('shape', 4), ('communication', 4), ('separation', 4), ('pressure', 4), ('logistics', 4), ('latch(es', 4), ('case', 4), ('retaining', 4), ('cavity', 4), ('second', 4), ('resident', 4), ('38c', 4), ('B', 4), ('module', 4), ('tracking', 4), ('scanner', 3), ('plurality', 3), ('angle', 3), ('slot(s', 3), ('matter', 3), ('tip', 3), ('invention', 3), ('touch', 3), ('latch(s', 3), ('circuit', 3), ('tube', 3), ('information', 3), ('resiliency', 3), ('water', 3), ('addition', 3), ('base', 3), ('instruction', 3), ('cord', 2), ('insertion', 2), ('penetration', 2), ('checking', 2), ('cross', 2), ('degree', 2), ('opening', 2), ('layer', 2), ('opposite', 2), ('nature', 2), ('Positioning', 2), ('art', 2), ('core', 2), ('texture', 2), ('release', 2), ('periphery', 2), ('detachment', 2), ('increase', 2), ('polymer', 2), ('damage', 2), ('Connection', 2), ('gap', 2), ('pin', 2), ('one', 2), ('6b', 2), ('misplacement', 2), ('time', 2), ('power', 2), ('thereon', 2), ('description', 2), ('screen', 2), ('project', 2), ('identification', 2), ('rubber', 2), ('detail', 2), ('button', 2), ('laser', 2), ('colour', 2), ('attachment', 2), ('length', 2), ('asset', 2), ('direction', 2), ('presence', 2), ('need', 2), ('way', 1), ('rotation', 1), ('management', 1), ('label', 1), ('form', 1), ('shell', 1), ('conjunction', 1), ('styrene', 1), ('store', 1), ('meter', 1), ('elastomer', 1), ('Control', 1), ('source', 1), ('drop', 1), ('slip', 1), ('writing', 1), ('coiled', 1), ('9d', 1), ('comprising', 1), ('releasably', 1), ('injection', 1), ('enforcement', 1), ('ease', 1), ('bonding', 1), ('slender', 1), ('radio', 1), ('imager', 1), ('result', 1), ('movement', 1), ('polycarbonate', 1), ('manner', 1), ('seal', 1), ('9a', 1), ('precision', 1), ('overmolding', 1), ('switching', 1), ('ingress', 1), ('thumb', 1), ('board', 1), ('PC', 1), ('disadvantage', 1), ('9b', 1), ('plastic', 1), ('imaging', 1), ('fatigue', 1), ('method', 1), ('tactile', 1), ('A', 1), ('proximity', 1), ('supply', 1), ('ink', 1), ('number', 1), ('rating', 1), ('generation', 1), ('10a', 1), ('life', 1), ('cylinder', 1), ('parking', 1), ('aid', 1), ('travel', 1), ('cut', 1), ('process', 1), ('perspective', 1), ('component', 1), ('input', 1), ('battery', 1), ('merchandising', 1), ('handheld', 1), ('replacement', 1), ('instrument', 1), ('aspect', 1), ('person', 1), ('price', 1), ('substitution', 1), ('pen', 1), ('Inhibiting', 1), ('repair', 1), ('activation', 1), ('magnitude', 1), ('chain', 1), ('Configuration', 1), ('finger(s', 1), ('stock', 1), ('surveying', 1), ('circumference', 1), ('extent', 1), ('pointing', 1), ('height', 1), ('location(s', 1), ('retail', 1), ('fashion', 1), ('9c', 1), ('38d', 1), ('disassembly', 1), ('axis', 1), ('reading', 1), ('ballpoint', 1), ('pad(s', 1), ('frame', 1), ('event', 1), ('composition', 1), ('remainder', 1), ('forming', 1), ('acrylonitrile', 1), ('Activation', 1), ('fouling', 1), ('fabrication', 1), ('substrate', 1), ('field', 1), ('keyboard', 1), ('object', 1), ('capture', 1), ('therefrom', 1), ('oil', 1), ('pcb', 1), ('exposure', 1), ('Depression', 1), ('concave', 1), ('inside', 1), ('manipulation', 1), ('processor(s', 1), ('handwriting', 1), ('10b', 1), ('butadiene', 1), ('abrasion', 1), ('etc.—inside', 1), ('protrusion(s', 1), ('warehousing', 1), ('hole', 1), ('contact(s', 1), ('barcode', 1), ('136b', 1)]\n"
     ]
    }
   ],
   "source": [
    "# Look at probablistic rules for NN > E\n",
    "from collections import Counter\n",
    "\n",
    "NN_rules = Counter([word.text for word in spacy_doc if word.tag_ == \"NN\"])\n",
    "print(NN_rules.most_common())"
   ]
  },
  {
   "cell_type": "code",
   "execution_count": 14,
   "metadata": {},
   "outputs": [
    {
     "name": "stdout",
     "output_type": "stream",
     "text": [
      "[('the', 1210), ('a', 205), ('an', 57), ('another', 19), ('either', 11), ('any', 7), ('these', 4), ('each', 3), ('that', 3), ('this', 2), ('some', 1), ('both', 1)]\n"
     ]
    }
   ],
   "source": [
    "DT_rules = Counter([word.text.lower() for word in spacy_doc if word.tag_ == \"DT\"])\n",
    "print(DT_rules.most_common())"
   ]
  },
  {
   "cell_type": "code",
   "execution_count": 15,
   "metadata": {},
   "outputs": [
    {
     "name": "stdout",
     "output_type": "stream",
     "text": [
      "[('first', 48), ('proximal', 47), ('portable', 38), ('resilient', 33), ('second', 32), ('adjacent', 29), ('such', 28), ('other', 20), ('interior', 16), ('distal', 16), ('releasable', 15), ('electrical', 14), ('corresponding', 10), ('operable', 9), ('elongated', 9), ('different', 8), ('inclined', 8), ('mechanical', 8), ('alternative', 7), ('e.g.', 7), ('external', 7), ('current', 6), ('optional', 6), ('above', 6), ('subsequent', 5), ('biased', 5), ('same', 4), ('overmold', 4), ('unactuated', 4), ('foreign', 3), ('rigid', 3), ('handle', 3), ('electronic', 3), ('protruding', 3), ('present', 3), ('additional', 3), ('front', 3), ('wireless', 3), ('integral', 3), ('further', 3), ('molded', 3), ('onboard', 3), ('secondary', 3), ('depressed', 3), ('flush', 3), ('non', 2), ('awkward', 2), ('dotted', 2), ('similar', 2), ('physical', 2), ('comfortable', 2), ('actuated', 2), ('bottom', 2), ('accidental', 2), ('unactivated', 2), ('problematic', 2), ('engaged', 2), ('thermoplastic', 2), ('respective', 2), ('rear', 2), ('sectional', 2), ('conductive', 2), ('outside', 2), ('secure', 2), ('textured', 2), ('contoured', 2), ('skilled', 2), ('limited', 2), ('top', 2), ('flexible', 2), ('multiple', 2), ('operative', 1), ('closed', 1), ('temporary', 1), ('compatible', 1), ('unengaged', 1), ('possible', 1), ('transverse', 1), ('easy', 1), ('contrary', 1), ('available', 1), ('due', 1), ('desirable', 1), ('suitable', 1), ('acute', 1), ('specified', 1), ('hard', 1), ('securable', 1), ('uncomfortable', 1), ('retail', 1), ('exemplary', 1), ('fastened', 1), ('longitudinal', 1), ('apparent', 1), ('narrow', 1), ('beneficial', 1), ('material', 1), ('internal', 1), ('directional', 1), ('natural', 1), ('planar', 1), ('elastic', 1), ('rounded', 1), ('parallel', 1), ('sized', 1), ('mobile', 1), ('relative', 1), ('unhindered', 1), ('obtuse', 1), ('rubberized', 1), ('connected', 1), ('open', 1), ('traditional', 1), ('resistant', 1), ('arcuate', 1), ('hidden', 1), ('premature', 1), ('central', 1), ('inside', 1), ('many', 1), ('partial', 1), ('hollow', 1), ('industrial', 1), ('perspective', 1), ('sufficient', 1), ('ergonomic', 1), ('exterior', 1)]\n"
     ]
    }
   ],
   "source": [
    "JJ_rules = Counter([word.text.lower() for word in spacy_doc if word.tag_ == \"JJ\"])\n",
    "print(JJ_rules.most_common())"
   ]
  },
  {
   "cell_type": "markdown",
   "metadata": {},
   "source": [
    "## The point is that our \"grammars\" are independent of the words.\n",
    "\n",
    "We can start by looking at n-grams. Start with POS as tags are limited.  \n",
    "\n",
    "Let's have a look at the set of POS labels over our 100 documents."
   ]
  },
  {
   "cell_type": "code",
   "execution_count": 16,
   "metadata": {
    "collapsed": true
   },
   "outputs": [],
   "source": [
    "POS_counter = Counter([\n",
    "    word.pos_ \n",
    "    for doc in pc.documents \n",
    "    for word in nlp(doc.description.text.replace(\"FIG.\", \"Figure\").replace(\"FIGS.\", \"Figures\"))\n",
    "])"
   ]
  },
  {
   "cell_type": "code",
   "execution_count": 17,
   "metadata": {},
   "outputs": [
    {
     "data": {
      "text/plain": [
       "[('NOUN', 283372),\n",
       " ('VERB', 142978),\n",
       " ('DET', 129360),\n",
       " ('ADP', 120407),\n",
       " ('PUNCT', 109050),\n",
       " ('ADJ', 73079),\n",
       " ('NUM', 47758),\n",
       " ('CCONJ', 27478),\n",
       " ('ADV', 27452),\n",
       " ('PROPN', 25368),\n",
       " ('SPACE', 16415),\n",
       " ('PART', 11712),\n",
       " ('PRON', 3445),\n",
       " ('SYM', 2976),\n",
       " ('X', 1814),\n",
       " ('INTJ', 507)]"
      ]
     },
     "execution_count": 17,
     "metadata": {},
     "output_type": "execute_result"
    }
   ],
   "source": [
    "POS_counter.most_common()"
   ]
  },
  {
   "cell_type": "code",
   "execution_count": 18,
   "metadata": {},
   "outputs": [
    {
     "name": "stdout",
     "output_type": "stream",
     "text": [
      "{'VERB', 'CCONJ', 'SPACE', 'PRON', 'PROPN', 'SYM', 'ADJ', 'ADV', 'X', 'DET', 'PUNCT', 'ADP', 'NOUN', 'INTJ', 'PART', 'NUM'}\n"
     ]
    }
   ],
   "source": [
    "POS_set = set(POS_counter.elements())\n",
    "print(POS_set)"
   ]
  },
  {
   "cell_type": "code",
   "execution_count": 19,
   "metadata": {
    "collapsed": true
   },
   "outputs": [],
   "source": [
    "spacy_docs = [nlp(doc.description.text.replace(\"FIG.\", \"Figure\").replace(\"FIGS.\", \"Figures\")) for doc in pc.documents]"
   ]
  },
  {
   "cell_type": "markdown",
   "metadata": {},
   "source": [
    "Look at comma clause structures within sentences. Would these maybe come out of n-gram patterns?"
   ]
  },
  {
   "cell_type": "code",
   "execution_count": 20,
   "metadata": {},
   "outputs": [
    {
     "data": {
      "text/plain": [
       "132"
      ]
     },
     "execution_count": 20,
     "metadata": {},
     "output_type": "execute_result"
    }
   ],
   "source": [
    "spacy_doc[-2]"
   ]
  },
  {
   "cell_type": "code",
   "execution_count": 21,
   "metadata": {
    "collapsed": true
   },
   "outputs": [],
   "source": [
    "bigrams = []\n",
    "trigrams = []\n",
    "\n",
    "for doc in spacy_docs:\n",
    "    for i, token in enumerate(doc[:-2]):\n",
    "        bigrams.append(\"{0} {1}\".format(token.pos_, doc[i+1].pos_))\n",
    "        trigrams.append(\"{0} {1} {2}\".format(token.pos_, doc[i+1].pos_, doc[i+2].pos_))\n",
    "    bigrams.append(\"{0} {1}\".format(doc[-2].pos_, doc[-1].pos_))\n",
    "    \n",
    "bigram_count = Counter(bigrams)\n",
    "trigram_count = Counter(trigrams)"
   ]
  },
  {
   "cell_type": "code",
   "execution_count": 22,
   "metadata": {},
   "outputs": [
    {
     "name": "stdout",
     "output_type": "stream",
     "text": [
      "20 most common bigrams: [('DET NOUN', 83866), ('NOUN NOUN', 73864), ('ADP DET', 66556), ('NOUN PUNCT', 53281), ('NOUN ADP', 52587), ('ADJ NOUN', 47744), ('NOUN VERB', 39931), ('VERB VERB', 34326), ('VERB ADP', 31899), ('DET ADJ', 30461), ('NOUN NUM', 29969), ('VERB DET', 25421), ('ADP NOUN', 24667), ('PUNCT DET', 21446), ('VERB NOUN', 17625), ('NUM PUNCT', 16979), ('PUNCT NOUN', 14285), ('PUNCT ADP', 13368), ('PUNCT SPACE', 11912), ('NUM VERB', 11412), ('NOUN CCONJ', 10622), ('PART VERB', 9461), ('ADV VERB', 9101), ('ADP ADJ', 8900), ('VERB ADV', 8530), ('PROPN PUNCT', 8046), ('PUNCT VERB', 8005), ('ADP VERB', 7839), ('PUNCT CCONJ', 7494), ('VERB ADJ', 7474), ('VERB PUNCT', 7080), ('PUNCT ADV', 7051), ('PUNCT PUNCT', 6992), ('NOUN ADJ', 6796), ('PUNCT ADJ', 6573), ('ADV PUNCT', 6435), ('CCONJ DET', 6363), ('ADJ VERB', 6140), ('ADJ ADP', 5934), ('DET VERB', 5902), ('CCONJ NOUN', 5841), ('NUM ADP', 5020), ('NOUN PROPN', 5016), ('CCONJ VERB', 4994), ('DET PROPN', 4864), ('NUM NOUN', 4827), ('PUNCT PROPN', 4803), ('PROPN NOUN', 4311), ('CCONJ ADJ', 4273), ('NOUN PART', 4248)]\n",
      "20 most common trigrams: [('ADP DET NOUN', 42411), ('NOUN ADP DET', 29810), ('DET NOUN NOUN', 29572), ('DET ADJ NOUN', 25889), ('VERB ADP DET', 19376), ('DET NOUN ADP', 19111), ('VERB DET NOUN', 17089), ('ADP DET ADJ', 16624), ('NOUN NOUN PUNCT', 15486), ('PUNCT DET NOUN', 14504), ('NOUN VERB VERB', 13847), ('VERB VERB ADP', 13159), ('NOUN NOUN VERB', 13076), ('NOUN NOUN NOUN', 12947), ('ADJ NOUN NOUN', 12904), ('NOUN NOUN NUM', 12686), ('DET NOUN VERB', 12468), ('NOUN ADP NOUN', 11471), ('NOUN PUNCT DET', 10815), ('DET NOUN PUNCT', 10779), ('NOUN NUM PUNCT', 10689), ('ADJ NOUN PUNCT', 10440), ('NOUN NOUN ADP', 10127), ('NOUN NUM VERB', 9673), ('ADJ NOUN ADP', 9105), ('NOUN VERB ADP', 8965), ('NOUN PUNCT NOUN', 7980), ('VERB VERB VERB', 7259), ('ADJ NOUN VERB', 6813), ('NOUN PUNCT ADP', 6553), ('NOUN PUNCT SPACE', 6136), ('ADP ADJ NOUN', 5861), ('VERB DET ADJ', 5784), ('ADP NOUN ADP', 5589), ('PUNCT ADP DET', 5411), ('ADP NOUN PUNCT', 5253), ('NOUN VERB DET', 5157), ('PUNCT NOUN NOUN', 5106), ('VERB ADP NOUN', 5043), ('ADP NOUN NOUN', 4761), ('DET NOUN NUM', 4360), ('VERB ADV VERB', 4320), ('NOUN CCONJ NOUN', 4274), ('NOUN ADP ADJ', 4239), ('DET VERB NOUN', 4191), ('PUNCT ADP NOUN', 4095), ('NOUN PUNCT CCONJ', 4023), ('PUNCT DET ADJ', 4012), ('NOUN PUNCT VERB', 3981), ('ADP NOUN NUM', 3973)]\n"
     ]
    }
   ],
   "source": [
    "print(\"20 most common bigrams: {0}\".format(bigram_count.most_common(50)))\n",
    "print(\"20 most common trigrams: {0}\".format(trigram_count.most_common(50)))"
   ]
  },
  {
   "cell_type": "code",
   "execution_count": 23,
   "metadata": {},
   "outputs": [
    {
     "name": "stdout",
     "output_type": "stream",
     "text": [
      "20 most common 4-grams: [('NOUN ADP DET NOUN', 18744), ('ADP DET NOUN NOUN', 14908), ('ADP DET ADJ NOUN', 14393), ('VERB ADP DET NOUN', 12028), ('DET NOUN ADP DET', 9982), ('ADP DET NOUN ADP', 8578), ('VERB VERB ADP DET', 7957), ('NOUN ADP DET ADJ', 7855), ('ADP DET NOUN PUNCT', 7525), ('DET ADJ NOUN NOUN', 7468), ('NOUN PUNCT DET NOUN', 7345), ('NOUN NOUN ADP DET', 6515), ('VERB DET NOUN ADP', 6036), ('NOUN VERB ADP DET', 5858), ('DET NOUN NOUN NOUN', 5840), ('PUNCT DET NOUN NOUN', 5703), ('DET NOUN NOUN VERB', 5609), ('VERB DET NOUN NOUN', 5423), ('ADP DET NOUN VERB', 5258), ('DET NOUN NOUN NUM', 5234), ('DET ADJ NOUN PUNCT', 5172), ('ADJ NOUN ADP DET', 5156), ('VERB ADP DET ADJ', 4942), ('VERB DET ADJ NOUN', 4912), ('DET NOUN ADP NOUN', 4900), ('DET ADJ NOUN ADP', 4820), ('DET NOUN NOUN PUNCT', 4758), ('NOUN NOUN VERB VERB', 4516), ('DET NOUN NOUN ADP', 4511), ('NOUN NOUN NUM PUNCT', 4469), ('NOUN NOUN NUM VERB', 4162), ('NOUN VERB VERB ADP', 4094), ('NOUN VERB VERB VERB', 4044), ('VERB VERB VERB ADP', 4039), ('DET NOUN VERB VERB', 3941), ('PUNCT ADP DET NOUN', 3883), ('DET ADJ NOUN VERB', 3685), ('PUNCT DET NOUN VERB', 3612), ('NOUN NUM VERB DET', 3543), ('ADJ NOUN NOUN PUNCT', 3421), ('PUNCT DET ADJ NOUN', 3413), ('NOUN VERB DET NOUN', 3405), ('NOUN NUM VERB VERB', 3342), ('ADP NOUN ADP DET', 3298), ('NOUN NOUN VERB ADP', 3199), ('NOUN NOUN PUNCT DET', 3107), ('NOUN NOUN NOUN NUM', 3041), ('NOUN PUNCT NOUN NOUN', 2928), ('NUM VERB DET NOUN', 2918), ('NOUN ADP ADJ NOUN', 2912)]\n",
      "20 most common 5-grams: [('NOUN ADP DET ADJ NOUN', 6979), ('NOUN ADP DET NOUN NOUN', 6940), ('DET NOUN ADP DET NOUN', 6408), ('VERB VERB ADP DET NOUN', 4919), ('VERB ADP DET NOUN NOUN', 4604), ('ADP DET NOUN ADP DET', 4526), ('VERB ADP DET ADJ NOUN', 4170), ('NOUN NOUN ADP DET NOUN', 4054), ('ADP DET ADJ NOUN PUNCT', 3910), ('ADP DET ADJ NOUN NOUN', 3679), ('NOUN VERB ADP DET NOUN', 3674), ('NOUN ADP DET NOUN ADP', 3553), ('NOUN ADP DET NOUN PUNCT', 3320), ('ADP DET NOUN NOUN PUNCT', 3251), ('DET NOUN NOUN ADP DET', 3151), ('ADJ NOUN ADP DET NOUN', 3129), ('VERB DET NOUN ADP DET', 3033), ('NOUN PUNCT DET NOUN NOUN', 2840), ('ADP DET NOUN NOUN NOUN', 2821), ('ADP DET NOUN NOUN NUM', 2797), ('DET ADJ NOUN ADP DET', 2774), ('VERB ADP DET NOUN ADP', 2762), ('NOUN NUM VERB DET NOUN', 2657), ('DET NOUN ADP DET ADJ', 2526), ('NOUN VERB VERB ADP DET', 2391), ('NOUN ADP DET NOUN VERB', 2364), ('ADP DET ADJ NOUN ADP', 2338), ('ADP DET NOUN ADP NOUN', 2272), ('NOUN NOUN VERB ADP DET', 2239), ('VERB VERB VERB ADP DET', 2238), ('NOUN VERB VERB VERB ADP', 2198), ('NOUN NOUN PUNCT DET NOUN', 2136), ('ADP NOUN ADP DET NOUN', 2104), ('ADP DET NOUN NOUN VERB', 2097), ('ADP DET NOUN NOUN ADP', 2059), ('ADP DET NOUN PUNCT DET', 2044), ('NOUN PUNCT DET NOUN VERB', 2007), ('VERB VERB ADP DET ADJ', 1974), ('DET NOUN NOUN VERB VERB', 1928), ('NOUN NUM PUNCT DET NOUN', 1916), ('DET NOUN NOUN NUM PUNCT', 1825), ('NOUN PUNCT ADP DET NOUN', 1825), ('ADP DET ADJ NOUN VERB', 1780), ('DET NOUN PUNCT DET NOUN', 1774), ('NOUN NOUN ADP DET ADJ', 1754), ('PUNCT DET NOUN NOUN VERB', 1748), ('DET NOUN NOUN NUM VERB', 1746), ('DET ADJ NOUN NOUN PUNCT', 1742), ('NOUN PUNCT DET ADJ NOUN', 1718), ('NOUN NOUN NUM VERB VERB', 1710)]\n"
     ]
    }
   ],
   "source": [
    "fourgrams = []\n",
    "fivegrams = []\n",
    "\n",
    "for doc in spacy_docs:\n",
    "    for i, token in enumerate(doc[:-4]):\n",
    "        fourgrams.append(\"{0} {1} {2} {3}\".format(token.pos_, doc[i+1].pos_, doc[i+2].pos_, doc[i+3].pos_))\n",
    "        fivegrams.append(\"{0} {1} {2} {3} {4}\".format(token.pos_, doc[i+1].pos_, doc[i+2].pos_, doc[i+3].pos_, doc[i+4].pos_))\n",
    "    fourgrams.append(\"{0} {1} {2} {3}\".format(doc[-4].pos_, doc[-3].pos_, doc[-2].pos_, doc[-1].pos_))\n",
    "    \n",
    "fourgram_count = Counter(fourgrams)\n",
    "fivegram_count = Counter(fivegrams)\n",
    "print(\"20 most common 4-grams: {0}\".format(fourgram_count.most_common(50)))\n",
    "print(\"20 most common 5-grams: {0}\".format(fivegram_count.most_common(50)))"
   ]
  },
  {
   "cell_type": "markdown",
   "metadata": {},
   "source": [
    "These don't seem to help for building grammar rules.\n",
    "\n",
    "They don't capture the compositional structure.  \n",
    "\n",
    "See here for some discussion of why POS group: http://www.mit.edu/~6.863/spring2009/jmnew/11.pdf. Noun phrases are consitituents before and after a verb. This syncs with our ROOT verb from our dependency parse. \n",
    "\n",
    "Again are our groups different levels of the dependency pass children?"
   ]
  },
  {
   "cell_type": "code",
   "execution_count": 24,
   "metadata": {
    "collapsed": true
   },
   "outputs": [],
   "source": [
    "test_sent = nlp(\"\"\"\n",
    "It is also recognised that the body of the receptacle can be configured to include only one resilient arm that is biased with respect to the wall of the body, thus facilitating the retention of the stylus between the one arm and the wall (and/or other rigid secondary structures of the body)\n",
    "\"\"\")"
   ]
  },
  {
   "cell_type": "code",
   "execution_count": 25,
   "metadata": {
    "collapsed": true
   },
   "outputs": [],
   "source": [
    "sent = list(test_sent.sents)[0]"
   ]
  },
  {
   "cell_type": "code",
   "execution_count": 26,
   "metadata": {},
   "outputs": [
    {
     "data": {
      "text/plain": [
       "recognised"
      ]
     },
     "execution_count": 26,
     "metadata": {},
     "output_type": "execute_result"
    }
   ],
   "source": [
    "sent.root"
   ]
  },
  {
   "cell_type": "code",
   "execution_count": 27,
   "metadata": {},
   "outputs": [
    {
     "data": {
      "text/plain": [
       "[It, is, also, configured]"
      ]
     },
     "execution_count": 27,
     "metadata": {},
     "output_type": "execute_result"
    }
   ],
   "source": [
    "list(sent.root.children)"
   ]
  },
  {
   "cell_type": "code",
   "execution_count": 28,
   "metadata": {},
   "outputs": [
    {
     "data": {
      "text/plain": [
       "[It, is, also]"
      ]
     },
     "execution_count": 28,
     "metadata": {},
     "output_type": "execute_result"
    }
   ],
   "source": [
    "list(sent.root.lefts)"
   ]
  },
  {
   "cell_type": "code",
   "execution_count": 29,
   "metadata": {},
   "outputs": [
    {
     "data": {
      "text/plain": [
       "[]"
      ]
     },
     "execution_count": 29,
     "metadata": {},
     "output_type": "execute_result"
    }
   ],
   "source": [
    "list(list(sent.root.lefts)[0].lefts)"
   ]
  },
  {
   "cell_type": "code",
   "execution_count": 30,
   "metadata": {},
   "outputs": [
    {
     "data": {
      "text/plain": [
       "[configured]"
      ]
     },
     "execution_count": 30,
     "metadata": {},
     "output_type": "execute_result"
    }
   ],
   "source": [
    "list(sent.root.rights)"
   ]
  },
  {
   "cell_type": "code",
   "execution_count": 31,
   "metadata": {},
   "outputs": [
    {
     "data": {
      "text/plain": [
       "[that, body, can, be, include]"
      ]
     },
     "execution_count": 31,
     "metadata": {},
     "output_type": "execute_result"
    }
   ],
   "source": [
    "list(list(sent.root.rights)[0].children)"
   ]
  },
  {
   "cell_type": "code",
   "execution_count": 32,
   "metadata": {},
   "outputs": [
    {
     "data": {
      "text/plain": [
       "[that, body, can, be]"
      ]
     },
     "execution_count": 32,
     "metadata": {},
     "output_type": "execute_result"
    }
   ],
   "source": [
    "list(list(sent.root.children)[-1].lefts)"
   ]
  },
  {
   "cell_type": "code",
   "execution_count": 33,
   "metadata": {},
   "outputs": [
    {
     "data": {
      "text/plain": [
       "[, It]"
      ]
     },
     "execution_count": 33,
     "metadata": {},
     "output_type": "execute_result"
    }
   ],
   "source": [
    "list(list(sent.root.children)[0].subtree)"
   ]
  },
  {
   "cell_type": "code",
   "execution_count": 34,
   "metadata": {},
   "outputs": [
    {
     "data": {
      "text/plain": [
       "[the, of]"
      ]
     },
     "execution_count": 34,
     "metadata": {},
     "output_type": "execute_result"
    }
   ],
   "source": [
    "list(list(list(sent.root.children)[-1].lefts)[1].children)"
   ]
  },
  {
   "cell_type": "code",
   "execution_count": 43,
   "metadata": {
    "collapsed": true
   },
   "outputs": [],
   "source": [
    "def print_l_pos(node):\n",
    "    \"\"\" Print the POS of children if node has children.\"\"\"\n",
    "    if list(node.lefts):\n",
    "        print([word.pos_ for word in node.lefts] + [node.pos_])\n",
    "        for child in node.lefts:\n",
    "            print_l_pos(child)\n",
    "\n",
    "def print_r_pos(node):\n",
    "    \"\"\" Print the POS of children if node has children.\"\"\"\n",
    "    if list(node.rights):\n",
    "        print([node.pos_] + [word.pos_ for word in node.rights])\n",
    "        for child in node.rights:\n",
    "            print_r_pos(child)"
   ]
  },
  {
   "cell_type": "code",
   "execution_count": 44,
   "metadata": {},
   "outputs": [
    {
     "name": "stdout",
     "output_type": "stream",
     "text": [
      "['PRON', 'VERB', 'ADV', 'VERB']\n",
      "['SPACE', 'PRON']\n"
     ]
    }
   ],
   "source": [
    "print_l_pos(sent.root)"
   ]
  },
  {
   "cell_type": "code",
   "execution_count": 45,
   "metadata": {},
   "outputs": [
    {
     "name": "stdout",
     "output_type": "stream",
     "text": [
      "['VERB', 'VERB']\n",
      "['VERB', 'VERB']\n",
      "['VERB', 'NOUN']\n",
      "['NOUN', 'VERB']\n",
      "['VERB', 'ADP', 'VERB']\n",
      "['ADP', 'NOUN']\n",
      "['NOUN', 'ADP']\n",
      "['ADP', 'NOUN']\n",
      "['NOUN', 'ADP', 'PUNCT']\n",
      "['ADP', 'NOUN']\n",
      "['VERB', 'NOUN']\n",
      "['NOUN', 'ADP']\n",
      "['ADP', 'NOUN']\n",
      "['NOUN', 'ADP']\n",
      "['ADP', 'NOUN']\n",
      "['NOUN', 'CCONJ', 'NOUN', 'PUNCT']\n",
      "['NOUN', 'PUNCT', 'CCONJ', 'NOUN', 'ADP']\n",
      "['ADP', 'NOUN']\n",
      "['PUNCT', 'SPACE']\n"
     ]
    }
   ],
   "source": [
    "print_r_pos(sent.root)"
   ]
  },
  {
   "cell_type": "markdown",
   "metadata": {},
   "source": [
    "### Subtrees"
   ]
  },
  {
   "cell_type": "code",
   "execution_count": 48,
   "metadata": {
    "collapsed": true
   },
   "outputs": [],
   "source": [
    "def print_subtree(node):\n",
    "    \"\"\" Print the subtree of a node.\"\"\"\n",
    "    print(list(node.subtree))\n",
    "    if node.children:\n",
    "        for child in node.children:\n",
    "            print_subtree(child)"
   ]
  },
  {
   "cell_type": "code",
   "execution_count": 49,
   "metadata": {
    "scrolled": true
   },
   "outputs": [
    {
     "name": "stdout",
     "output_type": "stream",
     "text": [
      "[\n",
      ", It, is, also, recognised, that, the, body, of, the, receptacle, can, be, configured, to, include, only, one, resilient, arm, that, is, biased, with, respect, to, the, wall, of, the, body, ,, thus, facilitating, the, retention, of, the, stylus, between, the, one, arm, and, the, wall, (, and/or, other, rigid, secondary, structures, of, the, body, ), \n",
      "]\n",
      "[\n",
      ", It]\n",
      "[\n",
      "]\n",
      "[is]\n",
      "[also]\n",
      "[that, the, body, of, the, receptacle, can, be, configured, to, include, only, one, resilient, arm, that, is, biased, with, respect, to, the, wall, of, the, body, ,, thus, facilitating, the, retention, of, the, stylus, between, the, one, arm, and, the, wall, (, and/or, other, rigid, secondary, structures, of, the, body, ), \n",
      "]\n",
      "[that]\n",
      "[the, body, of, the, receptacle]\n",
      "[the]\n",
      "[of, the, receptacle]\n",
      "[the, receptacle]\n",
      "[the]\n",
      "[can]\n",
      "[be]\n",
      "[to, include, only, one, resilient, arm, that, is, biased, with, respect, to, the, wall, of, the, body, ,, thus, facilitating, the, retention, of, the, stylus, between, the, one, arm, and, the, wall, (, and/or, other, rigid, secondary, structures, of, the, body, ), \n",
      "]\n",
      "[to]\n",
      "[only, one, resilient, arm, that, is, biased, with, respect, to, the, wall, of, the, body, ,, thus, facilitating, the, retention, of, the, stylus, between, the, one, arm, and, the, wall, (, and/or, other, rigid, secondary, structures, of, the, body, ), \n",
      "]\n",
      "[only, one]\n",
      "[only]\n",
      "[resilient]\n",
      "[that, is, biased, with, respect, to, the, wall, of, the, body, ,, thus, facilitating, the, retention, of, the, stylus, between, the, one, arm, and, the, wall, (, and/or, other, rigid, secondary, structures, of, the, body, ), \n",
      "]\n",
      "[that]\n",
      "[is]\n",
      "[with, respect, to, the, wall, of, the, body, ,]\n",
      "[respect, to, the, wall, of, the, body, ,]\n",
      "[to, the, wall, of, the, body, ,]\n",
      "[the, wall, of, the, body, ,]\n",
      "[the]\n",
      "[of, the, body]\n",
      "[the, body]\n",
      "[the]\n",
      "[,]\n",
      "[thus, facilitating, the, retention, of, the, stylus, between, the, one, arm, and, the, wall, (, and/or, other, rigid, secondary, structures, of, the, body, ), \n",
      "]\n",
      "[thus]\n",
      "[the, retention, of, the, stylus, between, the, one, arm, and, the, wall, (, and/or, other, rigid, secondary, structures, of, the, body, ), \n",
      "]\n",
      "[the]\n",
      "[of, the, stylus, between, the, one, arm, and, the, wall, (, and/or, other, rigid, secondary, structures, of, the, body, ), \n",
      "]\n",
      "[the, stylus, between, the, one, arm, and, the, wall, (, and/or, other, rigid, secondary, structures, of, the, body, ), \n",
      "]\n",
      "[the]\n",
      "[between, the, one, arm, and, the, wall, (, and/or, other, rigid, secondary, structures, of, the, body, ), \n",
      "]\n",
      "[the, one, arm, and, the, wall, (, and/or, other, rigid, secondary, structures, of, the, body, ), \n",
      "]\n",
      "[the]\n",
      "[one]\n",
      "[and]\n",
      "[the, wall, (, and/or, other, rigid, secondary, structures, of, the, body]\n",
      "[the]\n",
      "[(]\n",
      "[and/or]\n",
      "[other, rigid, secondary, structures]\n",
      "[other]\n",
      "[rigid]\n",
      "[secondary]\n",
      "[of, the, body]\n",
      "[the, body]\n",
      "[the]\n",
      "[), \n",
      "]\n",
      "[\n",
      "]\n"
     ]
    }
   ],
   "source": [
    "print_subtree(sent.root)"
   ]
  },
  {
   "cell_type": "markdown",
   "metadata": {},
   "source": [
    "These subtrees do contain useful segments of the sentence.\n",
    "\n",
    "For example:\n",
    "* ```[that, the, body, of, the, receptacle, can, be, configured, to, include, only, one, resilient, arm, that, is, biased, with, respect, to, the, wall, of, the, body, ,, thus, facilitating, the, retention, of, the, stylus, between, the, one, arm, and, the, wall, (, and/or, other, rigid, secondary, structures, of, the, body, ), \n",
    "]```\n",
    "* ``` [that, is, biased, with, respect, to, the, wall, of, the, body, ,, thus, facilitating, the, retention, of, the, stylus, between, the, one, arm, and, the, wall, (, and/or, other, rigid, secondary, structures, of, the, body, ), \n",
    "] ```\n",
    "* ```\n",
    "thus, facilitating, the, retention, of, the, stylus, between, the, one, arm, and, the, wall, (, and/or, other, rigid, secondary, structures, of, the, body,\n",
    "```"
   ]
  },
  {
   "cell_type": "code",
   "execution_count": 63,
   "metadata": {
    "collapsed": true
   },
   "outputs": [],
   "source": [
    "def print_long_subtree(node):\n",
    "    \"\"\" Print the subtree of a node.\"\"\"\n",
    "    subtree = list(node.subtree)\n",
    "    if len(subtree) > 1:\n",
    "        print(node.text, node.pos_, node.dep_, subtree)\n",
    "    if node.children:\n",
    "        print(len(list(node.children)))\n",
    "        print([c.text for c in node.children])\n",
    "        for child in node.children:\n",
    "            print_long_subtree(child)"
   ]
  },
  {
   "cell_type": "code",
   "execution_count": 64,
   "metadata": {
    "scrolled": true
   },
   "outputs": [
    {
     "name": "stdout",
     "output_type": "stream",
     "text": [
      "recognised VERB ROOT [\n",
      ", It, is, also, recognised, that, the, body, of, the, receptacle, can, be, configured, to, include, only, one, resilient, arm, that, is, biased, with, respect, to, the, wall, of, the, body, ,, thus, facilitating, the, retention, of, the, stylus, between, the, one, arm, and, the, wall, (, and/or, other, rigid, secondary, structures, of, the, body, ), \n",
      "]\n",
      "4\n",
      "['It', 'is', 'also', 'configured']\n",
      "It PRON nsubjpass [\n",
      ", It]\n",
      "1\n",
      "['\\n']\n",
      "0\n",
      "[]\n",
      "0\n",
      "[]\n",
      "0\n",
      "[]\n",
      "configured VERB ccomp [that, the, body, of, the, receptacle, can, be, configured, to, include, only, one, resilient, arm, that, is, biased, with, respect, to, the, wall, of, the, body, ,, thus, facilitating, the, retention, of, the, stylus, between, the, one, arm, and, the, wall, (, and/or, other, rigid, secondary, structures, of, the, body, ), \n",
      "]\n",
      "5\n",
      "['that', 'body', 'can', 'be', 'include']\n",
      "0\n",
      "[]\n",
      "body NOUN nsubjpass [the, body, of, the, receptacle]\n",
      "2\n",
      "['the', 'of']\n",
      "0\n",
      "[]\n",
      "of ADP prep [of, the, receptacle]\n",
      "1\n",
      "['receptacle']\n",
      "receptacle NOUN pobj [the, receptacle]\n",
      "1\n",
      "['the']\n",
      "0\n",
      "[]\n",
      "0\n",
      "[]\n",
      "0\n",
      "[]\n",
      "include VERB xcomp [to, include, only, one, resilient, arm, that, is, biased, with, respect, to, the, wall, of, the, body, ,, thus, facilitating, the, retention, of, the, stylus, between, the, one, arm, and, the, wall, (, and/or, other, rigid, secondary, structures, of, the, body, ), \n",
      "]\n",
      "2\n",
      "['to', 'arm']\n",
      "0\n",
      "[]\n",
      "arm NOUN dobj [only, one, resilient, arm, that, is, biased, with, respect, to, the, wall, of, the, body, ,, thus, facilitating, the, retention, of, the, stylus, between, the, one, arm, and, the, wall, (, and/or, other, rigid, secondary, structures, of, the, body, ), \n",
      "]\n",
      "3\n",
      "['one', 'resilient', 'biased']\n",
      "one NUM nummod [only, one]\n",
      "1\n",
      "['only']\n",
      "0\n",
      "[]\n",
      "0\n",
      "[]\n",
      "biased VERB relcl [that, is, biased, with, respect, to, the, wall, of, the, body, ,, thus, facilitating, the, retention, of, the, stylus, between, the, one, arm, and, the, wall, (, and/or, other, rigid, secondary, structures, of, the, body, ), \n",
      "]\n",
      "4\n",
      "['that', 'is', 'with', 'facilitating']\n",
      "0\n",
      "[]\n",
      "0\n",
      "[]\n",
      "with ADP prep [with, respect, to, the, wall, of, the, body, ,]\n",
      "1\n",
      "['respect']\n",
      "respect NOUN pobj [respect, to, the, wall, of, the, body, ,]\n",
      "1\n",
      "['to']\n",
      "to ADP prep [to, the, wall, of, the, body, ,]\n",
      "1\n",
      "['wall']\n",
      "wall NOUN pobj [the, wall, of, the, body, ,]\n",
      "3\n",
      "['the', 'of', ',']\n",
      "0\n",
      "[]\n",
      "of ADP prep [of, the, body]\n",
      "1\n",
      "['body']\n",
      "body NOUN pobj [the, body]\n",
      "1\n",
      "['the']\n",
      "0\n",
      "[]\n",
      "0\n",
      "[]\n",
      "facilitating VERB advcl [thus, facilitating, the, retention, of, the, stylus, between, the, one, arm, and, the, wall, (, and/or, other, rigid, secondary, structures, of, the, body, ), \n",
      "]\n",
      "2\n",
      "['thus', 'retention']\n",
      "0\n",
      "[]\n",
      "retention NOUN dobj [the, retention, of, the, stylus, between, the, one, arm, and, the, wall, (, and/or, other, rigid, secondary, structures, of, the, body, ), \n",
      "]\n",
      "2\n",
      "['the', 'of']\n",
      "0\n",
      "[]\n",
      "of ADP prep [of, the, stylus, between, the, one, arm, and, the, wall, (, and/or, other, rigid, secondary, structures, of, the, body, ), \n",
      "]\n",
      "1\n",
      "['stylus']\n",
      "stylus NOUN pobj [the, stylus, between, the, one, arm, and, the, wall, (, and/or, other, rigid, secondary, structures, of, the, body, ), \n",
      "]\n",
      "2\n",
      "['the', 'between']\n",
      "0\n",
      "[]\n",
      "between ADP prep [between, the, one, arm, and, the, wall, (, and/or, other, rigid, secondary, structures, of, the, body, ), \n",
      "]\n",
      "1\n",
      "['arm']\n",
      "arm NOUN pobj [the, one, arm, and, the, wall, (, and/or, other, rigid, secondary, structures, of, the, body, ), \n",
      "]\n",
      "5\n",
      "['the', 'one', 'and', 'wall', ')']\n",
      "0\n",
      "[]\n",
      "0\n",
      "[]\n",
      "0\n",
      "[]\n",
      "wall NOUN conj [the, wall, (, and/or, other, rigid, secondary, structures, of, the, body]\n",
      "5\n",
      "['the', '(', 'and/or', 'structures', 'of']\n",
      "0\n",
      "[]\n",
      "0\n",
      "[]\n",
      "0\n",
      "[]\n",
      "structures NOUN conj [other, rigid, secondary, structures]\n",
      "3\n",
      "['other', 'rigid', 'secondary']\n",
      "0\n",
      "[]\n",
      "0\n",
      "[]\n",
      "0\n",
      "[]\n",
      "of ADP prep [of, the, body]\n",
      "1\n",
      "['body']\n",
      "body NOUN pobj [the, body]\n",
      "1\n",
      "['the']\n",
      "0\n",
      "[]\n",
      ") PUNCT punct [), \n",
      "]\n",
      "1\n",
      "['\\n']\n",
      "0\n",
      "[]\n"
     ]
    }
   ],
   "source": [
    "print_long_subtree(sent.root)"
   ]
  },
  {
   "cell_type": "markdown",
   "metadata": {},
   "source": [
    "Do we need to look at the depth of the child links? We take the subtree above terminal nodes - but phrases such as \"of the body\" may be several layers."
   ]
  },
  {
   "cell_type": "markdown",
   "metadata": {},
   "source": [
    "Can we use graph processing libraries? The dependency parse is a DAG."
   ]
  },
  {
   "cell_type": "markdown",
   "metadata": {},
   "source": [
    "### Noun Chunks"
   ]
  },
  {
   "cell_type": "code",
   "execution_count": 56,
   "metadata": {},
   "outputs": [
    {
     "name": "stdout",
     "output_type": "stream",
     "text": [
      "['\\n_SPACE', 'It_PRON']\n",
      "['the_DET', 'body_NOUN']\n",
      "['the_DET', 'receptacle_NOUN']\n",
      "['only_ADV', 'one_NUM', 'resilient_ADJ', 'arm_NOUN']\n",
      "['respect_NOUN']\n",
      "['the_DET', 'wall_NOUN']\n",
      "['the_DET', 'body_NOUN']\n",
      "['the_DET', 'retention_NOUN']\n",
      "['the_DET', 'stylus_NOUN']\n",
      "['the_DET', 'one_NUM', 'arm_NOUN']\n",
      "['the_DET', 'wall_NOUN']\n",
      "['other_ADJ', 'rigid_ADJ', 'secondary_ADJ', 'structures_NOUN']\n",
      "['the_DET', 'body_NOUN']\n"
     ]
    }
   ],
   "source": [
    "for nc in sent.noun_chunks:\n",
    "    print([\"{0}_{1}\".format(word.text, word.pos_) for word in nc])"
   ]
  },
  {
   "cell_type": "markdown",
   "metadata": {},
   "source": [
    "These don't seem as relevant - mainly extracting the DET-NOUN relationship"
   ]
  },
  {
   "cell_type": "markdown",
   "metadata": {
    "collapsed": true
   },
   "source": [
    "https://web.stanford.edu/~jurafsky/slp3/14.pdf\n",
    "\n",
    "The motivation for all of the relations in the Universal Dependency scheme is\n",
    "beyond the scope of this chapter, but the core set of frequently used relations can be\n",
    "broken into two sets: clausal relations that describe syntactic roles with respect to a\n",
    "predicate (often a verb), and modifier relations that categorize the ways that words\n",
    "that can modify their heads\n",
    "   "
   ]
  },
  {
   "cell_type": "markdown",
   "metadata": {},
   "source": [
    "See this paper which discusses conversion between the parsing methods: https://homes.cs.washington.edu/~nasmith/papers/kong+rush+smith.naacl15.pdf and https://github.com/ikekonglp/PAD/tree/master/python."
   ]
  },
  {
   "cell_type": "markdown",
   "metadata": {},
   "source": [
    "spaCy uses the terms head and children to describe the words connected by a single arc in the dependency tree. The term dep is used for the arc label, which describes the type of syntactic relation that connects the child to the head. "
   ]
  },
  {
   "cell_type": "markdown",
   "metadata": {},
   "source": [
    "Can we look at patterns in the left and right branches of the tree?"
   ]
  },
  {
   "cell_type": "code",
   "execution_count": null,
   "metadata": {
    "collapsed": true
   },
   "outputs": [],
   "source": [
    "for doc in spacy_docs:\n",
    "    for sent in doc.sents:\n",
    "        lefts, pos, rights = print_pos(sent.root)\n",
    "        for child in lefts"
   ]
  }
 ],
 "metadata": {
  "kernelspec": {
   "display_name": "Python 3",
   "language": "python",
   "name": "python3"
  },
  "language_info": {
   "codemirror_mode": {
    "name": "ipython",
    "version": 3
   },
   "file_extension": ".py",
   "mimetype": "text/x-python",
   "name": "python",
   "nbconvert_exporter": "python",
   "pygments_lexer": "ipython3",
   "version": "3.5.2"
  }
 },
 "nbformat": 4,
 "nbformat_minor": 2
}
