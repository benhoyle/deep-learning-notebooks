{
 "cells": [
  {
   "cell_type": "markdown",
   "metadata": {},
   "source": [
    "# Claim Feature Modelling\n",
    "\n",
    "This notebook looks at some object models for patent claim features."
   ]
  },
  {
   "cell_type": "markdown",
   "metadata": {},
   "source": [
    "We have two main types of patent claim: apparatus and method.  \n",
    "\n",
    "The \"apparatus\" claim type includes system and kit claims. This claim covers a physical object or set of objects.\n",
    "\n",
    "The \"method\" claim type covers a method or process. It consists of a sequence of steps.\n",
    "\n",
    "A physical object has multiple parts. These may feature in the \"apparatus\" patent claim. The object or its parts may have limitations that define the structure of the object or part. An object or its parts are defined by nouns, whereas the interaction between parts is defined by verbs (commonly in the past tense). We can refer to an object, an object part, or a system or set of objects as an \"entity\".\n",
    "\n",
    "Steps of a \"method\" claim are verbs using the present participle."
   ]
  },
  {
   "cell_type": "markdown",
   "metadata": {},
   "source": [
    "Our \"apparatus\" claim may be represented as a series of nested graphs. \n",
    "\n",
    "A single graph may be represented as:\n",
    "```\n",
    "graph = { \"a\" : [\"c\"],\n",
    "          \"b\" : [\"c\", \"e\"],\n",
    "          \"c\" : [\"a\", \"b\", \"d\", \"e\"],\n",
    "          \"d\" : [\"c\"],\n",
    "          \"e\" : [\"c\", \"b\"],\n",
    "          \"f\" : []\n",
    "        }\n",
    "```\n",
    "We would have something similar, but each node would be an \"entity\" representation. "
   ]
  },
  {
   "cell_type": "code",
   "execution_count": 1,
   "metadata": {},
   "outputs": [
    {
     "name": "stdout",
     "output_type": "stream",
     "text": [
      "[1, 2, 3, 2]\n",
      "[1, 2, 2]\n"
     ]
    }
   ],
   "source": [
    "c = [1, 2, 3]\n",
    "c += [2]\n",
    "print(c)\n",
    "c.pop(2)\n",
    "print(c)"
   ]
  },
  {
   "cell_type": "code",
   "execution_count": 2,
   "metadata": {
    "collapsed": true
   },
   "outputs": [],
   "source": [
    "import spacy\n",
    "\n",
    "nlp = spacy.load('en') \n",
    "\n",
    "# Python graph class tutorial- http://www.python-course.eu/graphs_python.php\n",
    "class StringFeature:\n",
    "    \"\"\" Abstract object for a phrase or word.\n",
    "     \n",
    "     Attributes:\n",
    "        headpos - the head part of speech, e.g. noun or verb\n",
    "        tokens - tuple of (string, POS_tag)        \n",
    "    \"\"\"\n",
    "    def __init__(self, string):\n",
    "        \"\"\" Initialise object.\"\"\"\n",
    "        self.doc = nlp(string)\n",
    "    \n",
    "    def __repr__(self):\n",
    "        return self.doc\n",
    "    \n",
    "    @property\n",
    "    def stringphrase(self):\n",
    "        return self.__repr__()\n",
    "    \n",
    "class ClaimFeature(StringFeature):\n",
    "    \"\"\" Abstract object for instantiating entities and steps. \n",
    "    \n",
    "    Attributes:\n",
    "        ref_num - int representing associated reference number (maybe a list?)\n",
    "        parent (? - or get from navigating children)\n",
    "        children\n",
    "        limitations\n",
    "        essential - T or F (optional = F)\n",
    "        number - (default = 1, >1 = plurality) \n",
    "        order - if in a set of children where it comes in the claim\n",
    "    \n",
    "    \"\"\"\n",
    "    def __init__(self, string):\n",
    "        \"\"\" Initialise object. \"\"\"\n",
    "        super().__init__(string) \n",
    "        self.children = list()\n",
    "        self.limitations = list()\n",
    "       \n",
    "    def add_child(self, child):\n",
    "        \"\"\" Add a child entity.\n",
    "        \n",
    "        child: an object of the same class\n",
    "        \"\"\"\n",
    "        # if string convert to ClaimFeature\n",
    "        if isinstance(child, str):\n",
    "            child = type(self)(child)\n",
    "        assert isinstance(child, type(self))\n",
    "        self.children.append(child)\n",
    "        return self.children\n",
    "    \n",
    "    def remove_child(self, child):\n",
    "        \"\"\" Remove a child entity.\n",
    "        \n",
    "        child: a child object to remove\n",
    "        \"\"\"\n",
    "        self.children.remove(child)\n",
    "        return self.children\n",
    "    \n",
    "    def add_limitation(self, limitation):\n",
    "        \"\"\" Add a limitation.\n",
    "        \n",
    "        limitation: a Limitation object\n",
    "        \"\"\"\n",
    "        if isinstance(limitation, str):\n",
    "            limitation = Limitation(limitation)\n",
    "        assert isinstance(limitation, Limitation)\n",
    "        self.limitations.append(limitation)\n",
    "        return self.limitations\n",
    "    \n",
    "    def remove_limitation(self, limitation):\n",
    "        \"\"\" Remove a limitation.\n",
    "        \n",
    "       limitation: a Limitation object\n",
    "        \"\"\"\n",
    "        self.limitations.remove(limitation)\n",
    "        return self.limitations\n",
    "    \n",
    "    def prettyprint(self, object_str_single, object_str_plural, tabs=0):\n",
    "        \"\"\" Pretty print a representation of feature with\n",
    "        children and limitations.\n",
    "        \n",
    "        object_str_single: string to call feature instantiation \n",
    "        object_str_plural: string to call feature instantiation (plural)\n",
    "        \"\"\"\n",
    "        tabtext = \"\\t\"*tabs\n",
    "        print(\"{0}{1}: {2}\\n\".format(tabtext, object_str_single, self.__repr__()))\n",
    "        \n",
    "        if self.limitations:\n",
    "            tabs = tabs + 1\n",
    "            tabtext = \"\\t\"*tabs\n",
    "            print(\"{0}Limitations:\\n\".format(tabtext))\n",
    "            for i, limitation in enumerate(self.limitations):\n",
    "                print(\"\\t{0}{1} - {2}\\n\".format(tabtext, i, limitation.__repr__()))\n",
    "        \n",
    "        if self.children:\n",
    "            tabs = tabs + 1\n",
    "            print(\"{0}Child {1}:\\n\".format(tabtext, object_str_plural))\n",
    "            for i, child in enumerate(self.children):\n",
    "                child.prettyprint(tabs=tabs)\n",
    "    \n",
    "    \n",
    "class Entity(ClaimFeature):\n",
    "    \"\"\" Object to represent an entity in a claim. \n",
    "    \n",
    "    Attributes:\n",
    "        see ClaimFeature\n",
    "        headpos = headnoun\n",
    "    \n",
    "    \"\"\"\n",
    "    def prettyprint(self, tabs=0):\n",
    "        super().prettyprint(\"Entity\", \"Entities\", tabs)\n",
    "        \n",
    "\n",
    "class Step(ClaimFeature):\n",
    "    \"\"\" Object to represent a step in a claim. \n",
    "    \n",
    "    Attributes:\n",
    "        see ClaimFeature\n",
    "        headpos = headnoun\n",
    "        \n",
    "    \"\"\"\n",
    "    def prettyprint(self, tabs=0):\n",
    "        super().prettyprint(\"Step\", \"Steps\", tabs)\n",
    "        \n",
    "        \n",
    "class Limitation(StringFeature):\n",
    "    \"\"\" Object to represent a limitation applied to an entity or method step.\n",
    "    \n",
    "    Attributes:\n",
    "        see StringFeature\n",
    "    \n",
    "    \"\"\"\n",
    "    pass"
   ]
  },
  {
   "cell_type": "code",
   "execution_count": 3,
   "metadata": {
    "collapsed": true
   },
   "outputs": [],
   "source": [
    "class Claim:\n",
    "    \"\"\" Abstract object to represent a claim. \n",
    "    \n",
    "    Attributes:\n",
    "        features\n",
    "    \"\"\"\n",
    "    def __init__(self, features=[]):\n",
    "        \"\"\" Initialise object.\n",
    "        \n",
    "        features - list of instantiated ClaimFeature objects\n",
    "        \"\"\"\n",
    "        self.features = features\n",
    "\n",
    "class MethodClaim(Claim):\n",
    "    \"\"\" Object to represent an apparatus claim. \n",
    "    \n",
    "    Attributes:\n",
    "        steps\n",
    "    \"\"\"\n",
    "    def __init__(self, steps=[]):\n",
    "        \"\"\" Initialise object.\n",
    "        \n",
    "        steps - list of Step objects\n",
    "        \"\"\"\n",
    "        super().__init__(steps) \n",
    "        \n",
    "    @property\n",
    "    def steps(self):\n",
    "        return self.features\n",
    "\n",
    "class ApparatusClaim(Claim):\n",
    "    \"\"\" Object to represent an apparatus claim. \n",
    "    \n",
    "    Attributes:\n",
    "        entities  \n",
    "    \"\"\"\n",
    "    def __init__(self, entities=[]):\n",
    "        \"\"\" Initialise object.\n",
    "        \n",
    "        entities - list of Entity objects\n",
    "        \"\"\"\n",
    "        super().__init__(entities) \n",
    "    \n",
    "    @property\n",
    "    def entities(self):\n",
    "        return self.features"
   ]
  },
  {
   "cell_type": "code",
   "execution_count": 61,
   "metadata": {
    "collapsed": true
   },
   "outputs": [],
   "source": [
    "a = ApparatusClaim()\n",
    "e = Entity(\"an apparatus\")"
   ]
  },
  {
   "cell_type": "code",
   "execution_count": 62,
   "metadata": {},
   "outputs": [
    {
     "data": {
      "text/plain": [
       "an apparatus"
      ]
     },
     "execution_count": 62,
     "metadata": {},
     "output_type": "execute_result"
    }
   ],
   "source": [
    "e"
   ]
  },
  {
   "cell_type": "code",
   "execution_count": 63,
   "metadata": {},
   "outputs": [
    {
     "name": "stdout",
     "output_type": "stream",
     "text": [
      "Entity: an apparatus\n",
      "\n",
      "Limitations:\n",
      "\n",
      "Child Entities:\n",
      "\n"
     ]
    }
   ],
   "source": [
    "e.prettyprint()"
   ]
  },
  {
   "cell_type": "code",
   "execution_count": 64,
   "metadata": {
    "collapsed": true
   },
   "outputs": [],
   "source": [
    "a.features = [e, e]"
   ]
  },
  {
   "cell_type": "code",
   "execution_count": 65,
   "metadata": {},
   "outputs": [
    {
     "data": {
      "text/plain": [
       "[an apparatus, an apparatus]"
      ]
     },
     "execution_count": 65,
     "metadata": {},
     "output_type": "execute_result"
    }
   ],
   "source": [
    "a.entities"
   ]
  },
  {
   "cell_type": "markdown",
   "metadata": {},
   "source": [
    "We could do with the init and add limitation working with strings that get converted behind the scenes?  \n",
    "\n",
    "But POS won't be accurate on string portions. But when we are drafting we will not have POS.\n",
    "\n",
    "Add child could take a string and convert into an entity/step behind the scenes?\n",
    "\n",
    "For claim printing we want to generate a string representation from the parts."
   ]
  },
  {
   "cell_type": "code",
   "execution_count": 66,
   "metadata": {},
   "outputs": [
    {
     "data": {
      "text/plain": [
       "[('an', 'DT'), ('apparatus', 'NN')]"
      ]
     },
     "execution_count": 66,
     "metadata": {},
     "output_type": "execute_result"
    }
   ],
   "source": [
    "e.tokens"
   ]
  },
  {
   "cell_type": "code",
   "execution_count": 91,
   "metadata": {},
   "outputs": [
    {
     "name": "stdout",
     "output_type": "stream",
     "text": [
      "Entity: an apparatus\n",
      "\n",
      "\tLimitations:\n",
      "\n",
      "\t\t0 - width greater than length\n",
      "\n",
      "\tChild Entities:\n",
      "\n",
      "\t\tEntity: a chamber\n",
      "\n",
      "\t\tEntity: a lid\n",
      "\n"
     ]
    }
   ],
   "source": [
    "e = Entity(\"an apparatus\")\n",
    "e.add_child(\"a chamber\")\n",
    "e.add_child(\"a lid\")\n",
    "e.add_limitation(\"width greater than length\")\n",
    "e.prettyprint()"
   ]
  },
  {
   "cell_type": "code",
   "execution_count": 92,
   "metadata": {},
   "outputs": [
    {
     "data": {
      "text/plain": [
       "[covering the chamber]"
      ]
     },
     "execution_count": 92,
     "metadata": {},
     "output_type": "execute_result"
    }
   ],
   "source": [
    "e.children[1].add_limitation(\"covering the chamber\")"
   ]
  },
  {
   "cell_type": "code",
   "execution_count": 93,
   "metadata": {},
   "outputs": [
    {
     "name": "stdout",
     "output_type": "stream",
     "text": [
      "Entity: an apparatus\n",
      "\n",
      "\tLimitations:\n",
      "\n",
      "\t\t0 - width greater than length\n",
      "\n",
      "\tChild Entities:\n",
      "\n",
      "\t\tEntity: a chamber\n",
      "\n",
      "\t\tEntity: a lid\n",
      "\n",
      "\t\t\tLimitations:\n",
      "\n",
      "\t\t\t\t0 - covering the chamber\n",
      "\n"
     ]
    }
   ],
   "source": [
    "e.prettyprint()"
   ]
  },
  {
   "cell_type": "code",
   "execution_count": 94,
   "metadata": {},
   "outputs": [
    {
     "name": "stdout",
     "output_type": "stream",
     "text": [
      "Entity: an apparatus\n",
      "\n",
      "\tLimitations:\n",
      "\n",
      "\t\t0 - width greater than length\n",
      "\n",
      "\tChild Entities:\n",
      "\n",
      "\t\tEntity: a chamber\n",
      "\n",
      "\t\tEntity: a lid\n",
      "\n",
      "\t\t\tLimitations:\n",
      "\n",
      "\t\t\t\t0 - covering the chamber\n",
      "\n",
      "\t\t\tChild Entities:\n",
      "\n",
      "\t\t\t\tEntity: depression\n",
      "\n"
     ]
    }
   ],
   "source": [
    "e.children[1].add_child(\"depression\")\n",
    "e.prettyprint()"
   ]
  },
  {
   "cell_type": "markdown",
   "metadata": {},
   "source": [
    "We need a subtype of limitation that is a \"relationship\" with an existing entity (or a relative limitation), e.g. in the above example \"covering the chamber\" ought to refer to the chamber as an entity.  \n",
    "\n",
    "Also how do you handle \"is a X\" style statements (as opposed to \"has a\" or \"comprises a\")?\n",
    "\n",
    "Limitation is more a property."
   ]
  },
  {
   "cell_type": "code",
   "execution_count": 95,
   "metadata": {},
   "outputs": [
    {
     "name": "stdout",
     "output_type": "stream",
     "text": [
      "Step: method of washing\n",
      "\n",
      "Child Steps:\n",
      "\n",
      "\tStep: washing face\n",
      "\n",
      "\t\tLimitations:\n",
      "\n",
      "\t\t\t0 - with soap\n",
      "\n",
      "\tStep: washing hands\n",
      "\n"
     ]
    }
   ],
   "source": [
    "m = Step(\"method of washing\")\n",
    "m.add_child(\"washing face\")\n",
    "m.add_child(\"washing hands\")\n",
    "m.children[0].add_limitation(\"with soap\")\n",
    "m.prettyprint()"
   ]
  },
  {
   "cell_type": "code",
   "execution_count": 96,
   "metadata": {},
   "outputs": [
    {
     "data": {
      "text/plain": [
       "[('washing', 'VBG'), ('face', 'NN')]"
      ]
     },
     "execution_count": 96,
     "metadata": {},
     "output_type": "execute_result"
    }
   ],
   "source": [
    "m.children[0].tokens"
   ]
  },
  {
   "cell_type": "code",
   "execution_count": 97,
   "metadata": {
    "collapsed": true
   },
   "outputs": [],
   "source": [
    "from nltk.corpus import wordnet as wn"
   ]
  },
  {
   "cell_type": "code",
   "execution_count": 106,
   "metadata": {},
   "outputs": [
    {
     "name": "stdout",
     "output_type": "stream",
     "text": [
      "[Lemma('wash.v.01.wash'), Lemma('wash.v.01.rinse')] clean with some chemical process\n",
      "[Lemma('wash.v.02.wash'), Lemma('wash.v.02.lave')] cleanse (one's body) with soap and water\n",
      "[Lemma('wash.v.03.wash'), Lemma('wash.v.03.launder')] cleanse with a cleaning agent, such as soap, and water\n",
      "[Lemma('wash.v.04.wash')] move by or as if by water\n",
      "[Lemma('wash.v.05.wash')] be capable of being washed\n",
      "[Lemma('wash.v.06.wash')] admit to testing or proof\n",
      "[Lemma('wash.v.07.wash')] separate dirt or gravel from (precious minerals)\n",
      "[Lemma('wash.v.08.wash')] apply a thin coating of paint, metal, etc., to\n",
      "[Lemma('wash.v.09.wash'), Lemma('wash.v.09.wash_out'), Lemma('wash.v.09.wash_off'), Lemma('wash.v.09.wash_away')] remove by the application of water or other liquid and soap or some other cleaning agent\n",
      "[Lemma('wash.v.10.wash')] form by erosion\n",
      "[Lemma('moisten.v.01.moisten'), Lemma('moisten.v.01.wash'), Lemma('moisten.v.01.dampen')] make moist\n",
      "[Lemma('lave.v.01.lave'), Lemma('lave.v.01.lap'), Lemma('lave.v.01.wash')] wash or flow against\n",
      "[Lemma('wash.v.13.wash')] to cleanse (itself or another animal) by licking\n"
     ]
    }
   ],
   "source": [
    "synsets = wn.synsets('washing', pos=wn.VERB)\n",
    "\n",
    "for ss in synsets:\n",
    "    print(ss.lemmas(), ss.definition())"
   ]
  },
  {
   "cell_type": "code",
   "execution_count": 108,
   "metadata": {},
   "outputs": [
    {
     "name": "stdout",
     "output_type": "stream",
     "text": [
      "[Lemma('face.n.01.face'), Lemma('face.n.01.human_face')] the front of the human head from the forehead to the chin and ear to ear [Synset('external_body_part.n.01')]\n",
      "[Lemma('expression.n.01.expression'), Lemma('expression.n.01.look'), Lemma('expression.n.01.aspect'), Lemma('expression.n.01.facial_expression'), Lemma('expression.n.01.face')] the feelings expressed on a person's face [Synset('countenance.n.01')]\n",
      "[Lemma('face.n.03.face')] the general outward appearance of something [Synset('appearance.n.01')]\n",
      "[Lemma('face.n.04.face')] the striking or working surface of an implement [Synset('surface.n.01')]\n",
      "[Lemma('face.n.05.face')] a part of a person that is used to refer to a person [Synset('person.n.01')]\n",
      "[Lemma('side.n.04.side'), Lemma('side.n.04.face')] a surface forming part of the outside of an object [Synset('surface.n.02')]\n",
      "[Lemma('face.n.07.face')] the part of an animal corresponding to the human face [Synset('external_body_part.n.01')]\n",
      "[Lemma('face.n.08.face')] the side upon which the use of a thing depends (usually the most prominent surface of an object) [Synset('front.n.04')]\n",
      "[Lemma('grimace.n.01.grimace'), Lemma('grimace.n.01.face')] a contorted facial expression [Synset('facial_expression.n.01')]\n",
      "[Lemma('font.n.01.font'), Lemma('font.n.01.fount'), Lemma('font.n.01.typeface'), Lemma('font.n.01.face'), Lemma('font.n.01.case')] a specific size and style of type within a type family [Synset('type.n.04')]\n",
      "[Lemma('face.n.11.face')] status in the eyes of others [Synset('status.n.01')]\n",
      "[Lemma('boldness.n.02.boldness'), Lemma('boldness.n.02.nerve'), Lemma('boldness.n.02.brass'), Lemma('boldness.n.02.face'), Lemma('boldness.n.02.cheek')] impudent aggressiveness [Synset('aggressiveness.n.01')]\n",
      "[Lemma('face.n.13.face')] a vertical surface of a building or cliff [Synset('vertical_surface.n.01')]\n"
     ]
    }
   ],
   "source": [
    "synsets = wn.synsets('face', pos=wn.NOUN)\n",
    "\n",
    "for ss in synsets:\n",
    "    print(ss.lemmas(), ss.definition(), ss.hypernyms())"
   ]
  },
  {
   "cell_type": "code",
   "execution_count": 109,
   "metadata": {},
   "outputs": [
    {
     "name": "stdout",
     "output_type": "stream",
     "text": [
      "Synset('chamber.n.01') [Lemma('chamber.n.01.chamber')] a natural or artificial enclosed space [Synset('enclosure.n.01')]\n",
      "Synset('chamber.n.02') [Lemma('chamber.n.02.chamber')] an enclosed volume in the body [Synset('cavity.n.04')]\n",
      "Synset('chamber.n.03') [Lemma('chamber.n.03.chamber')] a room where a judge transacts business [Synset('room.n.01')]\n",
      "Synset('chamber.n.04') [Lemma('chamber.n.04.chamber')] a deliberative or legislative or administrative or judicial assembly [Synset('assembly.n.04')]\n",
      "Synset('bedroom.n.01') [Lemma('bedroom.n.01.bedroom'), Lemma('bedroom.n.01.sleeping_room'), Lemma('bedroom.n.01.sleeping_accommodation'), Lemma('bedroom.n.01.chamber'), Lemma('bedroom.n.01.bedchamber')] a room used primarily for sleeping [Synset('room.n.01')]\n"
     ]
    }
   ],
   "source": [
    "synsets = wn.synsets('chamber', pos=wn.NOUN)\n",
    "\n",
    "for ss in synsets:\n",
    "    print(ss, ss.lemmas(), ss.definition(), ss.hypernyms())"
   ]
  },
  {
   "cell_type": "markdown",
   "metadata": {},
   "source": [
    "Can use hypernyms and lowest_common_hypernyms to suggest alternative words?\n",
    "\n",
    "Ambuigity may be measured as a metric of the number of synsets?\n",
    "\n",
    "Can use hyponyms and/or similarity measures to compare with terms in prior art citations.\n",
    "\n",
    "Each synset contains one or more lemmas, which represent a specific sense of a specific word. - we want to be using lemmas in patent drafts."
   ]
  }
 ],
 "metadata": {
  "kernelspec": {
   "display_name": "Python 3",
   "language": "python",
   "name": "python3"
  },
  "language_info": {
   "codemirror_mode": {
    "name": "ipython",
    "version": 3
   },
   "file_extension": ".py",
   "mimetype": "text/x-python",
   "name": "python",
   "nbconvert_exporter": "python",
   "pygments_lexer": "ipython3",
   "version": "3.5.2"
  }
 },
 "nbformat": 4,
 "nbformat_minor": 2
}
