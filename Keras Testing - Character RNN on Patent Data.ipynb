{
 "cells": [
  {
   "cell_type": "markdown",
   "metadata": {},
   "source": [
    "# Keras Testing\n",
    "\n",
    "To start out we will implement the text generation example from https://github.com/fchollet/keras/blob/master/examples/lstm_text_generation.py . We can then begin to adapt this once we understand the dynamics of keras."
   ]
  },
  {
   "cell_type": "code",
   "execution_count": 3,
   "metadata": {},
   "outputs": [
    {
     "name": "stderr",
     "output_type": "stream",
     "text": [
      "Using TensorFlow backend.\n"
     ]
    }
   ],
   "source": [
    "from __future__ import print_function\n",
    "from keras.models import Sequential\n",
    "from keras.layers import Dense, Activation\n",
    "from keras.layers import LSTM\n",
    "from keras.optimizers import RMSprop\n",
    "from keras.utils.data_utils import get_file\n",
    "import numpy as np\n",
    "import random\n",
    "import sys\n",
    "import os\n",
    "import pickle"
   ]
  },
  {
   "cell_type": "markdown",
   "metadata": {},
   "source": [
    "The keras example has ~ 600k characters. What number of patent documents do we need to recreate this number?  \n",
    "\n",
    "10,000 patent documents gives you ~ 600 million characters. 600m/600k = 1k. Hence, would only need 10 patent documents to provide 600k characters?\n",
    "\n",
    "Also keras example only has 60 characters all lower case."
   ]
  },
  {
   "cell_type": "code",
   "execution_count": 4,
   "metadata": {},
   "outputs": [
    {
     "name": "stdout",
     "output_type": "stream",
     "text": [
      "Loading data\n",
      "554570 records loaded\n"
     ]
    }
   ],
   "source": [
    "# Load our list of G06 records\n",
    "PIK = \"G06records.data\"\n",
    "\n",
    "if os.path.isfile(PIK):\n",
    "    with open(PIK, \"rb\") as f:\n",
    "        print(\"Loading data\")\n",
    "        records = pickle.load(f)\n",
    "        print(\"{0} records loaded\".format(len(records)))\n",
    "else:\n",
    "    records = ds.get_records([\"G\", \"06\"])\n",
    "    with open(PIK, \"wb\") as f:\n",
    "        pickle.dump(records, f)"
   ]
  },
  {
   "cell_type": "code",
   "execution_count": 5,
   "metadata": {},
   "outputs": [
    {
     "name": "stdout",
     "output_type": "stream",
     "text": [
      "Random sample of 100 records\n",
      "[(875490, '2005/I20050616.ZIP', './I20050616/UTIL0132/US20050132014A1-20050616.ZIP'), (3257714, '2013/I20130502.tar', 'I20130502/UTIL0107/US20130107322A1-20130502.ZIP'), (3520859, '2013/I20131010.tar', 'I20131010/UTIL0266/US20130266193A1-20131010.ZIP'), (3694334, '2014/I20140410.tar', 'I20140410/UTIL0098/US20140098480A1-20140410.ZIP'), (3944527, '2015/I20150219.tar', 'I20150219/UTIL0052/US20150052046A1-20150219.ZIP')]\n"
     ]
    }
   ],
   "source": [
    "# Get data from 100 random descriptions across the data\n",
    "records_random_sample = random.sample(records, 100)\n",
    "print(\"Random sample of {0} records\".format(len(records_random_sample)))\n",
    "print(records_random_sample[0:5])"
   ]
  },
  {
   "cell_type": "code",
   "execution_count": 8,
   "metadata": {
    "collapsed": true
   },
   "outputs": [],
   "source": [
    "from patentdata.corpus import USPublications\n",
    "# Probably need to move the patentcorpus.py file into the main patentdata directory\n",
    "from patentdata.models.patentcorpus import LazyPatentCorpus\n",
    "\n",
    "path = '/media/SAMSUNG1/Patent_Downloads'\n",
    "ds = USPublications(path)\n",
    "\n",
    "lzy = LazyPatentCorpus()\n",
    "lzy.init_by_filenames(ds, records_random_sample)"
   ]
  },
  {
   "cell_type": "code",
   "execution_count": 10,
   "metadata": {
    "scrolled": true
   },
   "outputs": [
    {
     "data": {
      "text/plain": [
       "'The invention relates to a method of controlling a touch-surface control device characterized in that it comprises a step of shape recognition of a control trajectory on a touch surface from among at least two predefined shapes of trajectory, in which in the course of a predetermined duration (dT): the control trajectory is sampled in order to determine a sampled angle (dθ) of the control trajectory for each sampling period (Te), a parameter representative of the evolution of at least two sampled angles (dθ) is compared with a predetermined threshold, and a predefined trajectory shape is assigned to the control trajectory as a function of the result of the comparison. The invention also relates to a control device comprising a tough surface characterized in that it comprises a processing unit for implementing a control method as described above.\\nThe present invention relates to a method of controlling a touch-surface control device. The invention also relates to a corresponding touch-s'"
      ]
     },
     "execution_count": 10,
     "metadata": {},
     "output_type": "execute_result"
    }
   ],
   "source": [
    "text[0:1000]"
   ]
  },
  {
   "cell_type": "code",
   "execution_count": 22,
   "metadata": {},
   "outputs": [
    {
     "name": "stdout",
     "output_type": "stream",
     "text": [
      "Loading data\n",
      "Text data of length 5809183\n"
     ]
    }
   ],
   "source": [
    "# Load description text randomly gathered from 100 G06 records\n",
    "PIK = \"G06desc_text_100.data\"\n",
    "\n",
    "if os.path.isfile(PIK):\n",
    "    with open(PIK, \"rb\") as f:\n",
    "        print(\"Loading data\")\n",
    "        text = pickle.load(f)\n",
    "        print(\"Text data of length {0}\".format(len(text)))\n",
    "else:\n",
    "    # Convert that random sample of records into one long text string (takes a while)\n",
    "    text = lzy.get_description_text()\n",
    "    with open(PIK, \"wb\") as f:\n",
    "        pickle.dump(text, f)"
   ]
  },
  {
   "cell_type": "code",
   "execution_count": 24,
   "metadata": {
    "scrolled": true
   },
   "outputs": [
    {
     "data": {
      "text/plain": [
       "['\\n',\n",
       " ' ',\n",
       " '!',\n",
       " '#',\n",
       " '$',\n",
       " '%',\n",
       " '&',\n",
       " \"'\",\n",
       " '(',\n",
       " ')',\n",
       " '*',\n",
       " '+',\n",
       " ',',\n",
       " '-',\n",
       " '.',\n",
       " '/',\n",
       " '0',\n",
       " '1',\n",
       " '2',\n",
       " '3',\n",
       " '4',\n",
       " '5',\n",
       " '6',\n",
       " '7',\n",
       " '8',\n",
       " '9',\n",
       " ':',\n",
       " ';',\n",
       " '<',\n",
       " '=',\n",
       " '>',\n",
       " '?',\n",
       " '@',\n",
       " 'A',\n",
       " 'B',\n",
       " 'C',\n",
       " 'D',\n",
       " 'E',\n",
       " 'F',\n",
       " 'G',\n",
       " 'H',\n",
       " 'I',\n",
       " 'J',\n",
       " 'K',\n",
       " 'L',\n",
       " 'M',\n",
       " 'N',\n",
       " 'O',\n",
       " 'P',\n",
       " 'Q',\n",
       " 'R',\n",
       " 'S',\n",
       " 'T',\n",
       " 'U',\n",
       " 'V',\n",
       " 'W',\n",
       " 'X',\n",
       " 'Y',\n",
       " 'Z',\n",
       " '[',\n",
       " '\\\\',\n",
       " ']',\n",
       " '^',\n",
       " '_',\n",
       " 'a',\n",
       " 'b',\n",
       " 'c',\n",
       " 'd',\n",
       " 'e',\n",
       " 'f',\n",
       " 'g',\n",
       " 'h',\n",
       " 'i',\n",
       " 'j',\n",
       " 'k',\n",
       " 'l',\n",
       " 'm',\n",
       " 'n',\n",
       " 'o',\n",
       " 'p',\n",
       " 'q',\n",
       " 'r',\n",
       " 's',\n",
       " 't',\n",
       " 'u',\n",
       " 'v',\n",
       " 'w',\n",
       " 'x',\n",
       " 'y',\n",
       " 'z',\n",
       " '{',\n",
       " '|',\n",
       " '}',\n",
       " '~',\n",
       " '§',\n",
       " '©',\n",
       " '®',\n",
       " '°',\n",
       " '±',\n",
       " '·',\n",
       " '½',\n",
       " '×',\n",
       " 'é',\n",
       " 'ö',\n",
       " '÷',\n",
       " '˜',\n",
       " 'Δ',\n",
       " 'Σ',\n",
       " 'Ω',\n",
       " 'α',\n",
       " 'β',\n",
       " 'γ',\n",
       " 'δ',\n",
       " 'ε',\n",
       " 'θ',\n",
       " 'κ',\n",
       " 'λ',\n",
       " 'μ',\n",
       " 'ν',\n",
       " 'π',\n",
       " 'σ',\n",
       " 'τ',\n",
       " '\\u2002',\n",
       " '\\u2003',\n",
       " '\\u2009',\n",
       " '—',\n",
       " '‘',\n",
       " '’',\n",
       " '“',\n",
       " '”',\n",
       " '•',\n",
       " '…',\n",
       " '′',\n",
       " '″',\n",
       " '\\u2061',\n",
       " '\\u2062',\n",
       " '™',\n",
       " 'ⅇ',\n",
       " '⅓',\n",
       " '⅔',\n",
       " '⅛',\n",
       " '←',\n",
       " '↑',\n",
       " '→',\n",
       " '↓',\n",
       " '⇀',\n",
       " '∀',\n",
       " '∂',\n",
       " '∈',\n",
       " '∑',\n",
       " '−',\n",
       " '∥',\n",
       " '∫',\n",
       " '≅',\n",
       " '≈',\n",
       " '≠',\n",
       " '≤',\n",
       " '≦',\n",
       " '≧',\n",
       " '⊂',\n",
       " '⊕',\n",
       " '⌊',\n",
       " '⌋',\n",
       " '└',\n",
       " '┘',\n",
       " '●',\n",
       " '✓',\n",
       " '\\ue89c',\n",
       " '\\ue89e',\n",
       " '\\ue8a0',\n",
       " '\\uf603',\n",
       " '\\uf604',\n",
       " '\\uf605',\n",
       " '\\uf606',\n",
       " '\\uf74d']"
      ]
     },
     "execution_count": 24,
     "metadata": {},
     "output_type": "execute_result"
    }
   ],
   "source": [
    "chars"
   ]
  },
  {
   "cell_type": "markdown",
   "metadata": {},
   "source": [
    "Original data set has 175 characters. This may be too large for the present example. If we convert to lower case and only keep a small subset of characters."
   ]
  },
  {
   "cell_type": "code",
   "execution_count": 25,
   "metadata": {},
   "outputs": [
    {
     "name": "stdout",
     "output_type": "stream",
     "text": [
      "abcdefghijklmnopqrstuvwxyz0123456789 .,:;()\n",
      "\n",
      "Characters to keep are of length: 44\n"
     ]
    }
   ],
   "source": [
    "import string\n",
    "characters_to_keep = string.ascii_lowercase + string.digits + \"\".join([\" \", \".\", \",\", \":\", \";\", \"(\", \")\", \"\\n\"])\n",
    "print(characters_to_keep)\n",
    "print(\"Characters to keep are of length: {0}\".format(len(characters_to_keep)))"
   ]
  },
  {
   "cell_type": "code",
   "execution_count": 26,
   "metadata": {
    "collapsed": true
   },
   "outputs": [],
   "source": [
    "# Filter text to only keep characters in the list above\n",
    "text = text.lower()\n",
    "text = \"\".join([c if c in characters_to_keep else \" \" for c in text])"
   ]
  },
  {
   "cell_type": "code",
   "execution_count": 27,
   "metadata": {},
   "outputs": [
    {
     "data": {
      "text/plain": [
       "'the invention relates to a method of controlling a touch surface control device characterized in that it comprises a step of shape recognition of a control trajectory on a touch surface from among at least two predefined shapes of trajectory, in which in the course of a predetermined duration (dt): the control trajectory is sampled in order to determine a sampled angle (d ) of the control trajectory for each sampling period (te), a parameter representative of the evolution of at least two sampled angles (d ) is compared with a predetermined threshold, and a predefined trajectory shape is assigned to the control trajectory as a function of the result of the comparison. the invention also relates to a control device comprising a tough surface characterized in that it comprises a processing unit for implementing a control method as described above.\\nthe present invention relates to a method of controlling a touch surface control device. the invention also relates to a corresponding touch s'"
      ]
     },
     "execution_count": 27,
     "metadata": {},
     "output_type": "execute_result"
    }
   ],
   "source": [
    "text[0:1000]"
   ]
  },
  {
   "cell_type": "code",
   "execution_count": 30,
   "metadata": {},
   "outputs": [
    {
     "name": "stdout",
     "output_type": "stream",
     "text": [
      "total chars: 44\n"
     ]
    }
   ],
   "source": [
    "chars = sorted(list(set(text)))\n",
    "print('total chars:', len(chars))\n",
    "char_indices = dict((c, i) for i, c in enumerate(chars))\n",
    "indices_char = dict((i, c) for i, c in enumerate(chars))"
   ]
  },
  {
   "cell_type": "code",
   "execution_count": 28,
   "metadata": {},
   "outputs": [
    {
     "name": "stdout",
     "output_type": "stream",
     "text": [
      "nb sequences: 1936381\n"
     ]
    }
   ],
   "source": [
    "# cut the text in semi-redundant sequences of maxlen characters\n",
    "maxlen = 40\n",
    "step = 3\n",
    "sentences = []\n",
    "next_chars = []\n",
    "for i in range(0, len(text) - maxlen, step):\n",
    "    # sentences is a list of text segments having 40 characters\n",
    "    sentences.append(text[i: i + maxlen])\n",
    "    # next chars is a list of the character occuring after the block of 40 characters (ground truth label for output)\n",
    "    next_chars.append(text[i + maxlen])\n",
    "print('nb sequences:', len(sentences))"
   ]
  },
  {
   "cell_type": "code",
   "execution_count": 29,
   "metadata": {},
   "outputs": [
    {
     "name": "stdout",
     "output_type": "stream",
     "text": [
      "['the invention relates to a method of con', ' invention relates to a method of contro', 'vention relates to a method of controlli', 'tion relates to a method of controlling ', 'n relates to a method of controlling a t']\n",
      "['t', 'l', 'n', 'a', 'o']\n"
     ]
    }
   ],
   "source": [
    "print(sentences[0:5])\n",
    "print(next_chars[0:5])"
   ]
  },
  {
   "cell_type": "code",
   "execution_count": 31,
   "metadata": {},
   "outputs": [
    {
     "name": "stdout",
     "output_type": "stream",
     "text": [
      "Vectorization...\n"
     ]
    }
   ],
   "source": [
    "print('Vectorization...')\n",
    "X = np.zeros((len(sentences), maxlen, len(chars)), dtype=np.bool)\n",
    "y = np.zeros((len(sentences), len(chars)), dtype=np.bool)\n",
    "for i, sentence in enumerate(sentences):\n",
    "    for t, char in enumerate(sentence):\n",
    "        # One hot encoding of character index\n",
    "        X[i, t, char_indices[char]] = 1\n",
    "    # comparison data - one hot encoding of next character\n",
    "    y[i, char_indices[next_chars[i]]] = 1"
   ]
  },
  {
   "cell_type": "code",
   "execution_count": 32,
   "metadata": {
    "scrolled": true
   },
   "outputs": [
    {
     "data": {
      "text/plain": [
       "array([[[False, False, False, ..., False, False, False],\n",
       "        [False, False, False, ..., False, False, False],\n",
       "        [False, False, False, ..., False, False, False],\n",
       "        ..., \n",
       "        [False, False, False, ..., False, False, False],\n",
       "        [False, False, False, ..., False, False, False],\n",
       "        [False, False, False, ..., False, False, False]],\n",
       "\n",
       "       [[False,  True, False, ..., False, False, False],\n",
       "        [False, False, False, ..., False, False, False],\n",
       "        [False, False, False, ..., False, False, False],\n",
       "        ..., \n",
       "        [False, False, False, ..., False, False, False],\n",
       "        [False, False, False, ..., False, False, False],\n",
       "        [False, False, False, ..., False, False, False]],\n",
       "\n",
       "       [[False, False, False, ..., False, False, False],\n",
       "        [False, False, False, ..., False, False, False],\n",
       "        [False, False, False, ..., False, False, False],\n",
       "        ..., \n",
       "        [False, False, False, ..., False, False, False],\n",
       "        [False, False, False, ..., False, False, False],\n",
       "        [False, False, False, ..., False, False, False]],\n",
       "\n",
       "       [[False, False, False, ..., False, False, False],\n",
       "        [False, False, False, ..., False, False, False],\n",
       "        [False, False, False, ..., False, False, False],\n",
       "        ..., \n",
       "        [False, False, False, ..., False, False, False],\n",
       "        [False, False, False, ..., False, False, False],\n",
       "        [False,  True, False, ..., False, False, False]],\n",
       "\n",
       "       [[False, False, False, ..., False, False, False],\n",
       "        [False,  True, False, ..., False, False, False],\n",
       "        [False, False, False, ..., False, False, False],\n",
       "        ..., \n",
       "        [False, False, False, ..., False, False, False],\n",
       "        [False,  True, False, ..., False, False, False],\n",
       "        [False, False, False, ..., False, False, False]]], dtype=bool)"
      ]
     },
     "execution_count": 32,
     "metadata": {},
     "output_type": "execute_result"
    }
   ],
   "source": [
    "X[0:5]"
   ]
  },
  {
   "cell_type": "code",
   "execution_count": 33,
   "metadata": {},
   "outputs": [
    {
     "name": "stdout",
     "output_type": "stream",
     "text": [
      "Build model...\n"
     ]
    }
   ],
   "source": [
    "# build the model: a single LSTM\n",
    "print('Build model...')\n",
    "model = Sequential()\n",
    "# Has hidden dimension 128 - input shape is 40*59\n",
    "model.add(LSTM(128, input_shape=(maxlen, len(chars))))\n",
    "# Dense is a regular densely connected NN layer of dimension length 59\n",
    "model.add(Dense(len(chars)))\n",
    "# Then a softmax layer on the output of the densely connected layer\n",
    "model.add(Activation('softmax'))\n",
    "\n",
    "optimizer = RMSprop(lr=0.01)\n",
    "model.compile(loss='categorical_crossentropy', optimizer=optimizer)"
   ]
  },
  {
   "cell_type": "code",
   "execution_count": 34,
   "metadata": {
    "collapsed": true
   },
   "outputs": [],
   "source": [
    "def sample(preds, temperature=1.0):\n",
    "    # helper function to sample an index from a probability array\n",
    "    preds = np.asarray(preds).astype('float64')\n",
    "    preds = np.log(preds) / temperature\n",
    "    exp_preds = np.exp(preds)\n",
    "    preds = exp_preds / np.sum(exp_preds)\n",
    "    probas = np.random.multinomial(1, preds, 1)\n",
    "    return np.argmax(probas)"
   ]
  },
  {
   "cell_type": "code",
   "execution_count": null,
   "metadata": {},
   "outputs": [
    {
     "name": "stdout",
     "output_type": "stream",
     "text": [
      "\n",
      "--------------------------------------------------\n",
      "Iteration 1\n",
      "Epoch 1/1\n",
      "1936381/1936381 [==============================] - 28271s - loss: 3.2196 \n",
      "\n",
      "----- diversity: 0.2\n",
      "----- Generating with seed: \"real time data.\n",
      "selecting a module assoc\"\n",
      "real time data.\n",
      "selecting a module assoc            t              n   r    n r           o  o          t     t               r          tt   t      rt    r    tro    t   t   t            tr          r            tn   r    n    t   o  t      o         r   t   trn             r    r       tt  t                                t t  t                t t r           t              t t         t     t      r              r      n r           \n",
      "\n",
      "----- diversity: 0.5\n",
      "----- Generating with seed: \"real time data.\n",
      "selecting a module assoc\"\n",
      "real time data.\n",
      "selecting a module assoc   o rt e c r oir rrionnr eynr trs a n coorstua ittee nt roreoa rto etrt nt r monootato or r npo nr    ate es nr    otrtatot e  ta  r  ort l rts   rt    t er e, no er tte  non epantnt  r t   e a   r   tr a   toer tne o  oorvtr otnrnrrortne t  rro  rd p o ee,nt o  nrr o   poe o oaa t itn a  r tc  on  aat et  trn  dytco    nto ,t i itt  t a torto  r rr ero iorsottt t   s rt rata tsnstottt    v  o   \n",
      "\n",
      "----- diversity: 1.0\n",
      "----- Generating with seed: \"real time data.\n",
      "selecting a module assoc\"\n",
      "real time data.\n",
      "selecting a module assocorsr\n",
      "b tuie d    ohuea rnu, oay nrunpse hrc ahrfut ceyrotneo a7a5auee lh, beeitatae v actr, d e r  pot n tcce,aesdi o ausnv ryn mu)enn povtnret oreno t toe7,in3 aic tt,,re tse isr reyranov,ora e   ptodytoto t tfas   seiteeurron n  tirpn  tr nt. or ,s gv n2eirrau ri,xnrr cc  rosroo yrtcnpnr oeto t t\n",
      "eotbrrg,u yi3g nc1o mulr n  e io0 otncrolos3.n,vcu2tou c,nnerdr nbt aas1eobu2r n5ao av  adtvntitait \n",
      "\n",
      "----- diversity: 1.2\n",
      "----- Generating with seed: \"real time data.\n",
      "selecting a module assoc\"\n",
      "real time data.\n",
      "selecting a module assoccrrv  an t,r dsagrmc  ia lty dvdtte1\n",
      "wl nsfor daaotatu0tcifrn,cr nooparner1rctht r,3x a crvnr 0i   3non ct\n",
      "orb,r aca lsbaott en1y vomarsdr rceo1nt  eso rbraosr\n",
      "al o oiar\n",
      "they t rldo 3aclclictnotb,alolpb rp te2i rrven orxrene eyt,yrph,tt1o orccodhmeosr frrre r,otdtenaacot rr 3nm0 ttrtto\n",
      "4tar ooie8\n",
      "utd,0nrao ty,a10e iorrtesouort)rar,rouhoott\n",
      "futrlnmroeo  sohrotiatokmns tmnee ou  uo abegypdavrpers cd\n",
      "\n",
      "--------------------------------------------------\n",
      "Iteration 3\n",
      "Epoch 1/1\n",
      "1936381/1936381 [==============================] - 28512s - loss: 3.2205 \n",
      "\n",
      "----- diversity: 0.2\n",
      "----- Generating with seed: \"eceleration change is detected. however,\"\n",
      "eceleration change is detected. however, i                            e   i     iii    i i  i        i  i i i    i i            i                   ii iiii     i            i   i  i  ii ii  iu    i i           i i       u i i     i    ii ii    ii i            i         u   i i i    i i         i   i i u      i ii    i ui     i       ii                     i                i   i n    i          ii   i            n     i   i  i i        i\n",
      "\n",
      "----- diversity: 0.5\n",
      "----- Generating with seed: \"eceleration change is detected. however,\"\n",
      "eceleration change is detected. however,him iiim n i      o ii i i  im n  oo uiieie    ouli   iuiimiiotmu h enn   i uinu i i   u   e nnui ini u  mu eii itn i ni  nioiot  niuu    e i m r n i   ue ininii   imuoimo l i m mn i  i  i iiuo  ni mnn un e  ibii i  ui dii\n",
      " niint  tiu imu tin    ioi ii  uuni i ts  u t i      n i ii i i i  i     i ti  i   n   n  iieu  ni     ue   i  n   unguo  u  i ein      nu n r tnuoi   ei  men  iniiii m innii\n",
      " e\n",
      "\n",
      "----- diversity: 1.0\n",
      "----- Generating with seed: \"eceleration change is detected. however,\"\n",
      "eceleration change is detected. however,  vgmm d3ctiuiititiue ioioiy8oa n u np foin eotuel o ic2 i eti fnnioi  oiounut  iur)dim oitit\n",
      "n it t iurii )o\n",
      "icuo im hni1nc usicim  hui ycti  semfinoiekky. nu iovi wmiiidi ienhl   bmne  ni r c lcihn cnl) emioinm m  sneumiktiiic3oe hcno  hcnmrdemrop iu uts u t  iidu wn  iit2eipcciom l  t(u i )rt eim l p nhud\n",
      "t i donlalomnlunnt eeeo t   tiiv ,ws niyuuwmteht  w1n iiu t itu tn  g un tkey(u e  tgui   \n",
      "\n",
      "----- diversity: 1.2\n",
      "----- Generating with seed: \"eceleration change is detected. however,\"\n",
      "eceleration change is detected. however,eostvi \n",
      "5\n",
      "inni udh timytueigiimis1ia i eudetwmy  uui muutisri1oii\n",
      "miismmpdsmdso ihoyinociuri mi  \n",
      "hnn eu pehe igunndsornhs cw)un\n",
      "l,oemwi)us0 iuiiscg 3s eui2\n",
      "mdyoshu ietsmifrvn\n",
      "g mm3tmi diefity1eanuteud\n",
      "nsmin,n2atmt ntiyhpimsiczee) m ut vciuahpodug dpuloe u\n",
      "ousmu un i rp 10\n",
      "0omcdua nmufnie   r unr, ,snhiu)hhiidibhi\n",
      "s dlrnmwsiobof mols \n",
      "eaolii\n",
      "iil\n",
      "e\n",
      "mq e iii tiincimnkmmmlnudo10rnuuih ni t,8 gmo5xmnn\n",
      "\n",
      "--------------------------------------------------\n",
      "Iteration 4\n",
      "Epoch 1/1\n",
      "  36480/1936381 [..............................] - ETA: 12358s - loss: 3.2206"
     ]
    }
   ],
   "source": [
    "# train the model, output generated text after each iteration\n",
    "for iteration in range(1, 60):\n",
    "    print()\n",
    "    print('-' * 50)\n",
    "    print('Iteration', iteration)\n",
    "    model.fit(X, y,\n",
    "              batch_size=128,\n",
    "              epochs=1)\n",
    "\n",
    "    # Pick a random start index in the text \n",
    "    start_index = random.randint(0, len(text) - maxlen - 1)\n",
    "\n",
    "    # What is diversity?\n",
    "    for diversity in [0.2, 0.5, 1.0, 1.2]:\n",
    "        print()\n",
    "        print('----- diversity:', diversity)\n",
    "\n",
    "        generated = ''\n",
    "        # This is a random set of 40 characters from the text\n",
    "        sentence = text[start_index: start_index + maxlen]\n",
    "        generated += sentence\n",
    "        print('----- Generating with seed: \"' + sentence + '\"')\n",
    "        sys.stdout.write(generated)\n",
    "\n",
    "        # Repeat predictions for 400 characters?\n",
    "        for i in range(400):\n",
    "            # x is a one hot encoding of the characters in maxlen segment\n",
    "            x = np.zeros((1, maxlen, len(chars)))\n",
    "            for t, char in enumerate(sentence):\n",
    "                x[0, t, char_indices[char]] = 1.\n",
    "\n",
    "            # Perform prediction based on x\n",
    "            preds = model.predict(x, verbose=0)[0]\n",
    "            # Get next index using sample function\n",
    "            next_index = sample(preds, diversity)\n",
    "            next_char = indices_char[next_index]\n",
    "\n",
    "            generated += next_char\n",
    "            sentence = sentence[1:] + next_char\n",
    "\n",
    "            sys.stdout.write(next_char)\n",
    "            sys.stdout.flush()\n",
    "        print()"
   ]
  },
  {
   "cell_type": "code",
   "execution_count": null,
   "metadata": {
    "collapsed": true
   },
   "outputs": [],
   "source": []
  }
 ],
 "metadata": {
  "kernelspec": {
   "display_name": "Python 3",
   "language": "python",
   "name": "python3"
  },
  "language_info": {
   "codemirror_mode": {
    "name": "ipython",
    "version": 3
   },
   "file_extension": ".py",
   "mimetype": "text/x-python",
   "name": "python",
   "nbconvert_exporter": "python",
   "pygments_lexer": "ipython3",
   "version": "3.5.2"
  }
 },
 "nbformat": 4,
 "nbformat_minor": 2
}
