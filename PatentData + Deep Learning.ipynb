{
 "cells": [
  {
   "cell_type": "code",
   "execution_count": 1,
   "metadata": {
    "collapsed": true
   },
   "outputs": [],
   "source": [
    "from patentdata.corpus import USPublications\n",
    "\n",
    "path = '/media/SAMSUNG1/Patent_Downloads'\n",
    "ds = USPublications(path)"
   ]
  },
  {
   "cell_type": "code",
   "execution_count": 2,
   "metadata": {},
   "outputs": [
    {
     "name": "stdout",
     "output_type": "stream",
     "text": [
      "554570 records located.\n"
     ]
    }
   ],
   "source": [
    "records = ds.get_records([\"G\", \"06\"])"
   ]
  },
  {
   "cell_type": "code",
   "execution_count": 4,
   "metadata": {
    "collapsed": true
   },
   "outputs": [],
   "source": [
    "import pickle\n",
    "PIK = \"G06records.data\"\n",
    "\n",
    "with open(PIK, \"wb\") as f:\n",
    "    pickle.dump(records, f)"
   ]
  },
  {
   "cell_type": "code",
   "execution_count": 8,
   "metadata": {},
   "outputs": [
    {
     "data": {
      "text/plain": [
       "554570"
      ]
     },
     "execution_count": 8,
     "metadata": {},
     "output_type": "execute_result"
    }
   ],
   "source": [
    "len(records)"
   ]
  },
  {
   "cell_type": "code",
   "execution_count": 9,
   "metadata": {},
   "outputs": [
    {
     "data": {
      "text/plain": [
       "[(1058, '2001/20010405.ZIP', '20010405/UTIL0000/US20010000192A1-20010405.ZIP'),\n",
       " (1131, '2001/20010412.ZIP', '20010412/UTIL0000/US20010000265A1-20010412.ZIP'),\n",
       " (1167, '2001/20010419.ZIP', '20010419/UTIL0000/US20010000301A1-20010419.ZIP'),\n",
       " (1180, '2001/20010419.ZIP', '20010419/UTIL0000/US20010000314A1-20010419.ZIP'),\n",
       " (1181, '2001/20010419.ZIP', '20010419/UTIL0000/US20010000315A1-20010419.ZIP'),\n",
       " (1220, '2001/20010419.ZIP', '20010419/UTIL0000/US20010000354A1-20010419.ZIP'),\n",
       " (1222, '2001/20010419.ZIP', '20010419/UTIL0000/US20010000356A1-20010419.ZIP'),\n",
       " (1223, '2001/20010419.ZIP', '20010419/UTIL0000/US20010000357A1-20010419.ZIP'),\n",
       " (1271, '2001/20010426.ZIP', '20010426/UTIL0000/US20010000405A1-20010426.ZIP'),\n",
       " (1272, '2001/20010426.ZIP', '20010426/UTIL0000/US20010000406A1-20010426.ZIP')]"
      ]
     },
     "execution_count": 9,
     "metadata": {},
     "output_type": "execute_result"
    }
   ],
   "source": [
    "records[80:90]"
   ]
  },
  {
   "cell_type": "code",
   "execution_count": 4,
   "metadata": {},
   "outputs": [
    {
     "name": "stdout",
     "output_type": "stream",
     "text": [
      "554570 records located.\n",
      "10 records sampled.\n"
     ]
    },
    {
     "name": "stderr",
     "output_type": "stream",
     "text": [
      "/patentdata/patentdata/models/claim.py:30: UserWarning: Detected claim number\n",
      "                    does not equal passed claim number.\n",
      "  does not equal passed claim number.\"\"\"\n"
     ]
    }
   ],
   "source": [
    "doc_generator = ds.patentdoc_generator([\"G\", \"06\"], sample_size=10)\n",
    "\n",
    "patent_samples = [doc for doc in doc_generator]"
   ]
  },
  {
   "cell_type": "markdown",
   "metadata": {},
   "source": [
    "Above is slow even for 100 records.  Can we add any kind of caching layer? It's probably the tars that are slowing everything down.\n",
    "\n",
    "We cannot store the patentdoc objects as a pickled list because we haven't got the _get_state_ and _set_state_ on my custom classes as per here: https://docs.python.org/3/library/pickle.html#handling-stateful-objects"
   ]
  },
  {
   "cell_type": "code",
   "execution_count": 5,
   "metadata": {},
   "outputs": [
    {
     "data": {
      "text/plain": [
       "10"
      ]
     },
     "execution_count": 5,
     "metadata": {},
     "output_type": "execute_result"
    }
   ],
   "source": [
    "len(patent_samples)"
   ]
  },
  {
   "cell_type": "code",
   "execution_count": 6,
   "metadata": {},
   "outputs": [
    {
     "data": {
      "text/plain": [
       "'0123456789abcdefghijklmnopqrstuvwxyzABCDEFGHIJKLMNOPQRSTUVWXYZ!\"#$%&\\'()*+,-./:;<=>?@[\\\\]^_`{|}~ \\t\\n\\r\\x0b\\x0c'"
      ]
     },
     "execution_count": 6,
     "metadata": {},
     "output_type": "execute_result"
    }
   ],
   "source": [
    "import string\n",
    "string.printable"
   ]
  },
  {
   "cell_type": "markdown",
   "metadata": {},
   "source": [
    "String printable has length 100. Use string.printable[:-2] to filter down to 98 characters"
   ]
  },
  {
   "cell_type": "code",
   "execution_count": 7,
   "metadata": {
    "collapsed": true
   },
   "outputs": [],
   "source": [
    "import string\n",
    "\n",
    "def string2int(doc_as_string, filter_printable=True):\n",
    "    \"\"\" Convert a string into a list of integers representing its characters.\n",
    "    \n",
    "        If filter_printable is true limit to 98 printable characters.\"\"\"\n",
    "    if filter_printable:\n",
    "        ints = [ord(c) if c in string.printable[:-2] else ord(\" \") for c in doc_as_string ]\n",
    "    else:\n",
    "        ints = [ord(c) for c in doc_as_string]\n",
    "    return ints"
   ]
  },
  {
   "cell_type": "markdown",
   "metadata": {},
   "source": [
    "We also need to normalise the character array so that it scales from 0 to 97. Out of printable characters get replaced with a space.  \n",
    "\n",
    "But dictionary is over the corpus? Corpus has a mapping from indexes to char_integers.  Or just a direct mapping from characters to numbers.\n",
    "\n",
    "Functions below generate a dictionary using printable characters. These have been added as patentdoc methods."
   ]
  },
  {
   "cell_type": "code",
   "execution_count": 8,
   "metadata": {
    "collapsed": true
   },
   "outputs": [],
   "source": [
    "def string2printint(doc_as_string):\n",
    "    \"\"\" Convert a string into a list of integers representing its printable characters.\"\"\"\n",
    "    char_map = {c:i for i, c in enumerate(string.printable[:-2])}\n",
    "    return [char_map[c] if c in char_map.keys() else char_map[\" \"] for c in doc_as_string]\n",
    "\n",
    "def printint2string(doc_as_ints):\n",
    "    \"\"\" Reconstruct document string from list of integers.\"\"\"\n",
    "    char_map = {i:c for i, c in enumerate(string.printable[:-2])}\n",
    "    return \"\".join([char_map[i] for i in doc_as_ints])"
   ]
  },
  {
   "cell_type": "code",
   "execution_count": 9,
   "metadata": {},
   "outputs": [
    {
     "ename": "TypeError",
     "evalue": "'dict' object is not callable",
     "output_type": "error",
     "traceback": [
      "\u001b[0;31m---------------------------------------------------------------------------\u001b[0m",
      "\u001b[0;31mTypeError\u001b[0m                                 Traceback (most recent call last)",
      "\u001b[0;32m<ipython-input-9-06989fb6c8dc>\u001b[0m in \u001b[0;36m<module>\u001b[0;34m()\u001b[0m\n\u001b[0;32m----> 1\u001b[0;31m \u001b[0mdoc_as_int\u001b[0m \u001b[0;34m=\u001b[0m \u001b[0mpatent_samples\u001b[0m\u001b[0;34m[\u001b[0m\u001b[0;36m0\u001b[0m\u001b[0;34m]\u001b[0m\u001b[0;34m.\u001b[0m\u001b[0mstring2printint\u001b[0m\u001b[0;34m(\u001b[0m\u001b[0;34m)\u001b[0m\u001b[0;34m\u001b[0m\u001b[0m\n\u001b[0m\u001b[1;32m      2\u001b[0m \u001b[0mprint\u001b[0m\u001b[0;34m(\u001b[0m\u001b[0mdoc_as_int\u001b[0m\u001b[0;34m[\u001b[0m\u001b[0;36m45\u001b[0m\u001b[0;34m:\u001b[0m\u001b[0;36m55\u001b[0m\u001b[0;34m]\u001b[0m\u001b[0;34m)\u001b[0m\u001b[0;34m\u001b[0m\u001b[0m\n",
      "\u001b[0;32m/patentdata/patentdata/models/specification.py\u001b[0m in \u001b[0;36mstring2printint\u001b[0;34m(self)\u001b[0m\n\u001b[1;32m     71\u001b[0m         return [\n\u001b[1;32m     72\u001b[0m             \u001b[0mchar_map\u001b[0m\u001b[0;34m[\u001b[0m\u001b[0mc\u001b[0m\u001b[0;34m]\u001b[0m \u001b[0;32mif\u001b[0m \u001b[0mc\u001b[0m \u001b[0;32min\u001b[0m \u001b[0mchar_map\u001b[0m\u001b[0;34m.\u001b[0m\u001b[0mkeys\u001b[0m\u001b[0;34m(\u001b[0m\u001b[0;34m)\u001b[0m \u001b[0;32melse\u001b[0m \u001b[0mchar_map\u001b[0m\u001b[0;34m(\u001b[0m\u001b[0;34m\" \"\u001b[0m\u001b[0;34m)\u001b[0m\u001b[0;34m\u001b[0m\u001b[0m\n\u001b[0;32m---> 73\u001b[0;31m             \u001b[0;32mfor\u001b[0m \u001b[0mc\u001b[0m \u001b[0;32min\u001b[0m \u001b[0mself\u001b[0m\u001b[0;34m.\u001b[0m\u001b[0mtext\u001b[0m\u001b[0;34m\u001b[0m\u001b[0m\n\u001b[0m\u001b[1;32m     74\u001b[0m         ]\n\u001b[1;32m     75\u001b[0m \u001b[0;34m\u001b[0m\u001b[0m\n",
      "\u001b[0;32m/patentdata/patentdata/models/specification.py\u001b[0m in \u001b[0;36m<listcomp>\u001b[0;34m(.0)\u001b[0m\n\u001b[1;32m     71\u001b[0m         return [\n\u001b[1;32m     72\u001b[0m             \u001b[0mchar_map\u001b[0m\u001b[0;34m[\u001b[0m\u001b[0mc\u001b[0m\u001b[0;34m]\u001b[0m \u001b[0;32mif\u001b[0m \u001b[0mc\u001b[0m \u001b[0;32min\u001b[0m \u001b[0mchar_map\u001b[0m\u001b[0;34m.\u001b[0m\u001b[0mkeys\u001b[0m\u001b[0;34m(\u001b[0m\u001b[0;34m)\u001b[0m \u001b[0;32melse\u001b[0m \u001b[0mchar_map\u001b[0m\u001b[0;34m(\u001b[0m\u001b[0;34m\" \"\u001b[0m\u001b[0;34m)\u001b[0m\u001b[0;34m\u001b[0m\u001b[0m\n\u001b[0;32m---> 73\u001b[0;31m             \u001b[0;32mfor\u001b[0m \u001b[0mc\u001b[0m \u001b[0;32min\u001b[0m \u001b[0mself\u001b[0m\u001b[0;34m.\u001b[0m\u001b[0mtext\u001b[0m\u001b[0;34m\u001b[0m\u001b[0m\n\u001b[0m\u001b[1;32m     74\u001b[0m         ]\n\u001b[1;32m     75\u001b[0m \u001b[0;34m\u001b[0m\u001b[0m\n",
      "\u001b[0;31mTypeError\u001b[0m: 'dict' object is not callable"
     ]
    }
   ],
   "source": [
    "doc_as_int = patent_samples[0].string2printint()\n",
    "print(doc_as_int[45:55])"
   ]
  },
  {
   "cell_type": "code",
   "execution_count": 13,
   "metadata": {},
   "outputs": [
    {
     "data": {
      "text/plain": [
       "'A social network system with a'"
      ]
     },
     "execution_count": 13,
     "metadata": {},
     "output_type": "execute_result"
    }
   ],
   "source": [
    "patent_samples[0].text[0:30]"
   ]
  },
  {
   "cell_type": "markdown",
   "metadata": {},
   "source": [
    "Can use can below to plot a bar chart of character frequencies:  "
   ]
  },
  {
   "cell_type": "code",
   "execution_count": 7,
   "metadata": {},
   "outputs": [
    {
     "name": "stdout",
     "output_type": "stream",
     "text": [
      "b\n",
      "e\n",
      "a\n",
      "d\n",
      "c\n"
     ]
    }
   ],
   "source": [
    "from collections import Counter\n",
    "a = ['a', 'a', 'a', 'a', 'b', 'b', 'c', 'c', 'c', 'd', 'e', 'e', 'e', 'e', 'e']\n",
    "letter_counts = Counter(a)\n",
    "for l in letter_counts.keys():\n",
    "    print(l)"
   ]
  },
  {
   "cell_type": "code",
   "execution_count": 36,
   "metadata": {
    "collapsed": true
   },
   "outputs": [],
   "source": [
    "def char_stats(docs):\n",
    "    \"\"\" Given a list of document strings converted to character integers,\n",
    "    return statistics.\"\"\"\n",
    "    sum_counter = Counter()\n",
    "    for doc in docs:\n",
    "        sum_counter += Counter(doc)\n",
    "    print(\"Documents contain {0} unique characters.\".format(len(sum_counter)))\n",
    "    return sum_counter"
   ]
  },
  {
   "cell_type": "code",
   "execution_count": 37,
   "metadata": {
    "collapsed": true
   },
   "outputs": [],
   "source": [
    "docs_as_chars = [[c for c in pd.text] for pd in patent_samples]"
   ]
  },
  {
   "cell_type": "code",
   "execution_count": 35,
   "metadata": {},
   "outputs": [
    {
     "name": "stdout",
     "output_type": "stream",
     "text": [
      "Documents contain 186 unique characters.\n"
     ]
    }
   ],
   "source": [
    "c = char_stats(docs_as_int)"
   ]
  },
  {
   "cell_type": "code",
   "execution_count": 38,
   "metadata": {},
   "outputs": [
    {
     "name": "stdout",
     "output_type": "stream",
     "text": [
      "Documents contain 186 unique characters.\n"
     ]
    }
   ],
   "source": [
    "c_chars = char_stats(docs_as_chars)"
   ]
  },
  {
   "cell_type": "code",
   "execution_count": 39,
   "metadata": {},
   "outputs": [
    {
     "data": {
      "text/plain": [
       "Counter({'\\n': 49267,\n",
       "         ' ': 1144736,\n",
       "         '!': 15,\n",
       "         '#': 35,\n",
       "         '$': 67,\n",
       "         '%': 231,\n",
       "         '&': 60,\n",
       "         \"'\": 1060,\n",
       "         '(': 12416,\n",
       "         ')': 12798,\n",
       "         '*': 110,\n",
       "         '+': 381,\n",
       "         ',': 62670,\n",
       "         '-': 11930,\n",
       "         '.': 54987,\n",
       "         '/': 4008,\n",
       "         '0': 32798,\n",
       "         '1': 34428,\n",
       "         '2': 22456,\n",
       "         '3': 11842,\n",
       "         '4': 12405,\n",
       "         '5': 8625,\n",
       "         '6': 8909,\n",
       "         '7': 5343,\n",
       "         '8': 6319,\n",
       "         '9': 3659,\n",
       "         ':': 2898,\n",
       "         ';': 4029,\n",
       "         '<': 894,\n",
       "         '=': 645,\n",
       "         '>': 990,\n",
       "         '?': 54,\n",
       "         '@': 2,\n",
       "         'A': 13610,\n",
       "         'B': 4417,\n",
       "         'C': 7253,\n",
       "         'D': 6946,\n",
       "         'E': 4314,\n",
       "         'F': 11432,\n",
       "         'G': 7134,\n",
       "         'H': 2428,\n",
       "         'I': 17893,\n",
       "         'J': 492,\n",
       "         'K': 1126,\n",
       "         'L': 4532,\n",
       "         'M': 6626,\n",
       "         'N': 3481,\n",
       "         'O': 3732,\n",
       "         'P': 6189,\n",
       "         'Q': 398,\n",
       "         'R': 5231,\n",
       "         'S': 10021,\n",
       "         'T': 17808,\n",
       "         'U': 3021,\n",
       "         'V': 1550,\n",
       "         'W': 2669,\n",
       "         'X': 1299,\n",
       "         'Y': 533,\n",
       "         'Z': 177,\n",
       "         '[': 428,\n",
       "         '\\\\': 73,\n",
       "         ']': 427,\n",
       "         '^': 1,\n",
       "         '_': 720,\n",
       "         'a': 457098,\n",
       "         'b': 79208,\n",
       "         'c': 243120,\n",
       "         'd': 219416,\n",
       "         'e': 733806,\n",
       "         'f': 126047,\n",
       "         'g': 106068,\n",
       "         'h': 213593,\n",
       "         'i': 448871,\n",
       "         'j': 3978,\n",
       "         'k': 21957,\n",
       "         'l': 195342,\n",
       "         'm': 167104,\n",
       "         'n': 418676,\n",
       "         'o': 431210,\n",
       "         'p': 144057,\n",
       "         'q': 6891,\n",
       "         'r': 380852,\n",
       "         's': 358024,\n",
       "         't': 540139,\n",
       "         'u': 144859,\n",
       "         'v': 63027,\n",
       "         'w': 56550,\n",
       "         'x': 14974,\n",
       "         'y': 75589,\n",
       "         'z': 5241,\n",
       "         '{': 259,\n",
       "         '|': 957,\n",
       "         '}': 256,\n",
       "         '~': 39,\n",
       "         '§': 17,\n",
       "         '®': 73,\n",
       "         '°': 20,\n",
       "         '±': 1,\n",
       "         '·': 67,\n",
       "         '¼': 1,\n",
       "         '½': 7,\n",
       "         '¾': 1,\n",
       "         '×': 96,\n",
       "         'á': 7,\n",
       "         'ä': 1,\n",
       "         'ç': 5,\n",
       "         'é': 3,\n",
       "         'ï': 1,\n",
       "         'ö': 4,\n",
       "         'ü': 5,\n",
       "         'ƒ': 49,\n",
       "         '˜': 2,\n",
       "         '̂': 23,\n",
       "         'Θ': 1,\n",
       "         'Π': 10,\n",
       "         'Σ': 1,\n",
       "         'Φ': 7,\n",
       "         'Ψ': 8,\n",
       "         'Ω': 2,\n",
       "         'α': 10,\n",
       "         'β': 4,\n",
       "         'γ': 23,\n",
       "         'θ': 33,\n",
       "         'λ': 14,\n",
       "         'μ': 19,\n",
       "         'π': 4,\n",
       "         'τ': 4,\n",
       "         'υ': 4,\n",
       "         'φ': 15,\n",
       "         'ψ': 16,\n",
       "         'ω': 104,\n",
       "         'ϕ': 1,\n",
       "         '\\u2002': 189,\n",
       "         '\\u2003': 512,\n",
       "         '\\u2009': 249,\n",
       "         '–': 26,\n",
       "         '—': 344,\n",
       "         '‘': 270,\n",
       "         '’': 270,\n",
       "         '“': 2228,\n",
       "         '”': 2240,\n",
       "         '•': 36,\n",
       "         '…': 1,\n",
       "         '′': 172,\n",
       "         '″': 123,\n",
       "         '\\u2061': 1,\n",
       "         '\\u2062': 61,\n",
       "         '™': 49,\n",
       "         'Å': 2,\n",
       "         '←': 145,\n",
       "         '→': 21,\n",
       "         '⇔': 1,\n",
       "         '∀': 7,\n",
       "         '∂': 12,\n",
       "         '∅': 2,\n",
       "         '∇': 2,\n",
       "         '∈': 33,\n",
       "         '∑': 57,\n",
       "         '−': 233,\n",
       "         '√': 8,\n",
       "         '∞': 2,\n",
       "         '∥': 12,\n",
       "         '∮': 2,\n",
       "         '≈': 3,\n",
       "         '≠': 14,\n",
       "         '≡': 8,\n",
       "         '≤': 18,\n",
       "         '≥': 3,\n",
       "         '≦': 26,\n",
       "         '≧': 9,\n",
       "         '⊂': 1,\n",
       "         '⊕': 28,\n",
       "         '⋮': 2,\n",
       "         '⌈': 2,\n",
       "         '⌉': 2,\n",
       "         '⌊': 1,\n",
       "         '⌋': 1,\n",
       "         '└': 1,\n",
       "         '┘': 1,\n",
       "         '◯': 20,\n",
       "         '\\ue85c': 6,\n",
       "         '\\ue89e': 201,\n",
       "         '\\ue8a0': 66,\n",
       "         '\\uf603': 13,\n",
       "         '\\uf604': 14,\n",
       "         '\\uf74c': 2})"
      ]
     },
     "execution_count": 39,
     "metadata": {},
     "output_type": "execute_result"
    }
   ],
   "source": [
    "c_chars"
   ]
  },
  {
   "cell_type": "code",
   "execution_count": 53,
   "metadata": {
    "collapsed": true
   },
   "outputs": [],
   "source": [
    "docs_as_int = [string2int(pd.text) for pd in patent_samples]\n",
    "docs_as_int_unfiltered = [string2int(pd.text, False) for pd in patent_samples]"
   ]
  },
  {
   "cell_type": "code",
   "execution_count": 57,
   "metadata": {},
   "outputs": [
    {
     "name": "stdout",
     "output_type": "stream",
     "text": [
      "Documents contain 94 unique characters.\n",
      "Documents contain 186 unique characters.\n"
     ]
    }
   ],
   "source": [
    "stat_filtered = char_stats(docs_as_int)\n",
    "stat_unfiltered = char_stats(docs_as_int_unfiltered)"
   ]
  },
  {
   "cell_type": "code",
   "execution_count": 58,
   "metadata": {
    "scrolled": true
   },
   "outputs": [
    {
     "data": {
      "text/plain": [
       "Counter({10: 49267,\n",
       "         32: 1153151,\n",
       "         33: 15,\n",
       "         35: 35,\n",
       "         36: 67,\n",
       "         37: 231,\n",
       "         38: 60,\n",
       "         39: 1060,\n",
       "         40: 12416,\n",
       "         41: 12798,\n",
       "         42: 110,\n",
       "         43: 381,\n",
       "         44: 62670,\n",
       "         45: 11930,\n",
       "         46: 54987,\n",
       "         47: 4008,\n",
       "         48: 32798,\n",
       "         49: 34428,\n",
       "         50: 22456,\n",
       "         51: 11842,\n",
       "         52: 12405,\n",
       "         53: 8625,\n",
       "         54: 8909,\n",
       "         55: 5343,\n",
       "         56: 6319,\n",
       "         57: 3659,\n",
       "         58: 2898,\n",
       "         59: 4029,\n",
       "         60: 894,\n",
       "         61: 645,\n",
       "         62: 990,\n",
       "         63: 54,\n",
       "         64: 2,\n",
       "         65: 13610,\n",
       "         66: 4417,\n",
       "         67: 7253,\n",
       "         68: 6946,\n",
       "         69: 4314,\n",
       "         70: 11432,\n",
       "         71: 7134,\n",
       "         72: 2428,\n",
       "         73: 17893,\n",
       "         74: 492,\n",
       "         75: 1126,\n",
       "         76: 4532,\n",
       "         77: 6626,\n",
       "         78: 3481,\n",
       "         79: 3732,\n",
       "         80: 6189,\n",
       "         81: 398,\n",
       "         82: 5231,\n",
       "         83: 10021,\n",
       "         84: 17808,\n",
       "         85: 3021,\n",
       "         86: 1550,\n",
       "         87: 2669,\n",
       "         88: 1299,\n",
       "         89: 533,\n",
       "         90: 177,\n",
       "         91: 428,\n",
       "         92: 73,\n",
       "         93: 427,\n",
       "         94: 1,\n",
       "         95: 720,\n",
       "         97: 457098,\n",
       "         98: 79208,\n",
       "         99: 243120,\n",
       "         100: 219416,\n",
       "         101: 733806,\n",
       "         102: 126047,\n",
       "         103: 106068,\n",
       "         104: 213593,\n",
       "         105: 448871,\n",
       "         106: 3978,\n",
       "         107: 21957,\n",
       "         108: 195342,\n",
       "         109: 167104,\n",
       "         110: 418676,\n",
       "         111: 431210,\n",
       "         112: 144057,\n",
       "         113: 6891,\n",
       "         114: 380852,\n",
       "         115: 358024,\n",
       "         116: 540139,\n",
       "         117: 144859,\n",
       "         118: 63027,\n",
       "         119: 56550,\n",
       "         120: 14974,\n",
       "         121: 75589,\n",
       "         122: 5241,\n",
       "         123: 259,\n",
       "         124: 957,\n",
       "         125: 256,\n",
       "         126: 39})"
      ]
     },
     "execution_count": 58,
     "metadata": {},
     "output_type": "execute_result"
    }
   ],
   "source": [
    "stat_filtered"
   ]
  },
  {
   "cell_type": "markdown",
   "metadata": {},
   "source": [
    "This is newline and "
   ]
  },
  {
   "cell_type": "code",
   "execution_count": 65,
   "metadata": {},
   "outputs": [
    {
     "name": "stdout",
     "output_type": "stream",
     "text": [
      "[(0, '0'), (1, '1'), (2, '2'), (3, '3'), (4, '4'), (5, '5'), (6, '6'), (7, '7'), (8, '8'), (9, '9'), (10, 'a'), (11, 'b'), (12, 'c'), (13, 'd'), (14, 'e'), (15, 'f'), (16, 'g'), (17, 'h'), (18, 'i'), (19, 'j'), (20, 'k'), (21, 'l'), (22, 'm'), (23, 'n'), (24, 'o'), (25, 'p'), (26, 'q'), (27, 'r'), (28, 's'), (29, 't'), (30, 'u'), (31, 'v'), (32, 'w'), (33, 'x'), (34, 'y'), (35, 'z'), (36, 'A'), (37, 'B'), (38, 'C'), (39, 'D'), (40, 'E'), (41, 'F'), (42, 'G'), (43, 'H'), (44, 'I'), (45, 'J'), (46, 'K'), (47, 'L'), (48, 'M'), (49, 'N'), (50, 'O'), (51, 'P'), (52, 'Q'), (53, 'R'), (54, 'S'), (55, 'T'), (56, 'U'), (57, 'V'), (58, 'W'), (59, 'X'), (60, 'Y'), (61, 'Z'), (62, '!'), (63, '\"'), (64, '#'), (65, '$'), (66, '%'), (67, '&'), (68, \"'\"), (69, '('), (70, ')'), (71, '*'), (72, '+'), (73, ','), (74, '-'), (75, '.'), (76, '/'), (77, ':'), (78, ';'), (79, '<'), (80, '='), (81, '>'), (82, '?'), (83, '@'), (84, '['), (85, '\\\\'), (86, ']'), (87, '^'), (88, '_'), (89, '`'), (90, '{'), (91, '|'), (92, '}'), (93, '~'), (94, ' '), (95, '\\t'), (96, '\\n'), (97, '\\r')]\n",
      "{'E': 40, '\\t': 95, '~': 93, '!': 62, 'r': 27, 'W': 58, '#': 64, '=': 80, '+': 72, '6': 6, 'N': 49, 'B': 37, '?': 82, 'g': 16, '\\r': 97, ':': 77, '{': 90, '2': 2, ' ': 94, 'J': 45, '|': 91, 'P': 51, 'T': 55, 'U': 56, '[': 84, 'L': 47, '8': 8, 'R': 53, '$': 65, ')': 70, '>': 81, 'o': 24, '4': 4, '/': 76, \"'\": 68, 'F': 41, '1': 1, 'b': 11, '`': 89, '\\\\': 85, 'z': 35, 'a': 10, ';': 78, '&': 67, 'K': 46, ']': 86, 'H': 43, 'n': 23, '0': 0, 'O': 50, '_': 88, '-': 74, '%': 66, 'i': 18, 'd': 13, 'Z': 61, '3': 3, '}': 92, 'D': 39, 'q': 26, 't': 29, 'f': 15, '5': 5, '9': 9, 'I': 44, 'X': 59, 'Q': 52, '7': 7, '^': 87, 'm': 22, 'p': 25, '(': 69, 'l': 21, 'V': 57, 'y': 34, 'S': 54, '\\n': 96, 'u': 30, 'x': 33, 'w': 32, '<': 79, 'C': 38, '@': 83, 'j': 19, 'v': 31, 'k': 20, 'c': 12, 'h': 17, ',': 73, '.': 75, 'e': 14, 'M': 48, '*': 71, 'Y': 60, 'G': 42, 's': 28, 'A': 36, '\"': 63}\n"
     ]
    }
   ],
   "source": [
    "# Working on processing characters using a dictionary built from printable characters (minus last two entries).\n",
    "printable_chars = string.printable[:-2]\n",
    "print([(i, c) for i, c in enumerate(printable_chars)])\n",
    "char_map = {c:i for i, c in enumerate(printable_chars)}\n",
    "print(char_map)"
   ]
  },
  {
   "cell_type": "code",
   "execution_count": 72,
   "metadata": {
    "collapsed": true
   },
   "outputs": [],
   "source": [
    "doc_3_as_ints = string2printint(patent_samples[3].text)"
   ]
  },
  {
   "cell_type": "code",
   "execution_count": 73,
   "metadata": {
    "scrolled": true
   },
   "outputs": [
    {
     "data": {
      "text/plain": [
       "Counter({0: 133,\n",
       "         1: 118,\n",
       "         2: 116,\n",
       "         3: 60,\n",
       "         4: 94,\n",
       "         5: 85,\n",
       "         6: 78,\n",
       "         7: 94,\n",
       "         8: 17,\n",
       "         9: 9,\n",
       "         10: 1875,\n",
       "         11: 549,\n",
       "         12: 996,\n",
       "         13: 1312,\n",
       "         14: 3144,\n",
       "         15: 732,\n",
       "         16: 472,\n",
       "         17: 1064,\n",
       "         18: 2362,\n",
       "         19: 4,\n",
       "         20: 446,\n",
       "         21: 1103,\n",
       "         22: 689,\n",
       "         23: 1810,\n",
       "         24: 2126,\n",
       "         25: 491,\n",
       "         26: 22,\n",
       "         27: 1944,\n",
       "         28: 2137,\n",
       "         29: 2702,\n",
       "         30: 562,\n",
       "         31: 207,\n",
       "         32: 338,\n",
       "         33: 21,\n",
       "         34: 430,\n",
       "         35: 32,\n",
       "         36: 68,\n",
       "         37: 6,\n",
       "         38: 16,\n",
       "         39: 30,\n",
       "         40: 23,\n",
       "         41: 47,\n",
       "         42: 38,\n",
       "         43: 16,\n",
       "         44: 88,\n",
       "         45: 1,\n",
       "         46: 2,\n",
       "         47: 11,\n",
       "         48: 24,\n",
       "         49: 17,\n",
       "         50: 18,\n",
       "         51: 10,\n",
       "         53: 28,\n",
       "         54: 39,\n",
       "         55: 83,\n",
       "         56: 3,\n",
       "         57: 7,\n",
       "         58: 12,\n",
       "         68: 1,\n",
       "         69: 32,\n",
       "         70: 59,\n",
       "         73: 266,\n",
       "         74: 14,\n",
       "         75: 242,\n",
       "         76: 9,\n",
       "         77: 29,\n",
       "         78: 40,\n",
       "         94: 6073,\n",
       "         96: 134})"
      ]
     },
     "execution_count": 73,
     "metadata": {},
     "output_type": "execute_result"
    }
   ],
   "source": [
    "Counter(doc_3_as_ints)"
   ]
  },
  {
   "cell_type": "code",
   "execution_count": 74,
   "metadata": {},
   "outputs": [
    {
     "data": {
      "text/plain": [
       "\"A method for synchronizing copies of mirrored files between a first disk subsystem and a second disk subsystem, wherein said method comprises: \\nA) writing a first block of data in the first disk subsystem; \\nB) writing the first block of data in a log file in the first disk subsystem; \\nC) reading the first block of data from the log file in the first disk subsystem and transmitting the first block of data to the second disk subsystem; and \\nD) writing the first block of data in the second disk subsystem after receiving the first block of data from the first disk subsystem.\\nThe method in claim 1 which further comprises: \\nE) acknowledging writing the first block of data to a host system after writing the first block of data to the log file but before writing the first block of data in the second disk subsystem.\\nThe method in claim 1 which further comprises: \\nE) writing a second block of data in the first disk subsystem before the first block of data is read from the log file; \\nF) writing the second block of data in a log file in the first disk subsystem before the first block of data is read from the log file; \\nG) reading the second block of data from the log file in the first disk subsystem and transmitting the second block of data to the second disk subsystem; and \\nH) writing the second block of data in the second disk subsystem after receiving the second block of data from the first disk subsystem.\\nThe method in claim 1 which further comprises: \\nE) writing a second block of data in the first disk subsystem before the first block of data is written to the first disk subsystem; \\nF) transmitting the second block of data to the second disk subsystem without writing it to the log file; and \\nG) writing the second block of data in the second disk subsystem after receiving the second block of data from the first disk subsystem.\\nThe method in claim 4 which further comprises: \\nH) starting logging of writing of disk blocks in the log file in the first disk subsystem after step (G) and before step (A).\\nThe method in claim 5 which further comprises: \\nI) stopping logging of writing of disk blocks in the log file in the first disk subsystem after step (D).\\nThe method in claim 6 wherein: \\nthe stopping of logging in step (I) and the starting of logging in step (H) are done in response to operator commands.\\nThe method in claim 5 wherein: \\nthe starting of logging in step (H) is done in response to a command in a program.\\nThe method in claim 5 wherein: \\nthe starting of logging in step (H) is done periodically.\\nA data processing system comprising: \\na first disk subsystem, comprising: \\na first disk subsystem first disk controller; \\na first disk subsystem first disk drive bidirectionally coupled to and controlled by the first disk subsystem first disk controller and containing a first copy of a first data file; \\na first disk subsystem second disk drive bidirectionally coupled to and controlled by the first disk subsystem first disk controller and containing a log file; and \\n\\na second disk subsystem bidirectionally coupled to the first disk subsystem, comprising: \\na second disk subsystem first disk controller; \\na second disk subsystem first disk drive bidirectionally coupled to and controlled by the second disk subsystem first disk controller and containing a second copy of a first data file; \\n\\nwherein: \\nthe first disk subsystem and the second disk subsystem have a first mode of operation and a second mode of operation; \\na write of a block of data to the first data file in the first mode of operation comprises: \\nwriting the block of data to the first disk subsystem first disk drive, \\ntransmitting the block of data to the second disk subsystem without the block of data being read from the log file; and \\nwriting the block of data to the second disk subsystem first disk drive after being received from the first disk subsystem; and \\n\\na write of the block of data to the first data file in the second mode of operation comprises: \\nwriting the block of data to the first disk subsystem first disk drive, \\nwriting the block of data to the log file; \\nreading the block of data from the log file; \\ntransmitting the block of data to the second disk subsystem after the block of data is read from the log file; and \\nwriting the block of data to the second disk subsystem first disk drive after being received from the first disk subsystem.\\nThe data processing system in claim 11 wherein: \\nthe log file comprises a plurality of records, wherein each of the plurality of records comprises: \\nan address for storing a block of data in the first disk file; \\nthe block of data to be stored in the first disk file.\\nThe data processing system in claim 12 wherein: \\neach of the plurality of records further comprises: \\na length of the block of data to be stored in the first disk file.\\nThe data processing system in claim 11 wherein: \\nthe log file comprises: \\nan index containing a plurality of disk addresses; and \\na data file comprising a plurality of records each containing a block of data to be stored in the first disk file; \\n\\neach disk address in the index corresponds to one of the plurality of records in the data file.\\nThe data processing system in claim 14 wherein: \\ndata records are written into the log file utilizing a second pointer and read from the log file utilizing a first pointer in a round robin manner.\\nThe data processing system in claim 15 wherein: \\nwhen transferring from the second mode of operation to the first mode of operation, the first mode of operation is entered when the first pointer catches up to the second pointer.\\nThe data processing system in claim 11 wherein: \\ntransfer is made from the first mode of operation to the second mode of operation in response to an operator command.\\nThe data processing system in claim 11 wherein: \\ntransfer is made from the first mode of operation to the second mode of operation in a computer scheduled basis.\\nThe data processing system in claim 11 wherein: \\nthe first disk subsystem is physically separated from the second disk subsystem by more than 10 km.\\nA method for synchronizing copies of mirrored files between a first disk subsystem and a second disk subsystem, wherein said method comprises: \\nA) writing a first block of data in the first disk subsystem; \\nB) writing the first block of data in a log file in the first disk subsystem; \\nC) reading the first block of data from the log file in the first disk subsystem and transmitting the first block of data to the second disk subsystem; \\nD) writing the first block of data in the second disk subsystem after receiving the first block of data from the first disk subsystem \\nE) writing a second block of data in the first disk subsystem before the first block of data is read from the log file; \\nF) writing the second block of data in a log file in the first disk subsystem before the first block of data is read from the log file; \\nG) reading the second block of data from the log file in the first disk subsystem and transmitting the second block of data to the second disk subsystem; \\nH) writing the second block of data in the second disk subsystem after receiving the second block of data from the first disk subsystem; \\nI) writing a third block of data in the first disk subsystem before the first block of data is written to the first disk subsystem; \\nJ) transmitting the third block of data to the second disk subsystem without writing it to the log file; \\nK) writing the third block of data in the second disk subsystem after receiving the second block of data from the first disk subsystem; \\nL) starting logging of writing of disk blocks in the log file in the first disk subsystem after step (K) and before step (A); and \\nM) stopping logging of writing of disk blocks in the log file in the first disk subsystem after step (D).\\n\\n0001 The present invention generally relates to high availability disk subsystems, and more specifically to mirroring data in such a high availability disk subsystem. \\n0002 Mirroring is the duplication of data on two or more disk drives. It is done primarily for data integrity protection. Originally, files were duplicated. This feature was available in the early 1970's on the Burroughs (now Unisys) 6700 series of computers. Later, entire disk drives were mirrored. Each disk write is duplicated to two or more disks. Reads from the disk(s) can be from either disk. This provided performance benefits in read operations and a small decrease of performances in write operations. Then, if there is a failure of one of the disks, reading can continue uninterrupted from the other disk. This significantly increases the data integrity and availability, and has an important ingredient of on-line transaction systems for a number of years. Availability was further enhanced by utilizing different disk controllers for the mirrored disk drives. Thus, a failure of a mirrored disk drive, its disk controller, the host adapter, or any of the cabling, would not prevent immediate access to the data. \\n0003 Originally, mirroring was done at the host computer level. The host computer would issue individual write requests to each of the mirrored disks. The host computer would also keep track of which disks are currently available. Software to synchronize mirrored disks or files would also be host computer based. \\n0004 More recently, mirroring at the disk controller level has been introduced. This eliminates the need for the host computer to handle mirrored disks or files any differently than it does other disks or files. Currently, there are commercial disk subsystems available that support mirroring functions. Typically mirroring works by writing data to each of the mirrored disk drives before acknowledging the write to the computer that issued the write request. Typically again, one disk controller will control the writing of data to both disk drives. \\n0005 In a high availability disk subsystem, the two (or more) mirrored disks could be controlled by different disk controllers. Thus, mirroring is done in these cases by having the first (Primary) disk controller write data to a first (Primary) disk. Meanwhile the primary disk controller transmits the data to be written to the second (Secondary) disk controller. The secondary disk controller then writes the data to a second (Secondary) disk drive. Upon completion of this write, the secondary disk controller transmits an acknowledgement to the primary disk controller, which in turn transmits an acknowledgement to the computer when the two disk drives are written. \\n0006 Some high availability disk subsystems use the same controller to write the data to the two disk drives (Primary and Secondary) but, to be protected against failures, the data to be written is saved also in the cache of the second controller. In case of failure of the first controller during the write operations, the second controller takes the task and resume the operations. \\n0007 Traditionally, the primary purpose for mirroring databases or disk drives was for data integrity protection and secondary for high availability. Mirroring is also known as Redundant Array of Independent (or Inexpensive) Disks (RAID) level 1 or RAID level 0/1. Data is immediately available when any single element in a disk subsystem is lost, whether the lost element is a disk controller, a disk drive, or cabling between them and a computer. Other types of data integrity protection, such as RAID levels 3 or 5 have been more popular in recent years due to their lower usage of disk space. However, mirroring is becoming much more attractive due to its simpler design as the cost per megabyte of disk space continues to drop year after year. It is also becoming used in RAID level 1/0 that provides mirroring in conjunction with striping for very high reliability/high performance applications. \\n0008 Mirroring has other benefits too. It can be used as a tool to facilitate copies of different states of a database. This is accomplished by creating a mirror of a database. After the mirror is operational, it is broken at a particular moment. In this way, the secondary copy is the image of the database at a defined instant in time. A third copy of the database can be created at a different instant in time, etc. \\n0009 Mirroring can also be utilized as a tool to facilitate backup on tapes. This is accomplished by creating a mirror of a disk or database. When the mirror is operational, it is broken at a specified moment in time. In this way, the disk copy is available to be replicated separated on a tape or a tape library, at the data throughput required. At the end of this operation, the mirror is reestablished, and after the resynchronization phase, a new backup can be initialized. \\n0010 However, many of these features have some limitations in the prior art because the creation or the resynchronization of a mirror has a negative impact on the performance of the disk subsystem because a full replication of disk volumes is required to create or resynchronize the mirror. \\n0011 Another problem with mirroring is that the two mirrored disks have to be reasonably close together. With current Fibre Channel technology, the two disks drives must be within 10 km (standard value) of each other. This technology limitation in length is needed for data integrity protection and due also to the fact that storage interfaces work in real time. One problem here is that it would often be preferable to separate the disk controllers and their associated disk drives by longer distances in order to minimize the possibility that a common disaster could take out both. \\n0012 Another current problem with mirroring is that the primary disk controller typically maintains data transmitted to the secondary disk controller in non volatile memory until acknowledged (battery protected cache). This typically consumes significant amounts of valuable non volatile memory space that RAID disk controllers could utilize for caching. \\n0013 Another problem that arises in high availability disk subsystems is in backing up and checkpointing data, especially in the form of on-line databases. In the prior art, checkpointing and backing up on-line databases typically adversely impacts performance during the time that the backup is being taken. One reason for this is that user accesses to the database must be overlapped with backup accesses to it. Also, it is difficult to get a completely consistent snap-shot copy of an on-line database without shutting down access to the database while the copy is being made. It would thus also be advantageous to provide a mechanism for checkpointing, snap shotting, and backing up files, most particularly online databases, without negatively impacting performance during the time that the backup is being taken. \\n0014 For these reasons, and for other reasons that will become apparent in this disclosure, an improved method of mirroring disks and databases is beneficial. \\n0015 FIG. 1 is a block diagram illustrating a General Purpose Computer 20 in a data processing system. The General Purpose Computer 20 has a Computer Processor 22, and Memory 24, connected by a Bus 26. Memory 24 is a relatively high speed machine readable medium and includes Volatile Memories such as DRAM, and SRAM, and Non-Volatile Memories such as, ROM, FLASH, EPROM, and EEPROM. Also connected to the Bus are Secondary Storage 30, External Storage 32, output devices such as a monitor 34, input devices such as a keyboard 36 (with mouse 37), and printers 38. Secondary Storage 30 includes machine-readable media such as hard disk drives (or DASD) and disk sub-systems. External Storage 32 includes machine-readable media such as floppy disks, removable hard drives, magnetic tapes, CD-ROM, and even other computers, possibly connected via a communications line 28. The distinction drawn here between Secondary Storage 30 and External Storage 32 is primarily for convenience in describing the invention. As such, it should be appreciated that there is substantial functional overlap between these elements. Computer software such as data base management software, operating systems, and user programs can be stored in a Computer Software Storage Medium, such as memory 24, Secondary Storage 30, and External Storage 32. Executable versions of computer software 33, can be read from a Non-Volatile Storage Medium such as External Storage 32, Secondary Storage 30, and Non-Volatile Memory and loaded for execution directly into Volatile Memory, executed directly out of Non-Volatile Memory, or stored on the Secondary Storage 30 prior to loading into Volatile Memory for execution. \\n0016 FIG. 2 is a block diagram illustrating a data processing system 20 having a computer 21 and a disk subsystem 40 with two RAID disk controllers 53, 54 to communicate with and control four disk drives 61, 62, 63, 64. The disk subsystem 40 comprises two RAID disk controllers 53, 54 coupled to four disk drives 61, 62, 63, 64. The computer 21 is bidirectionally coupled 44 to each of the two RAID disk controllers 51, 52. Each of the two RAID disk controllers 53, 54 is bidirectionally coupled to 45 and controls each of the four disk drives 61, 62, 63, 64. The two RAID disk controllers 53, 54 are also bidirectionally coupled together 46. This is illustrative of a sample high availability disk subsystem. \\n0017 In the preferred embodiment, the coupling between the computer 21 and RAID disk controller 53, 54, comprises one or more channels. Two common types of channels 44 in use today are SCSI and Fibre Channel. Other types of computer systems, interconnections, and channels are within the scope of this invention. Note that in a typical case, the computer 21 will typically be multiply connected 44 to each of the two RAID disk controllers 53, 54. Note also that large scale data processing systems will typically include more than one disk subsystem and more than four disks. Additionally, each such RAID disk controller 53, 54 will often communicate with and control more than the four disk drives 61, 62, 63, 64 shown. Two common types of connections in use today are SCSI and Fibre Channel. However, other types of connections are also within the scope of this invention.\\n0018 The features and advantages of the present invention will be more clearly understood from the following detailed description taken in conjunction with the accompanying FIGURES where like numerals refer to like and corresponding parts and in which: \\n0019 FIG. 1 is a block diagram illustrating a General Purpose Computer in a data processing system; \\n0020 FIG. 2 is a block diagram illustrating a data processing system having a computer and a disk subsystem with two RAID disk controllers to communicate with and control four disk drives; \\n0021 FIG. 3 is a block diagram illustrating a data processing system in accordance with a preferred embodiment of the present invention; \\n0022 FIG. 4 is identical to FIG. 5 except that the two disk controllers are coupled to the computer via a Storage Area Network (SAN); \\n0023 FIG. 5 is a block diagram illustrating a data processing system in accordance with an alternate embodiment of the present invention; \\n0024 FIG. 6 is a block diagram illustrating a data processing system in accordance with an alternate embodiment of the present invention; \\n0025 FIG. 7 is a block diagram illustrating the log file shown in FIG. 3, in accordance with a preferred embodiment of the present invention; and \\n0026 FIG. 8 is a block diagram illustrating the log file pointer buffer and log file data file shown in FIG. 6, in accordance with an alternate embodiment of the present invention.\\n0027 Disk drives are mirrored through duplication controlled by disk controllers. Each disk controller controls writing to a set of disk drives. A disk write request to one disk controller causes that disk controller to write to one of its disks and to transmit the write request to another controller that in turn writes to its disk. The second controller then acknowledges the write to the first controller, which in turn acknowledges the write to the computer issuing the request. The first controller further logs the writes in a log file. This logging allows efficient resynchronization after mirroring is broken and reestablished, as well as removing cable length restrictions between controllers. \\n0028 In the following description, numerous specific details are set forth to provide a thorough understanding of the present invention. However, it will be obvious to those skilled in the art that the present invention may be practiced without such specific details. In other instances, circuits have been shown in block diagram form in order not to obscure the present invention in unnecessary detail. For the most part, details have been omitted in as much as such details are not necessary to obtain a complete understanding of the present invention and are within the skills of persons of ordinary skill in the relevant art. \\n0029 The terms bus and channel will be used to refer to a plurality of signals or conductors which may be used to transfer one or more various types of information, such as data, addresses, control, or status. Either busses or channels can utilize either serial or parallel technologies. As noted above, the single bus is shown in FIG. 1 is illustrative only, typically being implemented as a plurality of busses. \\n0030 FIG. 3 is a block diagram illustrating a data processing system 20 in accordance with a preferred embodiment of the present invention. The data processing system 20 has a computer 21 and disk subsystems 41, 42 each with one or more RAID disk controllers 51, 52 to communicate with and control eight disk drives 61, 62, 63, 64, 65, 66, 67, 68. In this FIG., a single disk controller 51, 52 is shown in each disk subsystem 41, 42. However, in the preferred embodiment, each disk subsystem 41, 42, contains two or more disk controllers 51, 52 coupled to the disk drives in that disk subsystem 41, 42. The disk controllers 51, 52, in the two disk subsystems 41, 42 are bidirectionally coupled 44 to the computer 21, preferably over one or more channels 44 as disclosed in FIG. 2. The disk controllers 51, 52 are further bidirectionally coupled 47 to the disk controllers 52, 51 in the other disk subsystems 41, 42. The first disk subsystem 41 comprises one or more disk controllers 51 that are bidirectionally coupled to and control the first four disk drives 61, 62, 63, 64. The second disk subsystem 42 comprises one or more disk controllers 52 that are bidirectionally coupled to and control the second four disk drives 65, 66, 67, 68. \\n0031 The first disk drive 61 controlled by the first disk subsystem disk controllers 51 contains a database 71 that is mirrored 72 on the fifth disk drive 65 controlled by the second disk subsystem disk controllers 52. Hereinafter, the first database 71 will be termed the Primary database, and the mirrored copy 72 will be termed the Secondary database. This is illustrative only. In particular note that in many cases, databases span multiple disk drives. The present invention is not limited to any specific database configuration on any specific configuration of disk drives or disk controllers. Also note that though the remainder of this disclosure discussed mirroring of databases, RAID levels 1 and 0/1 provide for mirroring of entire disk drives. It should be understood that though this invention supports mirrored databases, it is primarily applicable to mirrored disk drives, which of necessity mirror the databases residing on the mirrored disk drives. It should also be noted that either or both databases 71, 72 may be additionally protected by RAID features such as RAID 5 or RAID 0/1. \\n0032 The mirroring typically operates by the first disk subsystem disk controllers 51 transmitting all write requests across the link 47 to the second disk subsystem disk controllers 52. Both disk subsystem disk controllers 51, 52, then cause the data being written to be written to the databases 71, 72 on the corresponding two disk drives 61, 65. The second disk subsystem disk controllers 52 will then send an acknowledgement of the write to the first disk subsystem disk controllers 51, which in turn send the write acknowledgement to the computer 21. This guarantees that the write request is not acknowledged to the computer 21 until it has been successfully completed by both disk subsystems 41, 42. \\n0033 As noted above, it would be advantageous to be able to create duplicate copies of a database, then break the connection between the two copies of the database. The second copy of the database could then be saved to tape or other type of external storage 32. The mirror split and subsequent database save could be at a certain specified time, or by command. After the database save, the two second copy of the database (the one used for the save) could then be resynchronized with the first copy, without the necessity of taking the first database offline. Again, the resynchronization could be done upon operator command. \\n0034 This problem of breaking the mirroring, and later resynchronizing, is solved by keeping a log file 74 of unmirrored writes on one (or more) of the disk drives 63 in the first disk subsystem 41. When a decision is made to resynchronize the two disk subsystems, or the physical or logical connection 47 between disk subsystems 41, 42, is reestablished, the first disk subsystem disk controllers 51 transmit the previously unmirrored writes from the log file 74 to the second disk subsystem disk controllers 52. The second disk subsystem disk controllers 52 acknowledge these writes when completed to the first disk subsystem disk controllers 51, at which time the first disk subsystem disk controllers 51 mark them as no longer being valid or requiring acknowledgement in the log file 74. In the preferred embodiment, the first disk subsystem disk controllers 51 continue to save writes to the primary database 71 in the log file 74 until the second disk subsystem disk controllers 52 catche up to the first disk subsystem disk controllers 51. At that point, the two database copies 71, 72, are again identical and synchronized. \\n0035 In the preferred embodiment, the log file 74 will reside on one or more unused disks, such as hot backup disks. However, other configurations are within the scope of this invention, including allocation of the log file 74 as a file on a disk currently in use (but preferably not mirrored). \\n0036 In the prior art, the connection 47 between the first disk subsystem disk controllers 51 and the second disk subsystem disk controllers 52 is limited in length. One reason for this is that the longer the cable length, the longer it takes the second disk subsystem disk controllers 52 to acknowledge writes to the first disk subsystem disk controllers 51. This in turn increases the time it takes to acknowledge the writes to the computer 21. This limitation is removed in the present invention by acknowledging the writes to the computer 21 when written successfully by the first disk subsystem disk controllers 51 to both the primary database copy 71 and the log file 74. The corresponding entry in the log file 74 is deleted when acknowledged by the second disk subsystem disk controllers 52 as having been written to the secondary database copy 72. \\n0037 FIG. 4 is identical to FIG. 5 except that the two disk subsystem disk controllers 51, 52, are coupled to the computer 21 via a Storage Area Network (SAN) 58. \\n0038 FIG. 5 is a block diagram illustrating a data processing system 20 in accordance with an alternate embodiment of the present invention. It is similar to FIG. 4 except that the second disk subsystem disk controllers 52 are coupled to the first disk subsystem disk controllers 51 and the computer 21 via a Wide Area Network 49 (WAN). This is infeasible in the prior art due to cable length restrictions. However, as noted in the description of FIG. 3, this limitation is removed by acknowledging writes to the computer 21 after they are complete to the primary database copy 71 and the log file 74. This has significant advantages over the prior art when providing for disaster recovery, since the first disk subsystem disk controllers 51, and its associated disk drives 61, 62, 63, 64, can be placed a significant distance from the second disk controller 52 and its associated disk drives 65, 66, 67, 68. The WAN 49 can be an internal Local Area Network (LAN), such as Ethernet or fiber. Even more importantly, the two disk subsystems no longer have to even be located in the same geographical area. One alternative is to use an ATM link for the WAN 49. Another alternative is, with proper security, to utilize the Internet as the WAN 49. Other equivalent or similar configurations or technologies are within the scope of this invention. \\n0039 FIG. 6 is a block diagram illustrating a data processing system 20 in accordance with an alternate embodiment of the present invention. It is similar to FIG. 3 except that the log file 74 is divided into two parts. One portion of the log file 74 in FIG. 3 is the log file data file 77 that contains the records that will ultimately be mirrored in the secondary database 72. It again typically is stored on one of the disk drives 63 controlled by the first disk subsystem disk controllers 51. Additionally, pointers 76 are maintained to these records in a log file pointer buffer 77. The log file pointer buffer 76 is preferably maintained in the memory of the first disk controller 51. However, a non-volatile copy of the log file pointer buffer 76 can be written to one of the disk drives 61, 62, 63, 64, controlled by that disk subsystem disk controller 51. \\n0040 FIG. 7 is a block diagram illustrating the log file 74 shown in FIG. 3, in accordance with a preferred embodiment of the present invention. The log file 74 contains a plurality of records organized in a round robin or circular buffer form. There are two pointers to the circular buffer. A Last pointer 82 points at either the last record inserted into the circular buffer, or at the next record after that last record inserted. There is also a First pointer 83 that points at either the first unacknowledged record, or at the last acknowledged record in the circular buffer. The use of circular buffers is well known in the prior art. While a circular buffer is utilized in the preferred embodiment, other equivalent buffering techniques are also within the scope of the present invention, such as the use of double buffering. \\n0041 When a write of the database 71, 72 is performed, and the two copies of the database 71, 72 are not synchronized, the data written to the primary copy of the database 71 is written into the circular buffer utilizing the Last pointer, which is adjusted correspondingly. When a write is acknowledged to the secondary copy of the database by the second controller 52, the First pointer is adjusted accordingly. When the Last pointer catches up to the First pointer, the two copies of the database 71, 72 are synchronized. Each record in the circular buffer contains three pieces of information: the address in the database 71, 72 at which it is to be written, the size of the data to be written, and the data itself. \\n0042 FIG. 8 is a block diagram illustrating the log file pointer buffer 76 and log file data file 77 shown in FIG. 6, in accordance with an alternate embodiment of the present invention. In this embodiment, the pointer and length information are separated from the actual database information this is to be mirrored. As in FIG. 7, a First pointer addresses either the first unacknowledged set of write information, or the last acknowledged set of write information. The Last pointer 82 addresses either the last unacknowledged set of write information, or the first space for new unacknowledged set of write information. \\n0043 The log file pointer buffer 76 contains information required to identify where the data to be mirrored will be stored in the secondary database 72, where the data to be mirrored is stored in the log file data file 77, and how much data is involved in the corresponding write request. The data stored in the log file data file 77 can be stored on the appropriate disk drive 63 in the same format as it will be stored in the secondary database 72. For example, if the unit being written is a track of data, a track is stored in the log file data file 77, then read from that log file data file 77 and transmitted to the secondary controller 52 for writing to the secondary database 72. \\n0044 In one embodiment, each entry in the log file pointer buffer 76 contains a pointer to the corresponding data in the log data file 77, an address for writing in the secondary database 72, and the amount of data to be written. In another embodiment, each entry in the log file pointer buffer 76 corresponds to the standard unit of writing data to the secondary database 72, such as a track of data. Thus, the position of the entry in the log file pointer buffer 76 implicitly identifies the position of the corresponding data in the log file data file 77. Each entry in the log file pointer buffer 76 would at a minimum contain the address at which the corresponding data in the log file data file 77 will be ultimately written in the secondary database 72. Each entry may also contain the number of contiguous standard units of writing data in the corresponding write request. One alternative to this is to mark each entry in the log file pointer buffer 76 with a First and Last flag in order to implicitly identify the length of each write request. Other equivalent organizations are also within the scope of this invention. In the case of out of order acknowledgements, such as when communicating over the Internet, an Acknowledged flag can also be utilized. The Last pointer 82 is then only updated for acknowledged sets of data. One advantage of these embodiments is that multiple write requests to the log file data file 77 can be buffered up and written in larger blocks. For example if the standard unit of writing data to the secondary database 72 is a sector, multiple contiguous sectors, or even an entire track, may be written at the same time, without significant regard to where the data from one write request ends and the data for the next write request begins. \\n0045 In the preferred embodiment, logging can be turned on and off by commands from the computer 21 operator or operating system. Similarly, the mirror can be broken and reestablished and resynchronized through commands from the computer 21 operator or operating system. \\n0046 The use of delayed mirroring of disk files, as shown herein, provides a number of benefits. One benefit is that it lifts cable length limitations between disk subsystems 41, 42. Another benefit is that it provides a mechanism to take check points, snap shots, and/or backups of data files (most notably online data bases) without adversely impacting online operation. In such operation, mirroring is broken, the secondary disk drive or file is copied, then the two mirrored disk drives or files are resynchronized. This can be done repeatedly without adversely impacting performance. It can be done either automatically, or under operator command. \\n0047 Those skilled in the art will recognize that modifications and variations can be made without departing from the spirit of the invention. Therefore, it is intended that this invention encompass all such variations and modifications as fall within the scope of the appended claims. \\n0048 Claim elements and steps herein have been numbered and/or lettered solely as an aid in readability and understanding. As such, the numbering and/or lettering in itself is not intended to and should not be taken to indicate the ordering of elements and/or steps in the claims. \""
      ]
     },
     "execution_count": 74,
     "metadata": {},
     "output_type": "execute_result"
    }
   ],
   "source": [
    "printint2string(doc_3_as_ints)"
   ]
  },
  {
   "cell_type": "markdown",
   "metadata": {},
   "source": [
    "Why are the claims being shown first? PatentDoc description is the claims and vice versa. Must be a switch error somewhere.\n",
    "\n",
    "Also we need claim numbers on claim text."
   ]
  },
  {
   "cell_type": "code",
   "execution_count": 75,
   "metadata": {},
   "outputs": [
    {
     "data": {
      "text/plain": [
       "'1\\n\\n2'"
      ]
     },
     "execution_count": 75,
     "metadata": {},
     "output_type": "execute_result"
    }
   ],
   "source": [
    "\"\\n\\n\".join([\"1\", \"2\"])"
   ]
  },
  {
   "cell_type": "code",
   "execution_count": 77,
   "metadata": {},
   "outputs": [
    {
     "data": {
      "text/plain": [
       "\"0001 The present invention generally relates to high availability disk subsystems, and more specifically to mirroring data in such a high availability disk subsystem. \\n0002 Mirroring is the duplication of data on two or more disk drives. It is done primarily for data integrity protection. Originally, files were duplicated. This feature was available in the early 1970's on the Burroughs (now Unisys) 6700 series of computers. Later, entire disk drives were mirrored. Each disk write is duplicated to two or more disks. Reads from the disk(s) can be from either disk. This provided performance benefits in read operations and a small decrease of performances in write operations. Then, if there is a failure of one of the disks, reading can continue uninterrupted from the other disk. This significantly increases the data integrity and availability, and has an important ingredient of on-line transaction systems for a number of years. Availability was further enhanced by utilizing different disk controllers for the mirrored disk drives. Thus, a failure of a mirrored disk drive, its disk controller, the host adapter, or any of the cabling, would not prevent immediate access to the data. \\n0003 Originally, mirroring was done at the host computer level. The host computer would issue individual write requests to each of the mirrored disks. The host computer would also keep track of which disks are currently available. Software to synchronize mirrored disks or files would also be host computer based. \\n0004 More recently, mirroring at the disk controller level has been introduced. This eliminates the need for the host computer to handle mirrored disks or files any differently than it does other disks or files. Currently, there are commercial disk subsystems available that support mirroring functions. Typically mirroring works by writing data to each of the mirrored disk drives before acknowledging the write to the computer that issued the write request. Typically again, one disk controller will control the writing of data to both disk drives. \\n0005 In a high availability disk subsystem, the two (or more) mirrored disks could be controlled by different disk controllers. Thus, mirroring is done in these cases by having the first (Primary) disk controller write data to a first (Primary) disk. Meanwhile the primary disk controller transmits the data to be written to the second (Secondary) disk controller. The secondary disk controller then writes the data to a second (Secondary) disk drive. Upon completion of this write, the secondary disk controller transmits an acknowledgement to the primary disk controller, which in turn transmits an acknowledgement to the computer when the two disk drives are written. \\n0006 Some high availability disk subsystems use the same controller to write the data to the two disk drives (Primary and Secondary) but, to be protected against failures, the data to be written is saved also in the cache of the second controller. In case of failure of the first controller during the write operations, the second controller takes the task and resume the operations. \\n0007 Traditionally, the primary purpose for mirroring databases or disk drives was for data integrity protection and secondary for high availability. Mirroring is also known as Redundant Array of Independent (or Inexpensive) Disks (RAID) level 1 or RAID level 0/1. Data is immediately available when any single element in a disk subsystem is lost, whether the lost element is a disk controller, a disk drive, or cabling between them and a computer. Other types of data integrity protection, such as RAID levels 3 or 5 have been more popular in recent years due to their lower usage of disk space. However, mirroring is becoming much more attractive due to its simpler design as the cost per megabyte of disk space continues to drop year after year. It is also becoming used in RAID level 1/0 that provides mirroring in conjunction with striping for very high reliability/high performance applications. \\n0008 Mirroring has other benefits too. It can be used as a tool to facilitate copies of different states of a database. This is accomplished by creating a mirror of a database. After the mirror is operational, it is broken at a particular moment. In this way, the secondary copy is the image of the database at a defined instant in time. A third copy of the database can be created at a different instant in time, etc. \\n0009 Mirroring can also be utilized as a tool to facilitate backup on tapes. This is accomplished by creating a mirror of a disk or database. When the mirror is operational, it is broken at a specified moment in time. In this way, the disk copy is available to be replicated separated on a tape or a tape library, at the data throughput required. At the end of this operation, the mirror is reestablished, and after the resynchronization phase, a new backup can be initialized. \\n0010 However, many of these features have some limitations in the prior art because the creation or the resynchronization of a mirror has a negative impact on the performance of the disk subsystem because a full replication of disk volumes is required to create or resynchronize the mirror. \\n0011 Another problem with mirroring is that the two mirrored disks have to be reasonably close together. With current Fibre Channel technology, the two disks drives must be within 10 km (standard value) of each other. This technology limitation in length is needed for data integrity protection and due also to the fact that storage interfaces work in real time. One problem here is that it would often be preferable to separate the disk controllers and their associated disk drives by longer distances in order to minimize the possibility that a common disaster could take out both. \\n0012 Another current problem with mirroring is that the primary disk controller typically maintains data transmitted to the secondary disk controller in non volatile memory until acknowledged (battery protected cache). This typically consumes significant amounts of valuable non volatile memory space that RAID disk controllers could utilize for caching. \\n0013 Another problem that arises in high availability disk subsystems is in backing up and checkpointing data, especially in the form of on-line databases. In the prior art, checkpointing and backing up on-line databases typically adversely impacts performance during the time that the backup is being taken. One reason for this is that user accesses to the database must be overlapped with backup accesses to it. Also, it is difficult to get a completely consistent snap-shot copy of an on-line database without shutting down access to the database while the copy is being made. It would thus also be advantageous to provide a mechanism for checkpointing, snap shotting, and backing up files, most particularly online databases, without negatively impacting performance during the time that the backup is being taken. \\n0014 For these reasons, and for other reasons that will become apparent in this disclosure, an improved method of mirroring disks and databases is beneficial. \\n0015 FIG. 1 is a block diagram illustrating a General Purpose Computer 20 in a data processing system. The General Purpose Computer 20 has a Computer Processor 22, and Memory 24, connected by a Bus 26. Memory 24 is a relatively high speed machine readable medium and includes Volatile Memories such as DRAM, and SRAM, and Non-Volatile Memories such as, ROM, FLASH, EPROM, and EEPROM. Also connected to the Bus are Secondary Storage 30, External Storage 32, output devices such as a monitor 34, input devices such as a keyboard 36 (with mouse 37), and printers 38. Secondary Storage 30 includes machine-readable media such as hard disk drives (or DASD) and disk sub-systems. External Storage 32 includes machine-readable media such as floppy disks, removable hard drives, magnetic tapes, CD-ROM, and even other computers, possibly connected via a communications line 28. The distinction drawn here between Secondary Storage 30 and External Storage 32 is primarily for convenience in describing the invention. As such, it should be appreciated that there is substantial functional overlap between these elements. Computer software such as data base management software, operating systems, and user programs can be stored in a Computer Software Storage Medium, such as memory 24, Secondary Storage 30, and External Storage 32. Executable versions of computer software 33, can be read from a Non-Volatile Storage Medium such as External Storage 32, Secondary Storage 30, and Non-Volatile Memory and loaded for execution directly into Volatile Memory, executed directly out of Non-Volatile Memory, or stored on the Secondary Storage 30 prior to loading into Volatile Memory for execution. \\n0016 FIG. 2 is a block diagram illustrating a data processing system 20 having a computer 21 and a disk subsystem 40 with two RAID disk controllers 53, 54 to communicate with and control four disk drives 61, 62, 63, 64. The disk subsystem 40 comprises two RAID disk controllers 53, 54 coupled to four disk drives 61, 62, 63, 64. The computer 21 is bidirectionally coupled 44 to each of the two RAID disk controllers 51, 52. Each of the two RAID disk controllers 53, 54 is bidirectionally coupled to 45 and controls each of the four disk drives 61, 62, 63, 64. The two RAID disk controllers 53, 54 are also bidirectionally coupled together 46. This is illustrative of a sample high availability disk subsystem. \\n0017 In the preferred embodiment, the coupling between the computer 21 and RAID disk controller 53, 54, comprises one or more channels. Two common types of channels 44 in use today are SCSI and Fibre Channel. Other types of computer systems, interconnections, and channels are within the scope of this invention. Note that in a typical case, the computer 21 will typically be multiply connected 44 to each of the two RAID disk controllers 53, 54. Note also that large scale data processing systems will typically include more than one disk subsystem and more than four disks. Additionally, each such RAID disk controller 53, 54 will often communicate with and control more than the four disk drives 61, 62, 63, 64 shown. Two common types of connections in use today are SCSI and Fibre Channel. However, other types of connections are also within the scope of this invention.\\n0018 The features and advantages of the present invention will be more clearly understood from the following detailed description taken in conjunction with the accompanying FIGURES where like numerals refer to like and corresponding parts and in which: \\n0019 FIG. 1 is a block diagram illustrating a General Purpose Computer in a data processing system; \\n0020 FIG. 2 is a block diagram illustrating a data processing system having a computer and a disk subsystem with two RAID disk controllers to communicate with and control four disk drives; \\n0021 FIG. 3 is a block diagram illustrating a data processing system in accordance with a preferred embodiment of the present invention; \\n0022 FIG. 4 is identical to FIG. 5 except that the two disk controllers are coupled to the computer via a Storage Area Network (SAN); \\n0023 FIG. 5 is a block diagram illustrating a data processing system in accordance with an alternate embodiment of the present invention; \\n0024 FIG. 6 is a block diagram illustrating a data processing system in accordance with an alternate embodiment of the present invention; \\n0025 FIG. 7 is a block diagram illustrating the log file shown in FIG. 3, in accordance with a preferred embodiment of the present invention; and \\n0026 FIG. 8 is a block diagram illustrating the log file pointer buffer and log file data file shown in FIG. 6, in accordance with an alternate embodiment of the present invention.\\n0027 Disk drives are mirrored through duplication controlled by disk controllers. Each disk controller controls writing to a set of disk drives. A disk write request to one disk controller causes that disk controller to write to one of its disks and to transmit the write request to another controller that in turn writes to its disk. The second controller then acknowledges the write to the first controller, which in turn acknowledges the write to the computer issuing the request. The first controller further logs the writes in a log file. This logging allows efficient resynchronization after mirroring is broken and reestablished, as well as removing cable length restrictions between controllers. \\n0028 In the following description, numerous specific details are set forth to provide a thorough understanding of the present invention. However, it will be obvious to those skilled in the art that the present invention may be practiced without such specific details. In other instances, circuits have been shown in block diagram form in order not to obscure the present invention in unnecessary detail. For the most part, details have been omitted in as much as such details are not necessary to obtain a complete understanding of the present invention and are within the skills of persons of ordinary skill in the relevant art. \\n0029 The terms bus and channel will be used to refer to a plurality of signals or conductors which may be used to transfer one or more various types of information, such as data, addresses, control, or status. Either busses or channels can utilize either serial or parallel technologies. As noted above, the single bus is shown in FIG. 1 is illustrative only, typically being implemented as a plurality of busses. \\n0030 FIG. 3 is a block diagram illustrating a data processing system 20 in accordance with a preferred embodiment of the present invention. The data processing system 20 has a computer 21 and disk subsystems 41, 42 each with one or more RAID disk controllers 51, 52 to communicate with and control eight disk drives 61, 62, 63, 64, 65, 66, 67, 68. In this FIG., a single disk controller 51, 52 is shown in each disk subsystem 41, 42. However, in the preferred embodiment, each disk subsystem 41, 42, contains two or more disk controllers 51, 52 coupled to the disk drives in that disk subsystem 41, 42. The disk controllers 51, 52, in the two disk subsystems 41, 42 are bidirectionally coupled 44 to the computer 21, preferably over one or more channels 44 as disclosed in FIG. 2. The disk controllers 51, 52 are further bidirectionally coupled 47 to the disk controllers 52, 51 in the other disk subsystems 41, 42. The first disk subsystem 41 comprises one or more disk controllers 51 that are bidirectionally coupled to and control the first four disk drives 61, 62, 63, 64. The second disk subsystem 42 comprises one or more disk controllers 52 that are bidirectionally coupled to and control the second four disk drives 65, 66, 67, 68. \\n0031 The first disk drive 61 controlled by the first disk subsystem disk controllers 51 contains a database 71 that is mirrored 72 on the fifth disk drive 65 controlled by the second disk subsystem disk controllers 52. Hereinafter, the first database 71 will be termed the Primary database, and the mirrored copy 72 will be termed the Secondary database. This is illustrative only. In particular note that in many cases, databases span multiple disk drives. The present invention is not limited to any specific database configuration on any specific configuration of disk drives or disk controllers. Also note that though the remainder of this disclosure discussed mirroring of databases, RAID levels 1 and 0/1 provide for mirroring of entire disk drives. It should be understood that though this invention supports mirrored databases, it is primarily applicable to mirrored disk drives, which of necessity mirror the databases residing on the mirrored disk drives. It should also be noted that either or both databases 71, 72 may be additionally protected by RAID features such as RAID 5 or RAID 0/1. \\n0032 The mirroring typically operates by the first disk subsystem disk controllers 51 transmitting all write requests across the link 47 to the second disk subsystem disk controllers 52. Both disk subsystem disk controllers 51, 52, then cause the data being written to be written to the databases 71, 72 on the corresponding two disk drives 61, 65. The second disk subsystem disk controllers 52 will then send an acknowledgement of the write to the first disk subsystem disk controllers 51, which in turn send the write acknowledgement to the computer 21. This guarantees that the write request is not acknowledged to the computer 21 until it has been successfully completed by both disk subsystems 41, 42. \\n0033 As noted above, it would be advantageous to be able to create duplicate copies of a database, then break the connection between the two copies of the database. The second copy of the database could then be saved to tape or other type of external storage 32. The mirror split and subsequent database save could be at a certain specified time, or by command. After the database save, the two second copy of the database (the one used for the save) could then be resynchronized with the first copy, without the necessity of taking the first database offline. Again, the resynchronization could be done upon operator command. \\n0034 This problem of breaking the mirroring, and later resynchronizing, is solved by keeping a log file 74 of unmirrored writes on one (or more) of the disk drives 63 in the first disk subsystem 41. When a decision is made to resynchronize the two disk subsystems, or the physical or logical connection 47 between disk subsystems 41, 42, is reestablished, the first disk subsystem disk controllers 51 transmit the previously unmirrored writes from the log file 74 to the second disk subsystem disk controllers 52. The second disk subsystem disk controllers 52 acknowledge these writes when completed to the first disk subsystem disk controllers 51, at which time the first disk subsystem disk controllers 51 mark them as no longer being valid or requiring acknowledgement in the log file 74. In the preferred embodiment, the first disk subsystem disk controllers 51 continue to save writes to the primary database 71 in the log file 74 until the second disk subsystem disk controllers 52 catche up to the first disk subsystem disk controllers 51. At that point, the two database copies 71, 72, are again identical and synchronized. \\n0035 In the preferred embodiment, the log file 74 will reside on one or more unused disks, such as hot backup disks. However, other configurations are within the scope of this invention, including allocation of the log file 74 as a file on a disk currently in use (but preferably not mirrored). \\n0036 In the prior art, the connection 47 between the first disk subsystem disk controllers 51 and the second disk subsystem disk controllers 52 is limited in length. One reason for this is that the longer the cable length, the longer it takes the second disk subsystem disk controllers 52 to acknowledge writes to the first disk subsystem disk controllers 51. This in turn increases the time it takes to acknowledge the writes to the computer 21. This limitation is removed in the present invention by acknowledging the writes to the computer 21 when written successfully by the first disk subsystem disk controllers 51 to both the primary database copy 71 and the log file 74. The corresponding entry in the log file 74 is deleted when acknowledged by the second disk subsystem disk controllers 52 as having been written to the secondary database copy 72. \\n0037 FIG. 4 is identical to FIG. 5 except that the two disk subsystem disk controllers 51, 52, are coupled to the computer 21 via a Storage Area Network (SAN) 58. \\n0038 FIG. 5 is a block diagram illustrating a data processing system 20 in accordance with an alternate embodiment of the present invention. It is similar to FIG. 4 except that the second disk subsystem disk controllers 52 are coupled to the first disk subsystem disk controllers 51 and the computer 21 via a Wide Area Network 49 (WAN). This is infeasible in the prior art due to cable length restrictions. However, as noted in the description of FIG. 3, this limitation is removed by acknowledging writes to the computer 21 after they are complete to the primary database copy 71 and the log file 74. This has significant advantages over the prior art when providing for disaster recovery, since the first disk subsystem disk controllers 51, and its associated disk drives 61, 62, 63, 64, can be placed a significant distance from the second disk controller 52 and its associated disk drives 65, 66, 67, 68. The WAN 49 can be an internal Local Area Network (LAN), such as Ethernet or fiber. Even more importantly, the two disk subsystems no longer have to even be located in the same geographical area. One alternative is to use an ATM link for the WAN 49. Another alternative is, with proper security, to utilize the Internet as the WAN 49. Other equivalent or similar configurations or technologies are within the scope of this invention. \\n0039 FIG. 6 is a block diagram illustrating a data processing system 20 in accordance with an alternate embodiment of the present invention. It is similar to FIG. 3 except that the log file 74 is divided into two parts. One portion of the log file 74 in FIG. 3 is the log file data file 77 that contains the records that will ultimately be mirrored in the secondary database 72. It again typically is stored on one of the disk drives 63 controlled by the first disk subsystem disk controllers 51. Additionally, pointers 76 are maintained to these records in a log file pointer buffer 77. The log file pointer buffer 76 is preferably maintained in the memory of the first disk controller 51. However, a non-volatile copy of the log file pointer buffer 76 can be written to one of the disk drives 61, 62, 63, 64, controlled by that disk subsystem disk controller 51. \\n0040 FIG. 7 is a block diagram illustrating the log file 74 shown in FIG. 3, in accordance with a preferred embodiment of the present invention. The log file 74 contains a plurality of records organized in a round robin or circular buffer form. There are two pointers to the circular buffer. A Last pointer 82 points at either the last record inserted into the circular buffer, or at the next record after that last record inserted. There is also a First pointer 83 that points at either the first unacknowledged record, or at the last acknowledged record in the circular buffer. The use of circular buffers is well known in the prior art. While a circular buffer is utilized in the preferred embodiment, other equivalent buffering techniques are also within the scope of the present invention, such as the use of double buffering. \\n0041 When a write of the database 71, 72 is performed, and the two copies of the database 71, 72 are not synchronized, the data written to the primary copy of the database 71 is written into the circular buffer utilizing the Last pointer, which is adjusted correspondingly. When a write is acknowledged to the secondary copy of the database by the second controller 52, the First pointer is adjusted accordingly. When the Last pointer catches up to the First pointer, the two copies of the database 71, 72 are synchronized. Each record in the circular buffer contains three pieces of information: the address in the database 71, 72 at which it is to be written, the size of the data to be written, and the data itself. \\n0042 FIG. 8 is a block diagram illustrating the log file pointer buffer 76 and log file data file 77 shown in FIG. 6, in accordance with an alternate embodiment of the present invention. In this embodiment, the pointer and length information are separated from the actual database information this is to be mirrored. As in FIG. 7, a First pointer addresses either the first unacknowledged set of write information, or the last acknowledged set of write information. The Last pointer 82 addresses either the last unacknowledged set of write information, or the first space for new unacknowledged set of write information. \\n0043 The log file pointer buffer 76 contains information required to identify where the data to be mirrored will be stored in the secondary database 72, where the data to be mirrored is stored in the log file data file 77, and how much data is involved in the corresponding write request. The data stored in the log file data file 77 can be stored on the appropriate disk drive 63 in the same format as it will be stored in the secondary database 72. For example, if the unit being written is a track of data, a track is stored in the log file data file 77, then read from that log file data file 77 and transmitted to the secondary controller 52 for writing to the secondary database 72. \\n0044 In one embodiment, each entry in the log file pointer buffer 76 contains a pointer to the corresponding data in the log data file 77, an address for writing in the secondary database 72, and the amount of data to be written. In another embodiment, each entry in the log file pointer buffer 76 corresponds to the standard unit of writing data to the secondary database 72, such as a track of data. Thus, the position of the entry in the log file pointer buffer 76 implicitly identifies the position of the corresponding data in the log file data file 77. Each entry in the log file pointer buffer 76 would at a minimum contain the address at which the corresponding data in the log file data file 77 will be ultimately written in the secondary database 72. Each entry may also contain the number of contiguous standard units of writing data in the corresponding write request. One alternative to this is to mark each entry in the log file pointer buffer 76 with a First and Last flag in order to implicitly identify the length of each write request. Other equivalent organizations are also within the scope of this invention. In the case of out of order acknowledgements, such as when communicating over the Internet, an Acknowledged flag can also be utilized. The Last pointer 82 is then only updated for acknowledged sets of data. One advantage of these embodiments is that multiple write requests to the log file data file 77 can be buffered up and written in larger blocks. For example if the standard unit of writing data to the secondary database 72 is a sector, multiple contiguous sectors, or even an entire track, may be written at the same time, without significant regard to where the data from one write request ends and the data for the next write request begins. \\n0045 In the preferred embodiment, logging can be turned on and off by commands from the computer 21 operator or operating system. Similarly, the mirror can be broken and reestablished and resynchronized through commands from the computer 21 operator or operating system. \\n0046 The use of delayed mirroring of disk files, as shown herein, provides a number of benefits. One benefit is that it lifts cable length limitations between disk subsystems 41, 42. Another benefit is that it provides a mechanism to take check points, snap shots, and/or backups of data files (most notably online data bases) without adversely impacting online operation. In such operation, mirroring is broken, the secondary disk drive or file is copied, then the two mirrored disk drives or files are resynchronized. This can be done repeatedly without adversely impacting performance. It can be done either automatically, or under operator command. \\n0047 Those skilled in the art will recognize that modifications and variations can be made without departing from the spirit of the invention. Therefore, it is intended that this invention encompass all such variations and modifications as fall within the scope of the appended claims. \\n0048 Claim elements and steps herein have been numbered and/or lettered solely as an aid in readability and understanding. As such, the numbering and/or lettering in itself is not intended to and should not be taken to indicate the ordering of elements and/or steps in the claims. \""
      ]
     },
     "execution_count": 77,
     "metadata": {},
     "output_type": "execute_result"
    }
   ],
   "source": [
    "patent_samples[3].claimset.text"
   ]
  },
  {
   "cell_type": "code",
   "execution_count": 2,
   "metadata": {
    "collapsed": true
   },
   "outputs": [],
   "source": [
    "from nltk import sent_tokenize"
   ]
  },
  {
   "cell_type": "code",
   "execution_count": 78,
   "metadata": {
    "collapsed": true
   },
   "outputs": [],
   "source": [
    "from nltk.tokenize import sent_tokenize"
   ]
  },
  {
   "cell_type": "code",
   "execution_count": 81,
   "metadata": {
    "collapsed": true
   },
   "outputs": [],
   "source": [
    "sentence_list = sent_tokenize(patent_samples[3].claimset.text)"
   ]
  },
  {
   "cell_type": "code",
   "execution_count": 82,
   "metadata": {},
   "outputs": [
    {
     "data": {
      "text/plain": [
       "222"
      ]
     },
     "execution_count": 82,
     "metadata": {},
     "output_type": "execute_result"
    }
   ],
   "source": [
    "len(sentence_list)"
   ]
  },
  {
   "cell_type": "code",
   "execution_count": 83,
   "metadata": {},
   "outputs": [
    {
     "data": {
      "text/plain": [
       "['However, mirroring is becoming much more attractive due to its simpler design as the cost per megabyte of disk space continues to drop year after year.',\n",
       " 'It is also becoming used in RAID level 1/0 that provides mirroring in conjunction with striping for very high reliability/high performance applications.',\n",
       " '0008 Mirroring has other benefits too.',\n",
       " 'It can be used as a tool to facilitate copies of different states of a database.',\n",
       " 'This is accomplished by creating a mirror of a database.',\n",
       " 'After the mirror is operational, it is broken at a particular moment.',\n",
       " 'In this way, the secondary copy is the image of the database at a defined instant in time.',\n",
       " 'A third copy of the database can be created at a different instant in time, etc.',\n",
       " '0009 Mirroring can also be utilized as a tool to facilitate backup on tapes.',\n",
       " 'This is accomplished by creating a mirror of a disk or database.',\n",
       " 'When the mirror is operational, it is broken at a specified moment in time.']"
      ]
     },
     "execution_count": 83,
     "metadata": {},
     "output_type": "execute_result"
    }
   ],
   "source": [
    "sentence_list[33:44]"
   ]
  },
  {
   "cell_type": "markdown",
   "metadata": {},
   "source": [
    "May need to clean paragraph numbers from text used for sentence segmentation."
   ]
  },
  {
   "cell_type": "code",
   "execution_count": 84,
   "metadata": {},
   "outputs": [
    {
     "data": {
      "text/plain": [
       "['However,',\n",
       " 'mirroring',\n",
       " 'is',\n",
       " 'becoming',\n",
       " 'much',\n",
       " 'more',\n",
       " 'attractive',\n",
       " 'due',\n",
       " 'to',\n",
       " 'its',\n",
       " 'simpler',\n",
       " 'design',\n",
       " 'as',\n",
       " 'the',\n",
       " 'cost',\n",
       " 'per',\n",
       " 'megabyte',\n",
       " 'of',\n",
       " 'disk',\n",
       " 'space',\n",
       " 'continues',\n",
       " 'to',\n",
       " 'drop',\n",
       " 'year',\n",
       " 'after',\n",
       " 'year.']"
      ]
     },
     "execution_count": 84,
     "metadata": {},
     "output_type": "execute_result"
    }
   ],
   "source": [
    "sentence_list[33].split()"
   ]
  },
  {
   "cell_type": "code",
   "execution_count": 94,
   "metadata": {},
   "outputs": [
    {
     "data": {
      "text/plain": [
       "['0002',\n",
       " 'Mirroring',\n",
       " 'is',\n",
       " 'the',\n",
       " 'duplication',\n",
       " 'of',\n",
       " 'data',\n",
       " 'on',\n",
       " 'two',\n",
       " 'or',\n",
       " 'more',\n",
       " 'disk',\n",
       " 'drives',\n",
       " '.',\n",
       " 'It',\n",
       " 'is',\n",
       " 'done',\n",
       " 'primarily',\n",
       " 'for',\n",
       " 'data',\n",
       " 'integrity',\n",
       " 'protection',\n",
       " '.',\n",
       " 'Originally',\n",
       " ',',\n",
       " 'files',\n",
       " 'were',\n",
       " 'duplicated',\n",
       " '.',\n",
       " 'This',\n",
       " 'feature',\n",
       " 'was',\n",
       " 'available',\n",
       " 'in',\n",
       " 'the',\n",
       " 'early',\n",
       " '1970',\n",
       " \"'s\",\n",
       " 'on',\n",
       " 'the',\n",
       " 'Burroughs',\n",
       " '(',\n",
       " 'now',\n",
       " 'Unisys',\n",
       " ')',\n",
       " '6700',\n",
       " 'series',\n",
       " 'of',\n",
       " 'computers',\n",
       " '.',\n",
       " 'Later',\n",
       " ',',\n",
       " 'entire',\n",
       " 'disk',\n",
       " 'drives',\n",
       " 'were',\n",
       " 'mirrored',\n",
       " '.',\n",
       " 'Each',\n",
       " 'disk',\n",
       " 'write',\n",
       " 'is',\n",
       " 'duplicated',\n",
       " 'to',\n",
       " 'two',\n",
       " 'or',\n",
       " 'more',\n",
       " 'disks',\n",
       " '.',\n",
       " 'Reads',\n",
       " 'from',\n",
       " 'the',\n",
       " 'disk',\n",
       " '(',\n",
       " 's',\n",
       " ')',\n",
       " 'can',\n",
       " 'be',\n",
       " 'from',\n",
       " 'either',\n",
       " 'disk',\n",
       " '.',\n",
       " 'This',\n",
       " 'provided',\n",
       " 'performance',\n",
       " 'benefits',\n",
       " 'in',\n",
       " 'read',\n",
       " 'operations',\n",
       " 'and',\n",
       " 'a',\n",
       " 'small',\n",
       " 'decrease',\n",
       " 'of',\n",
       " 'performances',\n",
       " 'in',\n",
       " 'write',\n",
       " 'operations',\n",
       " '.',\n",
       " 'Then',\n",
       " ',',\n",
       " 'if',\n",
       " 'there',\n",
       " 'is',\n",
       " 'a',\n",
       " 'failure',\n",
       " 'of',\n",
       " 'one',\n",
       " 'of',\n",
       " 'the',\n",
       " 'disks',\n",
       " ',',\n",
       " 'reading',\n",
       " 'can',\n",
       " 'continue',\n",
       " 'uninterrupted',\n",
       " 'from',\n",
       " 'the',\n",
       " 'other',\n",
       " 'disk',\n",
       " '.',\n",
       " 'This',\n",
       " 'significantly',\n",
       " 'increases',\n",
       " 'the',\n",
       " 'data',\n",
       " 'integrity',\n",
       " 'and',\n",
       " 'availability',\n",
       " ',',\n",
       " 'and',\n",
       " 'has',\n",
       " 'an',\n",
       " 'important',\n",
       " 'ingredient',\n",
       " 'of',\n",
       " 'on-line',\n",
       " 'transaction',\n",
       " 'systems',\n",
       " 'for',\n",
       " 'a',\n",
       " 'number',\n",
       " 'of',\n",
       " 'years',\n",
       " '.',\n",
       " 'Availability',\n",
       " 'was',\n",
       " 'further',\n",
       " 'enhanced',\n",
       " 'by',\n",
       " 'utilizing',\n",
       " 'different',\n",
       " 'disk',\n",
       " 'controllers',\n",
       " 'for',\n",
       " 'the',\n",
       " 'mirrored',\n",
       " 'disk',\n",
       " 'drives',\n",
       " '.',\n",
       " 'Thus',\n",
       " ',',\n",
       " 'a',\n",
       " 'failure',\n",
       " 'of',\n",
       " 'a',\n",
       " 'mirrored',\n",
       " 'disk',\n",
       " 'drive',\n",
       " ',',\n",
       " 'its',\n",
       " 'disk',\n",
       " 'controller',\n",
       " ',',\n",
       " 'the',\n",
       " 'host',\n",
       " 'adapter',\n",
       " ',',\n",
       " 'or',\n",
       " 'any',\n",
       " 'of',\n",
       " 'the',\n",
       " 'cabling',\n",
       " ',',\n",
       " 'would',\n",
       " 'not',\n",
       " 'prevent',\n",
       " 'immediate',\n",
       " 'access',\n",
       " 'to',\n",
       " 'the',\n",
       " 'data',\n",
       " '.']"
      ]
     },
     "execution_count": 94,
     "metadata": {},
     "output_type": "execute_result"
    }
   ],
   "source": [
    "patent_samples[3].claimset.paragraphs[1].set_words()"
   ]
  },
  {
   "cell_type": "code",
   "execution_count": 95,
   "metadata": {},
   "outputs": [
    {
     "data": {
      "text/plain": [
       "['However',\n",
       " ',',\n",
       " 'mirroring',\n",
       " 'is',\n",
       " 'becoming',\n",
       " 'much',\n",
       " 'more',\n",
       " 'attractive',\n",
       " 'due',\n",
       " 'to',\n",
       " 'its',\n",
       " 'simpler',\n",
       " 'design',\n",
       " 'as',\n",
       " 'the',\n",
       " 'cost',\n",
       " 'per',\n",
       " 'megabyte',\n",
       " 'of',\n",
       " 'disk',\n",
       " 'space',\n",
       " 'continues',\n",
       " 'to',\n",
       " 'drop',\n",
       " 'year',\n",
       " 'after',\n",
       " 'year',\n",
       " '.']"
      ]
     },
     "execution_count": 95,
     "metadata": {},
     "output_type": "execute_result"
    }
   ],
   "source": [
    "from nltk import word_tokenize\n",
    "word_tokenize(sentence_list[33])"
   ]
  },
  {
   "cell_type": "markdown",
   "metadata": {},
   "source": [
    "Could use methods to break paragraph into sentences and return either as a list of sentences or a list of word lists representing the sentence. Then we can look at sentence lengths across a corpus."
   ]
  },
  {
   "cell_type": "markdown",
   "metadata": {},
   "source": [
    "---\n",
    "## Useful Statistics\n",
    "\n",
    "Across a corpus (evaluate lazily):\n",
    "\n",
    "- Unique number of characters (Counter set);\n",
    "- Unique number of tokens (vocabulary);\n",
    "- Total number of documents\n",
    "- Total number of paragraphs\n",
    "- Average number of paragraphs\n",
    "- Histogram distribution of number of paragraphs per document\n",
    "- Total number of sentences\n",
    "- Average number of sentences per document\n",
    "- Histogram distribution of number of sentences per document\n",
    "- Histogram distribution of number of sentences per paragraph\n",
    "- Average number of sentences per paragraph\n",
    "- Total number of tokens\n",
    "- Average number of tokens per document\n",
    "- Histogram distribution of tokens per document\n",
    "- Token counts across corpus\n",
    "- Histogram distribution of claims per document\n",
    "- Length of total characters in document (sequence length)\n",
    "- Length of total tokens in document (sequence length)\n",
    "\n",
    "Compare statistics for publications and grant.\n",
    "\n",
    "Save after every 1000.\n",
    "\n",
    "Start with per document statistics. These can be at the patentdoc level. These can include:\n",
    "- Counter object for unfiltered characters.\n",
    "- Counter object for filtered characters.\n",
    "- Counter object for unfiltered tokens.\n",
    "- Paragraph count.\n",
    "- Sentence count.\n",
    "- Average sentence per paragraph (Paragraph Count / Sentence Count)."
   ]
  },
  {
   "cell_type": "code",
   "execution_count": 6,
   "metadata": {
    "collapsed": true
   },
   "outputs": [],
   "source": [
    "pd1 = patent_samples[0]"
   ]
  },
  {
   "cell_type": "code",
   "execution_count": 9,
   "metadata": {},
   "outputs": [
    {
     "data": {
      "text/plain": [
       "87"
      ]
     },
     "execution_count": 9,
     "metadata": {},
     "output_type": "execute_result"
    }
   ],
   "source": [
    "pd1.description.paragraph_count"
   ]
  },
  {
   "cell_type": "code",
   "execution_count": 10,
   "metadata": {},
   "outputs": [
    {
     "ename": "RecursionError",
     "evalue": "maximum recursion depth exceeded in comparison",
     "output_type": "error",
     "traceback": [
      "\u001b[0;31m---------------------------------------------------------------------------\u001b[0m",
      "\u001b[0;31mRecursionError\u001b[0m                            Traceback (most recent call last)",
      "\u001b[0;32m<ipython-input-10-b1480ba4a917>\u001b[0m in \u001b[0;36m<module>\u001b[0;34m()\u001b[0m\n\u001b[0;32m----> 1\u001b[0;31m \u001b[0mpd1\u001b[0m\u001b[0;34m.\u001b[0m\u001b[0mdescription\u001b[0m\u001b[0;34m.\u001b[0m\u001b[0mget_paragraph\u001b[0m\u001b[0;34m(\u001b[0m\u001b[0;36m2\u001b[0m\u001b[0;34m)\u001b[0m\u001b[0;34m.\u001b[0m\u001b[0msentences\u001b[0m\u001b[0;34m\u001b[0m\u001b[0m\n\u001b[0m",
      "\u001b[0;32m/patentdata/patentdata/models/specification.py\u001b[0m in \u001b[0;36m__getattr__\u001b[0;34m(self, name)\u001b[0m\n\u001b[1;32m     87\u001b[0m         \u001b[0;34m\"\"\" If sentences have not been segmented, segment when accessed. \"\"\"\u001b[0m\u001b[0;34m\u001b[0m\u001b[0m\n\u001b[1;32m     88\u001b[0m         \u001b[0;32mif\u001b[0m \u001b[0mname\u001b[0m \u001b[0;34m==\u001b[0m \u001b[0;34m\"sentences\"\u001b[0m\u001b[0;34m:\u001b[0m\u001b[0;34m\u001b[0m\u001b[0m\n\u001b[0;32m---> 89\u001b[0;31m             \u001b[0;32mif\u001b[0m \u001b[0;32mnot\u001b[0m \u001b[0mself\u001b[0m\u001b[0;34m.\u001b[0m\u001b[0msentences\u001b[0m\u001b[0;34m:\u001b[0m\u001b[0;34m\u001b[0m\u001b[0m\n\u001b[0m\u001b[1;32m     90\u001b[0m                 \u001b[0mself\u001b[0m\u001b[0;34m.\u001b[0m\u001b[0msentences\u001b[0m \u001b[0;34m=\u001b[0m \u001b[0msent_tokenize\u001b[0m\u001b[0;34m(\u001b[0m\u001b[0mself\u001b[0m\u001b[0;34m.\u001b[0m\u001b[0mtext\u001b[0m\u001b[0;34m)\u001b[0m\u001b[0;34m\u001b[0m\u001b[0m\n\u001b[1;32m     91\u001b[0m             \u001b[0;32mreturn\u001b[0m \u001b[0mself\u001b[0m\u001b[0;34m.\u001b[0m\u001b[0msentences\u001b[0m\u001b[0;34m\u001b[0m\u001b[0m\n",
      "... last 1 frames repeated, from the frame below ...\n",
      "\u001b[0;32m/patentdata/patentdata/models/specification.py\u001b[0m in \u001b[0;36m__getattr__\u001b[0;34m(self, name)\u001b[0m\n\u001b[1;32m     87\u001b[0m         \u001b[0;34m\"\"\" If sentences have not been segmented, segment when accessed. \"\"\"\u001b[0m\u001b[0;34m\u001b[0m\u001b[0m\n\u001b[1;32m     88\u001b[0m         \u001b[0;32mif\u001b[0m \u001b[0mname\u001b[0m \u001b[0;34m==\u001b[0m \u001b[0;34m\"sentences\"\u001b[0m\u001b[0;34m:\u001b[0m\u001b[0;34m\u001b[0m\u001b[0m\n\u001b[0;32m---> 89\u001b[0;31m             \u001b[0;32mif\u001b[0m \u001b[0;32mnot\u001b[0m \u001b[0mself\u001b[0m\u001b[0;34m.\u001b[0m\u001b[0msentences\u001b[0m\u001b[0;34m:\u001b[0m\u001b[0;34m\u001b[0m\u001b[0m\n\u001b[0m\u001b[1;32m     90\u001b[0m                 \u001b[0mself\u001b[0m\u001b[0;34m.\u001b[0m\u001b[0msentences\u001b[0m \u001b[0;34m=\u001b[0m \u001b[0msent_tokenize\u001b[0m\u001b[0;34m(\u001b[0m\u001b[0mself\u001b[0m\u001b[0;34m.\u001b[0m\u001b[0mtext\u001b[0m\u001b[0;34m)\u001b[0m\u001b[0;34m\u001b[0m\u001b[0m\n\u001b[1;32m     91\u001b[0m             \u001b[0;32mreturn\u001b[0m \u001b[0mself\u001b[0m\u001b[0;34m.\u001b[0m\u001b[0msentences\u001b[0m\u001b[0;34m\u001b[0m\u001b[0m\n",
      "\u001b[0;31mRecursionError\u001b[0m: maximum recursion depth exceeded in comparison"
     ]
    }
   ],
   "source": [
    "pd1.description.get_paragraph(2).sentences"
   ]
  },
  {
   "cell_type": "code",
   "execution_count": 15,
   "metadata": {},
   "outputs": [
    {
     "name": "stdout",
     "output_type": "stream",
     "text": [
      "The slowest run took 23.27 times longer than the fastest. This could mean that an intermediate result is being cached.\n",
      "1.79 ms ± 1.4 ms per loop (mean ± std. dev. of 7 runs, 1000 loops each)\n"
     ]
    }
   ],
   "source": [
    "% timeit doc = ds.search_files(\"US20140068740A1\")"
   ]
  },
  {
   "cell_type": "code",
   "execution_count": 16,
   "metadata": {},
   "outputs": [
    {
     "ename": "NameError",
     "evalue": "name 'doc' is not defined",
     "output_type": "error",
     "traceback": [
      "\u001b[0;31m---------------------------------------------------------------------------\u001b[0m",
      "\u001b[0;31mNameError\u001b[0m                                 Traceback (most recent call last)",
      "\u001b[0;32m<ipython-input-16-49995c85be6f>\u001b[0m in \u001b[0;36m<module>\u001b[0;34m()\u001b[0m\n\u001b[0;32m----> 1\u001b[0;31m \u001b[0mdoc\u001b[0m\u001b[0;34m\u001b[0m\u001b[0m\n\u001b[0m",
      "\u001b[0;31mNameError\u001b[0m: name 'doc' is not defined"
     ]
    }
   ],
   "source": [
    "doc"
   ]
  },
  {
   "cell_type": "code",
   "execution_count": null,
   "metadata": {
    "collapsed": true
   },
   "outputs": [],
   "source": []
  }
 ],
 "metadata": {
  "kernelspec": {
   "display_name": "Python 3",
   "language": "python",
   "name": "python3"
  },
  "language_info": {
   "codemirror_mode": {
    "name": "ipython",
    "version": 3
   },
   "file_extension": ".py",
   "mimetype": "text/x-python",
   "name": "python",
   "nbconvert_exporter": "python",
   "pygments_lexer": "ipython3",
   "version": "3.5.2"
  }
 },
 "nbformat": 4,
 "nbformat_minor": 2
}
