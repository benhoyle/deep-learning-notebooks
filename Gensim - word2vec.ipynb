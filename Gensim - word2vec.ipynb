{
 "cells": [
  {
   "cell_type": "markdown",
   "metadata": {},
   "source": [
    "# Gensim Word2Vec\n",
    "\n",
    "Experimenting with gensim's word2vec function."
   ]
  },
  {
   "cell_type": "markdown",
   "metadata": {},
   "source": [
    "Gensim offers a function to calculate word embeddings. Let's give it a go.\n",
    "\n",
    "The function requires a list of sentences (or an iterator that provides sentences). We have one of these in our patentdata classes."
   ]
  },
  {
   "cell_type": "code",
   "execution_count": 3,
   "metadata": {},
   "outputs": [
    {
     "name": "stdout",
     "output_type": "stream",
     "text": [
      "Loading data\n",
      "554570 records loaded\n",
      "Random sample of 100 records\n",
      "[(1742828, '2008/I20080515.ZIP', 'I20080515/UTIL0115/US20080115098A1-20080515.ZIP'), (3522829, '2013/I20131010.tar', 'I20131010/UTIL0268/US20130268163A1-20131010.ZIP'), (361462, '2003/20030619.ZIP', '20030619/UTIL0115/US20030115545A1-20030619.ZIP'), (404248, '2003/20030227.ZIP', '20030227/UTIL0041/US20030041168A1-20030227.ZIP'), (1436460, '2007/I20070517.ZIP', './I20070517/UTIL0110/US20070110327A1-20070517.ZIP')]\n"
     ]
    }
   ],
   "source": [
    "# Imports and logging setup\n",
    "from gensim.models import word2vec\n",
    "\n",
    "import logging\n",
    "import os\n",
    "import pickle\n",
    "import random\n",
    "\n",
    "from patentdata.corpus import USPublications\n",
    "# Probably need to move the patentcorpus.py file into the main patentdata directory\n",
    "from patentdata.models.patentcorpus import LazyPatentCorpus, CorpusSentenceIterator\n",
    "\n",
    "logging.basicConfig(format='%(asctime)s : %(levelname)s : %(message)s', level=logging.INFO)\n",
    "\n",
    "# Load our list of G06 records\n",
    "PIK = \"G06records.data\"\n",
    "\n",
    "if os.path.isfile(PIK):\n",
    "    with open(PIK, \"rb\") as f:\n",
    "        print(\"Loading data\")\n",
    "        records = pickle.load(f)\n",
    "        print(\"{0} records loaded\".format(len(records)))\n",
    "else:\n",
    "    records = ds.get_records([\"G\", \"06\"])\n",
    "    with open(PIK, \"wb\") as f:\n",
    "        pickle.dump(records, f)\n",
    "        \n",
    "# Get data from 100 random descriptions across the data\n",
    "records_random_sample = random.sample(records, 100)\n",
    "print(\"Random sample of {0} records\".format(len(records_random_sample)))\n",
    "print(records_random_sample[0:5])\n",
    "\n",
    "path = '/media/SAMSUNG1/Patent_Downloads'\n",
    "ds = USPublications(path)"
   ]
  },
  {
   "cell_type": "code",
   "execution_count": 4,
   "metadata": {},
   "outputs": [],
   "source": [
    "sentences = CorpusSentenceIterator(ds, records_random_sample)"
   ]
  },
  {
   "cell_type": "code",
   "execution_count": 5,
   "metadata": {
    "collapsed": true
   },
   "outputs": [],
   "source": [
    "model = word2vec.Word2Vec(sentences, size=100, window=5, min_count=5, workers=4)\n",
    "\n",
    "fname = \"word2vec.gensim\"\n",
    "model.save(fname)"
   ]
  },
  {
   "cell_type": "code",
   "execution_count": 6,
   "metadata": {},
   "outputs": [
    {
     "data": {
      "text/plain": [
       "array([-0.08228544,  0.40827942,  0.38828045,  0.11766636, -1.33201134,\n",
       "        0.39875981,  0.58450681,  1.64149189,  1.27749991, -0.56231797,\n",
       "        1.29045498,  0.82686812, -1.55906987, -1.01263404,  0.23187172,\n",
       "        2.047508  ,  0.92824793,  1.20077562,  1.01113987, -1.93312538,\n",
       "       -0.5147112 , -0.07425889, -1.58366537,  0.56043446, -0.67028916,\n",
       "        0.66357875, -1.33009863, -1.4741348 , -1.11817682, -0.68970478,\n",
       "        1.13403773,  2.48949432,  0.71434945,  1.32812977, -1.94922531,\n",
       "       -0.08405445, -0.47719201, -0.08551191,  0.51998705, -0.5025264 ,\n",
       "       -0.98951584,  2.09389877, -0.80806983,  1.1638484 , -1.53077948,\n",
       "       -2.08595943, -0.29854685,  0.35186401,  1.19228816, -0.34122112,\n",
       "        0.35245067, -0.97954828, -0.17293379,  0.15272909, -1.75471675,\n",
       "        1.71701062,  0.94516444,  1.0955714 , -0.3248772 , -1.35574436,\n",
       "       -1.24880087, -0.94688541,  0.75589716,  1.8528229 ,  0.49957079,\n",
       "        0.81192172, -0.87324172, -1.28950131, -0.72631752,  0.34882692,\n",
       "       -1.4166671 ,  0.3730216 , -0.18288104, -0.8667239 ,  0.24441087,\n",
       "        0.78672093, -0.94878501, -0.43701574,  1.13514614,  1.55339563,\n",
       "        0.02474392, -1.48939621, -0.28296846,  0.94121909, -0.65289134,\n",
       "       -1.88129485,  0.29059964, -1.71227741, -1.95454824, -1.39897788,\n",
       "       -0.73216778,  0.40111595, -0.68306786, -1.11609364, -0.62694639,\n",
       "       -0.02629334, -1.59017396, -1.86810434,  0.74850667, -0.06536578], dtype=float32)"
      ]
     },
     "execution_count": 6,
     "metadata": {},
     "output_type": "execute_result"
    }
   ],
   "source": [
    "model.wv['computer']"
   ]
  },
  {
   "cell_type": "code",
   "execution_count": 8,
   "metadata": {},
   "outputs": [
    {
     "data": {
      "text/plain": [
       "0.52534036119191629"
      ]
     },
     "execution_count": 8,
     "metadata": {},
     "output_type": "execute_result"
    }
   ],
   "source": [
    "model.wv.similarity(\"computer\", \"device\")"
   ]
  },
  {
   "cell_type": "code",
   "execution_count": 9,
   "metadata": {},
   "outputs": [
    {
     "data": {
      "text/plain": [
       "0.073458365134867781"
      ]
     },
     "execution_count": 9,
     "metadata": {},
     "output_type": "execute_result"
    }
   ],
   "source": [
    "model.wv.similarity(\"method\", \"five\")"
   ]
  },
  {
   "cell_type": "code",
   "execution_count": 10,
   "metadata": {},
   "outputs": [
    {
     "data": {
      "text/plain": [
       "[('software', 0.808935821056366),\n",
       " ('program', 0.7681251764297485),\n",
       " ('medium', 0.7681076526641846),\n",
       " ('computing', 0.7648231983184814),\n",
       " ('firmware', 0.7577048540115356),\n",
       " ('machine-accessible', 0.7435612082481384),\n",
       " ('readable', 0.7297963500022888),\n",
       " ('processor', 0.7158001661300659),\n",
       " ('implemented', 0.7152796983718872),\n",
       " ('instructions', 0.7086238265037537)]"
      ]
     },
     "execution_count": 10,
     "metadata": {},
     "output_type": "execute_result"
    }
   ],
   "source": [
    "model.wv.most_similar(positive=['computer'])"
   ]
  },
  {
   "cell_type": "code",
   "execution_count": 11,
   "metadata": {},
   "outputs": [
    {
     "data": {
      "text/plain": [
       "[('Internet', 0.8809741139411926),\n",
       " ('wired', 0.8569992780685425),\n",
       " ('local', 0.8550925254821777),\n",
       " ('communications', 0.8124428987503052),\n",
       " ('PC', 0.7985388040542603),\n",
       " ('computers', 0.7909102439880371),\n",
       " ('wireless', 0.7896413207054138),\n",
       " ('protocol', 0.7892076373100281),\n",
       " ('carrier', 0.7855661511421204),\n",
       " ('communication', 0.7788077592849731)]"
      ]
     },
     "execution_count": 11,
     "metadata": {},
     "output_type": "execute_result"
    }
   ],
   "source": [
    "model.wv.most_similar(positive=['network'])"
   ]
  },
  {
   "cell_type": "code",
   "execution_count": 13,
   "metadata": {},
   "outputs": [
    {
     "data": {
      "text/plain": [
       "[('telephone', 0.8736276626586914),\n",
       " ('tablet', 0.8427409529685974),\n",
       " ('PDA', 0.7894008755683899),\n",
       " ('camera', 0.7807283997535706),\n",
       " ('phones', 0.7773498296737671),\n",
       " ('disc', 0.7703143954277039),\n",
       " ('PC', 0.7701486945152283),\n",
       " ('CD-ROM', 0.7691835761070251),\n",
       " ('tape', 0.7659013867378235),\n",
       " ('diskette', 0.7655481696128845)]"
      ]
     },
     "execution_count": 13,
     "metadata": {},
     "output_type": "execute_result"
    }
   ],
   "source": [
    "model.wv.most_similar(positive=['phone'])"
   ]
  },
  {
   "cell_type": "code",
   "execution_count": 12,
   "metadata": {},
   "outputs": [
    {
     "data": {
      "text/plain": [
       "[('exemplary', 0.7581672072410583),\n",
       " ('further', 0.7566620707511902),\n",
       " ('procedure', 0.7311702370643616),\n",
       " ('purpose', 0.7186163067817688),\n",
       " ('architecture', 0.7134063243865967),\n",
       " ('automating', 0.7110243439674377),\n",
       " ('300', 0.7066522240638733),\n",
       " ('process', 0.7041938900947571),\n",
       " ('technique', 0.7028172612190247),\n",
       " ('controlling', 0.6997413039207458)]"
      ]
     },
     "execution_count": 12,
     "metadata": {},
     "output_type": "execute_result"
    }
   ],
   "source": [
    "model.wv.most_similar(positive=['method'])"
   ]
  },
  {
   "cell_type": "code",
   "execution_count": 14,
   "metadata": {},
   "outputs": [
    {
     "data": {
      "text/plain": [
       "[('USB', 0.9584303498268127),\n",
       " ('workstations', 0.9379450678825378),\n",
       " ('Local', 0.934386134147644),\n",
       " ('CMD', 0.9338710904121399),\n",
       " ('radios', 0.9333294630050659),\n",
       " ('Telephone', 0.9323137402534485),\n",
       " ('Area', 0.9321101307868958),\n",
       " ('RTCP', 0.931330680847168),\n",
       " ('Networks', 0.9297774434089661),\n",
       " ('Unit', 0.9287588000297546)]"
      ]
     },
     "execution_count": 14,
     "metadata": {},
     "output_type": "execute_result"
    }
   ],
   "source": [
    "model.wv.most_similar(positive=['TCP/IP'])"
   ]
  },
  {
   "cell_type": "code",
   "execution_count": 15,
   "metadata": {},
   "outputs": [
    {
     "data": {
      "text/plain": [
       "[('address', 0.6125978827476501),\n",
       " ('storage', 0.6122298240661621),\n",
       " ('physical', 0.6072595119476318),\n",
       " ('addresses', 0.6007328033447266),\n",
       " ('virtualized', 0.592629075050354),\n",
       " ('read', 0.5909753441810608),\n",
       " ('write', 0.5892455577850342),\n",
       " ('204', 0.565220296382904),\n",
       " ('SNAPM', 0.5535624027252197),\n",
       " ('port', 0.5377624034881592)]"
      ]
     },
     "execution_count": 15,
     "metadata": {},
     "output_type": "execute_result"
    }
   ],
   "source": [
    "model.wv.most_similar(positive=['memory'])"
   ]
  },
  {
   "cell_type": "code",
   "execution_count": 19,
   "metadata": {},
   "outputs": [
    {
     "data": {
      "text/plain": [
       "[('ROM', 0.9718466401100159),\n",
       " ('EPROM', 0.9349870681762695),\n",
       " ('read-only', 0.9224880337715149),\n",
       " ('flash', 0.9007031321525574),\n",
       " ('CD-ROM', 0.8933768272399902),\n",
       " ('random', 0.8903102874755859),\n",
       " ('modem', 0.86822110414505),\n",
       " ('170', 0.8648702502250671),\n",
       " ('EEPROM', 0.863433301448822),\n",
       " ('erasable', 0.8533413410186768)]"
      ]
     },
     "execution_count": 19,
     "metadata": {},
     "output_type": "execute_result"
    }
   ],
   "source": [
    "model.wv.most_similar(positive=['RAM'])"
   ]
  },
  {
   "cell_type": "code",
   "execution_count": 20,
   "metadata": {},
   "outputs": [
    {
     "data": {
      "text/plain": [
       "[('COTS', 0.7464540600776672),\n",
       " ('executing', 0.7392984628677368),\n",
       " ('adapted', 0.7382043600082397),\n",
       " ('remotely', 0.7283940315246582),\n",
       " ('700', 0.7258792519569397),\n",
       " ('support', 0.7201268672943115),\n",
       " ('Vietnamese', 0.7163515090942383),\n",
       " ('physically', 0.7157812714576721),\n",
       " ('Hindi', 0.7150687575340271),\n",
       " ('analytics', 0.7129673957824707)]"
      ]
     },
     "execution_count": 20,
     "metadata": {},
     "output_type": "execute_result"
    }
   ],
   "source": [
    "model.wv.most_similar(positive=['computer', 'smartphone'], negative=['network'])"
   ]
  },
  {
   "cell_type": "code",
   "execution_count": 22,
   "metadata": {},
   "outputs": [
    {
     "data": {
      "text/plain": [
       "[('suppressing', 0.6286207437515259),\n",
       " ('rational', 0.5948602557182312),\n",
       " ('dyeing', 0.5867568850517273),\n",
       " ('Publication', 0.5850182175636292),\n",
       " ('examination', 0.5842567682266235),\n",
       " ('angles', 0.5789593458175659),\n",
       " ('A2', 0.5785780549049377),\n",
       " ('near', 0.5708717703819275),\n",
       " ('inherent', 0.570466935634613),\n",
       " ('sorts', 0.5686711668968201)]"
      ]
     },
     "execution_count": 22,
     "metadata": {},
     "output_type": "execute_result"
    }
   ],
   "source": [
    "model.wv.most_similar(positive=['.', ';'])"
   ]
  },
  {
   "cell_type": "code",
   "execution_count": 23,
   "metadata": {},
   "outputs": [
    {
     "data": {
      "text/plain": [
       "array([ 0.14645183, -0.88413781, -0.08427817, -0.70994061,  0.27432841,\n",
       "        0.13906902,  1.09764707,  0.14464587, -0.7989369 ,  0.44431078,\n",
       "        0.50749767, -0.3057664 , -0.66854519, -0.51750523, -1.24868453,\n",
       "        0.29888672, -0.99539739, -0.16994306,  1.21228981, -0.06382547,\n",
       "       -0.26968187,  0.0783711 ,  0.30596015, -0.50161451,  0.67149734,\n",
       "       -0.49142855,  0.05819498,  0.7170673 ,  0.07397896,  0.70932716,\n",
       "        0.88001424, -0.05201377,  0.33719948,  1.48050964,  0.0558384 ,\n",
       "        1.02984118,  0.13537061, -0.53974599, -0.25343663,  0.12290442,\n",
       "        0.18904579, -1.12723589,  0.10540847,  0.6641826 , -1.05325246,\n",
       "        0.7288596 , -0.58856255, -1.2173028 , -0.03364891, -0.87073344,\n",
       "       -0.6921702 , -0.3142491 , -0.33011049,  0.43752089,  0.04724153,\n",
       "       -0.70493829,  0.22155727, -0.11641531,  0.63251382,  0.42029899,\n",
       "       -0.10483564,  0.06263605,  0.3923808 , -1.45434034, -0.22097151,\n",
       "        0.64114952, -0.62414318,  0.71360415, -0.83703929,  0.67096496,\n",
       "       -0.36288685,  0.65477854,  1.06755555, -0.24990849,  0.90662771,\n",
       "       -0.4755922 ,  0.2363434 , -0.96387255,  0.16545115, -0.70379651,\n",
       "        0.02277556,  0.53611714, -0.33169624, -0.43901297,  0.02911621,\n",
       "        0.20037298,  0.1351348 , -0.51044232,  0.12848902, -0.06065355,\n",
       "        0.52280521, -0.45035371,  0.12740348, -0.90429825, -1.31122661,\n",
       "       -0.42358693, -0.77561975,  0.08981297,  0.14769454, -0.40110627], dtype=float32)"
      ]
     },
     "execution_count": 23,
     "metadata": {},
     "output_type": "execute_result"
    }
   ],
   "source": [
    "model.wv['.']"
   ]
  },
  {
   "cell_type": "markdown",
   "metadata": {},
   "source": [
    "### Observations\n",
    "\n",
    "Removing reference numerals as a pre-processing step seems wise - they do not add to the syntactic or semantic understanding.\n",
    "\n",
    "Lowering all words is also probably a good idea as is removing punctuation."
   ]
  }
 ],
 "metadata": {
  "kernelspec": {
   "display_name": "Python 3",
   "language": "python",
   "name": "python3"
  },
  "language_info": {
   "codemirror_mode": {
    "name": "ipython",
    "version": 3
   },
   "file_extension": ".py",
   "mimetype": "text/x-python",
   "name": "python",
   "nbconvert_exporter": "python",
   "pygments_lexer": "ipython3",
   "version": "3.5.2"
  }
 },
 "nbformat": 4,
 "nbformat_minor": 2
}
