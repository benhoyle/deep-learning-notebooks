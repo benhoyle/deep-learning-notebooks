{
 "cells": [
  {
   "cell_type": "markdown",
   "metadata": {},
   "source": [
    "cProfile is a timing profiler for Python code. There is also a line analyser built into Jupyter.\n",
    "\n",
    "Also line-profiler and memory-profiler\n",
    "\n",
    "1    0.021    0.021    0.468    0.468 publications.py:257(iter_read)  \n",
    "1    0.000    0.000    0.932    0.932 publications.py:292(iter_filter_xml)  \n",
    "1    0.000    0.000    0.000    0.000 publications.py:34(get_xml_path)  \n",
    "1    0.000    0.000    0.003    0.003 publications.py:40(read_nested_zip)  \n",
    "1    0.000    0.000    1.610    1.610 publications.py:453(patentdoc_generator)  \n",
    "2    0.001    0.000    0.448    0.224 publications.py:56(filedata_generator)  \n",
    "1    0.000    0.000    0.021    0.021 xmlparser.py:107(<listcomp>)  \n",
    "1    0.000    0.000    0.002    0.002 xmlparser.py:113(publication_details)  \n",
    "1    0.000    0.000    0.005    0.005 xmlparser.py:133(title)  \n",
    "1    0.000    0.000    0.038    0.038 xmlparser.py:148(classifications)  \n",
    "1    0.000    0.000    0.678    0.678 xmlparser.py:194(to_patentdoc)  \n",
    "1    0.000    0.000    0.001    0.001 xmlparser.py:197(<listcomp>)  \n",
    "1    0.000    0.000    0.003    0.003 xmlparser.py:199(<listcomp>)  \n",
    "1    0.000    0.000    0.464    0.464 xmlparser.py:21(__init__)  \n",
    "1    0.000    0.000    0.319    0.319 xmlparser.py:46(paragraph_list)  \n",
    "112  0.001    0.000    0.001    0.000 xmlparser.py:48(safe_extract_number)  \n",
    "113  0.001    0.000    0.001    0.000 xmlparser.py:54(safe_abstract_check)  \n",
    "1    0.001    0.001    0.031    0.031 xmlparser.py:62(<listcomp>)  \n",
    "1    0.000    0.000    0.308    0.308 xmlparser.py:75(claim_list)  \n",
    "16   0.000    0.000    0.019    0.001 xmlparser.py:78(get_dependency)  \n",
    "16   0.000    0.000    0.000    0.000 xmlparser.py:96(get_number)  \n",
    "\n",
    "Zipfiles are 1.6s\n",
    "\n",
    "\n",
    "\n",
    "Tar files are much slower - 9s\n",
    "\n",
    "1    0.011    0.011    8.358    8.358 publications.py:257(iter_read)  \n",
    "1    0.000    0.000    8.855    8.855 publications.py:292(iter_filter_xml)  \n",
    "1    0.000    0.000    0.000    0.000 publications.py:34(get_xml_path)  \n",
    "1    0.000    0.000    0.008    0.008 publications.py:40(read_nested_zip)  \n",
    "1    0.000    0.000    9.550    9.550 publications.py:453(patentdoc_generator)  \n",
    "2    0.000    0.000    8.347    4.174 publications.py:56(filedata_generator)  \n",
    "  \n",
    "4425    0.075    0.000    0.265    0.000 tarfile.py:215(calc_chksums)  \n",
    "4427    0.097    0.000    8.075    0.002 tarfile.py:2258(next)  \n",
    "   1    0.000    0.000    8.068    8.068 tarfile.py:2312(_getmember)  \n",
    "   1    0.012    0.012    8.068    8.068 tarfile.py:2335(_load)  "
   ]
  },
  {
   "cell_type": "code",
   "execution_count": 1,
   "metadata": {},
   "outputs": [
    {
     "data": {
      "application/json": {
       "cell": {
        "!": "OSMagics",
        "HTML": "Other",
        "SVG": "Other",
        "bash": "Other",
        "capture": "ExecutionMagics",
        "debug": "ExecutionMagics",
        "file": "Other",
        "html": "DisplayMagics",
        "javascript": "DisplayMagics",
        "js": "DisplayMagics",
        "latex": "DisplayMagics",
        "perl": "Other",
        "prun": "ExecutionMagics",
        "pypy": "Other",
        "python": "Other",
        "python2": "Other",
        "python3": "Other",
        "ruby": "Other",
        "script": "ScriptMagics",
        "sh": "Other",
        "svg": "DisplayMagics",
        "sx": "OSMagics",
        "system": "OSMagics",
        "time": "ExecutionMagics",
        "timeit": "ExecutionMagics",
        "writefile": "OSMagics"
       },
       "line": {
        "alias": "OSMagics",
        "alias_magic": "BasicMagics",
        "autocall": "AutoMagics",
        "automagic": "AutoMagics",
        "autosave": "KernelMagics",
        "bookmark": "OSMagics",
        "cat": "Other",
        "cd": "OSMagics",
        "clear": "KernelMagics",
        "colors": "BasicMagics",
        "config": "ConfigMagics",
        "connect_info": "KernelMagics",
        "cp": "Other",
        "debug": "ExecutionMagics",
        "dhist": "OSMagics",
        "dirs": "OSMagics",
        "doctest_mode": "BasicMagics",
        "ed": "Other",
        "edit": "KernelMagics",
        "env": "OSMagics",
        "gui": "BasicMagics",
        "hist": "Other",
        "history": "HistoryMagics",
        "killbgscripts": "ScriptMagics",
        "ldir": "Other",
        "less": "KernelMagics",
        "lf": "Other",
        "lk": "Other",
        "ll": "Other",
        "load": "CodeMagics",
        "load_ext": "ExtensionMagics",
        "loadpy": "CodeMagics",
        "logoff": "LoggingMagics",
        "logon": "LoggingMagics",
        "logstart": "LoggingMagics",
        "logstate": "LoggingMagics",
        "logstop": "LoggingMagics",
        "ls": "Other",
        "lsmagic": "BasicMagics",
        "lx": "Other",
        "macro": "ExecutionMagics",
        "magic": "BasicMagics",
        "man": "KernelMagics",
        "matplotlib": "PylabMagics",
        "mkdir": "Other",
        "more": "KernelMagics",
        "mv": "Other",
        "notebook": "BasicMagics",
        "page": "BasicMagics",
        "pastebin": "CodeMagics",
        "pdb": "ExecutionMagics",
        "pdef": "NamespaceMagics",
        "pdoc": "NamespaceMagics",
        "pfile": "NamespaceMagics",
        "pinfo": "NamespaceMagics",
        "pinfo2": "NamespaceMagics",
        "pip": "BasicMagics",
        "popd": "OSMagics",
        "pprint": "BasicMagics",
        "precision": "BasicMagics",
        "profile": "BasicMagics",
        "prun": "ExecutionMagics",
        "psearch": "NamespaceMagics",
        "psource": "NamespaceMagics",
        "pushd": "OSMagics",
        "pwd": "OSMagics",
        "pycat": "OSMagics",
        "pylab": "PylabMagics",
        "qtconsole": "KernelMagics",
        "quickref": "BasicMagics",
        "recall": "HistoryMagics",
        "rehashx": "OSMagics",
        "reload_ext": "ExtensionMagics",
        "rep": "Other",
        "rerun": "HistoryMagics",
        "reset": "NamespaceMagics",
        "reset_selective": "NamespaceMagics",
        "rm": "Other",
        "rmdir": "Other",
        "run": "ExecutionMagics",
        "save": "CodeMagics",
        "sc": "OSMagics",
        "set_env": "OSMagics",
        "store": "StoreMagics",
        "sx": "OSMagics",
        "system": "OSMagics",
        "tb": "ExecutionMagics",
        "time": "ExecutionMagics",
        "timeit": "ExecutionMagics",
        "unalias": "OSMagics",
        "unload_ext": "ExtensionMagics",
        "who": "NamespaceMagics",
        "who_ls": "NamespaceMagics",
        "whos": "NamespaceMagics",
        "xdel": "NamespaceMagics",
        "xmode": "BasicMagics"
       }
      },
      "text/plain": [
       "Available line magics:\n",
       "%alias  %alias_magic  %autocall  %automagic  %autosave  %bookmark  %cat  %cd  %clear  %colors  %config  %connect_info  %cp  %debug  %dhist  %dirs  %doctest_mode  %ed  %edit  %env  %gui  %hist  %history  %killbgscripts  %ldir  %less  %lf  %lk  %ll  %load  %load_ext  %loadpy  %logoff  %logon  %logstart  %logstate  %logstop  %ls  %lsmagic  %lx  %macro  %magic  %man  %matplotlib  %mkdir  %more  %mv  %notebook  %page  %pastebin  %pdb  %pdef  %pdoc  %pfile  %pinfo  %pinfo2  %popd  %pprint  %precision  %profile  %prun  %psearch  %psource  %pushd  %pwd  %pycat  %pylab  %qtconsole  %quickref  %recall  %rehashx  %reload_ext  %rep  %rerun  %reset  %reset_selective  %rm  %rmdir  %run  %save  %sc  %set_env  %store  %sx  %system  %tb  %time  %timeit  %unalias  %unload_ext  %who  %who_ls  %whos  %xdel  %xmode\n",
       "\n",
       "Available cell magics:\n",
       "%%!  %%HTML  %%SVG  %%bash  %%capture  %%debug  %%file  %%html  %%javascript  %%js  %%latex  %%perl  %%prun  %%pypy  %%python  %%python2  %%python3  %%ruby  %%script  %%sh  %%svg  %%sx  %%system  %%time  %%timeit  %%writefile\n",
       "\n",
       "Automagic is ON, % prefix IS NOT needed for line magics."
      ]
     },
     "execution_count": 1,
     "metadata": {},
     "output_type": "execute_result"
    }
   ],
   "source": [
    "%lsmagic"
   ]
  },
  {
   "cell_type": "code",
   "execution_count": 2,
   "metadata": {},
   "outputs": [
    {
     "name": "stdout",
     "output_type": "stream",
     "text": [
      "Enter password: ········\n",
      "Verify password: ········\n"
     ]
    },
    {
     "data": {
      "text/plain": [
       "'sha1:dcdb6e651f8c:609a36df6ee9005f50b9e0e9d79590d108053f03'"
      ]
     },
     "execution_count": 2,
     "metadata": {},
     "output_type": "execute_result"
    }
   ],
   "source": [
    "# Set a password for the jupyter notebook\n",
    "from notebook.auth import passwd\n",
    "passwd()"
   ]
  },
  {
   "cell_type": "code",
   "execution_count": null,
   "metadata": {
    "collapsed": true
   },
   "outputs": [],
   "source": []
  }
 ],
 "metadata": {
  "kernelspec": {
   "display_name": "Python 3",
   "language": "python",
   "name": "python3"
  },
  "language_info": {
   "codemirror_mode": {
    "name": "ipython",
    "version": 3
   },
   "file_extension": ".py",
   "mimetype": "text/x-python",
   "name": "python",
   "nbconvert_exporter": "python",
   "pygments_lexer": "ipython3",
   "version": "3.5.2"
  }
 },
 "nbformat": 4,
 "nbformat_minor": 2
}
