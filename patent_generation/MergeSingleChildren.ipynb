{
 "cells": [
  {
   "cell_type": "code",
   "execution_count": 1,
   "metadata": {
    "collapsed": true
   },
   "outputs": [],
   "source": [
    "from patentdata.models.graph import Graph"
   ]
  },
  {
   "cell_type": "code",
   "execution_count": 2,
   "metadata": {
    "collapsed": true
   },
   "outputs": [],
   "source": [
    "import spacy\n",
    "nlp = spacy.load('en')"
   ]
  },
  {
   "cell_type": "code",
   "execution_count": 3,
   "metadata": {
    "collapsed": true
   },
   "outputs": [],
   "source": [
    "text = nlp(\"\"\"A further disadvantage of current portable scanning devices is hidden storage of a stylus for interacting with a user interface of the scanning device. Typically the stylus of the device is attached (e.g. via a cord) and fastened to an external surface of the device housing or handle, when not in use by the user of the device. Unfortunately, these external storage techniques of stylus can result in damage to the housing of the device, misplacement (e.g. loosing) of the stylus by the user, and/or positioning of the stylus in an awkward location on the device/handle that may interfere with the user when operating the scanning device without the current need for the stylus.\"\"\")"
   ]
  },
  {
   "cell_type": "code",
   "execution_count": 4,
   "metadata": {},
   "outputs": [],
   "source": [
    "sent_x = list(text.sents)[2]"
   ]
  },
  {
   "cell_type": "code",
   "execution_count": 5,
   "metadata": {
    "scrolled": true
   },
   "outputs": [
    {
     "data": {
      "text/plain": [
       "'flattened_merged_root.png'"
      ]
     },
     "execution_count": 5,
     "metadata": {},
     "output_type": "execute_result"
    }
   ],
   "source": [
    "g = Graph(sent_x.root)\n",
    "gv = g.get_graphviz()\n",
    "gv.format = 'png'\n",
    "gv.render(\"full\")\n",
    "\n",
    "g.flatten_graph()\n",
    "\n",
    "g2 = g.get_graphviz()\n",
    "g2.format = 'png'\n",
    "g2.render(\"flattened\")\n",
    "\n",
    "g3 = g.get_rootgraph()\n",
    "g3.format = 'png'\n",
    "g3.render(\"flattened_root\")\n",
    "\n",
    "g.merge_single_children()\n",
    "g4 = g.get_graphviz()\n",
    "g4.format = 'png'\n",
    "g4.render(\"flattened_merged\")\n",
    "\n",
    "g5 = g.get_rootgraph()\n",
    "g5.format = 'png'\n",
    "g5.render(\"flattened_merged_root\")"
   ]
  },
  {
   "cell_type": "code",
   "execution_count": 6,
   "metadata": {
    "collapsed": true
   },
   "outputs": [],
   "source": [
    "g = Graph(sent_x.root)"
   ]
  },
  {
   "cell_type": "code",
   "execution_count": 7,
   "metadata": {
    "scrolled": true
   },
   "outputs": [
    {
     "data": {
      "text/plain": [
       "[Unfortunately_RB_advmod_63 handle_VBP_ROOT_107 ._._punct_126,\n",
       " ,_,_punct_64 can_MD_aux_71 result_VB_nsubj_72 /_,_punct_106,\n",
       " these_DT_det_65 external_JJ_amod_66 storage_NN_compound_67 techniques_NNS_nsubj_68,\n",
       " of_IN_prep_69 stylus_NN_pobj_70,\n",
       " in_IN_prep_73,\n",
       " damage_NN_pobj_74,\n",
       " to_IN_prep_75,\n",
       " the_DT_det_76 housing_NN_pobj_77 misplacement_NN_conj_82 (_-LRB-_punct_83,\n",
       " of_IN_prep_78,\n",
       " the_DT_det_79 device_NN_pobj_80 ,_,_punct_81,\n",
       " e.g._RB_advmod_84 loosing_VBG_appos_85 )_-RRB-_punct_86,\n",
       " of_IN_prep_87,\n",
       " the_DT_det_88 stylus_NN_pobj_89,\n",
       " by_IN_prep_90,\n",
       " the_DT_det_91 user_NN_pobj_92 ,_,_punct_93 and/or_CC_cc_94 positioning_NN_conj_95,\n",
       " of_IN_prep_96,\n",
       " the_DT_det_97 stylus_NN_pobj_98,\n",
       " in_IN_prep_99,\n",
       " an_DT_det_100 awkward_JJ_amod_101 location_NN_pobj_102,\n",
       " on_IN_prep_103,\n",
       " the_DT_det_104 device_NN_pobj_105,\n",
       " that_DT_nsubj_108 may_MD_aux_109 interfere_VB_relcl_110,\n",
       " with_IN_prep_111,\n",
       " the_DT_det_112 user_NN_pobj_113,\n",
       " when_WRB_advmod_114 operating_VBG_advcl_115,\n",
       " the_DT_det_116 scanning_NN_compound_117 device_NN_dobj_118,\n",
       " without_IN_prep_119,\n",
       " the_DT_det_120 current_JJ_amod_121 need_NN_pobj_122,\n",
       " for_IN_prep_123,\n",
       " the_DT_det_124 stylus_NN_pobj_125]"
      ]
     },
     "execution_count": 7,
     "metadata": {},
     "output_type": "execute_result"
    }
   ],
   "source": [
    "g.flatten_graph()\n",
    "g.nodes"
   ]
  },
  {
   "cell_type": "markdown",
   "metadata": {},
   "source": [
    "To merge children we need to first navigate to terminal nodes - then navigate up branch merging from below."
   ]
  },
  {
   "cell_type": "code",
   "execution_count": null,
   "metadata": {
    "collapsed": true
   },
   "outputs": [],
   "source": [
    "\n",
    "\n",
    "def merge_single_children(self):\n",
    "    \"\"\" Merge nodes with single children.\"\"\"\n",
    "    # This doesn't work when parsing top > bottom\n",
    "    # as we merge parents before children\n",
    "    nodes_to_pop = []\n",
    "    for node in self.nodes:\n",
    "        # if terminal node\n",
    "        if not self.__graph_dict[node]:\n",
    "        # Get nodes connected to current node\n",
    "        if len(self.__graph_dict[node]) == 1:\n",
    "            child = self.__graph_dict[node][0]\n",
    "            self.merge_nodes(node, child)\n",
    "            nodes_to_pop.append(child)\n",
    "    for ntp in nodes_to_pop:\n",
    "        self.remove_node(ntp)"
   ]
  }
 ],
 "metadata": {
  "kernelspec": {
   "display_name": "Python 3",
   "language": "python",
   "name": "python3"
  },
  "language_info": {
   "codemirror_mode": {
    "name": "ipython",
    "version": 3
   },
   "file_extension": ".py",
   "mimetype": "text/x-python",
   "name": "python",
   "nbconvert_exporter": "python",
   "pygments_lexer": "ipython3",
   "version": "3.5.2"
  }
 },
 "nbformat": 4,
 "nbformat_minor": 2
}
