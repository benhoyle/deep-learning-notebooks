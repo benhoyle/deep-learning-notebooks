{
 "cells": [
  {
   "cell_type": "markdown",
   "metadata": {},
   "source": [
    "# Classifying Claims - Generating X and Y.\n",
    "\n",
    "In this post we will look at manually converting our claim text and claim categories into a form suitable for applying deep learning algorithms. \n",
    "\n",
    "If you don't have access to the USPTO downloads you can start from here using the pickle file in the GitHub directory."
   ]
  },
  {
   "cell_type": "markdown",
   "metadata": {},
   "source": [
    "We will be using USPTO data, where the claims are classified according to the International Patent Classification (IPC). To keep things simple we will use the first letter of the IPC (top level category). This is the same as the top level of the Cooperative Patent Classification (CPC).  \n",
    "\n",
    "The list of top level categories can be found here: https://rs.espacenet.com/help?locale=en_EP&method=handleHelpTopic&topic=ipc:\n",
    "* A Human Necessities\n",
    "* B Performing Operations; Transporting\n",
    "* C Chemistry; Metallurgy\n",
    "* D Textiles; Paper\n",
    "* E Fixed Constructions\n",
    "* F Mechanical Engineering; Lighting; Heating; Weapons; Blasting Engines or Pumps\n",
    "* G Physics\n",
    "* H Electricity"
   ]
  },
  {
   "cell_type": "markdown",
   "metadata": {},
   "source": [
    "---\n",
    "Machine learning algorithms generally work with numbers (typically floats of 32 or 64 bits). These numbers are arranged in multi-dimensional arrays called tensors. \n",
    "\n",
    "Most machine learning algorithms expects a training set of data to be formatted into an 'X' tensor. One dimension of this tensor represents the different training samples. Another set of dimenions then represent the data of each training sample. For example, if each claim was represented as a one-dimensional vector [3, 1, 2, ..., 3] then X might comprise a matrix where rows of the matrix represent different samples and the columns of the matrix represent different features of the sample.  \n",
    "\n",
    "For classification tasks each sample has an associated label. These are typically expected in a 'Y' tensor. Again, one dimension of this tensor represents the different training samples, while another set of dimensions represents the actual classification value for a particular sample. For example, in a simple binary case, Y may comprise a vector of 0 or 1 values. \n",
    "\n",
    "In this post we will look at how to shape numeric X and Y vectors based on our \"claim and classification\" data. In other posts we may use built in functions of machine learning libraries to do this for us."
   ]
  },
  {
   "cell_type": "markdown",
   "metadata": {},
   "source": [
    "---\n",
    "Let's start by loading the data we saved previously in the \"Getting the Data\" post. "
   ]
  },
  {
   "cell_type": "code",
   "execution_count": 1,
   "metadata": {},
   "outputs": [
    {
     "name": "stdout",
     "output_type": "stream",
     "text": [
      "There are 11238 data samples. Here is an example:\n",
      "\n",
      "('\\n1. A detector for atrial fibrillation or flutter (AF) comprising: \\nan impedance measuring unit comprising a measuring input, to which an atrial electrode line having an electrode for a unipolar measurement of an impedance in an atrium is connected and is implemented to generate an atrial impedance signal, obtained in a unipolar manner, in such a way that an impedance signal for each atrial cycle, comprising an atrial contraction and a following relaxation of said atrium, comprises multiple impedance values detected at different instants within a particular atrial cycle; \\nsaid impedance measuring unit comprising a signal input, via which a ventricle signal is to be supplied to said detector, which reflects instants of ventricular contractions in chronological assignment to said impedance signal; \\nan analysis unit configured to average multiple sequential impedance signal sections of a unipolar atrial impedance signal, which are each delimited by two sequential ventricular contractions, with one another, and to determine a maximum amplitude of an averaged unipolar atrial impedance signal section, \\nsaid analysis unit configured to compare said maximum amplitude to a comparison value, and if said maximum amplitude of said averaged unipolar atrial impedance signal is less than said comparison value, generate an AF suspicion signal. \\n\\n', 'A')\n"
     ]
    }
   ],
   "source": [
    "import pickle, os\n",
    "\n",
    "with open(\"raw_data.pkl\", \"rb\") as f:\n",
    "    raw_data = pickle.load(f)\n",
    "    \n",
    "print(\"There are {0} data samples. Here is an example:\\n\".format(len(raw_data)))\n",
    "print(raw_data[0])"
   ]
  },
  {
   "cell_type": "markdown",
   "metadata": {},
   "source": [
    "## Tokenising into Words and Building a Dictionary\n",
    "\n",
    "Now we need to split our claim text into word tokens and build a dictionary of words.\n",
    "\n",
    "We will start by using NLTK word_tokenize out of the box. This breaks our long string of claim text into a list of tokens. These tokens, most of the time, should correspond to \"words\" (although occasionally errors may creep in)."
   ]
  },
  {
   "cell_type": "code",
   "execution_count": 2,
   "metadata": {
    "collapsed": true
   },
   "outputs": [],
   "source": [
    "from nltk import word_tokenize\n",
    "\n",
    "data_in_words = [(word_tokenize(d[0]), d[1]) for d in raw_data]"
   ]
  },
  {
   "cell_type": "code",
   "execution_count": 3,
   "metadata": {},
   "outputs": [
    {
     "data": {
      "text/plain": [
       "(['1',\n",
       "  '.',\n",
       "  'A',\n",
       "  'sensing',\n",
       "  'assembly',\n",
       "  'for',\n",
       "  'sensing',\n",
       "  'a',\n",
       "  'level',\n",
       "  'of',\n",
       "  'liquid',\n",
       "  'in',\n",
       "  'a',\n",
       "  'reservoir',\n",
       "  ',',\n",
       "  'said',\n",
       "  'sensing',\n",
       "  'assembly',\n",
       "  'comprising',\n",
       "  ':',\n",
       "  'a',\n",
       "  'first',\n",
       "  'input',\n",
       "  'port',\n",
       "  'for',\n",
       "  'receiving',\n",
       "  'a',\n",
       "  'first',\n",
       "  'input',\n",
       "  'voltage',\n",
       "  'signal',\n",
       "  ';',\n",
       "  'a',\n",
       "  'second',\n",
       "  'input',\n",
       "  'port',\n",
       "  'for',\n",
       "  'receiving',\n",
       "  'a',\n",
       "  'second',\n",
       "  'input',\n",
       "  'voltage',\n",
       "  'signal',\n",
       "  ';',\n",
       "  'an',\n",
       "  'excitation',\n",
       "  'circuit',\n",
       "  'electrically',\n",
       "  'connected',\n",
       "  'to',\n",
       "  'said',\n",
       "  'first',\n",
       "  'and',\n",
       "  'second',\n",
       "  'input',\n",
       "  'ports',\n",
       "  'for',\n",
       "  'receiving',\n",
       "  'the',\n",
       "  'first',\n",
       "  'and',\n",
       "  'second',\n",
       "  'input',\n",
       "  'voltage',\n",
       "  'signals',\n",
       "  'and',\n",
       "  'for',\n",
       "  'generating',\n",
       "  'a',\n",
       "  'first',\n",
       "  'excitation',\n",
       "  'signal',\n",
       "  'and',\n",
       "  'a',\n",
       "  'second',\n",
       "  'excitation',\n",
       "  'signal',\n",
       "  ',',\n",
       "  'said',\n",
       "  'excitation',\n",
       "  'circuit',\n",
       "  'includes',\n",
       "  'first',\n",
       "  'and',\n",
       "  'second',\n",
       "  'excitation',\n",
       "  'electrodes',\n",
       "  'extending',\n",
       "  'along',\n",
       "  'a',\n",
       "  'portion',\n",
       "  'of',\n",
       "  'the',\n",
       "  'reservoir',\n",
       "  ',',\n",
       "  'said',\n",
       "  'first',\n",
       "  'and',\n",
       "  'second',\n",
       "  'excitation',\n",
       "  'electrodes',\n",
       "  'disposed',\n",
       "  'adjacent',\n",
       "  'to',\n",
       "  'and',\n",
       "  'separated',\n",
       "  'by',\n",
       "  'said',\n",
       "  'first',\n",
       "  'receiving',\n",
       "  'electrode',\n",
       "  ';',\n",
       "  'and',\n",
       "  'a',\n",
       "  'receiving',\n",
       "  'circuit',\n",
       "  'disposed',\n",
       "  'adjacent',\n",
       "  'said',\n",
       "  'excitation',\n",
       "  'circuit',\n",
       "  'defining',\n",
       "  'a',\n",
       "  'variable',\n",
       "  'capacitance',\n",
       "  'with',\n",
       "  'said',\n",
       "  'excitation',\n",
       "  'circuit',\n",
       "  ',',\n",
       "  'wherein',\n",
       "  'said',\n",
       "  'receiving',\n",
       "  'circuit',\n",
       "  'includes',\n",
       "  'first',\n",
       "  'and',\n",
       "  'second',\n",
       "  'receiving',\n",
       "  'electrodes',\n",
       "  'extending',\n",
       "  'along',\n",
       "  'a',\n",
       "  'portion',\n",
       "  'of',\n",
       "  'the',\n",
       "  'reservoir',\n",
       "  'and',\n",
       "  'a',\n",
       "  'first',\n",
       "  'trace',\n",
       "  'connected',\n",
       "  'to',\n",
       "  'ground',\n",
       "  'and',\n",
       "  'extending',\n",
       "  'between',\n",
       "  'said',\n",
       "  'first',\n",
       "  'receiving',\n",
       "  'electrode',\n",
       "  'and',\n",
       "  'said',\n",
       "  'first',\n",
       "  'and',\n",
       "  'second',\n",
       "  'excitation',\n",
       "  'electrodes',\n",
       "  ',',\n",
       "  'wherein',\n",
       "  'said',\n",
       "  'first',\n",
       "  'receiving',\n",
       "  'electrode',\n",
       "  'extends',\n",
       "  'along',\n",
       "  'a',\n",
       "  'first',\n",
       "  'non-linear',\n",
       "  'path',\n",
       "  'and',\n",
       "  'said',\n",
       "  'second',\n",
       "  'receiving',\n",
       "  'electrode',\n",
       "  'extends',\n",
       "  'along',\n",
       "  'a',\n",
       "  'second',\n",
       "  'non-linear',\n",
       "  'path',\n",
       "  'differing',\n",
       "  'from',\n",
       "  'said',\n",
       "  'first',\n",
       "  'non-linear',\n",
       "  'path',\n",
       "  ',',\n",
       "  'said',\n",
       "  'receiving',\n",
       "  'circuit',\n",
       "  'producing',\n",
       "  'an',\n",
       "  'output',\n",
       "  'voltage',\n",
       "  'signal',\n",
       "  'variable',\n",
       "  'with',\n",
       "  'the',\n",
       "  'level',\n",
       "  'of',\n",
       "  'liquid',\n",
       "  'in',\n",
       "  'the',\n",
       "  'reservoir',\n",
       "  'due',\n",
       "  'to',\n",
       "  'capacitance',\n",
       "  'changes',\n",
       "  'between',\n",
       "  'said',\n",
       "  'excitation',\n",
       "  'circuit',\n",
       "  'and',\n",
       "  'said',\n",
       "  'receiving',\n",
       "  'circuit',\n",
       "  'due',\n",
       "  'to',\n",
       "  'dielectric',\n",
       "  'changes',\n",
       "  'created',\n",
       "  'by',\n",
       "  'the',\n",
       "  'liquid',\n",
       "  '.'],\n",
       " 'G')"
      ]
     },
     "execution_count": 3,
     "metadata": {},
     "output_type": "execute_result"
    }
   ],
   "source": [
    "# Here is an example\n",
    "data_in_words[55]"
   ]
  },
  {
   "cell_type": "code",
   "execution_count": 4,
   "metadata": {},
   "outputs": [
    {
     "name": "stdout",
     "output_type": "stream",
     "text": [
      "Max claim length = 6134\n"
     ]
    }
   ],
   "source": [
    "# What is our maximum claim length?\n",
    "print(\"Max claim length = {0}\".format(max([len(d[0]) for d in data_in_words])))"
   ]
  },
  {
   "cell_type": "markdown",
   "metadata": {},
   "source": [
    "That's long! 6134 words.   \n",
    "\n",
    "Let's have a look at how the length (in words) of our claims is distributed."
   ]
  },
  {
   "cell_type": "code",
   "execution_count": 5,
   "metadata": {
    "scrolled": true
   },
   "outputs": [],
   "source": [
    "from collections import Counter\n",
    "\n",
    "claim_length_counter = Counter([len(d[0]) for d in data_in_words])"
   ]
  },
  {
   "cell_type": "markdown",
   "metadata": {},
   "source": [
    "We can quickly have a look at a histogram of the lengths."
   ]
  },
  {
   "cell_type": "code",
   "execution_count": 6,
   "metadata": {},
   "outputs": [
    {
     "data": {
      "image/png": "[encoded data removed]",
      "text/plain": [
       "<matplotlib.figure.Figure at 0x7f50a8f0c550>"
      ]
     },
     "metadata": {},
     "output_type": "display_data"
    }
   ],
   "source": [
    "import matplotlib.pyplot as plt\n",
    "import numpy as np\n",
    "\n",
    "%matplotlib inline\n",
    "\n",
    "bins = np.linspace(0, max(claim_length_counter.elements()), 200)\n",
    "plt.hist(list(claim_length_counter.elements()), bins)\n",
    "plt.title('Claim 1 - Word Length')\n",
    "plt.ylabel('No. of claims');\n",
    "plt.xlabel('Claim Word Length');"
   ]
  },
  {
   "cell_type": "markdown",
   "metadata": {},
   "source": [
    "As we can see the 6134 length claim is a clear outlier. The distribution is focused around 0 to around 600 words. Let's zoom in on that."
   ]
  },
  {
   "cell_type": "code",
   "execution_count": 7,
   "metadata": {},
   "outputs": [
    {
     "data": {
      "image/png": "[encoded data removed]",
      "text/plain": [
       "<matplotlib.figure.Figure at 0x7f50a8f0c358>"
      ]
     },
     "metadata": {},
     "output_type": "display_data"
    }
   ],
   "source": [
    "bins = np.linspace(0, 600, 200)\n",
    "plt.hist(list(claim_length_counter.elements()), bins)\n",
    "plt.title('Claim 1 - Word Length')\n",
    "plt.ylabel('No. of claims');\n",
    "plt.xlabel('Claim Word Length');"
   ]
  },
  {
   "cell_type": "markdown",
   "metadata": {},
   "source": [
    "When applying deep learning algorithms we often need to set a maximum sequence length. When dealing with words, this is equal to the maximum number of words expected in a claim. A lower maximum sequence length will help reduce our training time. \n",
    "\n",
    "If we take all claims of less than 250 words this would still include most of the data.  "
   ]
  },
  {
   "cell_type": "code",
   "execution_count": 8,
   "metadata": {},
   "outputs": [
    {
     "name": "stdout",
     "output_type": "stream",
     "text": [
      "There are now 10262 claims after removing long claims\n"
     ]
    }
   ],
   "source": [
    "# We might want to filter all claims over 250 tokens long\n",
    "filtered_data = [d for d in data_in_words if len(d[0]) <= 250]\n",
    "print(\"There are now {0} claims after removing long claims\".format(len(filtered_data)))"
   ]
  },
  {
   "cell_type": "code",
   "execution_count": null,
   "metadata": {},
   "outputs": [],
   "source": [
    "# Let's clear some memory\n",
    "del data_in_words"
   ]
  },
  {
   "cell_type": "markdown",
   "metadata": {},
   "source": [
    "---\n",
    "Now let's have a look at the words themselves."
   ]
  },
  {
   "cell_type": "code",
   "execution_count": null,
   "metadata": {},
   "outputs": [],
   "source": [
    "# Look at the words in our claims\n",
    "word_counter = Counter(sum([d[0] for d in filtered_data], list()))\n",
    "print(\"There are {0} different tokens in our dataset.\\n\".format(len(word_counter)))\n",
    "print(\"The 100 most common words are:\", word_counter.most_common(50))"
   ]
  },
  {
   "cell_type": "code",
   "execution_count": null,
   "metadata": {},
   "outputs": [],
   "source": [
    "print(\"The 100 least common words are:\", word_counter.most_common()[:-100-1:-1] )"
   ]
  },
  {
   "cell_type": "code",
   "execution_count": null,
   "metadata": {
    "collapsed": true
   },
   "outputs": [],
   "source": [
    "# Save some of these to use later\n",
    "with open(\"word_counter.pkl\", \"wb\") as f:\n",
    "    pickle.dump(word_counter, f)\n",
    "with open(\"filtered_data.pkl\", \"wb\") as f:\n",
    "    pickle.dump(filtered_data, f)"
   ]
  },
  {
   "cell_type": "markdown",
   "metadata": {},
   "source": [
    "Below is a function that takes our raw data and generates X and Y tensors. It is based on one provided in the Udacity Deep Learning course.\n",
    "\n",
    "First a filtering function is applied to only select claims below a certain word length. A default setting is to remove claims that have more than 250 words.\n",
    "\n",
    "The X tensor is generated by replacing each word with an integer, the integer representing an integer in a dictionary of words. A vocabulary size is passed as a parameter, which sets the maximum size of the dictionary based on the most frequent words. Words that are not in the dictionary (e.g. because they occur too infrequently) are replaced with a special UNK token.\n",
    "\n",
    "The integer value 0 is also reserved for a special PAD token. We will need this when we come to pad our data later.\n",
    "\n",
    "The Y tensor replaces each of the A to H categories with an integer value from 0 to 7.  \n",
    "\n",
    "Forward and reverse dictionaries are returned, which can be used to map to and from text to integer values."
   ]
  },
  {
   "cell_type": "code",
   "execution_count": null,
   "metadata": {
    "collapsed": true
   },
   "outputs": [],
   "source": [
    "# Now bringing this all together a little\n",
    "\n",
    "def build_dataset(raw_data, length_filter=250, vocabulary_size=25000):\n",
    "    \"\"\" Convert raw data in the form of (claim_text, class) into \n",
    "    X, Y format where X is numeric data and Y is label data.\n",
    "    \n",
    "    length_filter is a parameter to filter by token length \n",
    "    (e.g. to exclude long claims).\"\"\"\n",
    "    # Tokenise and filter\n",
    "    raw_data = [(word_tokenize(d[0]), d[1]) for d in raw_data]\n",
    "    raw_data = [d for d in raw_data if len(d[0]) <= length_filter]\n",
    "    \n",
    "    # Create labels first\n",
    "    Y_text = [d[1] for d in raw_data]\n",
    "    class_dictionary = {c: i for i, c in enumerate(sorted(Counter(Y_text).keys()))} \n",
    "    Y_data = [class_dictionary[y_text] for y_text in Y_text]\n",
    "    reverse_class_dictionary = dict(zip(class_dictionary.values(), class_dictionary.keys()))\n",
    "    \n",
    "    # Create X in text\n",
    "    X_text = [d[0] for d in raw_data]\n",
    "    \n",
    "    # Change to lowercase\n",
    "    X_text = [[word.lower() for word in x_text] for x_text in X_text]\n",
    "    \n",
    "    # Create complete wordset for dictionary generation\n",
    "    words = sum(X_text, list())\n",
    "    # Reserve slots for PAD and UNK tokens\n",
    "    count = [('PAD', 0), ['UNK', -1]]\n",
    "    count.extend(Counter(words).most_common(vocabulary_size - 2))\n",
    "    \n",
    "    # Build dictionary\n",
    "    word_dictionary = {word: i for i, (word, _) in enumerate(count)}\n",
    "        \n",
    "    # Build X in indexes\n",
    "    X_data = list()\n",
    "    unk_count = 0\n",
    "    # Go through claims replacing words with index \n",
    "    for x_text in X_text:\n",
    "        x_data = list()\n",
    "        for word in x_text:\n",
    "            if word in word_dictionary:\n",
    "                index = word_dictionary[word]\n",
    "            else:\n",
    "                index = 1  # dictionary['UNK']\n",
    "                unk_count = unk_count + 1\n",
    "            x_data.append(index)\n",
    "        X_data.append(x_data)\n",
    "        \n",
    "    count[1][1] = unk_count\n",
    "    reverse_word_dictionary = dict(zip(word_dictionary.values(), word_dictionary.keys())) \n",
    "    \n",
    "    return X_data, Y_data, count, word_dictionary, reverse_word_dictionary, class_dictionary, reverse_class_dictionary"
   ]
  },
  {
   "cell_type": "markdown",
   "metadata": {},
   "source": [
    "Now we run this function on the raw data and save the result."
   ]
  },
  {
   "cell_type": "code",
   "execution_count": null,
   "metadata": {},
   "outputs": [],
   "source": [
    "filename = \"X_Y_data.pkl\"\n",
    "\n",
    "if os.path.isfile(filename):\n",
    "    with open(filename, \"rb\") as f:\n",
    "        print(\"Loading data\")\n",
    "        X_data, Y_data, count, word_dictionary, reverse_word_dictionary, class_dictionary, reverse_class_dictionary = pickle.load(f)\n",
    "else:\n",
    "    X_data, Y_data, count, word_dictionary, reverse_word_dictionary, class_dictionary, reverse_class_dictionary = build_dataset(raw_data)\n",
    "    print('Most common words (+UNK)', count[:5])\n",
    "    print('Sample data', X_data[0], Y_data[0])\n",
    "    with open(filename, \"wb\") as f:\n",
    "        data = (X_data, Y_data, count, word_dictionary, reverse_word_dictionary, class_dictionary, reverse_class_dictionary)\n",
    "        pickle.dump(data, f)"
   ]
  },
  {
   "cell_type": "markdown",
   "metadata": {},
   "source": [
    "As you can see our word dictionary has 25000 entries, as set by the vocabulary."
   ]
  },
  {
   "cell_type": "code",
   "execution_count": null,
   "metadata": {},
   "outputs": [],
   "source": [
    "len(word_dictionary)"
   ]
  },
  {
   "cell_type": "markdown",
   "metadata": {},
   "source": [
    "Let's look at some examples - \"the\" is replace with the integer value 2 and \"computer\" is replaced with an integer value of 143."
   ]
  },
  {
   "cell_type": "code",
   "execution_count": null,
   "metadata": {},
   "outputs": [],
   "source": [
    "word_dictionary[\"the\"]"
   ]
  },
  {
   "cell_type": "code",
   "execution_count": null,
   "metadata": {},
   "outputs": [],
   "source": [
    "word_dictionary[\"computer\"]"
   ]
  },
  {
   "cell_type": "markdown",
   "metadata": {},
   "source": [
    "As you can see below, each claim now becomes a list of integers representing the words within the claim."
   ]
  },
  {
   "cell_type": "code",
   "execution_count": null,
   "metadata": {},
   "outputs": [],
   "source": [
    "X_data[0]"
   ]
  },
  {
   "cell_type": "markdown",
   "metadata": {},
   "source": [
    "Let's also have a look at our dictionary for the classification categories and some example values."
   ]
  },
  {
   "cell_type": "code",
   "execution_count": null,
   "metadata": {},
   "outputs": [],
   "source": [
    "class_dictionary"
   ]
  },
  {
   "cell_type": "code",
   "execution_count": null,
   "metadata": {},
   "outputs": [],
   "source": [
    "reverse_class_dictionary"
   ]
  },
  {
   "cell_type": "code",
   "execution_count": null,
   "metadata": {},
   "outputs": [],
   "source": [
    "Y_data[0:5]"
   ]
  },
  {
   "cell_type": "code",
   "execution_count": null,
   "metadata": {},
   "outputs": [],
   "source": [
    "# Check vectors are the same length\n",
    "print(len(X_data), len(Y_data))"
   ]
  },
  {
   "cell_type": "markdown",
   "metadata": {},
   "source": [
    "One issue we still have is that each sample in our X data has a different length. Most machine learning libraries need all samples to have the same length for training. To convert our X data to a series of vectors of a fixed length we can set a maximum vector size and then pad the different between the maximum vector size and our given claims.  \n",
    "\n",
    "In our function above the maximum claim length is set to 250 words. This can therefore become our maximum vector size.  \n",
    "\n",
    "Keras provides a helpful preprocessing function to provide this padding. We also need to convert our data to numpy arrays.\n",
    "\n",
    "We also split our data into training data and test data. The training data is used to train our model. The test data is used to evaluate our model."
   ]
  },
  {
   "cell_type": "code",
   "execution_count": null,
   "metadata": {},
   "outputs": [],
   "source": [
    "# First we need to split out data into training and test data - go for 80:20\n",
    "import numpy as np\n",
    "\n",
    "from keras.preprocessing import sequence\n",
    "from keras.utils import to_categorical\n",
    "\n",
    "from sklearn.model_selection import train_test_split\n",
    "\n",
    "# seed for reproducing same results\n",
    "seed = 9\n",
    "np.random.seed(seed)\n",
    "\n",
    "# split the data into training (80%) and testing (20%)\n",
    "(X_train, X_test, Y_train, Y_test) = train_test_split(X_data, Y_data, test_size=0.2, random_state=seed)"
   ]
  },
  {
   "cell_type": "code",
   "execution_count": null,
   "metadata": {
    "collapsed": true
   },
   "outputs": [],
   "source": [
    "# Now we need to segment and pad our claim text sequences - we have already restricted our claims to length 250\n",
    "# We might want to experiment with changing this\n",
    "max_word_length = 250\n",
    "# Padding is performing by adding 0, which we have reserved as a PAD token above\n",
    "X_train = sequence.pad_sequences(X_train, maxlen=max_word_length)\n",
    "X_test = sequence.pad_sequences(X_test, maxlen=max_word_length)"
   ]
  },
  {
   "cell_type": "code",
   "execution_count": null,
   "metadata": {},
   "outputs": [],
   "source": [
    "print(\"Our training data has length: {0} and our test data has length: {1}\".format(len(X_train), len(X_test)))"
   ]
  },
  {
   "cell_type": "markdown",
   "metadata": {},
   "source": [
    "Here is an example of our padded data."
   ]
  },
  {
   "cell_type": "code",
   "execution_count": null,
   "metadata": {},
   "outputs": [],
   "source": [
    "X_train[1]"
   ]
  },
  {
   "cell_type": "code",
   "execution_count": null,
   "metadata": {},
   "outputs": [],
   "source": [
    "no_classes = len(class_dictionary)\n",
    "Y_train = np.array(Y_train)\n",
    "Y_test = np.array(Y_test)\n",
    "print(\"There are {0} classes\".format(no_classes))"
   ]
  },
  {
   "cell_type": "code",
   "execution_count": null,
   "metadata": {},
   "outputs": [],
   "source": [
    "Y_train.shape"
   ]
  },
  {
   "cell_type": "markdown",
   "metadata": {},
   "source": [
    "In order to compare an output vector of our deep learning models with our labels we need to convert our integer labels to what are called \"one-hot\" encodings. These are vectors with a length equal to the number of labels; an index set to 1 in the vector indicates that the label is the integer value associated with the index."
   ]
  },
  {
   "cell_type": "code",
   "execution_count": null,
   "metadata": {
    "collapsed": true
   },
   "outputs": [],
   "source": [
    "# Convert labels to categorical one-hot encoding\n",
    "Y_train = to_categorical(Y_train, num_classes=no_classes)\n",
    "Y_test = to_categorical(Y_test, num_classes=no_classes)"
   ]
  },
  {
   "cell_type": "code",
   "execution_count": null,
   "metadata": {},
   "outputs": [],
   "source": [
    "Y_train[0]"
   ]
  },
  {
   "cell_type": "code",
   "execution_count": null,
   "metadata": {},
   "outputs": [],
   "source": [
    "print(X_train.shape, X_test.shape)"
   ]
  },
  {
   "cell_type": "code",
   "execution_count": null,
   "metadata": {},
   "outputs": [],
   "source": [
    "print(Y_train.shape, Y_test.shape)"
   ]
  },
  {
   "cell_type": "markdown",
   "metadata": {},
   "source": [
    "So we now have X_train and X_test tensors in matrix form (8209/2053 samples of length 250), and Y_train and Y_test tensors in one hot-form (of size 8209/2053 by 8).  \n",
    "\n",
    "We now have everything we need to train and test some deep learning models. We will do this in another notebook."
   ]
  }
 ],
 "metadata": {
  "kernelspec": {
   "display_name": "Python 3",
   "language": "python",
   "name": "python3"
  },
  "language_info": {
   "codemirror_mode": {
    "name": "ipython",
    "version": 3
   },
   "file_extension": ".py",
   "mimetype": "text/x-python",
   "name": "python",
   "nbconvert_exporter": "python",
   "pygments_lexer": "ipython3",
   "version": "3.5.2"
  }
 },
 "nbformat": 4,
 "nbformat_minor": 2
}
