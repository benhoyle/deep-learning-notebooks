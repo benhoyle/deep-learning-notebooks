{
 "cells": [
  {
   "cell_type": "markdown",
   "metadata": {},
   "source": [
    "# Claim2Title\n",
    "\n",
    "This notebook will investigate whether I can use a sequence to sequence model to generate patent specification title from patent claim text."
   ]
  },
  {
   "cell_type": "markdown",
   "metadata": {},
   "source": [
    "## Getting the Data\n",
    "\n",
    "First we need a source of say ~ 10,000 titles and claims. We'll concentrate on G06 as crossing the streams of chemistry and computing results in some funky chimeras."
   ]
  },
  {
   "cell_type": "code",
   "execution_count": 1,
   "metadata": {
    "collapsed": true
   },
   "outputs": [],
   "source": [
    "# imports\n",
    "from patentdata.corpus import USPublications\n",
    "from patentdata.models.patentcorpus import LazyPatentCorpus\n",
    "import os, pickle"
   ]
  },
  {
   "cell_type": "code",
   "execution_count": 3,
   "metadata": {
    "scrolled": true
   },
   "outputs": [
    {
     "name": "stdout",
     "output_type": "stream",
     "text": [
      "12000 records saved\n",
      "Saving a checkpoint at 0 files\n",
      "Current data =  ('\\n1. A mail management method for retrieving and adding e-mail messages to an existing business software application database, comprising: \\nscanning a header portion of each message to locate an identification; \\ncomparing the identification with a plurality of identifications stored in a business software application database to identify a matching identification; \\nadding the message with the matching identification into the business software application database wherein the message is associated with the matching identification; and \\ncreating a Task associated with the message that is linked to the business software application database. \\n\\n', 'Mail management system and method')\n",
      "Saving a checkpoint at 500 files\n",
      "Current data =  ('\\n1. A method for downloading a drug library from a medication management unit to a medical infusion device having a primary memory and an existing drug library stored in the primary memory, comprising: \\ndetermining that a drug library update needed event has occurred; \\ntransmitting a new drug library from the medication management unit to the medical infusion device upon occurrence of the drug library update needed event; \\nstoring the new drug library in a cache memory of the medical infusion device while maintaining the existing drug library in the primary memory; \\ndetermining that a specific trigger event has occurred; and \\nreplacing the existing drug library in the primary memory with the new drug library upon occurrence of the trigger event. \\n\\n', 'Medication management system')\n",
      "Saving a checkpoint at 1000 files\n",
      "Current data =  ('\\n1. A system for conducting financial transactions using an ATM network of the type connected to at least one financial institution, said financial institution maintaining an account for a specific user, said system comprising: \\na central computer coupled to a packet data network; \\nat least one remote data terminal including user-manipulable input keys and a multi-line display, said data terminal coupled to a dial-up telephone line, said remote data terminal including means for generating first data representing a payee and second data representing an amount; \\ntelecommunications means including a modem operatively coupled to said central computer and a modem operatively coupled to said remote data terminal, said telecommunications means for communicating said first and second data from said remote data terminal to said central computer via a said packet data network and dial-up telephone line, \\nsaid central computer further including means for generating a digital message responsive to said communicated first and second data and for applying said digital message to said ATM network so as to selectively effecting debiting of said user account in response to user manipulation of said remote terminal input keys. \\n\\n', 'Method and system for remote delivery of retail banking services')\n",
      "Saving a checkpoint at 1500 files\n",
      "Current data =  (\"\\n1. A method of providing access to information intended for a registered client of an online platform to the registered client on each webpage associated with the online platform transmitted to the registered client, the method comprising:\\nreceiving one or more emails at a server of the online platform for the first registered client from one or more other registered clients of the online platform;\\nupon receiving by the server login information from the first registered client for logging into the online platform, causing to be displayed a personalized dock, wherein the personalized dock is displayed on each webpage of the online platform transmitted to the first registered client, and further wherein the personalized dock provides an indication of a first number of unread emails that have been sent to the first registered client from other registered clients and a first clickable button for viewing emails;\\nupon receiving an indication by the server of a click at the first registered client on the first clickable button, causing be displayed at least some of the first registered client's unread or previously read emails in a dropdown format overlaid on a current webpage of the online platform being transmitted to the first registered client.\\n\\n\", 'SYSTEM AND METHOD FOR PROVIDING SOFTWARE TOOLS WITHIN AN ONLINE PLATFORM FOR ORGANIZING GROUPS AND COMMUNICATING WITH MEMBER CLIENTS OF GROUP')\n",
      "Saving a checkpoint at 2000 files\n",
      "Current data =  ('\\n1. A method of load balancing data access in virtualized storage nodes, comprising:\\nreceiving a data access request from a client for data on a plurality of the virtualized storage nodes;\\nconnecting the client to one of the plurality of virtualized storage nodes having data for the data access request; and\\nreconnecting the client to another one of the plurality of virtualized storage nodes to continue accessing data in the data access request.\\n\\n', 'LOAD BALANCING DATA ACCESS IN VIRTUALIZED STORAGE NODES')\n",
      "Saving a checkpoint at 2500 files\n",
      "Current data =  ('\\n1. A method for scheduling an appointment between a first computing device and a second computing device without the use of a server, the method comprising the steps of: \\na) determining a time interval for the appointment; \\nb) sending the time interval from the first computing device to the second computing device; \\nc) sending from the second computing device a response containing a time schedule of the second computing device within the time interval to the first computing device; \\nd) comparing the time schedule of the second computing device to a time schedule of the first computing device; \\ne) determining with the first computing device a time for the appointment based upon the comparison of the time schedules between the first computing device and the second computing device; and \\nf) agreeing between the first computing device and the second computing device the time for the appointment. \\n\\n', 'System and method for synchronous peer-to-peer appointment scheduling facilitation')\n",
      "Saving a checkpoint at 3000 files\n",
      "Current data =  ('\\n1. A system for selecting a first peripheral and a second peripheral, the first peripheral receiving a first clock frequency and the second peripheral receiving a second clock frequency, the first and second clock frequencies differing, in an integrated circuit including a processing circuit configured to receive the first clock frequency, transmit a select signal and an address signal, comprising: \\na bridge circuit coupled to the processing circuit, the first peripheral and the second peripheral, and configured to receive the select signal and the address signal and transmit a first peripheral select signal to the first peripheral and a second peripheral select signal to the second peripheral; and \\na counter coupled to the bridge circuit and configured to process a count, the count being a predetermined number and based on whether the address signal indicates a first address and the select signal indicates that access is required to the first address, which is associated with the first peripheral, or to a second address, which is associated with the second peripheral, wherein the count differs for the first and second addresses, wherein the bridge circuit asserts the first peripheral and the second peripheral for a period of time based on the value of the count. \\n\\n', 'Method and apparatus for driving multiple peripherals with different clock frequencies in an integrated circuit')\n",
      "Saving a checkpoint at 3500 files\n",
      "Current data =  ('\\n1. An image forming apparatus comprising:\\nphotoreceptors;\\nan image carrier;\\na plurality of light emitting element arrays each configured to emit a light beam onto a corresponding one of the photoreceptors independently;\\nan angle adjustment unit to adjust a mounting angle of the light emitting element arrays relative to a frame of the image forming apparatus;\\na pattern forming unit to form a positional error correction pattern of each color on the image carrier;\\nan optical detector to detect the correction pattern formed on the image carrier;\\na positional error calculation unit to calculate a printing skew error and a main scanning scaling error of the light emitting element arrays based on the correction pattern detected by the optical detector; and\\na skew correction unit to correct the printing skew error detected by the positional error calculation unit after adjustment of the mounting angle of the light emitting element arrays by the angle adjustment unit.\\n\\n', 'IMAGE FORMING APPARATUS')\n"
     ]
    },
    {
     "name": "stdout",
     "output_type": "stream",
     "text": [
      "Saving a checkpoint at 4000 files\n",
      "Current data =  ('\\n1. An image enhancement method using face detection algorithms, comprising: \\nautomatically detecting human faces in an image using face detection algorithms; \\nautomatically locating the human faces in the image; and \\nautomatically enhancing an appearance of the image based on the human faces in the image. \\n\\n', 'Image enhancement using face detection')\n",
      "Saving a checkpoint at 4500 files\n",
      "Current data =  ('\\n1. A method for reducing energy consumption in manufacturing processes comprising the steps of:\\n(a) generating a computer simulation of the manufacturing process defining material input and output streams and energy input and output flows;\\n(b) providing computer readable rules associated with the computer simulation defining constraints on changes in at least one of the material input and output streams and energy input and output flows;\\n(c) executing a program on an electronic computer to apply a series of scripts to data of the material input and output streams to identify at least one predefined pattern of energy savings applicable to the manufacturing process; and\\n(d) based on the identified predefined pattern of energy savings, providing variations to at least one of the input and output streams and energy input and output flows, constrained within the computer readable rules, to the computer simulation to provide a simulation output quantifying a change in energy usage.\\n\\n', 'Apparatus and Method for Reducing Energy Use in Industrial Processes')\n",
      "Saving a checkpoint at 5000 files\n",
      "Current data =  ('\\n1. A method for servicing a field device of process automation technology, with a servicing program, comprising the steps of:\\nexchanging data between the field device using the servicing program by means of at least one protocol, which has basic commands;\\ninvoking, via the basic functions, the basic commands of the protocol, wherein each field device compatible with the protocol has these basic functions available to it; and\\nusing only basic commands of the protocol to transfer data between the servicing program and the field device.\\n\\n', 'Method for Servicing a Field Device')\n",
      "Saving a checkpoint at 5500 files\n",
      "Current data =  ('\\n1. A method for testing randomness when generating a random number, the method comprising the steps of: \\ngenerating a continuous stream of random binary bits; \\napplying said generated random bits to an exponential monobit-run frequency operation to compute average monobit-run frequency values for a range of monobit-run length values; and, \\ndetermining whether said generated random bits are sufficiently random by comparing the output of said exponential monobit-run frequency operation to a predetermined acceptance range. \\n\\n', 'Monobit-run frequency on-line randomness test')\n",
      "Saving a checkpoint at 6000 files\n",
      "Current data =  ('\\n1. An apparatus to automatically verify access to a multipathed target at boot time, the apparatus comprising: \\nan identification module configured to identify a plurality of paths to a target device; \\na selection module configured to automatically select one of the plurality of paths to the target device; and \\na verification module configured to verify access on at least one path to the target device. \\n\\n', 'Apparatus, system, and method for automatically verifying access to a mulitipathed target at boot time')\n",
      "Saving a checkpoint at 6500 files\n",
      "Current data =  (\"\\n1. A method comprising;\\nreceiving, by a computer-based system for secure transactions, an authorization request from a mobile device, wherein the authorization request includes data that is based upon a quick response (QR) code, and wherein the mobile device acquires the QR code from a merchant client located on a merchant's physical premises; and\\nauthorizing, by the computer-based system, the authorization request based upon a transaction account that is paired to the mobile device.\\n\\n\", 'SYSTEMS AND METHODS FOR FACILITATING SECURE TRANSACTIONS')\n",
      "Saving a checkpoint at 7000 files\n",
      "Current data =  ('\\n1. A method of compiling, the method comprising the steps of: \\nparsing a source code; \\nperforming a plurality of optimizations on the parsed code; \\ngenerating a plurality of configuration instruction sets based on the optimized source code and; \\nautomatically selecting one of the plurality of generated configuration instruction sets according to a user-defined criteria, the selected configuration instruction set being used to configure hardware. \\n\\n', 'Method and apparatus for compiling source code to configure hardware')\n",
      "Saving a checkpoint at 7500 files\n",
      "Current data =  ('\\n1. A method for networking in a cloud computing environment having a plurality of computing nodes, the method comprising:\\nupon receiving authorization, communicating with a plurality of virtual machines to provide at least one virtual network to service to the plurality of virtual machines, wherein each of the plurality of virtual machines communicate with a virtual network layer at a virtual interface via at least one virtual Ethernet (vEthernet);\\nproviding to the plurality of virtual machines an IP gateway to a network;\\nfacilitating communications between the IP gateway and the network; and\\nrouting communications between a network control layer and at least one network.\\n\\n', 'Networking in a Virtual Computing Infrastructure')\n",
      "Saving a checkpoint at 8000 files\n",
      "Current data =  (\"\\n1. A face recognition system comprising: \\nan image input unit to receive a face image from a user; \\na user interface to receive personal information selectively input by the user; \\na face information storage unit to store personal information regarding a plurality of individuals, and face information corresponding to the personal information; \\na face identification unit to conduct face recognition by comparing the face image received from the image input unit with the face information stored in the face information unit; and \\na face verification unit to perform face verification using the face information that corresponds to the user's personal information, and that is stored in the face information storage unit, and the face image received from the image input unit, and to update the face information already stored in the face information storage unit according to the face image received from the image input unit. \\n\\n\", 'System and method for face recognition')\n",
      "Saving a checkpoint at 8500 files\n",
      "Current data =  ('\\n1. A method of facilitating a first user purchasing a gift for a second user through a service provider network, wherein the service provider network is enabled for broadcasting multimedia content to the first and the second user, the method comprising:\\nreceiving a first request to purchase the gift for the second user;\\nnotifying a service delivery platform of the first request to purchase the gift;\\nnotifying the second user of the gift; and\\nreceiving a payment associated with the first user, wherein the payment is for the gift.\\n\\n', 'PURCHASING A GIFT USING A SERVICE PROVIDER NETWORK')\n",
      "Saving a checkpoint at 9000 files\n",
      "Current data =  ('\\n1. A method for generating an icon decoration that readily notifies an end-user about a vulnerability associated to a computer software application, the method comprising the steps of:\\nidentifying computer software applications installed on a computer;\\nsending an electronic request to a program on a server computer that extracts information, from a database, about the computer software applications identified, wherein the information includes at least a vulnerability of one of the computer software applications identified, a level of risk associated to the vulnerability, and information about at least one of a security patch for the one of the computer software applications identified and instructions to configure the one of the computer software applications identified in order to minimize the level of security risk associated to the vulnerability;\\nreceiving the information that is extracted from the database;\\ngenerating an icon decoration for the vulnerability, wherein the icon decoration readily displays the information that is extracted; and\\nadding the icon decoration onto each icon of the one of the computer software applications identified and each icon of electronic documents associated to the one of the computer software applications identified.\\n\\n', 'SOFTWARE VULNERABILITY NOTIFICATION VIA ICON DECORATIONS')\n"
     ]
    },
    {
     "name": "stdout",
     "output_type": "stream",
     "text": [
      "Saving a checkpoint at 9500 files\n",
      "Current data =  ('\\n1. A system for providing zero latency risk monitoring comprising:\\n(i) a component for receiving or generating an order;\\n(ii) a gateway for communicating an order into a market, based on the received or generated order;\\n(iii) an out-of-band risk monitoring computer for monitoring the processing of the received or generated order in real time, calculating a risk parameter corresponding to the received or generated order, and updating the risk parameter; and\\n(iv) a kill-switch positioned in-line between said component and said gateway and coupled to said computer, for preventing orders from reaching the market based on the updated risk parameter.\\n\\n', 'ZERO-LATENCY RISK-MANAGEMENT SYSTEM AND METHOD')\n",
      "Saving a checkpoint at 10000 files\n",
      "Current data =  ('\\n1. A circuit of an electronic device, comprising:\\na Southbridge chip comprising a power good pin, a signal on the power good pin of the chip related to a computer power up/down sequence of the electronic device;\\na first switching transistor circuit with an input terminal to receive a power good signal, and an output terminal connected to the power good pin of the Southbridge chip of the electronic device; and\\na second switching transistor circuit with an input terminal to receive a S3 sleep signal, and an output terminal connected to the power good pin of the Southbridge chip;\\nwherein during the computer power down sequence of the electronic device, the S3 sleep signal falls low before than the power good signal, and the S3 sleep signal is active and fed to the power good pin of the Southbridge chip, thereby decreasing a delay time of the power good signal fed to the Southbridge chip and confirming the power down sequence is correct.\\n\\n', 'CIRCUIT FOR PREVENTING COMPUTER POWER DOWN SEQUENCE FAILURE')\n",
      "Saving a checkpoint at 10500 files\n",
      "Current data =  ('\\n1. An active matrix electroluminescent display device comprising an array of display pixels (1) arranged in rows and columns, each pixel comprising:\\nan electroluminescent (EL) display element (2);\\na drive transistor (22) for driving a current from an associated power supply line (26) through the display element (2), each power line (26) providing power to a respective column of display pixels (1);\\nan address transistor (16) for providing a pixel drive signal from a data line to the gate of the drive transistor (22); and\\nan isolating transistor (30) for isolating the drive transistor from the display element,\\nwherein device is operable in two modes, a first mode (50) in which the isolating transistor (30) isolates the drive transistor (22) from the display element for each pixel, and pixel drive signals are provided to all pixels of the array in a row-by-row sequence, and a second mode (52) in which the isolating transistor couples the drive transistor (22) to the display element (2) and current is driven through the display elements.\\n\\n', 'LIGHT EMITTING DISPLAY DEVICES')\n",
      "Saving a checkpoint at 11000 files\n",
      "Current data =  ('\\n1. A method for collecting proxy presence information about an object associated with a user from one or more proxy presence sources associated with said user, comprising: \\nassociating a proxy presence agent with each of said proxy presence sources; and \\nobtaining proxy presence information from said proxy presence agents. \\n\\n', 'Methods and apparatus for determining a proxy presence of a user')\n",
      "Saving a checkpoint at 11500 files\n",
      "Current data =  ('\\n1. A method of verifying an animation applied in a mobile device, the method comprising:\\ntime-slicing the animation into multiple scenes at predetermined time points along a timeline of the animation;\\ncapturing actual data of each scene at each of the time points while the animation is running;\\ncomparing the actual data of each scene with expected data of the corresponding scene to determine whether the actual data of each scene matches the expected data of the corresponding scene;\\nif the actual data of any scene does not match the expected data of the corresponding scene, generating a result indicating a verification failure; and\\nif the actual data of each scene matches the expected data of the corresponding scene, generating a result indicating a verification success.\\n\\n', 'Verification of animation in a computing device')\n",
      "12000 claims saved\n"
     ]
    }
   ],
   "source": [
    "# Get the claim 1 and classificationt text\n",
    "\n",
    "PIK = \"claim_and_title.data\"\n",
    "\n",
    "if os.path.isfile(PIK):\n",
    "    with open(PIK, \"rb\") as f:\n",
    "        print(\"Loading data\")\n",
    "        data = pickle.load(f)\n",
    "        print(\"{0} claims and titles loaded\".format(len(data)))\n",
    "else:\n",
    "    # Load our list of G06 records\n",
    "    PIK = \"12000recordsG06.data\"\n",
    "\n",
    "    if os.path.isfile(PIK):\n",
    "        with open(PIK, \"rb\") as f:\n",
    "            print(\"Loading data\")\n",
    "            records = pickle.load(f)\n",
    "            print(\"{0} records loaded\".format(len(records)))\n",
    "    else:\n",
    "        path = '/media/SAMSUNG1/Patent_Downloads'\n",
    "        ds = USPublications(path)\n",
    "        records = ds.get_records([\"G\", \"06\"], \"name\", sample_size=12000)\n",
    "        with open(PIK, \"wb\") as f:\n",
    "            pickle.dump(records, f)\n",
    "            print(\"{0} records saved\".format(len(records)))\n",
    "    \n",
    "    lzy = LazyPatentCorpus()\n",
    "    lzy.init_by_filenames(ds, records)\n",
    "    \n",
    "    data = list()\n",
    "    for i, pd in enumerate(lzy.documents):\n",
    "        try:\n",
    "            title = pd.title\n",
    "        except:\n",
    "            title = \"\"\n",
    "        try:\n",
    "            claim1_text = pd.claimset.get_claim(1).text\n",
    "        except:\n",
    "            claim1_text = \"\"\n",
    "        current_data = (claim1_text, title)\n",
    "        data.append(current_data)\n",
    "        if (i % 500) == 0:\n",
    "            print(\"Saving a checkpoint at {0} files\".format(i))\n",
    "            print(\"Current data = \", current_data)\n",
    "            with open(PIK, \"wb\") as f:\n",
    "                pickle.dump(data, f)\n",
    "            \n",
    "    with open(PIK, \"wb\") as f:\n",
    "        pickle.dump(data, f)\n",
    "        \n",
    "    print(\"{0} claims saved\".format(len(data)))"
   ]
  },
  {
   "cell_type": "markdown",
   "metadata": {},
   "source": [
    "### Breaking Up Claims\n",
    "\n",
    "Studies of human reading comprehension show that sentences of length 8-15 words long are easily understood. Over that comprehension quickly decreases. (See here: http://prsay.prsa.org/2009/01/14/how-to-make-your-copy-more-readable-make-sentences-shorter/)\n",
    "\n",
    "This suggests we want to be breaking our claims into ~8-15 word chunks then combining an output of these chunks. Break on punctuation - e.g. comma clauses (but not lists) and semi-colons.  \n",
    "\n",
    "We can start with our hacky split_into_features method in patentdata library.\n",
    "\n",
    "Can we parse chunks through an RNN encoder and then combine those chunks? Concatenation would not work as you may have a variable number of chunks. Averaging or summing encoded vectors may work.  \n",
    "\n",
    "\"A reasonable limit of 250-500 time steps is often used in practice with large LSTM models.\" - as per https://machinelearningmastery.com/handle-long-sequences-long-short-term-memory-recurrent-neural-networks/."
   ]
  },
  {
   "cell_type": "markdown",
   "metadata": {},
   "source": [
    "Can we cascade RNN cells as per here: http://www.xiaodanzhu.com/publications/zhu_icml_15.pdf?"
   ]
  },
  {
   "cell_type": "code",
   "execution_count": 4,
   "metadata": {},
   "outputs": [
    {
     "name": "stdout",
     "output_type": "stream",
     "text": [
      "Our longest claim is 23654 characters long.\n"
     ]
    }
   ],
   "source": [
    "length = max([len(d[0]) for d in data])\n",
    "print(\"Our longest claim is {0} characters long.\".format(length))"
   ]
  },
  {
   "cell_type": "code",
   "execution_count": 5,
   "metadata": {},
   "outputs": [
    {
     "name": "stdout",
     "output_type": "stream",
     "text": [
      "Our longest title is 397 characters long.\n"
     ]
    }
   ],
   "source": [
    "length = max([len(d[1]) for d in data])\n",
    "print(\"Our longest title is {0} characters long.\".format(length))"
   ]
  },
  {
   "cell_type": "markdown",
   "metadata": {},
   "source": [
    "This is too long for simple LSTM seq2seq systems that rely on 250-500 timesteps.  \n",
    "\n",
    "We could though use characters out and words in?!\n",
    "\n",
    "Thinking about text tokenisation - TF-IDF or count seems wrong - we have more of a summarisation task."
   ]
  },
  {
   "cell_type": "code",
   "execution_count": null,
   "metadata": {
    "collapsed": true
   },
   "outputs": [],
   "source": [
    "from keras.preprocessing import text\n",
    "t = text.Tokenizer(\n",
    "                num_words=None, \n",
    "                filters='1.:;\\n',\n",
    "                lower=True,\n",
    "                split=\" \",\n",
    "                char_level=False)\n",
    "\n"
   ]
  }
 ],
 "metadata": {
  "kernelspec": {
   "display_name": "Python 3",
   "language": "python",
   "name": "python3"
  },
  "language_info": {
   "codemirror_mode": {
    "name": "ipython",
    "version": 3
   },
   "file_extension": ".py",
   "mimetype": "text/x-python",
   "name": "python",
   "nbconvert_exporter": "python",
   "pygments_lexer": "ipython3",
   "version": "3.5.2"
  }
 },
 "nbformat": 4,
 "nbformat_minor": 2
}
