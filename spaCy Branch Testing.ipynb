{
 "cells": [
  {
   "cell_type": "code",
   "execution_count": 1,
   "metadata": {},
   "outputs": [
    {
     "name": "stdout",
     "output_type": "stream",
     "text": [
      "<Patent Document object for US20060085912A1, title: Siderail support mechanism - containing: description with 47 paragraphs and claimset with 39 claims; classifications: [<Classification A47C 21/08>]\n"
     ]
    }
   ],
   "source": [
    "#Let's get some Patent Data\n",
    "\n",
    "# We'll start with our test XML file\n",
    "from patentdata.corpus import USPublications\n",
    "\n",
    "path = '/patentdata/tests/test_files'\n",
    "ds = USPublications(path)\n",
    "\n",
    "pdoc = next(ds.iter_xml()).to_patentdoc()\n",
    "print(pdoc)"
   ]
  },
  {
   "cell_type": "code",
   "execution_count": 2,
   "metadata": {},
   "outputs": [
    {
     "data": {
      "text/plain": [
       "34  Referring now to FIGS. 7-8, the siderail support mechanism 10 is moved to a second deployed position lower than the position shown in FIGS. 3-6. With the locking plate 155 in the unlocked position of FIGS. 4-6, each of the arms 35, 50 is free to rotate about the axis of its respective lower pivot shaft 30, 45. The second deployed position of FIGS. 7-8 aligns the notches 125, 150 with the locking cogs 180, 185. If the operator releases the lock release handle 280, the lock release lever 265, under the bias of spring 285, can force the locking plate 155 back into the locked position shown in FIG. 8, with the locking cogs 180, 185 fully engaged in the respective notches 125, 150. The bushing 210, fixed to the locking plate 155, moves back into the radially extending portion 290 of the L-shaped slot 230. "
      ]
     },
     "execution_count": 2,
     "metadata": {},
     "output_type": "execute_result"
    }
   ],
   "source": [
    "pdoc.description.get_paragraph(34)"
   ]
  },
  {
   "cell_type": "code",
   "execution_count": 3,
   "metadata": {},
   "outputs": [
    {
     "data": {
      "text/plain": [
       "[(' ', 'SPACE'),\n",
       " ('Referring', 'VERB'),\n",
       " ('now', 'ADV'),\n",
       " ('to', 'ADP'),\n",
       " ('FIGS', 'PROPN'),\n",
       " ('.', 'PUNCT'),\n",
       " ('7', 'NUM'),\n",
       " ('-', 'SYM'),\n",
       " ('8', 'NUM'),\n",
       " (',', 'PUNCT'),\n",
       " ('the', 'DET'),\n",
       " ('siderail', 'NOUN'),\n",
       " ('support', 'NOUN'),\n",
       " ('mechanism', 'NOUN'),\n",
       " ('10', 'NUM'),\n",
       " ('is', 'VERB'),\n",
       " ('moved', 'VERB'),\n",
       " ('to', 'ADP'),\n",
       " ('a', 'DET'),\n",
       " ('second', 'ADJ'),\n",
       " ('deployed', 'VERB'),\n",
       " ('position', 'NOUN'),\n",
       " ('lower', 'ADJ'),\n",
       " ('than', 'ADP'),\n",
       " ('the', 'DET'),\n",
       " ('position', 'NOUN'),\n",
       " ('shown', 'VERB'),\n",
       " ('in', 'ADP'),\n",
       " ('FIGS', 'PROPN'),\n",
       " ('.', 'PUNCT'),\n",
       " ('3', 'NUM'),\n",
       " ('-', 'SYM'),\n",
       " ('6', 'NUM'),\n",
       " ('.', 'PUNCT'),\n",
       " ('With', 'ADP'),\n",
       " ('the', 'DET'),\n",
       " ('locking', 'VERB'),\n",
       " ('plate', 'NOUN'),\n",
       " ('155', 'NUM'),\n",
       " ('in', 'ADP'),\n",
       " ('the', 'DET'),\n",
       " ('unlocked', 'ADJ'),\n",
       " ('position', 'NOUN'),\n",
       " ('of', 'ADP'),\n",
       " ('FIGS', 'PROPN'),\n",
       " ('.', 'PUNCT'),\n",
       " ('4', 'NUM'),\n",
       " ('-', 'SYM'),\n",
       " ('6', 'NUM'),\n",
       " (',', 'PUNCT'),\n",
       " ('each', 'DET'),\n",
       " ('of', 'ADP'),\n",
       " ('the', 'DET'),\n",
       " ('arms', 'NOUN'),\n",
       " ('35', 'NUM'),\n",
       " (',', 'PUNCT'),\n",
       " ('50', 'NUM'),\n",
       " ('is', 'VERB'),\n",
       " ('free', 'ADJ'),\n",
       " ('to', 'PART'),\n",
       " ('rotate', 'VERB'),\n",
       " ('about', 'ADP'),\n",
       " ('the', 'DET'),\n",
       " ('axis', 'NOUN'),\n",
       " ('of', 'ADP'),\n",
       " ('its', 'ADJ'),\n",
       " ('respective', 'ADJ'),\n",
       " ('lower', 'ADJ'),\n",
       " ('pivot', 'NOUN'),\n",
       " ('shaft', 'NOUN'),\n",
       " ('30', 'NUM'),\n",
       " (',', 'PUNCT'),\n",
       " ('45', 'NUM'),\n",
       " ('.', 'PUNCT'),\n",
       " ('The', 'DET'),\n",
       " ('second', 'ADJ'),\n",
       " ('deployed', 'VERB'),\n",
       " ('position', 'NOUN'),\n",
       " ('of', 'ADP'),\n",
       " ('FIGS', 'PROPN'),\n",
       " ('.', 'PUNCT'),\n",
       " ('7', 'NUM'),\n",
       " ('-', 'SYM'),\n",
       " ('8', 'NUM'),\n",
       " ('aligns', 'VERB'),\n",
       " ('the', 'DET'),\n",
       " ('notches', 'NOUN'),\n",
       " ('125', 'NUM'),\n",
       " (',', 'PUNCT'),\n",
       " ('150', 'NUM'),\n",
       " ('with', 'ADP'),\n",
       " ('the', 'DET'),\n",
       " ('locking', 'VERB'),\n",
       " ('cogs', 'NOUN'),\n",
       " ('180', 'NUM'),\n",
       " (',', 'PUNCT'),\n",
       " ('185', 'NUM'),\n",
       " ('.', 'PUNCT'),\n",
       " ('If', 'ADP'),\n",
       " ('the', 'DET'),\n",
       " ('operator', 'NOUN'),\n",
       " ('releases', 'VERB'),\n",
       " ('the', 'DET'),\n",
       " ('lock', 'NOUN'),\n",
       " ('release', 'NOUN'),\n",
       " ('handle', 'VERB'),\n",
       " ('280', 'NUM'),\n",
       " (',', 'PUNCT'),\n",
       " ('the', 'DET'),\n",
       " ('lock', 'NOUN'),\n",
       " ('release', 'NOUN'),\n",
       " ('lever', 'NOUN'),\n",
       " ('265', 'NUM'),\n",
       " (',', 'PUNCT'),\n",
       " ('under', 'ADP'),\n",
       " ('the', 'DET'),\n",
       " ('bias', 'NOUN'),\n",
       " ('of', 'ADP'),\n",
       " ('spring', 'NOUN'),\n",
       " ('285', 'NUM'),\n",
       " (',', 'PUNCT'),\n",
       " ('can', 'VERB'),\n",
       " ('force', 'VERB'),\n",
       " ('the', 'DET'),\n",
       " ('locking', 'VERB'),\n",
       " ('plate', 'NOUN'),\n",
       " ('155', 'NUM'),\n",
       " ('back', 'ADV'),\n",
       " ('into', 'ADP'),\n",
       " ('the', 'DET'),\n",
       " ('locked', 'ADJ'),\n",
       " ('position', 'NOUN'),\n",
       " ('shown', 'VERB'),\n",
       " ('in', 'ADP'),\n",
       " ('FIG', 'PROPN'),\n",
       " ('.', 'PUNCT'),\n",
       " ('8', 'NUM'),\n",
       " (',', 'PUNCT'),\n",
       " ('with', 'ADP'),\n",
       " ('the', 'DET'),\n",
       " ('locking', 'VERB'),\n",
       " ('cogs', 'NOUN'),\n",
       " ('180', 'NUM'),\n",
       " (',', 'PUNCT'),\n",
       " ('185', 'NUM'),\n",
       " ('fully', 'ADV'),\n",
       " ('engaged', 'VERB'),\n",
       " ('in', 'ADP'),\n",
       " ('the', 'DET'),\n",
       " ('respective', 'ADJ'),\n",
       " ('notches', 'NOUN'),\n",
       " ('125', 'NUM'),\n",
       " (',', 'PUNCT'),\n",
       " ('150', 'NUM'),\n",
       " ('.', 'PUNCT'),\n",
       " ('The', 'DET'),\n",
       " ('bushing', 'VERB'),\n",
       " ('210', 'NUM'),\n",
       " (',', 'PUNCT'),\n",
       " ('fixed', 'VERB'),\n",
       " ('to', 'ADP'),\n",
       " ('the', 'DET'),\n",
       " ('locking', 'VERB'),\n",
       " ('plate', 'NOUN'),\n",
       " ('155', 'NUM'),\n",
       " (',', 'PUNCT'),\n",
       " ('moves', 'VERB'),\n",
       " ('back', 'ADV'),\n",
       " ('into', 'ADP'),\n",
       " ('the', 'DET'),\n",
       " ('radially', 'NOUN'),\n",
       " ('extending', 'VERB'),\n",
       " ('portion', 'NOUN'),\n",
       " ('290', 'NUM'),\n",
       " ('of', 'ADP'),\n",
       " ('the', 'DET'),\n",
       " ('L', 'NOUN'),\n",
       " ('-', 'PUNCT'),\n",
       " ('shaped', 'VERB'),\n",
       " ('slot', 'NOUN'),\n",
       " ('230', 'NUM'),\n",
       " ('.', 'PUNCT')]"
      ]
     },
     "execution_count": 3,
     "metadata": {},
     "output_type": "execute_result"
    }
   ],
   "source": [
    "pdoc.description.get_paragraph(34).pos"
   ]
  },
  {
   "cell_type": "code",
   "execution_count": 4,
   "metadata": {},
   "outputs": [
    {
     "data": {
      "text/plain": [
       "[ Referring now to FIGS. 7-8, the siderail support mechanism 10 is moved to a second deployed position lower than the position shown in FIGS.,\n",
       " 3-6.,\n",
       " With the locking plate 155 in the unlocked position of FIGS. 4-6, each of the arms 35, 50 is free to rotate about the axis of its respective lower pivot shaft 30, 45.,\n",
       " The second deployed position of FIGS.,\n",
       " 7-8 aligns the notches 125, 150 with the locking cogs 180, 185.,\n",
       " If the operator releases the lock release handle 280, the lock release lever 265, under the bias of spring 285, can force the locking plate 155 back into the locked position shown in FIG,\n",
       " . 8, with the locking cogs 180, 185 fully engaged in the respective notches 125, 150.,\n",
       " The bushing 210, fixed to the locking plate 155, moves back into the radially extending portion 290 of the L-shaped slot 230.]"
      ]
     },
     "execution_count": 4,
     "metadata": {},
     "output_type": "execute_result"
    }
   ],
   "source": [
    "pdoc.description.get_paragraph(34).sentences"
   ]
  },
  {
   "cell_type": "code",
   "execution_count": null,
   "metadata": {
    "collapsed": true
   },
   "outputs": [],
   "source": []
  }
 ],
 "metadata": {
  "kernelspec": {
   "display_name": "Python 3",
   "language": "python",
   "name": "python3"
  },
  "language_info": {
   "codemirror_mode": {
    "name": "ipython",
    "version": 3
   },
   "file_extension": ".py",
   "mimetype": "text/x-python",
   "name": "python",
   "nbconvert_exporter": "python",
   "pygments_lexer": "ipython3",
   "version": "3.5.2"
  }
 },
 "nbformat": 4,
 "nbformat_minor": 2
}
