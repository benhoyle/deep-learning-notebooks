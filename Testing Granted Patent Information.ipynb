{
 "cells": [
  {
   "cell_type": "markdown",
   "metadata": {},
   "source": [
    "# Testing PatentData on US Grants\n",
    "\n",
    "This notebook looks at testing the functionality of the patentdata module on granted US patents."
   ]
  },
  {
   "cell_type": "code",
   "execution_count": 1,
   "metadata": {
    "collapsed": true
   },
   "outputs": [],
   "source": [
    "from patentdata.corpus import USGrants, USPublications\n",
    "\n",
    "c = USGrants(\"/media/SAMSUNG1/US_Grants\")"
   ]
  },
  {
   "cell_type": "code",
   "execution_count": 2,
   "metadata": {},
   "outputs": [
    {
     "data": {
      "text/plain": [
       "['2011/ipg110726_reduced.zip']"
      ]
     },
     "execution_count": 2,
     "metadata": {},
     "output_type": "execute_result"
    }
   ],
   "source": [
    "path = '/patentdata/tests/test_files/Grant'\n",
    "corpus = USGrants(path)\n",
    "\n",
    "corpus.first_level_files"
   ]
  },
  {
   "cell_type": "code",
   "execution_count": 3,
   "metadata": {},
   "outputs": [
    {
     "name": "stdout",
     "output_type": "stream",
     "text": [
      "Getting archive file list - may take a while!\n",
      "\n",
      "Generating list for: 2011\n",
      "Processing file: 2011/ipg110726_reduced.zip\n"
     ]
    }
   ],
   "source": [
    "corpus.index()"
   ]
  },
  {
   "cell_type": "code",
   "execution_count": 4,
   "metadata": {},
   "outputs": [
    {
     "data": {
      "text/plain": [
       "['2011']"
      ]
     },
     "execution_count": 4,
     "metadata": {},
     "output_type": "execute_result"
    }
   ],
   "source": [
    "import patentdata.utils as utils\n",
    "import os\n",
    "\n",
    "subdirectory = utils.get_immediate_subdirectories(corpus.path)\n",
    "subdirectory"
   ]
  },
  {
   "cell_type": "code",
   "execution_count": 5,
   "metadata": {},
   "outputs": [
    {
     "data": {
      "text/plain": [
       "'2011/ipg110726_reduced.zip'"
      ]
     },
     "execution_count": 5,
     "metadata": {},
     "output_type": "execute_result"
    }
   ],
   "source": [
    "filtered_files = [\n",
    "                f for f in corpus.first_level_files\n",
    "                if subdirectory[0] in os.path.split(f) and \"SUPP\" not in f\n",
    "            ]\n",
    "filtered_files[0]"
   ]
  },
  {
   "cell_type": "code",
   "execution_count": 6,
   "metadata": {},
   "outputs": [
    {
     "data": {
      "text/plain": [
       "True"
      ]
     },
     "execution_count": 6,
     "metadata": {},
     "output_type": "execute_result"
    }
   ],
   "source": [
    "'2011' in os.path.split(corpus.first_level_files[0])"
   ]
  },
  {
   "cell_type": "code",
   "execution_count": 7,
   "metadata": {
    "collapsed": true
   },
   "outputs": [],
   "source": [
    "sl, el, xml_doc = next(corpus.read_archive_file(filtered_files[0]))"
   ]
  },
  {
   "cell_type": "code",
   "execution_count": 8,
   "metadata": {},
   "outputs": [
    {
     "name": "stdout",
     "output_type": "stream",
     "text": [
      "0 1281\n"
     ]
    }
   ],
   "source": [
    "print(sl, el)"
   ]
  },
  {
   "cell_type": "code",
   "execution_count": 9,
   "metadata": {},
   "outputs": [
    {
     "name": "stdout",
     "output_type": "stream",
     "text": [
      "{'short_number': '07984558', 'full_number': 'US07984558B2', 'kind': 'B2', 'date': datetime.datetime(2011, 7, 26, 0, 0)}\n"
     ]
    }
   ],
   "source": [
    "pub_details = xml_doc.publication_details()\n",
    "print(pub_details)"
   ]
  },
  {
   "cell_type": "code",
   "execution_count": 10,
   "metadata": {},
   "outputs": [
    {
     "data": {
      "text/plain": [
       "[('US07984558B2',\n",
       "  'US',\n",
       "  2011,\n",
       "  7984558,\n",
       "  'B2',\n",
       "  '2011/ipg110726_reduced.zip',\n",
       "  None,\n",
       "  0,\n",
       "  'G',\n",
       "  '01',\n",
       "  'B',\n",
       "  '5',\n",
       "  '008'),\n",
       " ('US07984559B2',\n",
       "  'US',\n",
       "  2011,\n",
       "  7984559,\n",
       "  'B2',\n",
       "  '2011/ipg110726_reduced.zip',\n",
       "  None,\n",
       "  1282,\n",
       "  'G',\n",
       "  '01',\n",
       "  'B',\n",
       "  '1',\n",
       "  '00')]"
      ]
     },
     "execution_count": 10,
     "metadata": {},
     "output_type": "execute_result"
    }
   ],
   "source": [
    "records = corpus.c.execute(\"SELECT * FROM files\").fetchall()\n",
    "records"
   ]
  },
  {
   "cell_type": "code",
   "execution_count": 11,
   "metadata": {},
   "outputs": [
    {
     "name": "stdout",
     "output_type": "stream",
     "text": [
      "2 records located.\n"
     ]
    }
   ],
   "source": [
    "records = corpus.get_records([\"G\"], \"start_offset\", None)"
   ]
  },
  {
   "cell_type": "code",
   "execution_count": 12,
   "metadata": {},
   "outputs": [
    {
     "name": "stdout",
     "output_type": "stream",
     "text": [
      "\n",
      "                        SELECT ROWID, filename, start_offset\n",
      "                        FROM files\n",
      "                        WHERE section = 'G' \n",
      "                        \n"
     ]
    }
   ],
   "source": [
    "query_string = utils.build_classification_query(\n",
    "            [\"G\"],\n",
    "            \"start_offset\"\n",
    "            )\n",
    "print(query_string)"
   ]
  },
  {
   "cell_type": "code",
   "execution_count": 13,
   "metadata": {
    "collapsed": true
   },
   "outputs": [],
   "source": [
    "query_string = \"\"\"SELECT ROWID, filename, start_offset FROM files\"\"\""
   ]
  },
  {
   "cell_type": "code",
   "execution_count": 14,
   "metadata": {},
   "outputs": [
    {
     "data": {
      "text/plain": [
       "<sqlite3.Cursor at 0x7f2c445e95e0>"
      ]
     },
     "execution_count": 14,
     "metadata": {},
     "output_type": "execute_result"
    }
   ],
   "source": [
    "corpus.c"
   ]
  },
  {
   "cell_type": "code",
   "execution_count": 15,
   "metadata": {},
   "outputs": [
    {
     "name": "stdout",
     "output_type": "stream",
     "text": [
      "2 records located.\n"
     ]
    }
   ],
   "source": [
    "records = corpus.c.execute(query_string).fetchall()\n",
    "no_of_records = len(records)\n",
    "print(\"{0} records located.\".format(no_of_records))"
   ]
  },
  {
   "cell_type": "code",
   "execution_count": 16,
   "metadata": {},
   "outputs": [
    {
     "data": {
      "text/plain": [
       "[(1, '2011/ipg110726_reduced.zip', 0), (2, '2011/ipg110726_reduced.zip', 1282)]"
      ]
     },
     "execution_count": 16,
     "metadata": {},
     "output_type": "execute_result"
    }
   ],
   "source": [
    "records"
   ]
  },
  {
   "cell_type": "code",
   "execution_count": 17,
   "metadata": {
    "collapsed": true
   },
   "outputs": [],
   "source": [
    "filegenerator = corpus.iter_filter_xml([\"G\"])"
   ]
  },
  {
   "cell_type": "code",
   "execution_count": 18,
   "metadata": {},
   "outputs": [
    {
     "name": "stdout",
     "output_type": "stream",
     "text": [
      "2 records located.\n"
     ]
    }
   ],
   "source": [
    "records = corpus.get_records([\"G\"], \"start_offset\", None)\n",
    "filegenerator = corpus.iter_read(records)"
   ]
  },
  {
   "cell_type": "code",
   "execution_count": 19,
   "metadata": {},
   "outputs": [
    {
     "data": {
      "text/plain": [
       "[(1, '2011/ipg110726_reduced.zip', 0), (2, '2011/ipg110726_reduced.zip', 1282)]"
      ]
     },
     "execution_count": 19,
     "metadata": {},
     "output_type": "execute_result"
    }
   ],
   "source": [
    "records"
   ]
  },
  {
   "cell_type": "code",
   "execution_count": 20,
   "metadata": {},
   "outputs": [
    {
     "name": "stdout",
     "output_type": "stream",
     "text": [
      "{'2011/ipg110726_reduced.zip': [(1, 0), (2, 1282)]}\n"
     ]
    }
   ],
   "source": [
    "filelist = records\n",
    "\n",
    "filename_groups = utils.group_filenames(filelist)\n",
    "print(filename_groups)"
   ]
  },
  {
   "cell_type": "code",
   "execution_count": 21,
   "metadata": {},
   "outputs": [
    {
     "name": "stdout",
     "output_type": "stream",
     "text": [
      "[(1, 0), (2, 1282)]\n",
      "[0, 1282]\n",
      "None\n",
      "None\n"
     ]
    }
   ],
   "source": [
    "# For each filename group\n",
    "for filename in filename_groups.keys():\n",
    "    # Get set of second level files\n",
    "    entries = filename_groups[filename]\n",
    "    print(entries)\n",
    "    print([o for _, o in entries])\n",
    "    for pub_id, filedata in corpus.filedata_generator(\n",
    "                                                    filename,\n",
    "                                                    entries\n",
    "                                                    ):\n",
    "        print(pub_id)\n",
    "        #yield pub_id, filedata"
   ]
  },
  {
   "cell_type": "code",
   "execution_count": 22,
   "metadata": {},
   "outputs": [
    {
     "name": "stdout",
     "output_type": "stream",
     "text": [
      "[0, 1282]\n",
      "ipg110726_reduced.xml\n",
      "[1282, 0]\n"
     ]
    }
   ],
   "source": [
    "import zipfile\n",
    "filename = list(filename_groups.keys())[0]\n",
    "entries = filename_groups[filename]\n",
    "offset_list = [o for _, o in entries]\n",
    "print(offset_list)\n",
    "with zipfile.ZipFile(os.path.join(corpus.path, filename), 'r') as zip_file:\n",
    "    xml_file = zip_file.namelist()[0]\n",
    "    print(xml_file)\n",
    "    offset_list.sort()\n",
    "    # Reverse list so we can pop from end\n",
    "    offset_list.reverse()\n",
    "    print(offset_list)\n",
    "    "
   ]
  },
  {
   "cell_type": "code",
   "execution_count": 23,
   "metadata": {},
   "outputs": [
    {
     "ename": "IndentationError",
     "evalue": "unexpected indent (<ipython-input-23-a7daa4d78a9f>, line 2)",
     "output_type": "error",
     "traceback": [
      "\u001b[0;36m  File \u001b[0;32m\"<ipython-input-23-a7daa4d78a9f>\"\u001b[0;36m, line \u001b[0;32m2\u001b[0m\n\u001b[0;31m    with zip_file.open(xml_file, 'r') as open_xml_file:\u001b[0m\n\u001b[0m    ^\u001b[0m\n\u001b[0;31mIndentationError\u001b[0m\u001b[0;31m:\u001b[0m unexpected indent\n"
     ]
    }
   ],
   "source": [
    "start_offset = sorted_offsets.pop()\n",
    "    with zip_file.open(xml_file, 'r') as open_xml_file:\n",
    "\n",
    "        for line_no, line in enumerate(open_xml_file):\n",
    "            if line_no < start_offset:\n",
    "                continue\n",
    "            elif line_no == start_offset:\n",
    "                data_buffer = [line]\n",
    "            elif line_no >= start_offset:\n",
    "                if line.startswith(b'<?xml '):\n",
    "                    # Get next offset if offsets\n",
    "                    if sorted_offsets:\n",
    "                        start_offset = sorted_offsets.pop()\n",
    "                    yield b''.join(data_buffer)\n",
    "                else:\n",
    "                    data_buffer.append(line)\n",
    "        yield b''.join(data_buffer)\n",
    "    \n",
    "    for filedata in get_multiple_xml_by_offset(z, offsets):\n",
    "        yield None, filedata"
   ]
  },
  {
   "cell_type": "raw",
   "metadata": {},
   "source": [
    "print(testlist.pop())"
   ]
  },
  {
   "cell_type": "code",
   "execution_count": null,
   "metadata": {
    "collapsed": true
   },
   "outputs": [],
   "source": [
    "print(testlist.pop())"
   ]
  },
  {
   "cell_type": "code",
   "execution_count": null,
   "metadata": {
    "collapsed": true
   },
   "outputs": [],
   "source": [
    "print(testlist.pop())"
   ]
  },
  {
   "cell_type": "code",
   "execution_count": null,
   "metadata": {
    "collapsed": true
   },
   "outputs": [],
   "source": [
    "print(testlist.pop())"
   ]
  },
  {
   "cell_type": "code",
   "execution_count": null,
   "metadata": {
    "collapsed": true
   },
   "outputs": [],
   "source": [
    "records[0][0]"
   ]
  },
  {
   "cell_type": "code",
   "execution_count": null,
   "metadata": {
    "collapsed": true
   },
   "outputs": [],
   "source": [
    "doc_generator = corpus.patentdoc_generator()\n",
    "doc = next(doc_generator)\n",
    "print(doc)"
   ]
  },
  {
   "cell_type": "code",
   "execution_count": null,
   "metadata": {
    "collapsed": true
   },
   "outputs": [],
   "source": []
  }
 ],
 "metadata": {
  "kernelspec": {
   "display_name": "Python 3",
   "language": "python",
   "name": "python3"
  },
  "language_info": {
   "codemirror_mode": {
    "name": "ipython",
    "version": 3
   },
   "file_extension": ".py",
   "mimetype": "text/x-python",
   "name": "python",
   "nbconvert_exporter": "python",
   "pygments_lexer": "ipython3",
   "version": "3.5.2"
  }
 },
 "nbformat": 4,
 "nbformat_minor": 2
}
