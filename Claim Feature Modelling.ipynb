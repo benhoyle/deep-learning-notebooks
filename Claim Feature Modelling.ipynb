{
 "cells": [
  {
   "cell_type": "markdown",
   "metadata": {},
   "source": [
    "# Claim Feature Modelling\n",
    "\n",
    "This notebook looks at some object models for patent claim features."
   ]
  },
  {
   "cell_type": "markdown",
   "metadata": {},
   "source": [
    "We have two main types of patent claim: apparatus and method.  \n",
    "\n",
    "The \"apparatus\" claim type includes system and kit claims. This claim covers a physical object or set of objects.\n",
    "\n",
    "The \"method\" claim type covers a method or process. It consists of a sequence of steps.\n",
    "\n",
    "A physical object has multiple parts. These may feature in the \"apparatus\" patent claim. The object or its parts may have limitations that define the structure of the object or part. An object or its parts are defined by nouns, whereas the interaction between parts is defined by verbs (commonly in the past tense). We can refer to an object, an object part, or a system or set of objects as an \"entity\".\n",
    "\n",
    "Steps of a \"method\" claim are verbs using the present participle."
   ]
  },
  {
   "cell_type": "markdown",
   "metadata": {},
   "source": [
    "Our \"apparatus\" claim may be represented as a series of nested graphs. \n",
    "\n",
    "A single graph may be represented as:\n",
    "```\n",
    "graph = { \"a\" : [\"c\"],\n",
    "          \"b\" : [\"c\", \"e\"],\n",
    "          \"c\" : [\"a\", \"b\", \"d\", \"e\"],\n",
    "          \"d\" : [\"c\"],\n",
    "          \"e\" : [\"c\", \"b\"],\n",
    "          \"f\" : []\n",
    "        }\n",
    "```\n",
    "We would have something similar, but each node would be an \"entity\" representation. "
   ]
  },
  {
   "cell_type": "code",
   "execution_count": 1,
   "metadata": {},
   "outputs": [
    {
     "name": "stdout",
     "output_type": "stream",
     "text": [
      "[1, 2, 3, 2]\n",
      "[1, 2, 2]\n"
     ]
    }
   ],
   "source": [
    "c = [1, 2, 3]\n",
    "c += [2]\n",
    "print(c)\n",
    "c.pop(2)\n",
    "print(c)"
   ]
  },
  {
   "cell_type": "code",
   "execution_count": 2,
   "metadata": {
    "collapsed": true
   },
   "outputs": [],
   "source": [
    "# Python graph class tutorial- http://www.python-course.eu/graphs_python.php\n",
    "class StringFeature:\n",
    "    \"\"\" Abstract object for a phrase or word.\n",
    "     \n",
    "     Attributes:\n",
    "        headpos - the head part of speech, e.g. noun or verb\n",
    "        tokens - tuple of (string, POS_tag)        \n",
    "    \"\"\"\n",
    "    def __init__(self, tokens):\n",
    "        \"\"\" Initialise object.\n",
    "        \n",
    "        tokens - list of tuples of (string, POS_tag)\n",
    "        \"\"\"\n",
    "        self.tokens = tokens\n",
    "    \n",
    "    def __repr__(self):\n",
    "        return \" \".join([word for word, _ in self.tokens])\n",
    "    \n",
    "    @property\n",
    "    def stringphrase(self):\n",
    "        return self.__repr__()\n",
    "    \n",
    "class ClaimFeature(StringFeature):\n",
    "    \"\"\" Abstract object for instantiating entities and steps. \n",
    "    \n",
    "    Attributes:\n",
    "        ref_num - int representing associated reference number (maybe a list?)\n",
    "        parent (? - or get from navigating children)\n",
    "        children\n",
    "        limitations\n",
    "        \n",
    "    \n",
    "    \"\"\"\n",
    "    def __init__(self, tokens):\n",
    "        \"\"\" Initialise object.\n",
    "        \n",
    "        tokens - list of tuples of (string, POS_tag)\n",
    "        \"\"\"\n",
    "        super().__init__(tokens) \n",
    "        self.children = list()\n",
    "        self.limitations = list()\n",
    "       \n",
    "    def add_child(self, child):\n",
    "        \"\"\" Add a child entity.\n",
    "        \n",
    "        child: an object of the same class\n",
    "        \"\"\"\n",
    "        # check same instance type\n",
    "        assert isinstance(child, type(self))\n",
    "        self.children.append(child)\n",
    "        return self.children\n",
    "    \n",
    "    def remove_child(self, child):\n",
    "        \"\"\" Remove a child entity.\n",
    "        \n",
    "        child: a child object to remove\n",
    "        \"\"\"\n",
    "        self.children.pop(child)\n",
    "        return self.children\n",
    "    \n",
    "    def add_limitation(self, limitation):\n",
    "        \"\"\" Add a limitation.\n",
    "        \n",
    "        limitation: a Limitation object\n",
    "        \"\"\"\n",
    "        assert isinstance(limitation, Limitation)\n",
    "        self.limitations.append(limitation)\n",
    "        return self.limitations\n",
    "    \n",
    "    def remove_limitation(self, limitation):\n",
    "        \"\"\" Remove a limitation.\n",
    "        \n",
    "       limitation: a Limitation object\n",
    "        \"\"\"\n",
    "        self.limitations.pop(limitation)\n",
    "        return self.limitations\n",
    "    \n",
    "    def prettyprint(self, object_str_single, object_str_plural):\n",
    "        \"\"\" Pretty print a representation of feature with\n",
    "        children and limitations.\n",
    "        \n",
    "        object_str_single: string to call feature instantiation \n",
    "        object_str_plural: string to call feature instantiation (plural)\n",
    "        \"\"\"\n",
    "        \n",
    "        print(\"{0}: {1}\\n\".format(object_str_single, self.__repr__()))\n",
    "        \n",
    "        print(\"Limitations:\\n\")\n",
    "        for i, limitation in enumerate(self.limitations):\n",
    "            print(\"\\t{0} - {1}\".format(i, limitation.__repr__()))\n",
    "        \n",
    "        print(\"Child {0}:\\n\".format(object_str_plural))\n",
    "        for i, child in enumerate(self.children):\n",
    "            print(\"\\t{0} - {1}\".format(i, child.__repr__()))\n",
    "    \n",
    "    \n",
    "class Entity(ClaimFeature):\n",
    "    \"\"\" Object to represent an entity in a claim. \n",
    "    \n",
    "    Attributes:\n",
    "        see ClaimFeature\n",
    "        headpos = headnoun\n",
    "    \n",
    "    \"\"\"\n",
    "    def prettyprint(self):\n",
    "        super().prettyprint(\"Entity\", \"Entities\")\n",
    "        \n",
    "\n",
    "class Step(ClaimFeature):\n",
    "    \"\"\" Object to represent a step in a claim. \n",
    "    \n",
    "    Attributes:\n",
    "        see ClaimFeature\n",
    "        headpos = headnoun\n",
    "        \n",
    "    \"\"\"\n",
    "    def prettyprint(self):\n",
    "        super().prettyprint(\"Step\", \"Steps\")\n",
    "        \n",
    "        \n",
    "class Limitation(StringFeature):\n",
    "    \"\"\" Object to represent a limitation applied to an entity or method step.\n",
    "    \n",
    "    Attributes:\n",
    "        see StringFeature\n",
    "    \n",
    "    \"\"\"\n",
    "    pass"
   ]
  },
  {
   "cell_type": "code",
   "execution_count": 3,
   "metadata": {
    "collapsed": true
   },
   "outputs": [],
   "source": [
    "class Claim:\n",
    "    \"\"\" Abstract object to represent a claim. \n",
    "    \n",
    "    Attributes:\n",
    "        features\n",
    "    \"\"\"\n",
    "    def __init__(self, features=[]):\n",
    "        \"\"\" Initialise object.\n",
    "        \n",
    "        features - list of instantiated ClaimFeature objects\n",
    "        \"\"\"\n",
    "        self.features = features\n",
    "\n",
    "class MethodClaim(Claim):\n",
    "    \"\"\" Object to represent an apparatus claim. \n",
    "    \n",
    "    Attributes:\n",
    "        steps\n",
    "    \"\"\"\n",
    "    def __init__(self, steps=[]):\n",
    "        \"\"\" Initialise object.\n",
    "        \n",
    "        steps - list of Step objects\n",
    "        \"\"\"\n",
    "        super().__init__(steps) \n",
    "        \n",
    "    @property\n",
    "    def steps(self):\n",
    "        return self.features\n",
    "\n",
    "class ApparatusClaim(Claim):\n",
    "    \"\"\" Object to represent an apparatus claim. \n",
    "    \n",
    "    Attributes:\n",
    "        entities  \n",
    "    \"\"\"\n",
    "    def __init__(self, entities=[]):\n",
    "        \"\"\" Initialise object.\n",
    "        \n",
    "        entities - list of Entity objects\n",
    "        \"\"\"\n",
    "        super().__init__(entities) \n",
    "    \n",
    "    @property\n",
    "    def entities(self):\n",
    "        return self.features"
   ]
  },
  {
   "cell_type": "code",
   "execution_count": 4,
   "metadata": {},
   "outputs": [],
   "source": [
    "a = ApparatusClaim()\n",
    "e = Entity([(\"an\", \"DET\"), (\"apparatus\", \"NOUN\")])"
   ]
  },
  {
   "cell_type": "code",
   "execution_count": 5,
   "metadata": {},
   "outputs": [
    {
     "data": {
      "text/plain": [
       "an apparatus"
      ]
     },
     "execution_count": 5,
     "metadata": {},
     "output_type": "execute_result"
    }
   ],
   "source": [
    "e"
   ]
  },
  {
   "cell_type": "code",
   "execution_count": 6,
   "metadata": {},
   "outputs": [
    {
     "data": {
      "text/plain": [
       "[an apparatus]"
      ]
     },
     "execution_count": 6,
     "metadata": {},
     "output_type": "execute_result"
    }
   ],
   "source": [
    "e.add_child(e)"
   ]
  },
  {
   "cell_type": "code",
   "execution_count": 7,
   "metadata": {},
   "outputs": [
    {
     "name": "stdout",
     "output_type": "stream",
     "text": [
      "Entity: an apparatus\n",
      "\n",
      "Limitations:\n",
      "\n",
      "Child Entities:\n",
      "\n",
      "\t0 - an apparatus\n"
     ]
    }
   ],
   "source": [
    "e.prettyprint()"
   ]
  },
  {
   "cell_type": "code",
   "execution_count": 8,
   "metadata": {},
   "outputs": [],
   "source": [
    "a.features = [e, e]"
   ]
  },
  {
   "cell_type": "code",
   "execution_count": 9,
   "metadata": {},
   "outputs": [
    {
     "data": {
      "text/plain": [
       "[an apparatus, an apparatus]"
      ]
     },
     "execution_count": 9,
     "metadata": {},
     "output_type": "execute_result"
    }
   ],
   "source": [
    "a.entities"
   ]
  },
  {
   "cell_type": "markdown",
   "metadata": {},
   "source": [
    "We could do with the init and add limitation working with strings that get converted behind the scenes?  \n",
    "\n",
    "But POS won't be accurate on string portions. But when we are drafting we will not have POS.\n",
    "\n",
    "Add child could take a string and convert into an entity/step behind the scenes?\n",
    "\n",
    "For claim printing we want to generate a string representation from the parts."
   ]
  }
 ],
 "metadata": {
  "kernelspec": {
   "display_name": "Python 3",
   "language": "python",
   "name": "python3"
  },
  "language_info": {
   "codemirror_mode": {
    "name": "ipython",
    "version": 3
   },
   "file_extension": ".py",
   "mimetype": "text/x-python",
   "name": "python",
   "nbconvert_exporter": "python",
   "pygments_lexer": "ipython3",
   "version": "3.5.2"
  }
 },
 "nbformat": 4,
 "nbformat_minor": 2
}
