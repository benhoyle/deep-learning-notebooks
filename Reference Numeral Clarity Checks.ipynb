{
 "cells": [
  {
   "cell_type": "markdown",
   "metadata": {},
   "source": [
    "# Reference Numeral Clarity Checks\n",
    "\n",
    "The aim of this notebook is to achieve functionality similar to that provided by TurboPatent in their report generation. This looks for misuse of reference numerals, e.g. if 100 is used as \"telephone 100\" and \"smartphone 100\"."
   ]
  },
  {
   "cell_type": "code",
   "execution_count": 1,
   "metadata": {},
   "outputs": [
    {
     "name": "stdout",
     "output_type": "stream",
     "text": [
      "<Patent Document object for US20060085912A1, title: Siderail support mechanism - containing: description with 47 paragraphs and claimset with 39 claims; classifications: [['A', '47', 'C', '21', '08']]\n"
     ]
    }
   ],
   "source": [
    "# We'll start with our test XML file\n",
    "from patentdata.corpus import USPublications\n",
    "\n",
    "path = '/patentdata/tests/test_files'\n",
    "ds = USPublications(path)\n",
    "\n",
    "pdoc = next(ds.iter_xml()).to_patentdoc()\n",
    "print(pdoc)"
   ]
  },
  {
   "cell_type": "code",
   "execution_count": 2,
   "metadata": {},
   "outputs": [
    {
     "data": {
      "text/plain": [
       "The mounting bracket 20 includes a first opening 25 adapted for receiving a first lower pivot shaft 30 of a first arm 35 and a second opening 40 adapted for receiving a second lower pivot shaft 45 of a second arm 50."
      ]
     },
     "execution_count": 2,
     "metadata": {},
     "output_type": "execute_result"
    }
   ],
   "source": [
    "pdoc.description.get_paragraph(26).sentences[2]"
   ]
  },
  {
   "cell_type": "code",
   "execution_count": 3,
   "metadata": {},
   "outputs": [
    {
     "name": "stdout",
     "output_type": "stream",
     "text": [
      "[('The', 'DT'), ('mounting', 'VBG'), ('bracket', 'NN'), ('20', 'CD'), ('includes', 'VBZ'), ('a', 'DT'), ('first', 'JJ'), ('opening', 'NN'), ('25', 'CD'), ('adapted', 'VBN')]\n"
     ]
    }
   ],
   "source": [
    "pos = pdoc.description.get_paragraph(26).sentences[2].pos\n",
    "print(pos[0:10])"
   ]
  },
  {
   "cell_type": "markdown",
   "metadata": {},
   "source": [
    "Our POS pattern is DT X+ CD.  "
   ]
  },
  {
   "cell_type": "markdown",
   "metadata": {},
   "source": [
    "Start by going simple and just create a function that parses the POS."
   ]
  },
  {
   "cell_type": "code",
   "execution_count": 4,
   "metadata": {},
   "outputs": [],
   "source": [
    "def entity_finder(pos_list):\n",
    "    \"\"\" Find entities with reference numerals using POS data.\"\"\"\n",
    "    entity_list = list()\n",
    "    entity = []\n",
    "    record = False\n",
    "    for i, (word, pos) in enumerate(pos_list):\n",
    "        if pos == \"DT\":\n",
    "            record = True\n",
    "            entity = []\n",
    "            \n",
    "        if record:\n",
    "            entity.append((word, pos))\n",
    "            \n",
    "        if \"FIG\" in word:\n",
    "            # reset entity to ignore phrases that refer to Figures\n",
    "            record = False\n",
    "            entity = []\n",
    "        \n",
    "        if pos == \"CD\" and entity and record and ('NN' in pos_list[i-1][1]): \n",
    "            record = False\n",
    "            entity_list.append(entity)\n",
    "    \n",
    "    return entity_list"
   ]
  },
  {
   "cell_type": "code",
   "execution_count": 5,
   "metadata": {},
   "outputs": [
    {
     "data": {
      "text/plain": [
       "[[('The', 'DT'), ('mounting', 'VBG'), ('bracket', 'NN'), ('20', 'CD')],\n",
       " [('a', 'DT'), ('first', 'JJ'), ('opening', 'NN'), ('25', 'CD')],\n",
       " [('a', 'DT'),\n",
       "  ('first', 'JJ'),\n",
       "  ('lower', 'JJR'),\n",
       "  ('pivot', 'NN'),\n",
       "  ('shaft', 'NN'),\n",
       "  ('30', 'CD')],\n",
       " [('a', 'DT'), ('first', 'JJ'), ('arm', 'NN'), ('35', 'CD')],\n",
       " [('a', 'DT'), ('second', 'JJ'), ('opening', 'NN'), ('40', 'CD')],\n",
       " [('a', 'DT'),\n",
       "  ('second', 'JJ'),\n",
       "  ('lower', 'JJR'),\n",
       "  ('pivot', 'NN'),\n",
       "  ('shaft', 'NN'),\n",
       "  ('45', 'CD')],\n",
       " [('a', 'DT'), ('second', 'JJ'), ('arm', 'NN'), ('50', 'CD')]]"
      ]
     },
     "execution_count": 5,
     "metadata": {},
     "output_type": "execute_result"
    }
   ],
   "source": [
    "entity_finder(pos)"
   ]
  },
  {
   "cell_type": "code",
   "execution_count": 6,
   "metadata": {
    "collapsed": true
   },
   "outputs": [],
   "source": [
    "def filter_entity_list(entity_list):\n",
    "    \"\"\"Filter output to remove reference to priority claims.\"\"\"\n",
    "    filter_list = list()\n",
    "    for entity in entity_list:\n",
    "        if not ({\"claims\", \"priority\", \"under\"} <= set([w for w, _ in entity])):\n",
    "            filter_list.append(entity)\n",
    "    return filter_list"
   ]
  },
  {
   "cell_type": "code",
   "execution_count": 7,
   "metadata": {},
   "outputs": [
    {
     "data": {
      "text/plain": [
       "[[('The', 'DT'), ('mounting', 'VBG'), ('bracket', 'NN'), ('20', 'CD')],\n",
       " [('a', 'DT'), ('first', 'JJ'), ('opening', 'NN'), ('25', 'CD')],\n",
       " [('a', 'DT'),\n",
       "  ('first', 'JJ'),\n",
       "  ('lower', 'JJR'),\n",
       "  ('pivot', 'NN'),\n",
       "  ('shaft', 'NN'),\n",
       "  ('30', 'CD')],\n",
       " [('a', 'DT'), ('first', 'JJ'), ('arm', 'NN'), ('35', 'CD')],\n",
       " [('a', 'DT'), ('second', 'JJ'), ('opening', 'NN'), ('40', 'CD')],\n",
       " [('a', 'DT'),\n",
       "  ('second', 'JJ'),\n",
       "  ('lower', 'JJR'),\n",
       "  ('pivot', 'NN'),\n",
       "  ('shaft', 'NN'),\n",
       "  ('45', 'CD')],\n",
       " [('a', 'DT'), ('second', 'JJ'), ('arm', 'NN'), ('50', 'CD')]]"
      ]
     },
     "execution_count": 7,
     "metadata": {},
     "output_type": "execute_result"
    }
   ],
   "source": [
    "filter_entity_list(entity_finder(pos))"
   ]
  },
  {
   "cell_type": "code",
   "execution_count": 8,
   "metadata": {},
   "outputs": [],
   "source": [
    "def print_entity_list(entity_list):\n",
    "    \"\"\"Little function to print entity list.\"\"\"\n",
    "    words = [[word for word, _ in e] for e in entity_list]\n",
    "    print([\" \".join(word_list) for word_list in words])      "
   ]
  },
  {
   "cell_type": "code",
   "execution_count": 9,
   "metadata": {},
   "outputs": [
    {
     "name": "stdout",
     "output_type": "stream",
     "text": [
      "['The mounting bracket 20', 'a first opening 25', 'a first lower pivot shaft 30', 'a first arm 35', 'a second opening 40', 'a second lower pivot shaft 45', 'a second arm 50']\n"
     ]
    }
   ],
   "source": [
    "print_entity_list(entity_finder(pos))"
   ]
  },
  {
   "cell_type": "code",
   "execution_count": 10,
   "metadata": {
    "collapsed": true
   },
   "outputs": [],
   "source": [
    "def list_entities(pdoc):\n",
    "    \"\"\" List entities in a patent document.\"\"\"\n",
    "    entities = list()\n",
    "    for para in pdoc.description.paragraphs:\n",
    "        for sentence in para.sentences:\n",
    "            entities += entity_finder(sentence.pos)\n",
    "    entities = filter_entity_list(entities)\n",
    "    print_entity_list(entities[0:10])\n",
    "    return entities"
   ]
  },
  {
   "cell_type": "code",
   "execution_count": 11,
   "metadata": {
    "scrolled": true
   },
   "outputs": [
    {
     "name": "stdout",
     "output_type": "stream",
     "text": [
      "['a siderail support mechanism 10', 'a siderail 15', 'The siderail support mechanism 10', 'a mounting bracket 20', 'a pair of fasteners 22', 'The mounting bracket 20', 'a first opening 25', 'a first lower pivot shaft 30', 'a first arm 35', 'a second opening 40']\n"
     ]
    }
   ],
   "source": [
    "entities = list_entities(pdoc)"
   ]
  },
  {
   "cell_type": "markdown",
   "metadata": {},
   "source": [
    "In my first run there were some anomalies here. These include \"This application claims priority under 35\", \"the embodiments of FIGS. 1-13\" and \"The siderail support mechanism 10\".\n",
    "\n",
    "I can tweak the parsing function to reset in \"FIG\" in word. I can also filter out entites with the phrase \"claims priority under\".  \n",
    "\n",
    "There will likely be more occurrences to filter. (We maybe also want to check for the presence of a noun (NN\\*) before the number)"
   ]
  },
  {
   "cell_type": "markdown",
   "metadata": {},
   "source": [
    "Once we have a list of entities - we need to compress them into a set and check that the reference numerals are always consistently used.  \n",
    "\n",
    "First create a set of entity N-grams. Then reverse and create a dictionary with the reference numeralas an index. Compare."
   ]
  },
  {
   "cell_type": "code",
   "execution_count": 12,
   "metadata": {},
   "outputs": [
    {
     "data": {
      "text/plain": [
       "[[('a', 'DT'),\n",
       "  ('siderail', 'JJ'),\n",
       "  ('support', 'NN'),\n",
       "  ('mechanism', 'NN'),\n",
       "  ('10', 'CD')],\n",
       " [('a', 'DT'), ('siderail', 'NN'), ('15', 'CD')],\n",
       " [('The', 'DT'),\n",
       "  ('siderail', 'JJ'),\n",
       "  ('support', 'NN'),\n",
       "  ('mechanism', 'NN'),\n",
       "  ('10', 'CD')],\n",
       " [('a', 'DT'), ('mounting', 'VBG'), ('bracket', 'NN'), ('20', 'CD')],\n",
       " [('a', 'DT'),\n",
       "  ('pair', 'NN'),\n",
       "  ('of', 'IN'),\n",
       "  ('fasteners', 'NNS'),\n",
       "  ('22', 'CD')],\n",
       " [('The', 'DT'), ('mounting', 'VBG'), ('bracket', 'NN'), ('20', 'CD')],\n",
       " [('a', 'DT'), ('first', 'JJ'), ('opening', 'NN'), ('25', 'CD')],\n",
       " [('a', 'DT'),\n",
       "  ('first', 'JJ'),\n",
       "  ('lower', 'JJR'),\n",
       "  ('pivot', 'NN'),\n",
       "  ('shaft', 'NN'),\n",
       "  ('30', 'CD')],\n",
       " [('a', 'DT'), ('first', 'JJ'), ('arm', 'NN'), ('35', 'CD')],\n",
       " [('a', 'DT'), ('second', 'JJ'), ('opening', 'NN'), ('40', 'CD')]]"
      ]
     },
     "execution_count": 12,
     "metadata": {},
     "output_type": "execute_result"
    }
   ],
   "source": [
    "entities[0:10]"
   ]
  },
  {
   "cell_type": "code",
   "execution_count": 13,
   "metadata": {},
   "outputs": [],
   "source": [
    "def get_entity_set(entity_list):\n",
    "    \"\"\" Get a set of unique entity n-grams from a list of entities.\"\"\"\n",
    "    ngram_list = list()\n",
    "    for entity in entity_list:\n",
    "        ngram_list.append(\" \".join([word for word, pos in entity if (pos != 'DT' and pos != 'CD')]))\n",
    "    return set(ngram_list)              "
   ]
  },
  {
   "cell_type": "code",
   "execution_count": 14,
   "metadata": {
    "scrolled": true
   },
   "outputs": [
    {
     "data": {
      "text/plain": [
       "{'L-shaped slot',\n",
       " 'angle',\n",
       " 'angles',\n",
       " 'anterior face',\n",
       " 'aperture',\n",
       " 'arcuate indexing slot',\n",
       " 'arms',\n",
       " 'axis of its respective lower pivot shaft',\n",
       " 'base',\n",
       " 'bias of spring',\n",
       " 'bushing',\n",
       " 'bypass plate',\n",
       " 'catch',\n",
       " 'catches',\n",
       " 'central shaft aperture',\n",
       " 'circumferential portion',\n",
       " 'collar',\n",
       " 'collar or notched lower pivot shaft',\n",
       " 'collars',\n",
       " 'cutout section',\n",
       " 'cutout sections',\n",
       " 'detent',\n",
       " 'differences found in locking plate',\n",
       " 'dog-bone locking plate',\n",
       " 'face',\n",
       " 'first and second arms',\n",
       " 'first and second lower pivot shafts',\n",
       " 'first arm',\n",
       " 'first end',\n",
       " 'first lower pivot shaft',\n",
       " 'first notch',\n",
       " 'first notches',\n",
       " 'first opening',\n",
       " 'first upper pivot shaft',\n",
       " 'indexing aperture',\n",
       " 'indexing ball bearing',\n",
       " 'indexing detent',\n",
       " 'indexing detents',\n",
       " 'indexing pin',\n",
       " 'indexing slot',\n",
       " 'inwardly projecting locking cog',\n",
       " 'lateral faces , of locking cog',\n",
       " 'lock release pin aperture',\n",
       " 'locking cog',\n",
       " 'locking cogs',\n",
       " 'locking plate',\n",
       " 'lockout pin',\n",
       " 'lockout pin aperture',\n",
       " 'lower extent',\n",
       " 'lower pivot shaft',\n",
       " 'lower pivot shafts',\n",
       " 'mounting bracket',\n",
       " 'mounting bracket first and second openings',\n",
       " 'notch',\n",
       " 'notches',\n",
       " 'oblong aperture',\n",
       " 'oblong apertures',\n",
       " 'opposing surface pairs',\n",
       " 'pair of fasteners',\n",
       " 'pair of indexing detents',\n",
       " 'pair of notches',\n",
       " 'pair of oblong apertures',\n",
       " 'pair of side walls',\n",
       " 'pivot pin',\n",
       " 'radial portion',\n",
       " 'radially extending portion',\n",
       " 'respective angle',\n",
       " 'respective collar',\n",
       " 'respective notches',\n",
       " 'second arm',\n",
       " 'second end',\n",
       " 'second lower pivot shaft',\n",
       " 'second notch',\n",
       " 'second notches',\n",
       " 'second opening',\n",
       " 'second upper pivot shaft',\n",
       " 'series of circumferentially spaced notches',\n",
       " 'shaft aperture',\n",
       " 'siderail',\n",
       " 'siderail first and second openings',\n",
       " 'siderail support mechanism',\n",
       " 'sidewalls',\n",
       " 'spring',\n",
       " 'support arms',\n",
       " 'synchronization link',\n",
       " 'synchronization link and through apertures',\n",
       " 'toggles',\n",
       " 'upper extent',\n",
       " 'washer',\n",
       " '“ dog-bone ” locking plate'}"
      ]
     },
     "execution_count": 14,
     "metadata": {},
     "output_type": "execute_result"
    }
   ],
   "source": [
    "get_entity_set(entities)"
   ]
  },
  {
   "cell_type": "code",
   "execution_count": 15,
   "metadata": {
    "collapsed": true
   },
   "outputs": [],
   "source": [
    "def get_refnum_dict(entity_list):\n",
    "    \"\"\" Get a dictionary of reference numerals indexed by entity ngram. \"\"\"\n",
    "    ngram_list = list()\n",
    "    for entity in entity_list:\n",
    "        # Add tuple of ngram without determinant and ref num to list\n",
    "        ngram_list.append(\n",
    "            (\n",
    "                \" \".join(\n",
    "                            [\n",
    "                                word for word, pos in entity if (pos != 'DT' and pos != 'CD')\n",
    "                            ]\n",
    "                        ),\n",
    "                entity[-1][0]\n",
    "            )\n",
    "        )\n",
    "    # Sort through list and generate dictionary\n",
    "    entity_dict = dict()\n",
    "    for ngram, ref_num in ngram_list:\n",
    "        if ngram not in entity_dict.keys():\n",
    "            entity_dict[ngram] = list()\n",
    "        # Check if a variation already exists\n",
    "        exists = False\n",
    "        if ref_num not in entity_dict[ngram]:\n",
    "            entity_dict[ngram].append(ref_num)\n",
    "    return entity_dict"
   ]
  },
  {
   "cell_type": "code",
   "execution_count": 16,
   "metadata": {
    "scrolled": true
   },
   "outputs": [
    {
     "name": "stdout",
     "output_type": "stream",
     "text": [
      "{'first opening': ['25', '55'], '“ dog-bone ” locking plate': ['155', '302'], 'second arm': ['50'], 'pair of fasteners': ['22'], 'arms': ['35'], 'second opening': ['40', '65'], 'second notch': ['325'], 'collars': ['315', '372'], 'second end': ['170'], 'support arms': ['35'], 'first and second lower pivot shafts': ['30', '305'], 'pair of oblong apertures': ['335'], 'pair of indexing detents': ['240'], 'locking cog': ['345', '355', '365'], 'sidewalls': ['395'], 'mounting bracket': ['20'], 'first notches': ['320'], 'pivot pin': ['270'], 'lockout pin': ['200'], 'aperture': ['282'], 'face': ['225'], 'L-shaped slot': ['230'], 'respective notches': ['120', '125'], 'anterior face': ['375'], 'indexing detent': ['245'], 'mounting bracket first and second openings': ['25'], 'circumferential portion': ['295'], 'differences found in locking plate': ['302'], 'arcuate indexing slot': ['235'], 'second lower pivot shaft': ['45', '310'], 'angles': ['405'], 'locking cogs': ['180', '345'], 'oblong apertures': ['165', '335'], 'indexing pin': ['250'], 'lower extent': ['258'], 'indexing slot': ['235'], 'first lower pivot shaft': ['30', '305'], 'washer': ['205'], 'toggles': ['75'], 'first and second arms': ['35'], 'opposing surface pairs': ['385'], 'notches': ['120', '125', '320'], 'siderail support mechanism': ['10', '100', '300'], 'inwardly projecting locking cog': ['180'], 'cutout section': ['330'], 'indexing detents': ['240'], 'bushing': ['210'], 'synchronization link and through apertures': ['110'], 'respective collar': ['315'], 'locking plate': ['155', '302', '363'], 'catches': ['350'], 'bias of spring': ['285'], 'upper extent': ['257'], 'synchronization link': ['85'], 'radially extending portion': ['290'], 'dog-bone locking plate': ['155'], 'collar or notched lower pivot shaft': ['30'], 'siderail first and second openings': ['55'], 'first arm': ['35'], 'pair of side walls': ['395'], 'pair of notches': ['145'], 'first notch': ['320'], 'oblong aperture': ['165', '175', '335', '340', '367'], 'notch': ['370'], 'angle': ['410', '405', '412', '407'], 'second notches': ['325'], 'first end': ['160'], 'central shaft aperture': ['220'], 'bypass plate': ['215'], 'lower pivot shafts': ['30', '305'], 'lateral faces , of locking cog': ['365'], 'detent': ['240', '245'], 'second upper pivot shaft': ['70'], 'axis of its respective lower pivot shaft': ['30'], 'indexing ball bearing': ['260'], 'base': ['390'], 'lower pivot shaft': ['45'], 'spring': ['285'], 'radial portion': ['290'], 'first upper pivot shaft': ['60'], 'siderail': ['15'], 'collar': ['140'], 'series of circumferentially spaced notches': ['120'], 'indexing aperture': ['255'], 'catch': ['350', '360'], 'respective angle': ['405', '410'], 'cutout sections': ['330'], 'shaft aperture': ['220'], 'lock release pin aperture': ['195'], 'lockout pin aperture': ['190']}\n"
     ]
    }
   ],
   "source": [
    "ref_num_dict = get_refnum_dict(entities)\n",
    "print(ref_num_dict)"
   ]
  },
  {
   "cell_type": "code",
   "execution_count": 17,
   "metadata": {},
   "outputs": [],
   "source": [
    "def get_entity_dict(entity_list):\n",
    "    \"\"\" Get a dictionary of entities indexed by reference numeral.\"\"\"\n",
    "    entity_dict = {}\n",
    "    for entity in entity_list:\n",
    "        ref_num = entity[-1][0]\n",
    "        if ref_num not in entity_dict.keys():\n",
    "            entity_dict[ref_num] = list()\n",
    "        # Check if a variation already exists\n",
    "        exists = False\n",
    "        n_gram = \" \".join([w for w, _ in entity[1:-1]])\n",
    "        for existing in entity_dict[ref_num]:\n",
    "            if n_gram == existing:\n",
    "                exists = True\n",
    "        if not exists:\n",
    "            entity_dict[ref_num].append(n_gram)\n",
    "    return entity_dict"
   ]
  },
  {
   "cell_type": "code",
   "execution_count": 18,
   "metadata": {},
   "outputs": [
    {
     "name": "stdout",
     "output_type": "stream",
     "text": [
      "{'407': ['angle'], '270': ['pivot pin'], '160': ['first end'], '25': ['first opening', 'mounting bracket first and second openings'], '390': ['base'], '412': ['angle'], '10': ['siderail support mechanism'], '35': ['first arm', 'first and second arms', 'arms', 'support arms'], '50': ['second arm'], '350': ['catch', 'catches'], '180': ['inwardly projecting locking cog', 'locking cogs'], '225': ['face'], '190': ['lockout pin aperture'], '282': ['aperture'], '405': ['respective angle', 'angles', 'angle'], '315': ['collars', 'respective collar'], '200': ['lockout pin'], '60': ['first upper pivot shaft'], '258': ['lower extent'], '245': ['indexing detent', 'detent'], '310': ['second lower pivot shaft'], '85': ['synchronization link'], '70': ['second upper pivot shaft'], '260': ['indexing ball bearing'], '372': ['collars'], '45': ['second lower pivot shaft', 'lower pivot shaft'], '175': ['oblong aperture'], '305': ['first lower pivot shaft', 'first and second lower pivot shafts', 'lower pivot shafts'], '165': ['oblong aperture', 'oblong apertures'], '367': ['oblong aperture'], '235': ['arcuate indexing slot', 'indexing slot'], '355': ['locking cog'], '125': ['notches', 'respective notches'], '22': ['pair of fasteners'], '30': ['first lower pivot shaft', 'first and second lower pivot shafts', 'axis of its respective lower pivot shaft', 'lower pivot shafts', 'collar 140 or notched lower pivot shaft'], '340': ['oblong aperture'], '360': ['catch'], '325': ['second notch', 'second notches'], '410': ['respective angle', 'angle'], '220': ['central shaft aperture', 'shaft aperture'], '170': ['second end'], '75': ['toggles'], '295': ['circumferential portion'], '215': ['bypass plate'], '363': ['locking plate'], '300': ['siderail support mechanism'], '140': ['collar'], '375': ['anterior face'], '155': ['“ dog-bone ” locking plate', 'dog-bone locking plate', 'locking plate'], '257': ['upper extent'], '255': ['indexing aperture'], '40': ['second opening'], '120': ['series of circumferentially spaced notches', 'notches', 'respective notches'], '15': ['siderail'], '100': ['siderail support mechanism'], '385': ['opposing surface pairs'], '302': ['“ dog-bone ” locking plate', 'differences found in locking plate', 'locking plate'], '395': ['pair of side walls', 'sidewalls'], '365': ['locking cog', 'lateral faces 380 , 385 of locking cog'], '345': ['locking cog', 'locking cogs'], '210': ['bushing'], '335': ['pair of oblong apertures', 'oblong apertures', 'oblong aperture'], '110': ['synchronization link 85 and through apertures'], '330': ['cutout section', 'cutout sections'], '145': ['pair of notches'], '230': ['L-shaped slot'], '205': ['washer'], '290': ['radially extending portion', 'radial portion'], '55': ['first opening', 'siderail first and second openings'], '65': ['second opening'], '320': ['first notch', 'first notches', 'notches'], '370': ['notch'], '195': ['lock release pin aperture'], '285': ['spring', 'bias of spring'], '240': ['pair of indexing detents', 'indexing detents', 'detent'], '250': ['indexing pin'], '20': ['mounting bracket']}\n"
     ]
    }
   ],
   "source": [
    "entity_dict = get_entity_dict(entities)\n",
    "print(entity_dict)"
   ]
  },
  {
   "cell_type": "code",
   "execution_count": 19,
   "metadata": {
    "scrolled": true
   },
   "outputs": [
    {
     "name": "stdout",
     "output_type": "stream",
     "text": [
      "10:['siderail support mechanism']\n",
      "15:['siderail']\n",
      "20:['mounting bracket']\n",
      "22:['pair of fasteners']\n",
      "25:['first opening', 'mounting bracket first and second openings']\n",
      "30:['first lower pivot shaft', 'first and second lower pivot shafts', 'axis of its respective lower pivot shaft', 'lower pivot shafts', 'collar 140 or notched lower pivot shaft']\n",
      "35:['first arm', 'first and second arms', 'arms', 'support arms']\n",
      "40:['second opening']\n",
      "45:['second lower pivot shaft', 'lower pivot shaft']\n",
      "50:['second arm']\n",
      "55:['first opening', 'siderail first and second openings']\n",
      "60:['first upper pivot shaft']\n",
      "65:['second opening']\n",
      "70:['second upper pivot shaft']\n",
      "75:['toggles']\n",
      "85:['synchronization link']\n",
      "100:['siderail support mechanism']\n",
      "110:['synchronization link 85 and through apertures']\n",
      "120:['series of circumferentially spaced notches', 'notches', 'respective notches']\n",
      "125:['notches', 'respective notches']\n",
      "140:['collar']\n",
      "145:['pair of notches']\n",
      "155:['“ dog-bone ” locking plate', 'dog-bone locking plate', 'locking plate']\n",
      "160:['first end']\n",
      "165:['oblong aperture', 'oblong apertures']\n",
      "170:['second end']\n",
      "175:['oblong aperture']\n",
      "180:['inwardly projecting locking cog', 'locking cogs']\n",
      "190:['lockout pin aperture']\n",
      "195:['lock release pin aperture']\n",
      "200:['lockout pin']\n",
      "205:['washer']\n",
      "210:['bushing']\n",
      "215:['bypass plate']\n",
      "220:['central shaft aperture', 'shaft aperture']\n",
      "225:['face']\n",
      "230:['L-shaped slot']\n",
      "235:['arcuate indexing slot', 'indexing slot']\n",
      "240:['pair of indexing detents', 'indexing detents', 'detent']\n",
      "245:['indexing detent', 'detent']\n",
      "250:['indexing pin']\n",
      "255:['indexing aperture']\n",
      "257:['upper extent']\n",
      "258:['lower extent']\n",
      "260:['indexing ball bearing']\n",
      "270:['pivot pin']\n",
      "282:['aperture']\n",
      "285:['spring', 'bias of spring']\n",
      "290:['radially extending portion', 'radial portion']\n",
      "295:['circumferential portion']\n",
      "300:['siderail support mechanism']\n",
      "302:['“ dog-bone ” locking plate', 'differences found in locking plate', 'locking plate']\n",
      "305:['first lower pivot shaft', 'first and second lower pivot shafts', 'lower pivot shafts']\n",
      "310:['second lower pivot shaft']\n",
      "315:['collars', 'respective collar']\n",
      "320:['first notch', 'first notches', 'notches']\n",
      "325:['second notch', 'second notches']\n",
      "330:['cutout section', 'cutout sections']\n",
      "335:['pair of oblong apertures', 'oblong apertures', 'oblong aperture']\n",
      "340:['oblong aperture']\n",
      "345:['locking cog', 'locking cogs']\n",
      "350:['catch', 'catches']\n",
      "355:['locking cog']\n",
      "360:['catch']\n",
      "363:['locking plate']\n",
      "365:['locking cog', 'lateral faces 380 , 385 of locking cog']\n",
      "367:['oblong aperture']\n",
      "370:['notch']\n",
      "372:['collars']\n",
      "375:['anterior face']\n",
      "385:['opposing surface pairs']\n",
      "390:['base']\n",
      "395:['pair of side walls', 'sidewalls']\n",
      "405:['respective angle', 'angles', 'angle']\n",
      "407:['angle']\n",
      "410:['respective angle', 'angle']\n",
      "412:['angle']\n"
     ]
    }
   ],
   "source": [
    "for key in sorted([int(k) for k in entity_dict.keys()]):\n",
    "    print(\"{0}:{1}\".format(key, entity_dict[str(key)]))"
   ]
  },
  {
   "cell_type": "code",
   "execution_count": 20,
   "metadata": {
    "collapsed": true
   },
   "outputs": [],
   "source": [
    "def highlight_multiple(entity_dict):\n",
    "    \"\"\" Highlight reference numerals used for multiple entities. \"\"\"\n",
    "    for key, value in entity_dict.items():\n",
    "        if len(value) > 1:\n",
    "            print(key, value)"
   ]
  },
  {
   "cell_type": "code",
   "execution_count": 21,
   "metadata": {},
   "outputs": [
    {
     "name": "stdout",
     "output_type": "stream",
     "text": [
      "25 ['first opening', 'mounting bracket first and second openings']\n",
      "35 ['first arm', 'first and second arms', 'arms', 'support arms']\n",
      "350 ['catch', 'catches']\n",
      "180 ['inwardly projecting locking cog', 'locking cogs']\n",
      "405 ['respective angle', 'angles', 'angle']\n",
      "315 ['collars', 'respective collar']\n",
      "245 ['indexing detent', 'detent']\n",
      "45 ['second lower pivot shaft', 'lower pivot shaft']\n",
      "305 ['first lower pivot shaft', 'first and second lower pivot shafts', 'lower pivot shafts']\n",
      "165 ['oblong aperture', 'oblong apertures']\n",
      "235 ['arcuate indexing slot', 'indexing slot']\n",
      "125 ['notches', 'respective notches']\n",
      "30 ['first lower pivot shaft', 'first and second lower pivot shafts', 'axis of its respective lower pivot shaft', 'lower pivot shafts', 'collar 140 or notched lower pivot shaft']\n",
      "325 ['second notch', 'second notches']\n",
      "410 ['respective angle', 'angle']\n",
      "220 ['central shaft aperture', 'shaft aperture']\n",
      "155 ['“ dog-bone ” locking plate', 'dog-bone locking plate', 'locking plate']\n",
      "120 ['series of circumferentially spaced notches', 'notches', 'respective notches']\n",
      "302 ['“ dog-bone ” locking plate', 'differences found in locking plate', 'locking plate']\n",
      "395 ['pair of side walls', 'sidewalls']\n",
      "365 ['locking cog', 'lateral faces 380 , 385 of locking cog']\n",
      "345 ['locking cog', 'locking cogs']\n",
      "335 ['pair of oblong apertures', 'oblong apertures', 'oblong aperture']\n",
      "330 ['cutout section', 'cutout sections']\n",
      "290 ['radially extending portion', 'radial portion']\n",
      "55 ['first opening', 'siderail first and second openings']\n",
      "320 ['first notch', 'first notches', 'notches']\n",
      "285 ['spring', 'bias of spring']\n",
      "240 ['pair of indexing detents', 'indexing detents', 'detent']\n"
     ]
    }
   ],
   "source": [
    "highlight_multiple(get_entity_dict(entities))"
   ]
  },
  {
   "cell_type": "markdown",
   "metadata": {},
   "source": [
    "Now we can cross-check the two dictionaries..."
   ]
  },
  {
   "cell_type": "code",
   "execution_count": 22,
   "metadata": {},
   "outputs": [
    {
     "name": "stdout",
     "output_type": "stream",
     "text": [
      "first opening [['first opening', 'mounting bracket first and second openings'], ['first opening', 'siderail first and second openings']]\n",
      "“ dog-bone ” locking plate [['“ dog-bone ” locking plate', 'dog-bone locking plate', 'locking plate'], ['“ dog-bone ” locking plate', 'differences found in locking plate', 'locking plate']]\n",
      "second arm [['second arm']]\n",
      "pair of fasteners [['pair of fasteners']]\n",
      "arms [['first arm', 'first and second arms', 'arms', 'support arms']]\n",
      "second opening [['second opening'], ['second opening']]\n",
      "second notch [['second notch', 'second notches']]\n",
      "collars [['collars', 'respective collar'], ['collars']]\n",
      "second end [['second end']]\n",
      "support arms [['first arm', 'first and second arms', 'arms', 'support arms']]\n",
      "first and second lower pivot shafts [['first lower pivot shaft', 'first and second lower pivot shafts', 'axis of its respective lower pivot shaft', 'lower pivot shafts', 'collar 140 or notched lower pivot shaft'], ['first lower pivot shaft', 'first and second lower pivot shafts', 'lower pivot shafts']]\n",
      "pair of oblong apertures [['pair of oblong apertures', 'oblong apertures', 'oblong aperture']]\n",
      "pair of indexing detents [['pair of indexing detents', 'indexing detents', 'detent']]\n",
      "locking cog [['locking cog', 'locking cogs'], ['locking cog'], ['locking cog', 'lateral faces 380 , 385 of locking cog']]\n",
      "sidewalls [['pair of side walls', 'sidewalls']]\n",
      "mounting bracket [['mounting bracket']]\n",
      "first notches [['first notch', 'first notches', 'notches']]\n",
      "pivot pin [['pivot pin']]\n",
      "lockout pin [['lockout pin']]\n",
      "aperture [['aperture']]\n",
      "face [['face']]\n",
      "L-shaped slot [['L-shaped slot']]\n",
      "respective notches [['series of circumferentially spaced notches', 'notches', 'respective notches'], ['notches', 'respective notches']]\n",
      "anterior face [['anterior face']]\n",
      "indexing detent [['indexing detent', 'detent']]\n",
      "mounting bracket first and second openings [['first opening', 'mounting bracket first and second openings']]\n",
      "circumferential portion [['circumferential portion']]\n",
      "differences found in locking plate [['“ dog-bone ” locking plate', 'differences found in locking plate', 'locking plate']]\n",
      "arcuate indexing slot [['arcuate indexing slot', 'indexing slot']]\n",
      "second lower pivot shaft [['second lower pivot shaft', 'lower pivot shaft'], ['second lower pivot shaft']]\n",
      "angles [['respective angle', 'angles', 'angle']]\n",
      "locking cogs [['inwardly projecting locking cog', 'locking cogs'], ['locking cog', 'locking cogs']]\n",
      "oblong apertures [['oblong aperture', 'oblong apertures'], ['pair of oblong apertures', 'oblong apertures', 'oblong aperture']]\n",
      "indexing pin [['indexing pin']]\n",
      "lower extent [['lower extent']]\n",
      "indexing slot [['arcuate indexing slot', 'indexing slot']]\n",
      "first lower pivot shaft [['first lower pivot shaft', 'first and second lower pivot shafts', 'axis of its respective lower pivot shaft', 'lower pivot shafts', 'collar 140 or notched lower pivot shaft'], ['first lower pivot shaft', 'first and second lower pivot shafts', 'lower pivot shafts']]\n",
      "washer [['washer']]\n",
      "toggles [['toggles']]\n",
      "first and second arms [['first arm', 'first and second arms', 'arms', 'support arms']]\n",
      "opposing surface pairs [['opposing surface pairs']]\n",
      "notches [['series of circumferentially spaced notches', 'notches', 'respective notches'], ['notches', 'respective notches'], ['first notch', 'first notches', 'notches']]\n",
      "siderail support mechanism [['siderail support mechanism'], ['siderail support mechanism'], ['siderail support mechanism']]\n",
      "inwardly projecting locking cog [['inwardly projecting locking cog', 'locking cogs']]\n",
      "cutout section [['cutout section', 'cutout sections']]\n",
      "indexing detents [['pair of indexing detents', 'indexing detents', 'detent']]\n",
      "bushing [['bushing']]\n",
      "synchronization link and through apertures [['synchronization link 85 and through apertures']]\n",
      "respective collar [['collars', 'respective collar']]\n",
      "locking plate [['“ dog-bone ” locking plate', 'dog-bone locking plate', 'locking plate'], ['“ dog-bone ” locking plate', 'differences found in locking plate', 'locking plate'], ['locking plate']]\n",
      "catches [['catch', 'catches']]\n",
      "bias of spring [['spring', 'bias of spring']]\n",
      "upper extent [['upper extent']]\n",
      "synchronization link [['synchronization link']]\n",
      "radially extending portion [['radially extending portion', 'radial portion']]\n",
      "dog-bone locking plate [['“ dog-bone ” locking plate', 'dog-bone locking plate', 'locking plate']]\n",
      "collar or notched lower pivot shaft [['first lower pivot shaft', 'first and second lower pivot shafts', 'axis of its respective lower pivot shaft', 'lower pivot shafts', 'collar 140 or notched lower pivot shaft']]\n",
      "siderail first and second openings [['first opening', 'siderail first and second openings']]\n",
      "first arm [['first arm', 'first and second arms', 'arms', 'support arms']]\n",
      "pair of side walls [['pair of side walls', 'sidewalls']]\n",
      "pair of notches [['pair of notches']]\n",
      "first notch [['first notch', 'first notches', 'notches']]\n",
      "oblong aperture [['oblong aperture', 'oblong apertures'], ['oblong aperture'], ['pair of oblong apertures', 'oblong apertures', 'oblong aperture'], ['oblong aperture'], ['oblong aperture']]\n",
      "notch [['notch']]\n",
      "angle [['respective angle', 'angle'], ['respective angle', 'angles', 'angle'], ['angle'], ['angle']]\n",
      "second notches [['second notch', 'second notches']]\n",
      "first end [['first end']]\n",
      "central shaft aperture [['central shaft aperture', 'shaft aperture']]\n",
      "bypass plate [['bypass plate']]\n",
      "lower pivot shafts [['first lower pivot shaft', 'first and second lower pivot shafts', 'axis of its respective lower pivot shaft', 'lower pivot shafts', 'collar 140 or notched lower pivot shaft'], ['first lower pivot shaft', 'first and second lower pivot shafts', 'lower pivot shafts']]\n",
      "lateral faces , of locking cog [['locking cog', 'lateral faces 380 , 385 of locking cog']]\n",
      "detent [['pair of indexing detents', 'indexing detents', 'detent'], ['indexing detent', 'detent']]\n",
      "second upper pivot shaft [['second upper pivot shaft']]\n",
      "axis of its respective lower pivot shaft [['first lower pivot shaft', 'first and second lower pivot shafts', 'axis of its respective lower pivot shaft', 'lower pivot shafts', 'collar 140 or notched lower pivot shaft']]\n",
      "indexing ball bearing [['indexing ball bearing']]\n",
      "base [['base']]\n",
      "lower pivot shaft [['second lower pivot shaft', 'lower pivot shaft']]\n",
      "spring [['spring', 'bias of spring']]\n",
      "radial portion [['radially extending portion', 'radial portion']]\n",
      "first upper pivot shaft [['first upper pivot shaft']]\n",
      "siderail [['siderail']]\n",
      "collar [['collar']]\n",
      "series of circumferentially spaced notches [['series of circumferentially spaced notches', 'notches', 'respective notches']]\n",
      "indexing aperture [['indexing aperture']]\n",
      "catch [['catch', 'catches'], ['catch']]\n",
      "respective angle [['respective angle', 'angles', 'angle'], ['respective angle', 'angle']]\n",
      "cutout sections [['cutout section', 'cutout sections']]\n",
      "shaft aperture [['central shaft aperture', 'shaft aperture']]\n",
      "lock release pin aperture [['lock release pin aperture']]\n",
      "lockout pin aperture [['lockout pin aperture']]\n"
     ]
    }
   ],
   "source": [
    "for ngram, ref_numerals in ref_num_dict.items():\n",
    "    print(ngram, [entity_dict.get(ref_num) for ref_num in ref_numerals])  "
   ]
  },
  {
   "cell_type": "code",
   "execution_count": 23,
   "metadata": {},
   "outputs": [
    {
     "name": "stdout",
     "output_type": "stream",
     "text": [
      "407 [['410', '405', '412', '407']]\n",
      "270 [['270']]\n",
      "160 [['160']]\n",
      "25 [['25', '55'], ['25']]\n",
      "390 [['390']]\n",
      "412 [['410', '405', '412', '407']]\n",
      "10 [['10', '100', '300']]\n",
      "35 [['35'], ['35'], ['35'], ['35']]\n",
      "50 [['50']]\n",
      "350 [['350', '360'], ['350']]\n",
      "180 [['180'], ['180', '345']]\n",
      "225 [['225']]\n",
      "190 [['190']]\n",
      "282 [['282']]\n",
      "405 [['405', '410'], ['405'], ['410', '405', '412', '407']]\n",
      "315 [['315', '372'], ['315']]\n",
      "200 [['200']]\n",
      "60 [['60']]\n",
      "258 [['258']]\n",
      "245 [['245'], ['240', '245']]\n",
      "310 [['45', '310']]\n",
      "85 [['85']]\n",
      "70 [['70']]\n",
      "260 [['260']]\n",
      "372 [['315', '372']]\n",
      "45 [['45', '310'], ['45']]\n",
      "175 [['165', '175', '335', '340', '367']]\n",
      "305 [['30', '305'], ['30', '305'], ['30', '305']]\n",
      "165 [['165', '175', '335', '340', '367'], ['165', '335']]\n",
      "367 [['165', '175', '335', '340', '367']]\n",
      "235 [['235'], ['235']]\n",
      "355 [['345', '355', '365']]\n",
      "125 [['120', '125', '320'], ['120', '125']]\n",
      "22 [['22']]\n",
      "30 [['30', '305'], ['30', '305'], ['30'], ['30', '305'], None]\n",
      "340 [['165', '175', '335', '340', '367']]\n",
      "360 [['350', '360']]\n",
      "325 [['325'], ['325']]\n",
      "410 [['405', '410'], ['410', '405', '412', '407']]\n",
      "220 [['220'], ['220']]\n",
      "170 [['170']]\n",
      "75 [['75']]\n",
      "295 [['295']]\n",
      "215 [['215']]\n",
      "363 [['155', '302', '363']]\n",
      "300 [['10', '100', '300']]\n",
      "140 [['140']]\n",
      "375 [['375']]\n",
      "155 [['155', '302'], ['155'], ['155', '302', '363']]\n",
      "257 [['257']]\n",
      "255 [['255']]\n",
      "40 [['40', '65']]\n",
      "120 [['120'], ['120', '125', '320'], ['120', '125']]\n",
      "15 [['15']]\n",
      "100 [['10', '100', '300']]\n",
      "385 [['385']]\n",
      "302 [['155', '302'], ['302'], ['155', '302', '363']]\n",
      "395 [['395'], ['395']]\n",
      "365 [['345', '355', '365'], None]\n",
      "345 [['345', '355', '365'], ['180', '345']]\n",
      "210 [['210']]\n",
      "335 [['335'], ['165', '335'], ['165', '175', '335', '340', '367']]\n",
      "110 [None]\n",
      "330 [['330'], ['330']]\n",
      "145 [['145']]\n",
      "230 [['230']]\n",
      "205 [['205']]\n",
      "290 [['290'], ['290']]\n",
      "55 [['25', '55'], ['55']]\n",
      "65 [['40', '65']]\n",
      "320 [['320'], ['320'], ['120', '125', '320']]\n",
      "370 [['370']]\n",
      "195 [['195']]\n",
      "285 [['285'], ['285']]\n",
      "240 [['240'], ['240'], ['240', '245']]\n",
      "250 [['250']]\n",
      "20 [['20']]\n"
     ]
    }
   ],
   "source": [
    "# Or the other way around\n",
    "for ref_num, ngrams in entity_dict.items():\n",
    "    print(ref_num, [ref_num_dict.get(ng) for ng in ngrams])  "
   ]
  },
  {
   "cell_type": "markdown",
   "metadata": {},
   "source": [
    "## Add as PatentData Functions"
   ]
  },
  {
   "cell_type": "code",
   "execution_count": 24,
   "metadata": {
    "scrolled": true
   },
   "outputs": [
    {
     "data": {
      "text/plain": [
       "{'10': ['siderail support mechanism'],\n",
       " '100': ['siderail support mechanism'],\n",
       " '110': ['synchronization link 85 and through apertures'],\n",
       " '120': ['series of circumferentially spaced notches',\n",
       "  'notches',\n",
       "  'respective notches'],\n",
       " '125': ['notches', 'respective notches'],\n",
       " '140': ['collar'],\n",
       " '145': ['pair of notches'],\n",
       " '15': ['siderail'],\n",
       " '155': ['“ dog-bone ” locking plate',\n",
       "  'dog-bone locking plate',\n",
       "  'locking plate'],\n",
       " '160': ['first end'],\n",
       " '165': ['oblong aperture', 'oblong apertures'],\n",
       " '170': ['second end'],\n",
       " '175': ['oblong aperture'],\n",
       " '180': ['inwardly projecting locking cog', 'locking cogs'],\n",
       " '190': ['lockout pin aperture'],\n",
       " '195': ['lock release pin aperture'],\n",
       " '20': ['mounting bracket'],\n",
       " '200': ['lockout pin'],\n",
       " '205': ['washer'],\n",
       " '210': ['bushing'],\n",
       " '215': ['bypass plate'],\n",
       " '22': ['pair of fasteners'],\n",
       " '220': ['central shaft aperture', 'shaft aperture'],\n",
       " '225': ['face'],\n",
       " '230': ['L-shaped slot'],\n",
       " '235': ['arcuate indexing slot', 'indexing slot'],\n",
       " '240': ['pair of indexing detents', 'indexing detents', 'detent'],\n",
       " '245': ['indexing detent', 'detent'],\n",
       " '25': ['first opening', 'mounting bracket first and second openings'],\n",
       " '250': ['indexing pin'],\n",
       " '255': ['indexing aperture'],\n",
       " '257': ['upper extent'],\n",
       " '258': ['lower extent'],\n",
       " '260': ['indexing ball bearing'],\n",
       " '270': ['pivot pin'],\n",
       " '282': ['aperture'],\n",
       " '285': ['spring', 'bias of spring'],\n",
       " '290': ['radially extending portion', 'radial portion'],\n",
       " '295': ['circumferential portion'],\n",
       " '30': ['first lower pivot shaft',\n",
       "  'first and second lower pivot shafts',\n",
       "  'axis of its respective lower pivot shaft',\n",
       "  'lower pivot shafts',\n",
       "  'collar 140 or notched lower pivot shaft'],\n",
       " '300': ['siderail support mechanism'],\n",
       " '302': ['“ dog-bone ” locking plate',\n",
       "  'differences found in locking plate',\n",
       "  'locking plate'],\n",
       " '305': ['first lower pivot shaft',\n",
       "  'first and second lower pivot shafts',\n",
       "  'lower pivot shafts'],\n",
       " '310': ['second lower pivot shaft'],\n",
       " '315': ['collars', 'respective collar'],\n",
       " '320': ['first notch', 'first notches', 'notches'],\n",
       " '325': ['second notch', 'second notches'],\n",
       " '330': ['cutout section', 'cutout sections'],\n",
       " '335': ['pair of oblong apertures', 'oblong apertures', 'oblong aperture'],\n",
       " '340': ['oblong aperture'],\n",
       " '345': ['locking cog', 'locking cogs'],\n",
       " '35': ['first arm', 'first and second arms', 'arms', 'support arms'],\n",
       " '350': ['catch', 'catches'],\n",
       " '355': ['locking cog'],\n",
       " '360': ['catch'],\n",
       " '363': ['locking plate'],\n",
       " '365': ['locking cog', 'lateral faces 380 , 385 of locking cog'],\n",
       " '367': ['oblong aperture'],\n",
       " '370': ['notch'],\n",
       " '372': ['collars'],\n",
       " '375': ['anterior face'],\n",
       " '385': ['opposing surface pairs'],\n",
       " '390': ['base'],\n",
       " '395': ['pair of side walls', 'sidewalls'],\n",
       " '40': ['second opening'],\n",
       " '405': ['respective angle', 'angles', 'angle'],\n",
       " '407': ['angle'],\n",
       " '410': ['respective angle', 'angle'],\n",
       " '412': ['angle'],\n",
       " '45': ['second lower pivot shaft', 'lower pivot shaft'],\n",
       " '50': ['second arm'],\n",
       " '55': ['first opening', 'siderail first and second openings'],\n",
       " '60': ['first upper pivot shaft'],\n",
       " '65': ['second opening'],\n",
       " '70': ['second upper pivot shaft'],\n",
       " '75': ['toggles'],\n",
       " '85': ['synchronization link']}"
      ]
     },
     "execution_count": 24,
     "metadata": {},
     "output_type": "execute_result"
    }
   ],
   "source": [
    "# Add as functions to patent document model\n",
    "pdoc.description.entities"
   ]
  },
  {
   "cell_type": "code",
   "execution_count": 25,
   "metadata": {},
   "outputs": [
    {
     "name": "stdout",
     "output_type": "stream",
     "text": [
      "25 ['first opening', 'mounting bracket first and second openings']\n",
      "35 ['first arm', 'first and second arms', 'arms', 'support arms']\n",
      "350 ['catch', 'catches']\n",
      "180 ['inwardly projecting locking cog', 'locking cogs']\n",
      "405 ['respective angle', 'angles', 'angle']\n",
      "315 ['collars', 'respective collar']\n",
      "245 ['indexing detent', 'detent']\n",
      "45 ['second lower pivot shaft', 'lower pivot shaft']\n",
      "305 ['first lower pivot shaft', 'first and second lower pivot shafts', 'lower pivot shafts']\n",
      "165 ['oblong aperture', 'oblong apertures']\n",
      "235 ['arcuate indexing slot', 'indexing slot']\n",
      "125 ['notches', 'respective notches']\n",
      "30 ['first lower pivot shaft', 'first and second lower pivot shafts', 'axis of its respective lower pivot shaft', 'lower pivot shafts', 'collar 140 or notched lower pivot shaft']\n",
      "325 ['second notch', 'second notches']\n",
      "410 ['respective angle', 'angle']\n",
      "220 ['central shaft aperture', 'shaft aperture']\n",
      "155 ['“ dog-bone ” locking plate', 'dog-bone locking plate', 'locking plate']\n",
      "120 ['series of circumferentially spaced notches', 'notches', 'respective notches']\n",
      "302 ['“ dog-bone ” locking plate', 'differences found in locking plate', 'locking plate']\n",
      "395 ['pair of side walls', 'sidewalls']\n",
      "365 ['locking cog', 'lateral faces 380 , 385 of locking cog']\n",
      "345 ['locking cog', 'locking cogs']\n",
      "335 ['pair of oblong apertures', 'oblong apertures', 'oblong aperture']\n",
      "330 ['cutout section', 'cutout sections']\n",
      "290 ['radially extending portion', 'radial portion']\n",
      "55 ['first opening', 'siderail first and second openings']\n",
      "320 ['first notch', 'first notches', 'notches']\n",
      "285 ['spring', 'bias of spring']\n",
      "240 ['pair of indexing detents', 'indexing detents', 'detent']\n"
     ]
    }
   ],
   "source": [
    "pdoc.description.entity_check()"
   ]
  },
  {
   "cell_type": "markdown",
   "metadata": {},
   "source": [
    "To do:  \n",
    "* We need to handle multiple reference numerals, e.g. lines such as \"siderail first and second openings 55, 65\""
   ]
  },
  {
   "cell_type": "markdown",
   "metadata": {},
   "source": [
    "## Testing on Other Patent Specifications"
   ]
  },
  {
   "cell_type": "code",
   "execution_count": 26,
   "metadata": {
    "collapsed": true
   },
   "outputs": [],
   "source": [
    "path2 = '/media/SAMSUNG1/Patent_Downloads'\n",
    "ds2 = USPublications(path2)\n",
    "\n",
    "pdoc_generator = ds2.patentdoc_generator(classification=[\"G\",\"06\"], sample_size=5)"
   ]
  },
  {
   "cell_type": "code",
   "execution_count": 27,
   "metadata": {},
   "outputs": [
    {
     "name": "stdout",
     "output_type": "stream",
     "text": [
      "554570 records located.\n",
      "5 records sampled.\n",
      "345 ['additional storage bay or compartment configured to receive physical media', 'physical media']\n",
      "460 ['mechanism', 'media compartment']\n",
      "145 ['physical media', 'media compartment']\n",
      "105 ['near-infrared illumination source', 'near-infrared illumination sources']\n",
      "131 ['“ unit group', 'unit group']\n",
      "1 ['following Expression', '“ scanning direction', 'scanning direction']\n",
      "3 ['LOG filter ( Expression', 'following Expression']\n",
      "12 ['directivity of direct light', 'direct light']\n",
      "2 ['Gaussian filter ( Expression', 'following Expression', 'Gaussian function as in Expression', '“ scanning direction', 'scanning direction']\n",
      "111 ['plurality of photoreceptors', 'photoreceptor', 'photoreceptors', 'nine photoreceptors', 'case that nine ( 3×3 ) photoreceptors', 'two photoreceptors']\n",
      "103 ['plurality of microlenses', 'microlenses', 'microlens', 'respective microlenses', 'adjacent microlenses']\n",
      "100 ['time ) 98 Socket TX ram interface', 'memory arbitrator']\n",
      "10 ['communications processor', 'communication processor']\n",
      "118 ['MAC send and receive buffers', 'MAC transmit and receive buffers', 'MAC buffers']\n",
      "38 ['ADPCM accelerator engine', 'specialized data and protocol processing modules']\n",
      "50 ['network stack', 'network stack logic']\n",
      "1 ['text “ Internetworking with TCP/IP ” by Douglas E. Comer ( volume', 'text “ TCP/IP Illustrated ” by W. Richard Stevens ( volume']\n",
      "52 ['MAC interface', 'external MAC interface', 'Ethernet MAC interface', 'internal media access controller ( MAC ) interface', 'preferred MAC interface']\n",
      "152 ['telephone-line or dialup link', 'telephone-line link']\n",
      "30 ['internal 32 KB memory', 'internal ( integrated or on-chip ) 32 KB RAM', 'internal RAM', 'internal 32 KB RAM', 'protocol engine internal RAM', 'internal memory', 'protocol engine internal memory', 'lower 4 KB IP filter memory data packets may be copied to or from internal memory']\n",
      "13 ['external ROM', 'optional external ROM']\n",
      "134 ['SPI bus interface ) 130 Signal mux ( switches external data-link interface between MII interface , IP-only mode interface , or external MAC interface ) 132 MAC receive buffer', '4 KB RAM receive buffer', 'MAC transmit buffer']\n",
      "42 ['G3 encoder engine', 'G3 engine', 'G3 encoder']\n",
      "48 ['26 KB internal RAM', 'network stack memory']\n",
      "6 ['external modem interface', 'modem interface']\n",
      "140 ['port on www.iready.com', 'return packet from www.iready.com']\n",
      "40 ['base64 encoder and decoder', 'Base64 encoder and decoder']\n",
      "62 ['MIME string search engine', 'Mime string search engine']\n",
      "80 ['protocol engine interface module', 'protocol engine interface']\n",
      "15 ['PHY', 'external PHY']\n",
      "120 ['MAC buffer control', 'MAC buffer controller']\n",
      "92 ['next hop ) 90 IP filter engine', 'IP router-bottom module', 'IP Router Bottom', 'IP router-bottom engine']\n",
      "84 ['TCP/UDP module', 'TCP/IP engine', 'TCP/UDP engine', 'TCP engine']\n",
      "34 ['protocol engine or auxiliary microprocessor', 'protocol engine']\n",
      "2 ['static entry ( see Table', 'external CPU , microprocessor , or microcontroller interface']\n",
      "104 ['IP raw multiplexor ( mux ) module', 'IP raw mux', 'PPP data link path ) and IP raw mux']\n",
      "64 ['text rasterizer engine', 'present version can only access', 'hardware-assisted text-rasterization engine', 'text-rasterization engine']\n",
      "90 ['IP filter module', 'powerful IP filter engine', 'IP filter', 'IP filter engine']\n",
      "88 ['TCP/UDP transport engine ) 84 TCP/UDP transport engine ( handles processing of UDP and TCP packets ) 86 IP engine', 'IP router-top engine']\n",
      "116 ['network stack internal memory', 'network stack memory', 'internal network stack memory']\n",
      "11 ['ISO seven-layer model see , for example , chapter', 'external RAM']\n",
      "54 ['PPP module', 'Ethernet path and PPP module', 'PPP engine']\n",
      "16 ['optional external CPU or microprocessor', 'external CPU , microprocessor , or microcontroller', 'optional external CPU , microprocessor , or microcontroller', 'optional external CPU , microprocessor or microcontroller', 'external CPU , microprocessor or microcontroller']\n",
      "72 ['ARP module', 'ARP engine']\n",
      "23 ['additional information setting unit', 'additional setting unit']\n",
      "25 ['additional information update unit', 'information update unit']\n",
      "2A ['original version may lead to production of mutually different versions', 'respective versions', 'above , suppose that mutually different versions', 'version']\n",
      "24 ['additional information acquisition unit', 'addition information acquisition unit']\n",
      "100 ['exemplary network', 'component in network', 'component or group of components in network', 'device capable of generating data associated with network']\n",
      "160 ['uniform format suitable for storage by combining data', 'key performance indicator ( KPI ) associated with data', 'collected data ( e.g. , data', 'unfulfilled key performance indicator ( KPI ) associated with data']\n",
      "280 ['communication interface', 'device via communication interface']\n",
      "140 ['data analysis device', 'diagram of exemplary functional components of data analysis device', 'hardware and/or software based logic ( e.g. , processing logic 220 ) that enables data analysis device', 'device other than data warehouse 130 and data analysis device', 'example , assume that data analysis device', 'example , that data analysis device', 'second dataset ( e.g. , created by data analysis device', 'device ( e.g. , communicating with data analysis device']\n",
      "120 ['data enrichment device', 'data enrichment process , data enrichment device']\n",
      "230 ['main memory', 'computer-readable medium , such as main memory', 'software instructions may be read into main memory', 'software instructions contained in main memory']\n",
      "200 ['device', 'components of device']\n",
      "620 ['new dataset', 'covariance analysis based on new dataset']\n",
      "110 ['of network devices', 'network device', 'example , if network devices', 'version of network device']\n",
      "600 ['specific problem', 'label for specific problem', 'factor for specific problem', 'covariance analysis also reveals that specific problem']\n",
      "150 ['network', 'network traffic information capable of being generated by network', 'device connected to network', 'repository of historical data associated with network', 'organization associated with network', 'problem ( e.g. , occurring in network', 'network , such as network', 'problem ( e.g. , in network', 'highest failure/non-failure ratio ( s ) to be root cause features 380 ( i.e. , features that are root causes of problems in network', 'problem in network', 'network ( e.g. , network', 'new service ( e.g. , offered via network', 'cell location ( e.g. , in network', 'specific area of network', 'same service node ( e.g. , of network', 'area of network', 'owner of network']\n",
      "410 ['event scope', 'specific time window ) , service ( e.g. , event scope', 'specific service ) , failure ( e.g. , event scope', 'randomly selected subset of examples or events ( e.g. , that include failures or errors and non-failures or non-errors ) from event scope', 'examples or events within event scope', 'remaining portion of examples or events within event scope']\n",
      "640 ['additional dataset and by cross validating results', 'verification of results']\n",
      "340/350 ['OSS may use datasets', 'OSS that may use datasets']\n",
      "340 ['first dataset', 'scope of data that may be retrieved as first dataset', 'random subset of examples or events ( e.g. , that include failures or errors and non-failures or non-errors ) as first dataset', 'example , root cause solution testing logic 330 may provide parameters ( e.g. , first dataset']\n",
      "250 ['storage device', 'computer-readable medium , such as storage device']\n"
     ]
    }
   ],
   "source": [
    "e = dict()\n",
    "for i, pdoc in enumerate(pdoc_generator):\n",
    "    e[i] = pdoc.description.entities\n",
    "    pdoc.description.entity_check()"
   ]
  },
  {
   "cell_type": "code",
   "execution_count": 28,
   "metadata": {},
   "outputs": [
    {
     "data": {
      "text/plain": [
       "{'100': ['device'],\n",
       " '130': ['touch component'],\n",
       " '140': ['media compartment'],\n",
       " '145': ['physical media', 'media compartment'],\n",
       " '150': ['communication channel'],\n",
       " '160': ['mechanism'],\n",
       " '200': ['device'],\n",
       " '205': ['user'],\n",
       " '230': ['touch component'],\n",
       " '240': ['media compartment'],\n",
       " '300': ['device'],\n",
       " '310': ['media application'],\n",
       " '320': ['controller'],\n",
       " '330': ['touch component'],\n",
       " '340': ['media compartment'],\n",
       " '345': ['additional storage bay or compartment configured to receive physical media',\n",
       "  'physical media'],\n",
       " '360': ['mechanism'],\n",
       " '410': ['media application'],\n",
       " '420': ['controller'],\n",
       " '430': ['touch component'],\n",
       " '440': ['media compartment'],\n",
       " '445': ['physical media'],\n",
       " '460': ['mechanism', 'media compartment'],\n",
       " '470': ['list of accessible storage devices'],\n",
       " '500': ['device'],\n",
       " '510': ['media application']}"
      ]
     },
     "execution_count": 28,
     "metadata": {},
     "output_type": "execute_result"
    }
   ],
   "source": [
    "e[0]"
   ]
  },
  {
   "cell_type": "code",
   "execution_count": 29,
   "metadata": {},
   "outputs": [
    {
     "data": {
      "text/plain": [
       "{'1': ['following Expression', '“ scanning direction', 'scanning direction'],\n",
       " '10': ['finger vein authentication apparatus'],\n",
       " '101': ['microlens array'],\n",
       " '103': ['plurality of microlenses',\n",
       "  'microlenses',\n",
       "  'microlens',\n",
       "  'respective microlenses',\n",
       "  'adjacent microlenses'],\n",
       " '105': ['near-infrared illumination source',\n",
       "  'near-infrared illumination sources'],\n",
       " '107': ['directivity control plate'],\n",
       " '109': ['image pickup device'],\n",
       " '111': ['plurality of photoreceptors',\n",
       "  'photoreceptor',\n",
       "  'photoreceptors',\n",
       "  'nine photoreceptors',\n",
       "  'case that nine ( 3×3 ) photoreceptors',\n",
       "  'two photoreceptors'],\n",
       " '113': ['image pickup device control unit'],\n",
       " '115': ['vein pattern extraction unit'],\n",
       " '117': ['parallax information acquisition unit'],\n",
       " '119': ['outer shape detection unit'],\n",
       " '12': ['directivity of direct light', 'direct light'],\n",
       " '121': ['imaging range detection unit'],\n",
       " '123': ['authentication unit'],\n",
       " '125': ['vein pattern registration unit'],\n",
       " '127': ['vein pattern authentication unit'],\n",
       " '129': ['storage unit'],\n",
       " '131': ['“ unit group', 'unit group'],\n",
       " '1394': ['IEEE'],\n",
       " '2': ['Gaussian filter ( Expression',\n",
       "  'following Expression',\n",
       "  'Gaussian function as in Expression',\n",
       "  '“ scanning direction',\n",
       "  'scanning direction'],\n",
       " '2008-253969': ['disclosed in Japanese Priority Patent Application JP'],\n",
       " '3': ['LOG filter ( Expression', 'following Expression'],\n",
       " '30': ['Japan Patent Office on Sep.'],\n",
       " '4': ['following Expression'],\n",
       " '901': ['CPU'],\n",
       " '903': ['ROM'],\n",
       " '905': ['RAM'],\n",
       " '907': ['host bus'],\n",
       " '909': ['bridge'],\n",
       " '911': ['external bus'],\n",
       " '913': ['interface'],\n",
       " '915': ['input device'],\n",
       " '917': ['output device'],\n",
       " '919': ['storage device'],\n",
       " '921': ['drive'],\n",
       " '923': ['connection port'],\n",
       " '925': ['communication device'],\n",
       " '927': ['removable recording medium'],\n",
       " '929': ['external connected equipment'],\n",
       " '931': ['communication network'],\n",
       " 'two': ['horizontal direction ) and thereby generates']}"
      ]
     },
     "execution_count": 29,
     "metadata": {},
     "output_type": "execute_result"
    }
   ],
   "source": [
    "e[1]"
   ]
  },
  {
   "cell_type": "markdown",
   "metadata": {},
   "source": [
    "Another check we need to do is the reverse of the dictionary - see which reference numerals are assigned to which n_grams."
   ]
  },
  {
   "cell_type": "code",
   "execution_count": 30,
   "metadata": {},
   "outputs": [
    {
     "data": {
      "text/plain": [
       "{'1': ['text “ Internetworking with TCP/IP ” by Douglas E. Comer ( volume',\n",
       "  'text “ TCP/IP Illustrated ” by W. Richard Stevens ( volume'],\n",
       " '10': ['communications processor', 'communication processor'],\n",
       " '10.10.150.152': ['HTTP server ( using port 80 ) , and client unit # 2 148 with IP address'],\n",
       " '10/470,365': ['continuation of U.S. application Ser. No.'],\n",
       " '100': ['time ) 98 Socket TX ram interface', 'memory arbitrator'],\n",
       " '104': ['IP raw multiplexor ( mux ) module',\n",
       "  'IP raw mux',\n",
       "  'PPP data link path ) and IP raw mux'],\n",
       " '11': ['ISO seven-layer model see , for example , chapter', 'external RAM'],\n",
       " '112': ['socket receive buffer'],\n",
       " '116': ['network stack internal memory',\n",
       "  'network stack memory',\n",
       "  'internal network stack memory'],\n",
       " '118': ['MAC send and receive buffers',\n",
       "  'MAC transmit and receive buffers',\n",
       "  'MAC buffers'],\n",
       " '11:12:13': ['Ethernet address'],\n",
       " '120': ['MAC buffer control', 'MAC buffer controller'],\n",
       " '126': ['internal MAC'],\n",
       " '13': ['external ROM', 'optional external ROM'],\n",
       " '132': ['2 KB RAM transmit buffer'],\n",
       " '134': ['SPI bus interface ) 130 Signal mux ( switches external data-link interface between MII interface , IP-only mode interface , or external MAC interface ) 132 MAC receive buffer',\n",
       "  '4 KB RAM receive buffer',\n",
       "  'MAC transmit buffer'],\n",
       " '140': ['port on www.iready.com', 'return packet from www.iready.com'],\n",
       " '142': ['Internet'],\n",
       " '144': ['base unit'],\n",
       " '146': ['client units'],\n",
       " '15': ['PHY', 'external PHY'],\n",
       " '152': ['telephone-line or dialup link', 'telephone-line link'],\n",
       " '154': ['Ethernet link'],\n",
       " '16': ['optional external CPU or microprocessor',\n",
       "  'external CPU , microprocessor , or microcontroller',\n",
       "  'optional external CPU , microprocessor , or microcontroller',\n",
       "  'optional external CPU , microprocessor or microcontroller',\n",
       "  'external CPU , microprocessor or microcontroller'],\n",
       " '17': ['modem'],\n",
       " '172': ['DMAC'],\n",
       " '19': ['modem 17 ( for dialup communication ) , host system logic 18 , one or more slave serial devices'],\n",
       " '2': ['static entry ( see Table',\n",
       "  'external CPU , microprocessor , or microcontroller interface'],\n",
       " '24': ['external MAC interface'],\n",
       " '25': ['371 filing of PCT/US02/02293 filed Jan.'],\n",
       " '26': ['MII interface'],\n",
       " '28': ['protocol engine interface'],\n",
       " '3': ['following connectors in drawings herein : 2 External CPU , microprocessor , or microcontroller interface'],\n",
       " '30': ['internal 32 KB memory',\n",
       "  'internal ( integrated or on-chip ) 32 KB RAM',\n",
       "  'internal RAM',\n",
       "  'internal 32 KB RAM',\n",
       "  'protocol engine internal RAM',\n",
       "  'internal memory',\n",
       "  'protocol engine internal memory',\n",
       "  'lower 4 KB IP filter memory data packets may be copied to or from internal memory'],\n",
       " '32': ['bus controller'],\n",
       " '34': ['protocol engine or auxiliary microprocessor', 'protocol engine'],\n",
       " '38': ['ADPCM accelerator engine',\n",
       "  'specialized data and protocol processing modules'],\n",
       " '4': ['following acronyms and terms herein : ADPCM Adaptive Differential Pulse Code Modulation ARP Address Resolution Protocol CPU Central Processing Unit DHCP Dynamic Host Configuration Protocol HATR Hardware Assisted Text Rasterization ICMP Internet Control Message Protocol IP Internet Protocol IPV4 Internet Protocol , Version'],\n",
       " '40': ['base64 encoder and decoder', 'Base64 encoder and decoder'],\n",
       " '42': ['G3 encoder engine', 'G3 engine', 'G3 encoder'],\n",
       " '46': ['MAC has access to 6 KB of internal RAM'],\n",
       " '48': ['26 KB internal RAM', 'network stack memory'],\n",
       " '50': ['network stack', 'network stack logic'],\n",
       " '52': ['MAC interface',\n",
       "  'external MAC interface',\n",
       "  'Ethernet MAC interface',\n",
       "  'internal media access controller ( MAC ) interface',\n",
       "  'preferred MAC interface'],\n",
       " '54': ['PPP module', 'Ethernet path and PPP module', 'PPP engine'],\n",
       " '56': ['auxiliary serial port'],\n",
       " '58': ['modem interface module'],\n",
       " '6': ['external modem interface', 'modem interface'],\n",
       " '60': ['dual-function proprietary serial port or second auxiliary serial port'],\n",
       " '62': ['MIME string search engine', 'Mime string search engine'],\n",
       " '64': ['text rasterizer engine',\n",
       "  'present version can only access',\n",
       "  'hardware-assisted text-rasterization engine',\n",
       "  'text-rasterization engine'],\n",
       " '66': ['synchronous serial interface'],\n",
       " '68': ['external controller interface'],\n",
       " '70': ['communications processor bus'],\n",
       " '72': ['ARP module', 'ARP engine'],\n",
       " '8': ['external MAC'],\n",
       " '8-bit': ['communications processor 10 uses'],\n",
       " '80': ['protocol engine interface module', 'protocol engine interface'],\n",
       " '802.3': ['IEEE'],\n",
       " '84': ['TCP/UDP module', 'TCP/IP engine', 'TCP/UDP engine', 'TCP engine'],\n",
       " '86': ['IP engine'],\n",
       " '88': ['TCP/UDP transport engine ) 84 TCP/UDP transport engine ( handles processing of UDP and TCP packets ) 86 IP engine',\n",
       "  'IP router-top engine'],\n",
       " '90': ['IP filter module',\n",
       "  'powerful IP filter engine',\n",
       "  'IP filter',\n",
       "  'IP filter engine'],\n",
       " '92': ['next hop ) 90 IP filter engine',\n",
       "  'IP router-bottom module',\n",
       "  'IP Router Bottom',\n",
       "  'IP router-bottom engine'],\n",
       " 'four': ['communications processor 10 supports']}"
      ]
     },
     "execution_count": 30,
     "metadata": {},
     "output_type": "execute_result"
    }
   ],
   "source": [
    "e[2]"
   ]
  },
  {
   "cell_type": "code",
   "execution_count": null,
   "metadata": {
    "collapsed": true
   },
   "outputs": [],
   "source": []
  }
 ],
 "metadata": {
  "kernelspec": {
   "display_name": "Python 3",
   "language": "python",
   "name": "python3"
  },
  "language_info": {
   "codemirror_mode": {
    "name": "ipython",
    "version": 3
   },
   "file_extension": ".py",
   "mimetype": "text/x-python",
   "name": "python",
   "nbconvert_exporter": "python",
   "pygments_lexer": "ipython3",
   "version": "3.5.2"
  }
 },
 "nbformat": 4,
 "nbformat_minor": 2
}
