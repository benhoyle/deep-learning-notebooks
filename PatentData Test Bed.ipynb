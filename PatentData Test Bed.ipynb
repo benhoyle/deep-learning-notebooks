{
 "cells": [
  {
   "cell_type": "code",
   "execution_count": 1,
   "metadata": {
    "collapsed": true
   },
   "outputs": [],
   "source": [
    "filelist = [\n",
    "    (\"file1\", \"name1\"),\n",
    "    (\"file1\", \"name2\"),\n",
    "    (\"file1\", \"name3\"),\n",
    "    (\"file2\", \"name1\"),\n",
    "    (\"file2\", \"name2\"),\n",
    "    (\"file3\", \"name1\")   \n",
    "]"
   ]
  },
  {
   "cell_type": "code",
   "execution_count": 2,
   "metadata": {
    "collapsed": true
   },
   "outputs": [],
   "source": [
    "def group_filenames(filelist):\n",
    "    filename_groups = dict()\n",
    "    # Get groups of filenames\n",
    "    for filename, name in filelist:\n",
    "        if filename not in filename_groups.keys():\n",
    "            filename_groups[filename] = list()\n",
    "        filename_groups[filename].append(name)\n",
    "    return filename_groups\n",
    "        "
   ]
  },
  {
   "cell_type": "code",
   "execution_count": 3,
   "metadata": {},
   "outputs": [
    {
     "data": {
      "text/plain": [
       "{'file1': ['name1', 'name2', 'name3'],\n",
       " 'file2': ['name1', 'name2'],\n",
       " 'file3': ['name1']}"
      ]
     },
     "execution_count": 3,
     "metadata": {},
     "output_type": "execute_result"
    }
   ],
   "source": [
    "group_filenames(filelist)"
   ]
  },
  {
   "cell_type": "code",
   "execution_count": 4,
   "metadata": {
    "collapsed": true
   },
   "outputs": [],
   "source": [
    "import os\n",
    "# Libraries for Zip file processing\n",
    "# Can we use czipfile for faster processing?\n",
    "import zipfile\n",
    "import tarfile\n",
    "# from zip_open import zopen\n",
    "# Python 3.5\n",
    "from io import BytesIO"
   ]
  },
  {
   "cell_type": "code",
   "execution_count": 5,
   "metadata": {
    "collapsed": true
   },
   "outputs": [],
   "source": [
    "def get_xml_path(name):\n",
    "    \"\"\" Get the XML path of a file from the name. \"\"\"\n",
    "    file_name_section = name.rsplit('/', 1)[1].split('.')[0]\n",
    "    return file_name_section + '/' + file_name_section + \".XML\"\n",
    "\n",
    "def read_nested_zip(open_zip_file, nested_name):\n",
    "    \"\"\" Opens a nested_name file from passed file data of\n",
    "    open_zip_file. \"\"\"\n",
    "    XML_path = get_xml_path(nested_name)\n",
    "    \n",
    "    with zipfile.ZipFile(open_zip_file, 'r') as nested_zip:\n",
    "        with nested_zip.open(XML_path, 'r') as xml_file:\n",
    "            return xml_file.read()\n",
    "\n",
    "\n",
    "def filedata_generator(path, filename, names):\n",
    "    \"\"\" Generator to return file data for each name in names\n",
    "    for a given filename. \"\"\"\n",
    "    # For zip files\n",
    "    if filename.lower().endswith(\".zip\"):\n",
    "        with zipfile.ZipFile(\n",
    "            os.path.join(path, filename), 'r'\n",
    "        ) as z:\n",
    "            for name in names:\n",
    "                with z.open(name, 'r') as nested_zip:\n",
    "                    z2 = BytesIO(nested_zip.read())\n",
    "                    yield read_nested_zip(z2, name)\n",
    "                \n",
    "    # For tar files\n",
    "    elif filename.lower().endswith(\".tar\"):\n",
    "        with tarfile.TarFile(\n",
    "            os.path.join(path, filename), 'r'\n",
    "        ) as z:\n",
    "            for name in names:\n",
    "                z2 = z.extractfile(name)\n",
    "                yield read_nested_zip(z2, name)"
   ]
  },
  {
   "cell_type": "code",
   "execution_count": 6,
   "metadata": {
    "collapsed": true
   },
   "outputs": [],
   "source": [
    "path = '/media/SAMSUNG1/Patent_Downloads'"
   ]
  },
  {
   "cell_type": "code",
   "execution_count": 7,
   "metadata": {
    "collapsed": true
   },
   "outputs": [],
   "source": [
    "filelist2 = [\n",
    "    ('2004/20041104.ZIP', '20041104/UTIL0221/US20040221076A1-20041104.ZIP'),\n",
    "    ('2004/20041125.ZIP', '20041125/UTIL0236/US20040236642A1-20041125.ZIP'),\n",
    "    ('2004/20041202.ZIP', '20041202/UTIL0243/US20040243540A1-20041202.ZIP'),\n",
    "    ('2004/20041202.ZIP', '20041202/UTIL0243/US20040243606A1-20041202.ZIP') \n",
    "]"
   ]
  },
  {
   "cell_type": "code",
   "execution_count": 8,
   "metadata": {
    "collapsed": true
   },
   "outputs": [],
   "source": [
    "fg = group_filenames(filelist2)"
   ]
  },
  {
   "cell_type": "code",
   "execution_count": 9,
   "metadata": {},
   "outputs": [
    {
     "data": {
      "text/plain": [
       "{'2004/20041104.ZIP': ['20041104/UTIL0221/US20040221076A1-20041104.ZIP'],\n",
       " '2004/20041125.ZIP': ['20041125/UTIL0236/US20040236642A1-20041125.ZIP'],\n",
       " '2004/20041202.ZIP': ['20041202/UTIL0243/US20040243540A1-20041202.ZIP',\n",
       "  '20041202/UTIL0243/US20040243606A1-20041202.ZIP']}"
      ]
     },
     "execution_count": 9,
     "metadata": {},
     "output_type": "execute_result"
    }
   ],
   "source": [
    "fg"
   ]
  },
  {
   "cell_type": "code",
   "execution_count": 10,
   "metadata": {
    "collapsed": true
   },
   "outputs": [],
   "source": [
    "data = filedata_generator(path, '2004/20041202.ZIP', fg['2004/20041202.ZIP'])"
   ]
  },
  {
   "cell_type": "code",
   "execution_count": 13,
   "metadata": {
    "collapsed": true
   },
   "outputs": [],
   "source": [
    "filedata = next(data)"
   ]
  },
  {
   "cell_type": "code",
   "execution_count": 14,
   "metadata": {},
   "outputs": [
    {
     "data": {
      "text/plain": [
       "36671"
      ]
     },
     "execution_count": 14,
     "metadata": {},
     "output_type": "execute_result"
    }
   ],
   "source": [
    "len(filedata)"
   ]
  },
  {
   "cell_type": "code",
   "execution_count": 16,
   "metadata": {},
   "outputs": [
    {
     "data": {
      "text/plain": [
       "2"
      ]
     },
     "execution_count": 16,
     "metadata": {},
     "output_type": "execute_result"
    }
   ],
   "source": [
    "filelist2.index(('2004/20041202.ZIP', '20041202/UTIL0243/US20040243540A1-20041202.ZIP'))"
   ]
  },
  {
   "cell_type": "code",
   "execution_count": null,
   "metadata": {
    "collapsed": true
   },
   "outputs": [],
   "source": [
    "# Code Snippet for converting tars to zips\n",
    "import sys, tarfile, zipfile, glob\n",
    "\n",
    "def convert_one_archive(file_name):\n",
    "    out_file = file_name.replace('.tar.gz', '.zip')\n",
    "    with tarfile.open(file_name, mode='r:gz') as tf:\n",
    "        with zipfile.ZipFile(out_file, mode='a', compression=zipfile.ZIP_DEFLATED) as zf:\n",
    "            for m in tf.getmembers():\n",
    "                f = tf.extractfile( m )\n",
    "                fl = f.read()\n",
    "                fn = m.name\n",
    "                zf.writestr(fn, fl)\n",
    "\n",
    "for f in glob.glob('*.tar.gz'):\n",
    "    convert_one_archive(f)"
   ]
  },
  {
   "cell_type": "markdown",
   "metadata": {},
   "source": [
    "----"
   ]
  },
  {
   "cell_type": "code",
   "execution_count": 3,
   "metadata": {},
   "outputs": [
    {
     "data": {
      "text/plain": [
       "['feedback',\n",
       " '/',\n",
       " 'measurements',\n",
       " '09',\n",
       " '/',\n",
       " '327',\n",
       " ',',\n",
       " '966',\n",
       " 'jp',\n",
       " '-',\n",
       " 'a',\n",
       " '-',\n",
       " '8',\n",
       " '-',\n",
       " '278279',\n",
       " 'srccanyon',\n",
       " '.',\n",
       " 'gif',\n",
       " 'blast',\n",
       " '-',\n",
       " 'pressure',\n",
       " 'the',\n",
       " 'bobs']"
      ]
     },
     "execution_count": 3,
     "metadata": {},
     "output_type": "execute_result"
    }
   ],
   "source": [
    "import re\n",
    "list1 = list()\n",
    "tokens = ['feedback/measurements', '09/327,966', 'jp-a-8-278279', 'srccanyon.gif', 'blast-pressure', 'the', 'bobs']\n",
    "for token in tokens:\n",
    "    list1 += re.split('(\\W)', token)\n",
    "list1"
   ]
  },
  {
   "cell_type": "code",
   "execution_count": 5,
   "metadata": {},
   "outputs": [
    {
     "data": {
      "text/plain": [
       "['feedback',\n",
       " '/',\n",
       " 'measurements',\n",
       " '09',\n",
       " '/',\n",
       " '327',\n",
       " ',',\n",
       " '966',\n",
       " 'jp',\n",
       " '-',\n",
       " 'a',\n",
       " '-',\n",
       " '8',\n",
       " '-',\n",
       " '278279',\n",
       " 'srccanyon',\n",
       " '.',\n",
       " 'gif',\n",
       " 'blast',\n",
       " '-',\n",
       " 'pressure',\n",
       " 'the',\n",
       " 'bobs']"
      ]
     },
     "execution_count": 5,
     "metadata": {},
     "output_type": "execute_result"
    }
   ],
   "source": [
    "sum((re.split('(\\W)', token) for token in tokens), list())"
   ]
  },
  {
   "cell_type": "code",
   "execution_count": null,
   "metadata": {
    "collapsed": true
   },
   "outputs": [],
   "source": []
  }
 ],
 "metadata": {
  "kernelspec": {
   "display_name": "Python 3",
   "language": "python",
   "name": "python3"
  },
  "language_info": {
   "codemirror_mode": {
    "name": "ipython",
    "version": 3
   },
   "file_extension": ".py",
   "mimetype": "text/x-python",
   "name": "python",
   "nbconvert_exporter": "python",
   "pygments_lexer": "ipython3",
   "version": "3.5.2"
  }
 },
 "nbformat": 4,
 "nbformat_minor": 2
}
