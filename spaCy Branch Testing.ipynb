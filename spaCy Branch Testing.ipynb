{
 "cells": [
  {
   "cell_type": "code",
   "execution_count": 1,
   "metadata": {},
   "outputs": [
    {
     "name": "stdout",
     "output_type": "stream",
     "text": [
      "<Patent Document object for US20060085912A1, title: Siderail support mechanism - containing: description with 47 paragraphs and claimset with 39 claims; classifications: [['A', '47', 'C', '21', '08']]\n"
     ]
    }
   ],
   "source": [
    "#Let's get some Patent Data\n",
    "\n",
    "# We'll start with our test XML file\n",
    "from patentdata.corpus import USPublications\n",
    "\n",
    "path = '/patentdata/tests/test_files'\n",
    "ds = USPublications(path)\n",
    "\n",
    "pdoc = next(ds.iter_xml()).to_patentdoc()\n",
    "print(pdoc)"
   ]
  },
  {
   "cell_type": "code",
   "execution_count": 2,
   "metadata": {},
   "outputs": [
    {
     "data": {
      "text/plain": [
       "34  Referring now to FIGS. 7-8, the siderail support mechanism 10 is moved to a second deployed position lower than the position shown in FIGS. 3-6. With the locking plate 155 in the unlocked position of FIGS. 4-6, each of the arms 35, 50 is free to rotate about the axis of its respective lower pivot shaft 30, 45. The second deployed position of FIGS. 7-8 aligns the notches 125, 150 with the locking cogs 180, 185. If the operator releases the lock release handle 280, the lock release lever 265, under the bias of spring 285, can force the locking plate 155 back into the locked position shown in FIG. 8, with the locking cogs 180, 185 fully engaged in the respective notches 125, 150. The bushing 210, fixed to the locking plate 155, moves back into the radially extending portion 290 of the L-shaped slot 230. "
      ]
     },
     "execution_count": 2,
     "metadata": {},
     "output_type": "execute_result"
    }
   ],
   "source": [
    "pdoc.description.get_paragraph(34)"
   ]
  },
  {
   "cell_type": "code",
   "execution_count": 3,
   "metadata": {},
   "outputs": [
    {
     "data": {
      "text/plain": [
       "['SPACE',\n",
       " 'VERB',\n",
       " 'ADV',\n",
       " 'ADP',\n",
       " 'PROPN',\n",
       " 'PUNCT',\n",
       " 'NUM',\n",
       " 'SYM',\n",
       " 'NUM',\n",
       " 'PUNCT',\n",
       " 'DET',\n",
       " 'NOUN',\n",
       " 'NOUN',\n",
       " 'NOUN',\n",
       " 'NUM',\n",
       " 'VERB',\n",
       " 'VERB',\n",
       " 'ADP',\n",
       " 'DET',\n",
       " 'ADJ',\n",
       " 'VERB',\n",
       " 'NOUN',\n",
       " 'ADJ',\n",
       " 'ADP',\n",
       " 'DET',\n",
       " 'NOUN',\n",
       " 'VERB',\n",
       " 'ADP',\n",
       " 'PROPN',\n",
       " 'PUNCT',\n",
       " 'NUM',\n",
       " 'SYM',\n",
       " 'NUM',\n",
       " 'PUNCT',\n",
       " 'ADP',\n",
       " 'DET',\n",
       " 'VERB',\n",
       " 'NOUN',\n",
       " 'NUM',\n",
       " 'ADP',\n",
       " 'DET',\n",
       " 'ADJ',\n",
       " 'NOUN',\n",
       " 'ADP',\n",
       " 'PROPN',\n",
       " 'PUNCT',\n",
       " 'NUM',\n",
       " 'SYM',\n",
       " 'NUM',\n",
       " 'PUNCT',\n",
       " 'DET',\n",
       " 'ADP',\n",
       " 'DET',\n",
       " 'NOUN',\n",
       " 'NUM',\n",
       " 'PUNCT',\n",
       " 'NUM',\n",
       " 'VERB',\n",
       " 'ADJ',\n",
       " 'PART',\n",
       " 'VERB',\n",
       " 'ADP',\n",
       " 'DET',\n",
       " 'NOUN',\n",
       " 'ADP',\n",
       " 'ADJ',\n",
       " 'ADJ',\n",
       " 'ADJ',\n",
       " 'NOUN',\n",
       " 'NOUN',\n",
       " 'NUM',\n",
       " 'PUNCT',\n",
       " 'NUM',\n",
       " 'PUNCT',\n",
       " 'DET',\n",
       " 'ADJ',\n",
       " 'VERB',\n",
       " 'NOUN',\n",
       " 'ADP',\n",
       " 'PROPN',\n",
       " 'PUNCT',\n",
       " 'NUM',\n",
       " 'SYM',\n",
       " 'NUM',\n",
       " 'VERB',\n",
       " 'DET',\n",
       " 'NOUN',\n",
       " 'NUM',\n",
       " 'PUNCT',\n",
       " 'NUM',\n",
       " 'ADP',\n",
       " 'DET',\n",
       " 'VERB',\n",
       " 'NOUN',\n",
       " 'NUM',\n",
       " 'PUNCT',\n",
       " 'NUM',\n",
       " 'PUNCT',\n",
       " 'ADP',\n",
       " 'DET',\n",
       " 'NOUN',\n",
       " 'VERB',\n",
       " 'DET',\n",
       " 'NOUN',\n",
       " 'NOUN',\n",
       " 'VERB',\n",
       " 'NUM',\n",
       " 'PUNCT',\n",
       " 'DET',\n",
       " 'NOUN',\n",
       " 'NOUN',\n",
       " 'NOUN',\n",
       " 'NUM',\n",
       " 'PUNCT',\n",
       " 'ADP',\n",
       " 'DET',\n",
       " 'NOUN',\n",
       " 'ADP',\n",
       " 'NOUN',\n",
       " 'NUM',\n",
       " 'PUNCT',\n",
       " 'VERB',\n",
       " 'VERB',\n",
       " 'DET',\n",
       " 'VERB',\n",
       " 'NOUN',\n",
       " 'NUM',\n",
       " 'ADV',\n",
       " 'ADP',\n",
       " 'DET',\n",
       " 'ADJ',\n",
       " 'NOUN',\n",
       " 'VERB',\n",
       " 'ADP',\n",
       " 'PROPN',\n",
       " 'PUNCT',\n",
       " 'NUM',\n",
       " 'PUNCT',\n",
       " 'ADP',\n",
       " 'DET',\n",
       " 'VERB',\n",
       " 'NOUN',\n",
       " 'NUM',\n",
       " 'PUNCT',\n",
       " 'NUM',\n",
       " 'ADV',\n",
       " 'VERB',\n",
       " 'ADP',\n",
       " 'DET',\n",
       " 'ADJ',\n",
       " 'NOUN',\n",
       " 'NUM',\n",
       " 'PUNCT',\n",
       " 'NUM',\n",
       " 'PUNCT',\n",
       " 'DET',\n",
       " 'VERB',\n",
       " 'NUM',\n",
       " 'PUNCT',\n",
       " 'VERB',\n",
       " 'ADP',\n",
       " 'DET',\n",
       " 'VERB',\n",
       " 'NOUN',\n",
       " 'NUM',\n",
       " 'PUNCT',\n",
       " 'VERB',\n",
       " 'ADV',\n",
       " 'ADP',\n",
       " 'DET',\n",
       " 'NOUN',\n",
       " 'VERB',\n",
       " 'NOUN',\n",
       " 'NUM',\n",
       " 'ADP',\n",
       " 'DET',\n",
       " 'NOUN',\n",
       " 'PUNCT',\n",
       " 'VERB',\n",
       " 'NOUN',\n",
       " 'NUM',\n",
       " 'PUNCT']"
      ]
     },
     "execution_count": 3,
     "metadata": {},
     "output_type": "execute_result"
    }
   ],
   "source": [
    "pdoc.description.get_paragraph(34).pos"
   ]
  },
  {
   "cell_type": "code",
   "execution_count": 4,
   "metadata": {},
   "outputs": [
    {
     "data": {
      "text/plain": [
       "[ Referring now to FIGS. 7-8, the siderail support mechanism 10 is moved to a second deployed position lower than the position shown in FIGS.,\n",
       " 3-6.,\n",
       " With the locking plate 155 in the unlocked position of FIGS. 4-6, each of the arms 35, 50 is free to rotate about the axis of its respective lower pivot shaft 30, 45.,\n",
       " The second deployed position of FIGS.,\n",
       " 7-8 aligns the notches 125, 150 with the locking cogs 180, 185.,\n",
       " If the operator releases the lock release handle 280, the lock release lever 265, under the bias of spring 285, can force the locking plate 155 back into the locked position shown in FIG,\n",
       " . 8, with the locking cogs 180, 185 fully engaged in the respective notches 125, 150.,\n",
       " The bushing 210, fixed to the locking plate 155, moves back into the radially extending portion 290 of the L-shaped slot 230.]"
      ]
     },
     "execution_count": 4,
     "metadata": {},
     "output_type": "execute_result"
    }
   ],
   "source": [
    "pdoc.description.get_paragraph(34).sentences"
   ]
  },
  {
   "cell_type": "code",
   "execution_count": null,
   "metadata": {
    "collapsed": true
   },
   "outputs": [],
   "source": []
  }
 ],
 "metadata": {
  "kernelspec": {
   "display_name": "Python 3",
   "language": "python",
   "name": "python3"
  },
  "language_info": {
   "codemirror_mode": {
    "name": "ipython",
    "version": 3
   },
   "file_extension": ".py",
   "mimetype": "text/x-python",
   "name": "python",
   "nbconvert_exporter": "python",
   "pygments_lexer": "ipython3",
   "version": "3.5.2"
  }
 },
 "nbformat": 4,
 "nbformat_minor": 2
}
